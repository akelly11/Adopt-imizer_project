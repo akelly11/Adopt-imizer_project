{
 "cells": [
  {
   "cell_type": "code",
   "execution_count": 1,
   "metadata": {
    "ExecuteTime": {
     "end_time": "2019-09-29T01:00:02.183900Z",
     "start_time": "2019-09-29T00:59:59.460151Z"
    }
   },
   "outputs": [
    {
     "name": "stderr",
     "output_type": "stream",
     "text": [
      "[nltk_data] Error loading averaged_perceptron_tagger: <urlopen error\n",
      "[nltk_data]     [Errno 8] nodename nor servname provided, or not\n",
      "[nltk_data]     known>\n",
      "[nltk_data] Error loading wordnet: <urlopen error [Errno 8] nodename\n",
      "[nltk_data]     nor servname provided, or not known>\n"
     ]
    }
   ],
   "source": [
    "import re\n",
    "import pandas as pd\n",
    "import numpy as np\n",
    "import pickle\n",
    "\n",
    "pd.set_option(\"display.max_colwidth\", -1)\n",
    "import codecs\n",
    "\n",
    "import nltk\n",
    "from nltk.tokenize import wordpunct_tokenize\n",
    "from nltk.corpus import stopwords\n",
    "Pstemmer = nltk.stem.PorterStemmer()\n",
    "nltk.download('averaged_perceptron_tagger')\n",
    "nltk.download('wordnet')\n",
    "from nltk.stem import WordNetLemmatizer \n",
    "lemmatizer = WordNetLemmatizer()\n",
    "\n",
    "\n",
    "import string\n",
    "\n",
    "import gensim\n",
    "from gensim import corpora, models, similarities\n",
    "from gensim.utils import lemmatize\n",
    "from gensim.models.coherencemodel import CoherenceModel\n",
    "\n",
    "from html.parser import HTMLParser\n",
    "\n",
    "class MLStripper(HTMLParser):\n",
    "    def __init__(self):\n",
    "        self.reset()\n",
    "        self.strict = False\n",
    "        self.convert_charrefs = True\n",
    "        self.fed = []\n",
    "\n",
    "    def handle_data(self, d):\n",
    "        self.fed.append(d)\n",
    "\n",
    "    def get_data(self):\n",
    "        return \" \".join(self.fed)\n",
    "\n",
    "\n",
    "def strip_tags(html):\n",
    "    s = MLStripper()\n",
    "    s.feed(html)\n",
    "    return s.get_data()"
   ]
  },
  {
   "cell_type": "code",
   "execution_count": 2,
   "metadata": {
    "ExecuteTime": {
     "end_time": "2019-09-29T01:00:10.895507Z",
     "start_time": "2019-09-29T01:00:10.703599Z"
    }
   },
   "outputs": [],
   "source": [
    "dog_data_SF_19_full = pd.read_csv(\n",
    "    \"/Users/allisonkelly/Documents/Insight/Petfinder_Project/Model_Data/dog_data_SF_19_full.csv\"\n",
    ")"
   ]
  },
  {
   "cell_type": "code",
   "execution_count": 3,
   "metadata": {
    "ExecuteTime": {
     "end_time": "2019-09-29T01:00:12.974048Z",
     "start_time": "2019-09-29T01:00:12.959355Z"
    },
    "scrolled": true
   },
   "outputs": [
    {
     "data": {
      "text/plain": [
       "Index(['animal_id', 'age', 'attributes.house_trained',\n",
       "       'attributes.shots_current', 'attributes.spayed_neutered',\n",
       "       'attributes.special_needs', 'breeds.mixed', 'breeds.primary', 'coat',\n",
       "       'colors.primary', 'contact.address.city', 'environment.cats',\n",
       "       'environment.children', 'environment.dogs', 'gender', 'name',\n",
       "       'organization_id.1', 'size', 'status', 'url', 'num_photo', 'pub_year',\n",
       "       'pub_month', 'pub_day', 'missing_description', 'pub_time', 'stat_time',\n",
       "       'time_in_shelter', 'time_adpt_med', 'tags_cln', 'tags_top', 'num_tags',\n",
       "       'colors_cat', 'age_Adult', 'age_Baby', 'age_Senior', 'age_Young',\n",
       "       'gender_Female', 'gender_Male', 'size_Extra Large', 'size_Large',\n",
       "       'size_Medium', 'size_Small', 'coat_Curly', 'coat_Hairless', 'coat_Long',\n",
       "       'coat_Medium', 'coat_Short', 'coat_Wire', 'colors_cat_ct_dark',\n",
       "       'colors_cat_ct_light', 'colors_cat_ct_med', 'pub_month_4',\n",
       "       'pub_month_5', 'pub_month_6', 'pub_month_7', 'pub_month_8',\n",
       "       'pub_month_9', 'pub_year_2019', 'tags_top_active', 'tags_top_friendly',\n",
       "       'tags_top_loving', 'tags_top_playful', 'tags_top_sweet', 'pet_id',\n",
       "       'full_description'],\n",
       "      dtype='object')"
      ]
     },
     "execution_count": 3,
     "metadata": {},
     "output_type": "execute_result"
    }
   ],
   "source": [
    "dog_data_SF_19_full.columns"
   ]
  },
  {
   "cell_type": "markdown",
   "metadata": {
    "ExecuteTime": {
     "end_time": "2019-09-17T16:47:36.562569Z",
     "start_time": "2019-09-17T16:47:36.559134Z"
    }
   },
   "source": [
    "### Cleaning up text data"
   ]
  },
  {
   "cell_type": "code",
   "execution_count": 4,
   "metadata": {
    "ExecuteTime": {
     "end_time": "2019-09-29T01:06:15.540720Z",
     "start_time": "2019-09-29T01:06:15.534779Z"
    }
   },
   "outputs": [],
   "source": [
    "def cases_clean(text_str):\n",
    "    if pd.isnull(text_str) != True:\n",
    "        testc1 = strip_tags(text_str)\n",
    "        testc2 = re.sub(\n",
    "            \".?(https?:\\/\\/)?([\\da-z\\.-]+)\\.([a-z\\.]{2,6})([\\/\\w \\.-]*)*\\/?\", \"\", testc1\n",
    "        )\n",
    "        testc3 = testc2.strip(string.punctuation)\n",
    "        textc4 = re.sub(\"\\s+\", \" \", testc3)\n",
    "        textc5 = re.sub(\"[^A-Za-z0-9]+\", \" \", textc4)\n",
    "        textc6 = re.sub(\"\\d+\", \" \", textc5)\n",
    "        return textc6"
   ]
  },
  {
   "cell_type": "code",
   "execution_count": 5,
   "metadata": {
    "ExecuteTime": {
     "end_time": "2019-09-29T01:06:20.013032Z",
     "start_time": "2019-09-29T01:06:17.449975Z"
    }
   },
   "outputs": [],
   "source": [
    "dog_data_SF_19_full[\"desc_full_clean\"] = dog_data_SF_19_full[\"full_description\"].apply(\n",
    "    cases_clean\n",
    ")"
   ]
  },
  {
   "cell_type": "code",
   "execution_count": 6,
   "metadata": {
    "ExecuteTime": {
     "end_time": "2019-09-29T01:06:20.027146Z",
     "start_time": "2019-09-29T01:06:20.016617Z"
    },
    "scrolled": true
   },
   "outputs": [
    {
     "data": {
      "text/plain": [
       "200     Buck is here and ready to meet you This wonderful lab mix is mellow and sweet At about   years old Buck is ready for a relaxed life He enjoys going for walks and playing but he also likes relaxing and peacefully snoozing In Buck s previous home he lived outdoor only so he will need some help transitioning to an indoor lifestyle He s hoping his new family will be patient with him and allow him the time he needs Buck is uncomfortable with invasive handling so he s looking for a home with just teens and adults that will handle him gently Buck enjoys the company of other dogs and has a good history with cats He is not a fit for an apartment or condo Come meet Buck today Adoption hours Wednesday Sunday Noon  pm We begin accepting applications at  am each adoption day and will help people in the order of their arrival beginning at Noon We ask that all household members including any resident dog s be here to meet an animal prior to adoption We are unable to place animals on hold or take deposits for animals For more information about our adoption process and guidelines visit                                                                                                                                                                                                                                                                                                                                                                                                                                                                                                                                                                                                                                                                                                                                                                                                                                                                                                                                                                                                                                                                                                                                                                                                                                                                                                                                                                                                                                                                                                                                                                                                            \n",
       "201     ADOPTED Our appreciation to all who wanted to provide this dog with a loving home Unless otherwise requested any adoption applications we received will be kept on file for future adoption consideration Female Chinese Shar Pei mix Approximately   months old Approximately     pounds House trained Crate trained Okay with other dogs and cats Dog respectful children   and older Adoption fee   All dogs with PUP are in private foster homes so we can provide our potential adopters the most current information available Raising a puppy requires a lot of work and is a commitment Meadow will be an awesome addition to a family that can give her the attention exercise training and affection she deserves Due to the fact that this is a mixed breed puppy we nor our vets cannot guarantee the size that your dog will be Health Meadow has been spayed and microchipped She is current on her DHPP Bordetella and Rabies She has been wormed flea treated and tested negative for heartworm History Meadow comes from an overcrowded shelter in California PUP was asked to help and we are so glad we did All dogs PUP pulls from California come with health certificates as required by Washington state Meadow has a tiny congenital anomaly dermoid in her left eye This is not uncommon and hardly visible She has been vet checked and no action treatment is needed Notes from Meadow s Foster Home In the short time that Meadow has been in our home she has proven to be a delightful sweet and affectionate puppy She adapted incredibly quickly from the trek up from the shelter in California Potty training crate training and leash training were all accomplished within a week She is extremely friendly and confident and will greet any human with happiness and genuine joy Her energy level is high which is understandable for a puppy However she does sleep quietly throughout the night in her crate We make sure she has several walks per day to balance out her puppy exuberance Note The above description reflects the behavior we have observed in the dog s foster home Although PUP provides adopters up to the minute information on our dogs we cannot guarantee they will behave in the same manner in a different environment with new owners ADOPTION If you think you have room in your home and heart for this dog and you reside within Washington State please go to our Adoption Information page or copy and paste this link EVENTS To attend our next PUP adoption event please check out our Facebook page or copy and paste this link ref page internal in your browser Can you help save more dogs by Fostering Become our fan on Facebook Or follow us on Twitter \n",
       "Name: desc_full_clean, dtype: object"
      ]
     },
     "execution_count": 6,
     "metadata": {},
     "output_type": "execute_result"
    }
   ],
   "source": [
    "dog_data_SF_19_full[\"desc_full_clean\"][200:202]"
   ]
  },
  {
   "cell_type": "markdown",
   "metadata": {},
   "source": [
    "### Create a length variable"
   ]
  },
  {
   "cell_type": "code",
   "execution_count": 11,
   "metadata": {
    "ExecuteTime": {
     "end_time": "2019-09-29T01:49:36.694148Z",
     "start_time": "2019-09-29T01:49:36.689028Z"
    }
   },
   "outputs": [],
   "source": [
    "def extract_len(text_str):\n",
    "    if pd.isnull(text_str) != True:\n",
    "        return len(text_str)"
   ]
  },
  {
   "cell_type": "code",
   "execution_count": 12,
   "metadata": {
    "ExecuteTime": {
     "end_time": "2019-09-29T01:49:37.942466Z",
     "start_time": "2019-09-29T01:49:37.931643Z"
    },
    "scrolled": true
   },
   "outputs": [],
   "source": [
    "dog_data_SF_19_full[\"len_descr\"] = dog_data_SF_19_full[\"desc_full_clean\"].apply(\n",
    "    extract_len\n",
    ")"
   ]
  },
  {
   "cell_type": "code",
   "execution_count": 13,
   "metadata": {
    "ExecuteTime": {
     "end_time": "2019-09-29T01:49:39.138591Z",
     "start_time": "2019-09-29T01:49:39.127435Z"
    }
   },
   "outputs": [
    {
     "data": {
      "text/plain": [
       "count    3994.000000\n",
       "mean     1134.665248\n",
       "std      629.398717 \n",
       "min      15.000000  \n",
       "25%      678.000000 \n",
       "50%      1062.000000\n",
       "75%      1506.500000\n",
       "max      6228.000000\n",
       "Name: len_descr, dtype: float64"
      ]
     },
     "execution_count": 13,
     "metadata": {},
     "output_type": "execute_result"
    }
   ],
   "source": [
    "dog_data_SF_19_full[\"len_descr\"].describe()"
   ]
  },
  {
   "cell_type": "code",
   "execution_count": 14,
   "metadata": {
    "ExecuteTime": {
     "end_time": "2019-09-29T01:49:40.433259Z",
     "start_time": "2019-09-29T01:49:40.397001Z"
    },
    "scrolled": true
   },
   "outputs": [
    {
     "name": "stdout",
     "output_type": "stream",
     "text": [
      "<class 'pandas.core.frame.DataFrame'>\n",
      "RangeIndex: 3995 entries, 0 to 3994\n",
      "Data columns (total 68 columns):\n",
      "animal_id                     3995 non-null int64\n",
      "age                           3995 non-null object\n",
      "attributes.house_trained      3995 non-null int64\n",
      "attributes.shots_current      3995 non-null int64\n",
      "attributes.spayed_neutered    3995 non-null int64\n",
      "attributes.special_needs      3995 non-null int64\n",
      "breeds.mixed                  3995 non-null int64\n",
      "breeds.primary                3995 non-null object\n",
      "coat                          2615 non-null object\n",
      "colors.primary                2291 non-null object\n",
      "contact.address.city          3995 non-null object\n",
      "environment.cats              1590 non-null object\n",
      "environment.children          2455 non-null object\n",
      "environment.dogs              3160 non-null object\n",
      "gender                        3995 non-null object\n",
      "name                          3995 non-null object\n",
      "organization_id.1             3995 non-null object\n",
      "size                          3995 non-null object\n",
      "status                        3995 non-null object\n",
      "url                           3995 non-null object\n",
      "num_photo                     3995 non-null int64\n",
      "pub_year                      3995 non-null int64\n",
      "pub_month                     3995 non-null int64\n",
      "pub_day                       3995 non-null int64\n",
      "missing_description           3995 non-null int64\n",
      "pub_time                      3995 non-null object\n",
      "stat_time                     3995 non-null object\n",
      "time_in_shelter               3995 non-null float64\n",
      "time_adpt_med                 3995 non-null int64\n",
      "tags_cln                      535 non-null object\n",
      "tags_top                      491 non-null object\n",
      "num_tags                      3995 non-null int64\n",
      "colors_cat                    2291 non-null object\n",
      "age_Adult                     3995 non-null int64\n",
      "age_Baby                      3995 non-null int64\n",
      "age_Senior                    3995 non-null int64\n",
      "age_Young                     3995 non-null int64\n",
      "gender_Female                 3995 non-null int64\n",
      "gender_Male                   3995 non-null int64\n",
      "size_Extra Large              3995 non-null int64\n",
      "size_Large                    3995 non-null int64\n",
      "size_Medium                   3995 non-null int64\n",
      "size_Small                    3995 non-null int64\n",
      "coat_Curly                    3995 non-null int64\n",
      "coat_Hairless                 3995 non-null int64\n",
      "coat_Long                     3995 non-null int64\n",
      "coat_Medium                   3995 non-null int64\n",
      "coat_Short                    3995 non-null int64\n",
      "coat_Wire                     3995 non-null int64\n",
      "colors_cat_ct_dark            3995 non-null int64\n",
      "colors_cat_ct_light           3995 non-null int64\n",
      "colors_cat_ct_med             3995 non-null int64\n",
      "pub_month_4                   3995 non-null int64\n",
      "pub_month_5                   3995 non-null int64\n",
      "pub_month_6                   3995 non-null int64\n",
      "pub_month_7                   3995 non-null int64\n",
      "pub_month_8                   3995 non-null int64\n",
      "pub_month_9                   3995 non-null int64\n",
      "pub_year_2019                 3995 non-null int64\n",
      "tags_top_active               3995 non-null int64\n",
      "tags_top_friendly             3995 non-null int64\n",
      "tags_top_loving               3995 non-null int64\n",
      "tags_top_playful              3995 non-null int64\n",
      "tags_top_sweet                3995 non-null int64\n",
      "pet_id                        3995 non-null int64\n",
      "full_description              3994 non-null object\n",
      "desc_full_clean               3994 non-null object\n",
      "len_descr                     3994 non-null float64\n",
      "dtypes: float64(2), int64(45), object(21)\n",
      "memory usage: 2.1+ MB\n"
     ]
    }
   ],
   "source": [
    "dog_data_SF_19_full.info()"
   ]
  },
  {
   "cell_type": "code",
   "execution_count": 15,
   "metadata": {
    "ExecuteTime": {
     "end_time": "2019-09-29T01:49:51.357151Z",
     "start_time": "2019-09-29T01:49:50.904024Z"
    }
   },
   "outputs": [],
   "source": [
    "dog_data_SF_19_full.to_csv(\n",
    "    \"/Users/allisonkelly/Documents/Insight/Petfinder_Project/Model_Data/dog_data_SF_ready.csv\", index=False\n",
    ")"
   ]
  }
 ],
 "metadata": {
  "kernelspec": {
   "display_name": "Python 3",
   "language": "python",
   "name": "python3"
  },
  "language_info": {
   "codemirror_mode": {
    "name": "ipython",
    "version": 3
   },
   "file_extension": ".py",
   "mimetype": "text/x-python",
   "name": "python",
   "nbconvert_exporter": "python",
   "pygments_lexer": "ipython3",
   "version": "3.7.6"
  }
 },
 "nbformat": 4,
 "nbformat_minor": 4
}
