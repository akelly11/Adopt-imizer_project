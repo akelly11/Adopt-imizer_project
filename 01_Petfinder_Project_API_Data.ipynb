{
 "cells": [
  {
   "cell_type": "markdown",
   "metadata": {},
   "source": [
    "## Making Petfinder API request and storing API data"
   ]
  },
  {
   "cell_type": "markdown",
   "metadata": {},
   "source": [
    "### Call in packages"
   ]
  },
  {
   "cell_type": "code",
   "execution_count": 2,
   "metadata": {
    "ExecuteTime": {
     "end_time": "2019-09-28T20:09:26.658754Z",
     "start_time": "2019-09-28T20:09:24.961253Z"
    }
   },
   "outputs": [],
   "source": [
    "import time\n",
    "import random\n",
    "import pandas as pd\n",
    "import numpy as np\n",
    "import petpy\n",
    "\n",
    "import json\n",
    "import sys\n",
    "import re"
   ]
  },
  {
   "cell_type": "markdown",
   "metadata": {},
   "source": [
    "### Pulling data from the petfinder API"
   ]
  },
  {
   "cell_type": "code",
   "execution_count": 20,
   "metadata": {
    "ExecuteTime": {
     "end_time": "2019-09-28T23:37:36.250791Z",
     "start_time": "2019-09-28T23:37:36.243370Z"
    },
    "scrolled": true
   },
   "outputs": [],
   "source": [
    "# key = XXXX\n",
    "# secret = XXXX\n",
    "\n",
    "# pf = petpy.Petfinder(key=key, secret=secret)\n",
    "# pf._auth"
   ]
  },
  {
   "cell_type": "code",
   "execution_count": 12,
   "metadata": {
    "ExecuteTime": {
     "end_time": "2019-09-28T20:30:02.362557Z",
     "start_time": "2019-09-28T20:30:02.355854Z"
    }
   },
   "outputs": [],
   "source": [
    "## Function to request data from the petfinder API  \n",
    "def get_data(city_state, pages=100 ):\n",
    "\n",
    "    ## using the petpy wrapper to collect all data\n",
    "    city_df = pf.animals(location=city_state,\n",
    "                         results_per_page=500,\n",
    "                         pages=pages,\n",
    "                         return_df=True)\n",
    "\n",
    "    ## using the wrapper again to return json data inluding picture URLs\n",
    "    city_json = pf.animals(location=city_state,\n",
    "                           results_per_page=100,\n",
    "                           pages=pages)\n",
    "    \n",
    "    \n",
    "    return city_json, city_df"
   ]
  },
  {
   "cell_type": "code",
   "execution_count": null,
   "metadata": {},
   "outputs": [],
   "source": []
  },
  {
   "cell_type": "code",
   "execution_count": 16,
   "metadata": {
    "ExecuteTime": {
     "end_time": "2019-09-28T20:37:54.203373Z",
     "start_time": "2019-09-28T20:37:54.183331Z"
    }
   },
   "outputs": [],
   "source": [
    "## Function to merge json and pandas objects, do initial feature extraction\n",
    "def data_pre_process(dog_data_df, dog_data_jsn, city_initials):\n",
    "    \n",
    "    dog_data_json = []\n",
    "    for dog in dog_data_jsn['animals']:\n",
    "        dict = {}\n",
    "        dict['id'] = dog['id']\n",
    "        dict['num_photo'] = len(dog['photos'])\n",
    "        if len(dog['photos']) > 0:\n",
    "            dict['photo'] = dog['photos'][0]['small']\n",
    "        dog_data_json.append(dict)\n",
    "\n",
    "    dog_pht_data = pd.DataFrame(dog_data_json)\n",
    "\n",
    "    ##merging json and dataframe data together\n",
    "    dog_data = dog_data_df.merge(dog_pht_data, how='inner', on='id')\n",
    "\n",
    "    ## subseting by animal and status\n",
    "    dog_data = dog_data[dog_data['animal_type'] == 'dog']\n",
    "    dog_data = dog_data[dog_data['status'] != 'found']\n",
    "\n",
    "    dog_data['pub_year'] = dog_data['published_at'].str[:4]\n",
    "    dog_data['pub_month'] = dog_data['published_at'].str[5:7]\n",
    "    dog_data['pub_day'] = dog_data['published_at'].str[5:7]\n",
    "\n",
    "    dog_data['missing_description'] = pd.isnull(dog_data['description'])\n",
    "\n",
    "    file_name = 'Petfinder_Project/dog_data_' + city_initials + '.csv'\n",
    "\n",
    "    dog_data.to_csv(file_name, index=False)\n",
    "    \n",
    "    return dog_data\n"
   ]
  },
  {
   "cell_type": "markdown",
   "metadata": {},
   "source": [
    "#### Pull Bay Area data"
   ]
  },
  {
   "cell_type": "code",
   "execution_count": 13,
   "metadata": {
    "ExecuteTime": {
     "end_time": "2019-09-28T20:37:18.182575Z",
     "start_time": "2019-09-28T20:30:04.051321Z"
    }
   },
   "outputs": [],
   "source": [
    "# STL_json, STL_df = get_data(\"Oakland, CA\")"
   ]
  },
  {
   "cell_type": "code",
   "execution_count": 17,
   "metadata": {
    "ExecuteTime": {
     "end_time": "2019-09-28T20:38:00.532026Z",
     "start_time": "2019-09-28T20:37:59.730558Z"
    }
   },
   "outputs": [],
   "source": [
    "dog_data_SF = data_pre_process(SF_df, SF_json, \"SF\")"
   ]
  },
  {
   "cell_type": "code",
   "execution_count": 21,
   "metadata": {
    "ExecuteTime": {
     "end_time": "2019-09-28T23:37:57.211821Z",
     "start_time": "2019-09-28T23:37:57.207860Z"
    }
   },
   "outputs": [],
   "source": [
    "dog_data_SF.shape"
   ]
  },
  {
   "cell_type": "markdown",
   "metadata": {},
   "source": [
    "#### Extracting Seattle data for validation"
   ]
  },
  {
   "cell_type": "code",
   "execution_count": 13,
   "metadata": {
    "ExecuteTime": {
     "end_time": "2019-09-28T20:37:18.182575Z",
     "start_time": "2019-09-28T20:30:04.051321Z"
    }
   },
   "outputs": [],
   "source": [
    "# STL_json, STL_df = get_data(\"Seattle, WA\")"
   ]
  },
  {
   "cell_type": "code",
   "execution_count": 17,
   "metadata": {
    "ExecuteTime": {
     "end_time": "2019-09-28T20:38:00.532026Z",
     "start_time": "2019-09-28T20:37:59.730558Z"
    }
   },
   "outputs": [],
   "source": [
    "dog_data_STL = data_pre_process(STL_df, STL_json, \"STL\")"
   ]
  },
  {
   "cell_type": "code",
   "execution_count": 19,
   "metadata": {
    "ExecuteTime": {
     "end_time": "2019-09-28T20:38:18.818628Z",
     "start_time": "2019-09-28T20:38:18.811187Z"
    }
   },
   "outputs": [
    {
     "data": {
      "text/plain": [
       "(5961, 49)"
      ]
     },
     "execution_count": 19,
     "metadata": {},
     "output_type": "execute_result"
    }
   ],
   "source": [
    "dog_data_STL.shape"
   ]
  },
  {
   "cell_type": "code",
   "execution_count": null,
   "metadata": {},
   "outputs": [],
   "source": []
  }
 ],
 "metadata": {
  "kernelspec": {
   "display_name": "Python 3",
   "language": "python",
   "name": "python3"
  },
  "language_info": {
   "codemirror_mode": {
    "name": "ipython",
    "version": 3
   },
   "file_extension": ".py",
   "mimetype": "text/x-python",
   "name": "python",
   "nbconvert_exporter": "python",
   "pygments_lexer": "ipython3",
   "version": "3.7.6"
  }
 },
 "nbformat": 4,
 "nbformat_minor": 4
}
