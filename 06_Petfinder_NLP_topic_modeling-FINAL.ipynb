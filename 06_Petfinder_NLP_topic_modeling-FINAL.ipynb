{
 "cells": [
  {
   "cell_type": "code",
   "execution_count": 2,
   "metadata": {
    "ExecuteTime": {
     "end_time": "2019-10-01T17:03:55.740214Z",
     "start_time": "2019-10-01T17:03:49.337675Z"
    }
   },
   "outputs": [
    {
     "name": "stderr",
     "output_type": "stream",
     "text": [
      "[nltk_data] Downloading package averaged_perceptron_tagger to\n",
      "[nltk_data]     /Users/allisonkelly/nltk_data...\n",
      "[nltk_data]   Package averaged_perceptron_tagger is already up-to-\n",
      "[nltk_data]       date!\n",
      "[nltk_data] Downloading package wordnet to\n",
      "[nltk_data]     /Users/allisonkelly/nltk_data...\n",
      "[nltk_data]   Package wordnet is already up-to-date!\n"
     ]
    }
   ],
   "source": [
    "# Core\n",
    "import re\n",
    "import pandas as pd\n",
    "import numpy as np\n",
    "import pickle\n",
    "import csv\n",
    "\n",
    "import nltk, spacy, string\n",
    "from pprint import pprint\n",
    "\n",
    "pd.set_option(\"display.max_colwidth\", -1)\n",
    "\n",
    "## NLTK \n",
    "import nltk\n",
    "from nltk.tokenize import wordpunct_tokenize\n",
    "from nltk.corpus import stopwords\n",
    "Pstemmer = nltk.stem.PorterStemmer()\n",
    "nltk.download('averaged_perceptron_tagger')\n",
    "nltk.download('wordnet')\n",
    "from nltk.stem import WordNetLemmatizer \n",
    "lemmatizer = WordNetLemmatizer()\n",
    "\n",
    "import gensim\n",
    "from gensim import corpora, models, similarities\n",
    "from gensim.utils import lemmatize\n",
    "from gensim.models.coherencemodel import CoherenceModel\n",
    "\n",
    "# Sklearn\n",
    "from sklearn.decomposition import LatentDirichletAllocation, TruncatedSVD\n",
    "from sklearn.feature_extraction.text import CountVectorizer, TfidfVectorizer\n",
    "from sklearn.model_selection import GridSearchCV\n",
    "from sklearn.manifold import TSNE\n",
    "\n",
    "\n",
    "from bokeh.plotting import figure, output_file, show\n",
    "from bokeh.models import Label\n",
    "from bokeh.io import output_notebook\n",
    "\n",
    "\n",
    "# Plotting tools\n",
    "import pyLDAvis\n",
    "import pyLDAvis.sklearn\n",
    "import pyLDAvis.gensim\n",
    "\n",
    "from pprint import pprint\n",
    "\n",
    "import warnings\n",
    "warnings.filterwarnings('ignore')\n",
    "warnings.filterwarnings(\"ignore\",category=DeprecationWarning)\n",
    "\n",
    "import matplotlib.pyplot as plt\n",
    "import seaborn as sns\n",
    "%matplotlib inline\n",
    "\n",
    "from scipy.stats import chi2_contingency"
   ]
  },
  {
   "cell_type": "code",
   "execution_count": 3,
   "metadata": {
    "ExecuteTime": {
     "end_time": "2019-10-01T17:03:58.740124Z",
     "start_time": "2019-10-01T17:03:55.743629Z"
    }
   },
   "outputs": [
    {
     "name": "stdout",
     "output_type": "stream",
     "text": [
      "Requirement already satisfied: en_core_web_sm==2.1.0 from https://github.com/explosion/spacy-models/releases/download/en_core_web_sm-2.1.0/en_core_web_sm-2.1.0.tar.gz#egg=en_core_web_sm==2.1.0 in /Users/allisonkelly/anaconda3/lib/python3.7/site-packages (2.1.0)\n",
      "\u001b[38;5;2m✔ Download and installation successful\u001b[0m\n",
      "You can now load the model via spacy.load('en_core_web_sm')\n",
      "\u001b[38;5;2m✔ Linking successful\u001b[0m\n",
      "/Users/allisonkelly/anaconda3/lib/python3.7/site-packages/en_core_web_sm -->\n",
      "/Users/allisonkelly/anaconda3/lib/python3.7/site-packages/spacy/data/en\n",
      "You can now load the model via spacy.load('en')\n"
     ]
    }
   ],
   "source": [
    "!python3 -m spacy download en"
   ]
  },
  {
   "cell_type": "code",
   "execution_count": 4,
   "metadata": {
    "ExecuteTime": {
     "end_time": "2019-10-01T17:04:00.571477Z",
     "start_time": "2019-10-01T17:03:59.900930Z"
    },
    "scrolled": true
   },
   "outputs": [],
   "source": [
    "dog_data_SF_19_full = pd.read_csv(\"Model_Data/dog_data_SF_ready.csv\")"
   ]
  },
  {
   "cell_type": "code",
   "execution_count": 5,
   "metadata": {
    "ExecuteTime": {
     "end_time": "2019-10-01T17:04:01.422118Z",
     "start_time": "2019-10-01T17:04:01.387392Z"
    }
   },
   "outputs": [],
   "source": [
    "dog_data_SF_19_full = dog_data_SF_19_full.dropna(subset=['desc_full_clean'])"
   ]
  },
  {
   "cell_type": "code",
   "execution_count": 6,
   "metadata": {
    "ExecuteTime": {
     "end_time": "2019-10-01T17:04:02.309147Z",
     "start_time": "2019-10-01T17:04:02.252247Z"
    },
    "scrolled": true
   },
   "outputs": [
    {
     "data": {
      "text/plain": [
       "0"
      ]
     },
     "execution_count": 6,
     "metadata": {},
     "output_type": "execute_result"
    }
   ],
   "source": [
    "sum(pd.isnull(dog_data_SF_19_full[\"desc_full_clean\"]))"
   ]
  },
  {
   "cell_type": "code",
   "execution_count": 7,
   "metadata": {
    "ExecuteTime": {
     "end_time": "2019-10-01T17:04:58.315745Z",
     "start_time": "2019-10-01T17:04:58.288709Z"
    }
   },
   "outputs": [
    {
     "data": {
      "text/html": [
       "<div>\n",
       "<style scoped>\n",
       "    .dataframe tbody tr th:only-of-type {\n",
       "        vertical-align: middle;\n",
       "    }\n",
       "\n",
       "    .dataframe tbody tr th {\n",
       "        vertical-align: top;\n",
       "    }\n",
       "\n",
       "    .dataframe thead th {\n",
       "        text-align: right;\n",
       "    }\n",
       "</style>\n",
       "<table border=\"1\" class=\"dataframe\">\n",
       "  <thead>\n",
       "    <tr style=\"text-align: right;\">\n",
       "      <th>time_adpt_med</th>\n",
       "      <th>0</th>\n",
       "      <th>1</th>\n",
       "    </tr>\n",
       "  </thead>\n",
       "  <tbody>\n",
       "    <tr>\n",
       "      <th>time_in_shelter</th>\n",
       "      <td>10.0</td>\n",
       "      <td>0.0</td>\n",
       "    </tr>\n",
       "  </tbody>\n",
       "</table>\n",
       "</div>"
      ],
      "text/plain": [
       "time_adpt_med       0    1\n",
       "time_in_shelter  10.0  0.0"
      ]
     },
     "execution_count": 7,
     "metadata": {},
     "output_type": "execute_result"
    }
   ],
   "source": [
    "pd.pivot_table(\n",
    "    dog_data_SF_19_full[[\"time_adpt_med\", \"time_in_shelter\"]],\n",
    "    columns=\"time_adpt_med\",\n",
    "    aggfunc=np.min\n",
    ")"
   ]
  },
  {
   "cell_type": "markdown",
   "metadata": {},
   "source": [
    "### Extract pet names and city names to extract from text"
   ]
  },
  {
   "cell_type": "code",
   "execution_count": 6,
   "metadata": {
    "ExecuteTime": {
     "end_time": "2019-09-24T20:41:22.129852Z",
     "start_time": "2019-09-24T20:41:22.119252Z"
    }
   },
   "outputs": [
    {
     "data": {
      "text/plain": [
       "9848"
      ]
     },
     "execution_count": 6,
     "metadata": {},
     "output_type": "execute_result"
    }
   ],
   "source": [
    "len(dog_data_SF_19_full['name'].unique())"
   ]
  },
  {
   "cell_type": "code",
   "execution_count": 7,
   "metadata": {
    "ExecuteTime": {
     "end_time": "2019-09-24T20:41:22.550811Z",
     "start_time": "2019-09-24T20:41:22.527529Z"
    }
   },
   "outputs": [
    {
     "name": "stdout",
     "output_type": "stream",
     "text": [
      "22414\n",
      "7005\n"
     ]
    }
   ],
   "source": [
    "names_split = [word.split(' ')[0].lower() for word in dog_data_SF_19_full['name'] ]\n",
    "print(len(names_split))\n",
    "names_unq = list(set(names_split))\n",
    "print(len(names_unq))\n"
   ]
  },
  {
   "cell_type": "code",
   "execution_count": 8,
   "metadata": {
    "ExecuteTime": {
     "end_time": "2019-09-24T20:41:22.921608Z",
     "start_time": "2019-09-24T20:41:22.910958Z"
    }
   },
   "outputs": [
    {
     "data": {
      "text/plain": [
       "121"
      ]
     },
     "execution_count": 8,
     "metadata": {},
     "output_type": "execute_result"
    }
   ],
   "source": [
    "len(dog_data_SF_19_full['contact.address.city'].unique())"
   ]
  },
  {
   "cell_type": "code",
   "execution_count": 9,
   "metadata": {
    "ExecuteTime": {
     "end_time": "2019-09-24T20:41:23.324959Z",
     "start_time": "2019-09-24T20:41:23.310965Z"
    }
   },
   "outputs": [
    {
     "name": "stdout",
     "output_type": "stream",
     "text": [
      "22414\n",
      "116\n"
     ]
    }
   ],
   "source": [
    "city_split = [word.lower() for word in dog_data_SF_19_full['contact.address.city'] ]\n",
    "print(len(city_split))\n",
    "cities_unq = list(set(city_split))\n",
    "print(len(cities_unq))"
   ]
  },
  {
   "cell_type": "markdown",
   "metadata": {
    "ExecuteTime": {
     "end_time": "2019-09-17T19:33:10.552639Z",
     "start_time": "2019-09-17T19:33:10.546964Z"
    }
   },
   "source": [
    "### Prepare text for use in topic modeling: tokenize, lemmatize, stem"
   ]
  },
  {
   "cell_type": "code",
   "execution_count": 98,
   "metadata": {
    "ExecuteTime": {
     "end_time": "2019-09-24T21:55:08.326732Z",
     "start_time": "2019-09-24T21:55:08.119922Z"
    }
   },
   "outputs": [],
   "source": [
    "def lemmatization(text, postags=[\"ADJ\"]):\n",
    "    texts_out = [\n",
    "        token.lemma_ if token.lemma_ not in [\"-PRON-\"] else \"\"\n",
    "        for token in nlp(text)\n",
    "        if token.pos_ in postags\n",
    "    ]\n",
    "    return texts_out\n",
    "\n",
    "\n",
    "# Initialize spacy 'en' model, keeping only tagger component (for efficiency)\n",
    "# Run in terminal: python3 -m spacy download en\n",
    "nlp = spacy.load(\"en\", disable=[\"parser\", \"ner\"])"
   ]
  },
  {
   "cell_type": "code",
   "execution_count": 99,
   "metadata": {
    "ExecuteTime": {
     "end_time": "2019-09-24T21:58:17.569926Z",
     "start_time": "2019-09-24T21:55:09.321070Z"
    }
   },
   "outputs": [],
   "source": [
    "dog_data_SF_19_full[\"desc_lemm_adj\"] = dog_data_SF_19_full[\"desc_full_clean\"].apply(\n",
    "    lemmatization\n",
    ")"
   ]
  },
  {
   "cell_type": "code",
   "execution_count": 459,
   "metadata": {
    "ExecuteTime": {
     "end_time": "2019-09-26T20:38:06.483296Z",
     "start_time": "2019-09-26T20:38:06.458321Z"
    }
   },
   "outputs": [],
   "source": [
    "other_words = names_unq + cities_unq\n",
    "\n",
    "pd.DataFrame(other_words).to_csv(\"stop_words_full.csv\", index=False)"
   ]
  },
  {
   "cell_type": "code",
   "execution_count": 100,
   "metadata": {
    "ExecuteTime": {
     "end_time": "2019-09-24T21:58:17.608553Z",
     "start_time": "2019-09-24T21:58:17.573682Z"
    }
   },
   "outputs": [],
   "source": [
    "swfull = stopwords.words(\"english\") + names_unq + cities_unq\n",
    "\n",
    "def stop_wrds(text_str):\n",
    "    if len(text_str) != 0:\n",
    "        return [word.lower() for word in text_str if word not in swfull]"
   ]
  },
  {
   "cell_type": "code",
   "execution_count": 465,
   "metadata": {
    "ExecuteTime": {
     "end_time": "2019-09-26T20:40:17.257939Z",
     "start_time": "2019-09-26T20:40:17.245879Z"
    }
   },
   "outputs": [],
   "source": [
    "other_words = pd.read_csv(\"stop_words_full.csv\")\n"
   ]
  },
  {
   "cell_type": "code",
   "execution_count": 474,
   "metadata": {
    "ExecuteTime": {
     "end_time": "2019-09-26T20:41:34.993625Z",
     "start_time": "2019-09-26T20:41:34.982612Z"
    }
   },
   "outputs": [
    {
     "data": {
      "text/plain": [
       "[['i',\n",
       "  'me',\n",
       "  'my',\n",
       "  'myself',\n",
       "  'we',\n",
       "  'our',\n",
       "  'ours',\n",
       "  'ourselves',\n",
       "  'you',\n",
       "  'your',\n",
       "  'yours',\n",
       "  'yourself',\n",
       "  'yourselves',\n",
       "  'he',\n",
       "  'him',\n",
       "  'his',\n",
       "  'himself',\n",
       "  'she',\n",
       "  'her',\n",
       "  'hers',\n",
       "  'herself',\n",
       "  'it',\n",
       "  'its',\n",
       "  'itself',\n",
       "  'they',\n",
       "  'them',\n",
       "  'their',\n",
       "  'theirs',\n",
       "  'themselves',\n",
       "  'what',\n",
       "  'which',\n",
       "  'who',\n",
       "  'whom',\n",
       "  'this',\n",
       "  'that',\n",
       "  'these',\n",
       "  'those',\n",
       "  'am',\n",
       "  'is',\n",
       "  'are',\n",
       "  'was',\n",
       "  'were',\n",
       "  'be',\n",
       "  'been',\n",
       "  'being',\n",
       "  'have',\n",
       "  'has',\n",
       "  'had',\n",
       "  'having',\n",
       "  'do',\n",
       "  'does',\n",
       "  'did',\n",
       "  'doing',\n",
       "  'a',\n",
       "  'an',\n",
       "  'the',\n",
       "  'and',\n",
       "  'but',\n",
       "  'if',\n",
       "  'or',\n",
       "  'because',\n",
       "  'as',\n",
       "  'until',\n",
       "  'while',\n",
       "  'of',\n",
       "  'at',\n",
       "  'by',\n",
       "  'for',\n",
       "  'with',\n",
       "  'about',\n",
       "  'against',\n",
       "  'between',\n",
       "  'into',\n",
       "  'through',\n",
       "  'during',\n",
       "  'before',\n",
       "  'after',\n",
       "  'above',\n",
       "  'below',\n",
       "  'to',\n",
       "  'from',\n",
       "  'up',\n",
       "  'down',\n",
       "  'in',\n",
       "  'out',\n",
       "  'on',\n",
       "  'off',\n",
       "  'over',\n",
       "  'under',\n",
       "  'again',\n",
       "  'further',\n",
       "  'then',\n",
       "  'once',\n",
       "  'here',\n",
       "  'there',\n",
       "  'when',\n",
       "  'where',\n",
       "  'why',\n",
       "  'how',\n",
       "  'all',\n",
       "  'any',\n",
       "  'both',\n",
       "  'each',\n",
       "  'few',\n",
       "  'more',\n",
       "  'most',\n",
       "  'other',\n",
       "  'some',\n",
       "  'such',\n",
       "  'no',\n",
       "  'nor',\n",
       "  'not',\n",
       "  'only',\n",
       "  'own',\n",
       "  'same',\n",
       "  'so',\n",
       "  'than',\n",
       "  'too',\n",
       "  'very',\n",
       "  's',\n",
       "  't',\n",
       "  'can',\n",
       "  'will',\n",
       "  'just',\n",
       "  'don',\n",
       "  'should',\n",
       "  'now'],\n",
       " 0       chili         \n",
       " 1       nash          \n",
       " 2       kansas        \n",
       " 3       talullah      \n",
       " 4       gladys        \n",
       " 5       anita         \n",
       " 6       *shubis       \n",
       " 7       hazel         \n",
       " 8       tomi          \n",
       " 9       glen          \n",
       " 10      wingnut       \n",
       " 11      1117-1713     \n",
       " 12      kathleen      \n",
       " 13      fluffer       \n",
       " 14      ledson        \n",
       " 15      howdy         \n",
       " 16      eggsy         \n",
       " 17      gabriel       \n",
       " 18      nellie        \n",
       " 19      beau          \n",
       " 20      fish          \n",
       " 21      mittens       \n",
       " 22      weezy         \n",
       " 23      vivianne      \n",
       " 24      cloe-foster   \n",
       " 25      delight       \n",
       " 26      lenny         \n",
       " 27      buba          \n",
       " 28      guppy         \n",
       " 29      tac           \n",
       "        ...            \n",
       " 7091    escalon       \n",
       " 7092    santa cruz    \n",
       " 7093    berkeley      \n",
       " 7094    auburn        \n",
       " 7095    napa          \n",
       " 7096    windsor       \n",
       " 7097    clayton       \n",
       " 7098    rocklin       \n",
       " 7099    felton        \n",
       " 7100    alameda       \n",
       " 7101    vacaville     \n",
       " 7102    san mateo     \n",
       " 7103    monterey      \n",
       " 7104    bodega        \n",
       " 7105    turlock       \n",
       " 7106    san rafael    \n",
       " 7107    lower lake    \n",
       " 7108    cupertino     \n",
       " 7109    oakdale       \n",
       " 7110    san leandro   \n",
       " 7111    woodland      \n",
       " 7112    antioch       \n",
       " 7113    clearlake oaks\n",
       " 7114    herald        \n",
       " 7115    atwater       \n",
       " 7116    fremont       \n",
       " 7117    newman        \n",
       " 7118    morgan hill   \n",
       " 7119    davis         \n",
       " 7120    citrus heights\n",
       " Name: 0, Length: 7121, dtype: object]"
      ]
     },
     "execution_count": 474,
     "metadata": {},
     "output_type": "execute_result"
    }
   ],
   "source": [
    "[stopwords.words(\"english\")] + [other_words['0']]"
   ]
  },
  {
   "cell_type": "code",
   "execution_count": 472,
   "metadata": {
    "ExecuteTime": {
     "end_time": "2019-09-26T20:41:11.742252Z",
     "start_time": "2019-09-26T20:41:11.733084Z"
    }
   },
   "outputs": [
    {
     "data": {
      "text/plain": [
       "0       chili         \n",
       "1       nash          \n",
       "2       kansas        \n",
       "3       talullah      \n",
       "4       gladys        \n",
       "5       anita         \n",
       "6       *shubis       \n",
       "7       hazel         \n",
       "8       tomi          \n",
       "9       glen          \n",
       "10      wingnut       \n",
       "11      1117-1713     \n",
       "12      kathleen      \n",
       "13      fluffer       \n",
       "14      ledson        \n",
       "15      howdy         \n",
       "16      eggsy         \n",
       "17      gabriel       \n",
       "18      nellie        \n",
       "19      beau          \n",
       "20      fish          \n",
       "21      mittens       \n",
       "22      weezy         \n",
       "23      vivianne      \n",
       "24      cloe-foster   \n",
       "25      delight       \n",
       "26      lenny         \n",
       "27      buba          \n",
       "28      guppy         \n",
       "29      tac           \n",
       "       ...            \n",
       "7091    escalon       \n",
       "7092    santa cruz    \n",
       "7093    berkeley      \n",
       "7094    auburn        \n",
       "7095    napa          \n",
       "7096    windsor       \n",
       "7097    clayton       \n",
       "7098    rocklin       \n",
       "7099    felton        \n",
       "7100    alameda       \n",
       "7101    vacaville     \n",
       "7102    san mateo     \n",
       "7103    monterey      \n",
       "7104    bodega        \n",
       "7105    turlock       \n",
       "7106    san rafael    \n",
       "7107    lower lake    \n",
       "7108    cupertino     \n",
       "7109    oakdale       \n",
       "7110    san leandro   \n",
       "7111    woodland      \n",
       "7112    antioch       \n",
       "7113    clearlake oaks\n",
       "7114    herald        \n",
       "7115    atwater       \n",
       "7116    fremont       \n",
       "7117    newman        \n",
       "7118    morgan hill   \n",
       "7119    davis         \n",
       "7120    citrus heights\n",
       "Name: 0, Length: 7121, dtype: object"
      ]
     },
     "execution_count": 472,
     "metadata": {},
     "output_type": "execute_result"
    }
   ],
   "source": [
    "other_words['0']\n"
   ]
  },
  {
   "cell_type": "code",
   "execution_count": 101,
   "metadata": {
    "ExecuteTime": {
     "end_time": "2019-09-24T21:58:52.666464Z",
     "start_time": "2019-09-24T21:58:17.613880Z"
    }
   },
   "outputs": [],
   "source": [
    "dog_data_SF_19_full[\"desc_lemm_st\"] = dog_data_SF_19_full[\"desc_lemm_adj\"].apply(\n",
    "    stop_wrds\n",
    ")"
   ]
  },
  {
   "cell_type": "code",
   "execution_count": 102,
   "metadata": {
    "ExecuteTime": {
     "end_time": "2019-09-24T21:58:52.684750Z",
     "start_time": "2019-09-24T21:58:52.669119Z"
    }
   },
   "outputs": [],
   "source": [
    "def token_stem(text_str):\n",
    "    if len(text_str) != 0:\n",
    "        list_tok = [word for word in text_str if len(word) > 2]\n",
    "        return [Pstemmer.stem(word) for word in list_tok]"
   ]
  },
  {
   "cell_type": "code",
   "execution_count": 103,
   "metadata": {
    "ExecuteTime": {
     "end_time": "2019-09-24T21:58:52.833582Z",
     "start_time": "2019-09-24T21:58:52.690910Z"
    }
   },
   "outputs": [],
   "source": [
    "dog_data_SF_19_full = dog_data_SF_19_full.dropna(subset=[\"desc_lemm_st\"])"
   ]
  },
  {
   "cell_type": "code",
   "execution_count": 104,
   "metadata": {
    "ExecuteTime": {
     "end_time": "2019-09-24T21:58:57.910655Z",
     "start_time": "2019-09-24T21:58:52.836026Z"
    }
   },
   "outputs": [],
   "source": [
    "dog_data_SF_19_full[\"desc_lemm_adj\"] = dog_data_SF_19_full[\"desc_lemm_st\"].apply(\n",
    "    token_stem\n",
    ")"
   ]
  },
  {
   "cell_type": "code",
   "execution_count": 105,
   "metadata": {
    "ExecuteTime": {
     "end_time": "2019-09-24T21:58:57.921301Z",
     "start_time": "2019-09-24T21:58:57.915617Z"
    },
    "scrolled": true
   },
   "outputs": [],
   "source": [
    "#dog_data_SF_19_full[\"desc_lemm_adj\"].head(10)"
   ]
  },
  {
   "cell_type": "code",
   "execution_count": 106,
   "metadata": {
    "ExecuteTime": {
     "end_time": "2019-09-24T21:58:57.940810Z",
     "start_time": "2019-09-24T21:58:57.925789Z"
    }
   },
   "outputs": [],
   "source": [
    "adj_words = dog_data_SF_19_full[\"desc_lemm_adj\"]"
   ]
  },
  {
   "cell_type": "code",
   "execution_count": 107,
   "metadata": {
    "ExecuteTime": {
     "end_time": "2019-09-24T21:58:57.952792Z",
     "start_time": "2019-09-24T21:58:57.945393Z"
    }
   },
   "outputs": [],
   "source": [
    "adj_words = adj_words[pd.isnull(adj_words) == False]"
   ]
  },
  {
   "cell_type": "code",
   "execution_count": 131,
   "metadata": {
    "ExecuteTime": {
     "end_time": "2019-09-24T23:37:19.803139Z",
     "start_time": "2019-09-24T23:37:19.796764Z"
    }
   },
   "outputs": [
    {
     "data": {
      "text/plain": [
       "(21144,)"
      ]
     },
     "execution_count": 131,
     "metadata": {},
     "output_type": "execute_result"
    }
   ],
   "source": [
    "adj_words.shape"
   ]
  },
  {
   "cell_type": "code",
   "execution_count": null,
   "metadata": {},
   "outputs": [],
   "source": [
    "dictionary_descr_adj = corpora.Dictionary(adj_words)\n",
    "\n",
    "desc_adj_tfidf = models.TfidfModel(corpus_descr_adj)\n",
    "\n",
    "corpus_adj_tfidf = desc_adj_tfidf[corpus_descr_adj]\n"
   ]
  },
  {
   "cell_type": "code",
   "execution_count": null,
   "metadata": {},
   "outputs": [],
   "source": [
    "dictionary_descr_adj"
   ]
  },
  {
   "cell_type": "markdown",
   "metadata": {
    "ExecuteTime": {
     "end_time": "2019-09-21T23:14:31.314050Z",
     "start_time": "2019-09-21T23:14:31.299197Z"
    }
   },
   "source": [
    "### Model Diagnostics"
   ]
  },
  {
   "cell_type": "code",
   "execution_count": 40,
   "metadata": {
    "ExecuteTime": {
     "end_time": "2019-09-24T21:12:29.503966Z",
     "start_time": "2019-09-24T21:12:29.498653Z"
    }
   },
   "outputs": [],
   "source": [
    "## This was used to select the best pos subset \n",
    "# score_tracking = {}\n",
    "\n",
    "# def score_lda(\n",
    "#     model_name,\n",
    "#     model=lda_model_adj_tfidf,\n",
    "#     corpus=corpus_adj_tfidf,\n",
    "#     dictionary=dictionary_descr_adj,\n",
    "# ):\n",
    "#     coherence_model_lda = CoherenceModel(\n",
    "#         model=lda_model_adj_tfidf,\n",
    "#         corpus=corpus_adj_tfidf,\n",
    "#         dictionary=dictionary_descr_adj,\n",
    "#         coherence=\"u_mass\",\n",
    "#     )\n",
    "    \n",
    "#     score_tracking[model_name] = coherence_model_lda.get_coherence()\n",
    "#     return coherence_model_lda.get_coherence()\n",
    "    "
   ]
  },
  {
   "cell_type": "code",
   "execution_count": 114,
   "metadata": {
    "ExecuteTime": {
     "end_time": "2019-09-24T22:00:45.828013Z",
     "start_time": "2019-09-24T22:00:44.551555Z"
    }
   },
   "outputs": [
    {
     "data": {
      "text/plain": [
       "-6.148945605199138"
      ]
     },
     "execution_count": 114,
     "metadata": {},
     "output_type": "execute_result"
    }
   ],
   "source": [
    "score_lda('TFIDF_A')"
   ]
  },
  {
   "cell_type": "code",
   "execution_count": 115,
   "metadata": {
    "ExecuteTime": {
     "end_time": "2019-09-24T22:00:45.846623Z",
     "start_time": "2019-09-24T22:00:45.830727Z"
    }
   },
   "outputs": [
    {
     "data": {
      "text/plain": [
       "{'TFIDF_A_A-V': -3.657436360905255,\n",
       " 'TFIDF_A_A_V_N': -3.2571391549865925,\n",
       " 'TFIDF_A_A_N': -4.788080693919544,\n",
       " 'TFIDF_A_A': -5.013775332698515,\n",
       " 'TFIDF_A': -6.148945605199138}"
      ]
     },
     "execution_count": 115,
     "metadata": {},
     "output_type": "execute_result"
    }
   ],
   "source": [
    "score_tracking"
   ]
  },
  {
   "cell_type": "code",
   "execution_count": 122,
   "metadata": {
    "ExecuteTime": {
     "end_time": "2019-09-24T22:16:50.191971Z",
     "start_time": "2019-09-24T22:16:50.180367Z"
    }
   },
   "outputs": [],
   "source": [
    "pd.DataFrame.from_dict(score_tracking, orient=\"index\").to_csv(\"model_testing_coherence.csv\")"
   ]
  },
  {
   "cell_type": "markdown",
   "metadata": {},
   "source": [
    "### Optimize number of topics"
   ]
  },
  {
   "cell_type": "code",
   "execution_count": 123,
   "metadata": {
    "ExecuteTime": {
     "end_time": "2019-09-24T22:17:15.339097Z",
     "start_time": "2019-09-24T22:17:15.330496Z"
    }
   },
   "outputs": [],
   "source": [
    "def compute_coherence_values(dictionary, corpus, limit, start=2, step=3):\n",
    "    coherence_values = []\n",
    "    model_list = []\n",
    "    for num_topics in range(start, limit, step):\n",
    "        model = gensim.models.ldamodel.LdaModel(\n",
    "            corpus=corpus,\n",
    "            id2word=dictionary,\n",
    "            num_topics=num_topics,\n",
    "            random_state=100,\n",
    "            update_every=1,\n",
    "            chunksize=10,\n",
    "            passes=10,\n",
    "            alpha=\"symmetric\",\n",
    "            iterations=100,\n",
    "            per_word_topics=True,\n",
    "        )\n",
    "        model_list.append(model)\n",
    "        coherencemodel = CoherenceModel(\n",
    "            model=model, corpus=corpus, dictionary=dictionary, coherence=\"u_mass\"\n",
    "        )\n",
    "        coherence_values.append(coherencemodel.get_coherence())\n",
    "\n",
    "    return model_list, coherence_values"
   ]
  },
  {
   "cell_type": "code",
   "execution_count": 124,
   "metadata": {
    "ExecuteTime": {
     "end_time": "2019-09-24T22:57:10.717586Z",
     "start_time": "2019-09-24T22:17:34.928418Z"
    }
   },
   "outputs": [],
   "source": [
    "model_list, coherence_vals = compute_coherence_values(\n",
    "    dictionary_descr_adj, corpus_adj_tfidf, limit=40, step=3\n",
    ")"
   ]
  },
  {
   "cell_type": "code",
   "execution_count": 135,
   "metadata": {
    "ExecuteTime": {
     "end_time": "2019-09-24T23:39:29.016634Z",
     "start_time": "2019-09-24T23:39:28.824181Z"
    },
    "scrolled": true
   },
   "outputs": [
    {
     "data": {
      "image/png": "[encoded data removed]",
      "text/plain": [
       "<Figure size 432x288 with 1 Axes>"
      ]
     },
     "metadata": {
      "needs_background": "light"
     },
     "output_type": "display_data"
    }
   ],
   "source": [
    "limit=40; start=2; step=3;\n",
    "x = range(start, limit, step)\n",
    "plt.plot(x, coherence_vals)\n",
    "plt.xlabel(\"Num Topics\")\n",
    "plt.ylabel(\"Coherence score u_mass\")\n",
    "plt.legend((\"coherence_values\"), loc='best')\n",
    "plt.show()"
   ]
  },
  {
   "cell_type": "code",
   "execution_count": 140,
   "metadata": {
    "ExecuteTime": {
     "end_time": "2019-09-25T00:31:39.452157Z",
     "start_time": "2019-09-25T00:31:39.278385Z"
    }
   },
   "outputs": [
    {
     "data": {
      "image/png": "[encoded data removed]",
      "text/plain": [
       "<Figure size 432x288 with 1 Axes>"
      ]
     },
     "metadata": {
      "needs_background": "light"
     },
     "output_type": "display_data"
    }
   ],
   "source": [
    "limit=40; start=2; step=3;\n",
    "x = range(start, limit, step)\n",
    "plt.plot(x, coherence_vals)\n",
    "plt.xlabel(\"Num Topics\")\n",
    "plt.ylabel(\"Coherence c_v score\")\n",
    "plt.legend((\"coherence_values\"), loc='best')\n",
    "plt.show()"
   ]
  },
  {
   "cell_type": "code",
   "execution_count": null,
   "metadata": {},
   "outputs": [],
   "source": []
  },
  {
   "cell_type": "code",
   "execution_count": 140,
   "metadata": {
    "ExecuteTime": {
     "end_time": "2019-09-25T00:31:39.452157Z",
     "start_time": "2019-09-25T00:31:39.278385Z"
    },
    "scrolled": true
   },
   "outputs": [
    {
     "data": {
      "image/png": "[encoded data removed]",
      "text/plain": [
       "<Figure size 432x288 with 1 Axes>"
      ]
     },
     "metadata": {
      "needs_background": "light"
     },
     "output_type": "display_data"
    }
   ],
   "source": [
    "limit=40; start=2; step=3;\n",
    "x = range(start, limit, step)\n",
    "plt.plot(x, coherence_vals)\n",
    "plt.xlabel(\"Num Topics\")\n",
    "plt.ylabel(\"Coherence c_v score\")\n",
    "plt.legend((\"coherence_values\"), loc='best')\n",
    "plt.show()"
   ]
  },
  {
   "cell_type": "markdown",
   "metadata": {},
   "source": [
    "### Bigger steps"
   ]
  },
  {
   "cell_type": "code",
   "execution_count": 501,
   "metadata": {
    "ExecuteTime": {
     "end_time": "2019-09-27T21:00:27.853902Z",
     "start_time": "2019-09-27T19:54:27.070339Z"
    }
   },
   "outputs": [],
   "source": [
    "model_list_long, coherence_vals_long = compute_coherence_values(\n",
    "    dictionary_descr_adj, corpus_adj_tfidf, limit=80, step=6\n",
    ")"
   ]
  },
  {
   "cell_type": "code",
   "execution_count": 504,
   "metadata": {
    "ExecuteTime": {
     "end_time": "2019-09-28T02:58:21.896372Z",
     "start_time": "2019-09-28T02:58:21.888193Z"
    }
   },
   "outputs": [
    {
     "data": {
      "text/plain": [
       "[<gensim.models.ldamodel.LdaModel at 0x1a39346438>,\n",
       " <gensim.models.ldamodel.LdaModel at 0x1a392c01d0>,\n",
       " <gensim.models.ldamodel.LdaModel at 0x1a50157ba8>,\n",
       " <gensim.models.ldamodel.LdaModel at 0x1a392d6cc0>,\n",
       " <gensim.models.ldamodel.LdaModel at 0x1a393244e0>,\n",
       " <gensim.models.ldamodel.LdaModel at 0x1a392d78d0>,\n",
       " <gensim.models.ldamodel.LdaModel at 0x1a3934dda0>,\n",
       " <gensim.models.ldamodel.LdaModel at 0x1a53b915c0>,\n",
       " <gensim.models.ldamodel.LdaModel at 0x1a392f2ef0>,\n",
       " <gensim.models.ldamodel.LdaModel at 0x1a392ede48>,\n",
       " <gensim.models.ldamodel.LdaModel at 0x1a39bba128>,\n",
       " <gensim.models.ldamodel.LdaModel at 0x1a39401898>,\n",
       " <gensim.models.ldamodel.LdaModel at 0x1a39401278>]"
      ]
     },
     "execution_count": 504,
     "metadata": {},
     "output_type": "execute_result"
    }
   ],
   "source": [
    "model_list_long"
   ]
  },
  {
   "cell_type": "code",
   "execution_count": 505,
   "metadata": {
    "ExecuteTime": {
     "end_time": "2019-09-28T03:00:19.084903Z",
     "start_time": "2019-09-28T03:00:19.078630Z"
    }
   },
   "outputs": [
    {
     "data": {
      "text/plain": [
       "[0.3886737494374515,\n",
       " 0.37076723725127103,\n",
       " 0.3917536305631727,\n",
       " 0.40332001393472827,\n",
       " 0.4264814154271992,\n",
       " 0.45296698915418204,\n",
       " 0.46934311094932635,\n",
       " 0.482276569156151,\n",
       " 0.4694355342206332,\n",
       " 0.4567317036926864,\n",
       " 0.47503637375578195,\n",
       " 0.5006711944669819,\n",
       " 0.496033591703352]"
      ]
     },
     "execution_count": 505,
     "metadata": {},
     "output_type": "execute_result"
    }
   ],
   "source": [
    "coherence_vals_long\n"
   ]
  },
  {
   "cell_type": "code",
   "execution_count": 503,
   "metadata": {
    "ExecuteTime": {
     "end_time": "2019-09-28T02:57:14.393014Z",
     "start_time": "2019-09-28T02:57:14.137019Z"
    }
   },
   "outputs": [
    {
     "data": {
      "image/png": "[encoded data removed]",
      "text/plain": [
       "<Figure size 432x288 with 1 Axes>"
      ]
     },
     "metadata": {
      "needs_background": "light"
     },
     "output_type": "display_data"
    }
   ],
   "source": [
    "limit=80; start=2; step=6;\n",
    "x = range(start, limit, step)\n",
    "plt.plot(x, coherence_vals_long)\n",
    "plt.xlabel(\"Num Topics\")\n",
    "plt.ylabel(\"Coherence c_v score\")\n",
    "plt.legend((\"coherence_values\"), loc='best')\n",
    "plt.show()"
   ]
  },
  {
   "cell_type": "code",
   "execution_count": null,
   "metadata": {},
   "outputs": [],
   "source": []
  },
  {
   "cell_type": "code",
   "execution_count": 506,
   "metadata": {
    "ExecuteTime": {
     "end_time": "2019-09-28T03:01:18.650179Z",
     "start_time": "2019-09-28T03:01:18.640146Z"
    }
   },
   "outputs": [
    {
     "data": {
      "text/plain": [
       "[(4,\n",
       "  '0.253*\"typic\" + 0.112*\"open\" + 0.103*\"endear\" + 0.078*\"refund\" + 0.075*\"option\"'),\n",
       " (12,\n",
       "  '0.251*\"possibl\" + 0.118*\"reactiv\" + 0.090*\"needi\" + 0.088*\"constant\" + 0.054*\"complimentari\"'),\n",
       " (32,\n",
       "  '0.277*\"outgo\" + 0.107*\"enough\" + 0.080*\"sturdi\" + 0.077*\"grate\" + 0.069*\"easygo\"'),\n",
       " (33,\n",
       "  '0.299*\"femal\" + 0.249*\"human\" + 0.149*\"furri\" + 0.085*\"outsid\" + 0.043*\"sick\"'),\n",
       " (23,\n",
       "  '0.420*\"adopt\" + 0.244*\"most\" + 0.118*\"lost\" + 0.041*\"recent\" + 0.037*\"back\"'),\n",
       " (30,\n",
       "  '0.464*\"amaz\" + 0.249*\"fine\" + 0.036*\"spri\" + 0.030*\"incred\" + 0.028*\"use\"'),\n",
       " (42,\n",
       "  '0.498*\"readi\" + 0.414*\"play\" + 0.038*\"hard\" + 0.009*\"lap\" + 0.002*\"hand\"'),\n",
       " (13,\n",
       "  '0.851*\"previou\" + 0.056*\"hair\" + 0.004*\"clingi\" + 0.000*\"namei\" + 0.000*\"nimbl\"'),\n",
       " (40,\n",
       "  '0.108*\"close\" + 0.103*\"funni\" + 0.084*\"respect\" + 0.076*\"substanti\" + 0.076*\"second\"'),\n",
       " (11,\n",
       "  '0.195*\"nervou\" + 0.098*\"rare\" + 0.097*\"defens\" + 0.067*\"origin\" + 0.051*\"raw\"'),\n",
       " (3,\n",
       "  '0.234*\"will\" + 0.135*\"excit\" + 0.096*\"awesom\" + 0.083*\"addit\" + 0.064*\"reason\"'),\n",
       " (17,\n",
       "  '0.147*\"patient\" + 0.119*\"clean\" + 0.096*\"like\" + 0.084*\"soft\" + 0.061*\"dental\"'),\n",
       " (2,\n",
       "  '0.482*\"quiet\" + 0.080*\"okay\" + 0.070*\"domin\" + 0.045*\"australian\" + 0.039*\"unshelt\"'),\n",
       " (21,\n",
       "  '0.112*\"tough\" + 0.105*\"bitti\" + 0.076*\"floppi\" + 0.061*\"flexibl\" + 0.040*\"dispos\"'),\n",
       " (9,\n",
       "  '0.374*\"neg\" + 0.135*\"forev\" + 0.060*\"capabl\" + 0.052*\"key\" + 0.047*\"upset\"'),\n",
       " (28,\n",
       "  '0.234*\"ideal\" + 0.202*\"total\" + 0.119*\"necessari\" + 0.084*\"natur\" + 0.075*\"moder\"'),\n",
       " (39,\n",
       "  '0.183*\"scare\" + 0.134*\"unsur\" + 0.120*\"popular\" + 0.046*\"knowledg\" + 0.046*\"wide\"'),\n",
       " (10,\n",
       "  '0.204*\"short\" + 0.161*\"wonder\" + 0.145*\"favorit\" + 0.125*\"affection\" + 0.106*\"nice\"'),\n",
       " (34,\n",
       "  '0.116*\"skittish\" + 0.102*\"aggress\" + 0.063*\"blond\" + 0.062*\"bustl\" + 0.060*\"mid\"'),\n",
       " (41,\n",
       "  '0.334*\"friendli\" + 0.160*\"healthi\" + 0.094*\"kind\" + 0.069*\"experienc\" + 0.050*\"poor\"')]"
      ]
     },
     "execution_count": 506,
     "metadata": {},
     "output_type": "execute_result"
    }
   ],
   "source": [
    "model_list_long[7].print_topics(num_words=5)"
   ]
  },
  {
   "cell_type": "markdown",
   "metadata": {},
   "source": [
    "### Export topics"
   ]
  },
  {
   "cell_type": "code",
   "execution_count": 429,
   "metadata": {
    "ExecuteTime": {
     "end_time": "2019-09-25T21:29:38.589051Z",
     "start_time": "2019-09-25T21:29:38.558689Z"
    },
    "scrolled": true
   },
   "outputs": [
    {
     "data": {
      "text/plain": [
       "[(0,\n",
       "  '0.455*\"interest\" + 0.087*\"activ\" + 0.075*\"short\" + 0.066*\"chip\" + 0.060*\"smart\" + 0.039*\"full\" + 0.031*\"grown\" + 0.028*\"leash\" + 0.026*\"medic\" + 0.018*\"senior\" + 0.018*\"fantast\" + 0.016*\"social\" + 0.013*\"mouthi\" + 0.010*\"pet\" + 0.007*\"tall\" + 0.006*\"privat\" + 0.005*\"unwant\" + 0.004*\"strike\" + 0.002*\"incredi\" + 0.001*\"public\"'),\n",
       " (1,\n",
       "  '0.432*\"slow\" + 0.264*\"fit\" + 0.092*\"doesn\" + 0.031*\"next\" + 0.022*\"picki\" + 0.020*\"size\" + 0.020*\"absolut\" + 0.016*\"cold\" + 0.011*\"vet\" + 0.006*\"gener\" + 0.006*\"comfi\" + 0.006*\"excess\" + 0.005*\"pekinges\" + 0.002*\"horrif\" + 0.002*\"aw\" + 0.002*\"girlish\" + 0.001*\"critic\" + 0.000*\"distrust\" + 0.000*\"arthrit\" + 0.000*\"outlandishli\"'),\n",
       " (2,\n",
       "  '0.121*\"quiet\" + 0.072*\"unknown\" + 0.054*\"afford\" + 0.052*\"due\" + 0.046*\"like\" + 0.029*\"dental\" + 0.026*\"delight\" + 0.026*\"busi\" + 0.023*\"tough\" + 0.023*\"defens\" + 0.021*\"fear\" + 0.020*\"fragil\" + 0.020*\"okay\" + 0.020*\"bitti\" + 0.020*\"mischiev\" + 0.019*\"recent\" + 0.019*\"green\" + 0.018*\"domin\" + 0.016*\"less\" + 0.016*\"origin\"'),\n",
       " (3,\n",
       "  '0.092*\"sever\" + 0.090*\"alter\" + 0.085*\"local\" + 0.073*\"specif\" + 0.072*\"will\" + 0.071*\"calm\" + 0.041*\"excit\" + 0.029*\"entir\" + 0.026*\"adventur\" + 0.026*\"warm\" + 0.025*\"automat\" + 0.020*\"fabul\" + 0.020*\"reason\" + 0.017*\"rear\" + 0.016*\"forev\" + 0.015*\"unabl\" + 0.015*\"overweight\" + 0.014*\"needi\" + 0.014*\"constant\" + 0.013*\"slight\"'),\n",
       " (4,\n",
       "  '0.352*\"offici\" + 0.134*\"first\" + 0.055*\"outgo\" + 0.048*\"patient\" + 0.039*\"clean\" + 0.032*\"timid\" + 0.028*\"last\" + 0.027*\"soft\" + 0.025*\"posit\" + 0.021*\"enough\" + 0.016*\"independ\" + 0.015*\"grate\" + 0.014*\"attent\" + 0.014*\"sociabl\" + 0.014*\"easygo\" + 0.013*\"content\" + 0.012*\"live\" + 0.011*\"floppi\" + 0.009*\"nice\" + 0.007*\"pure\"'),\n",
       " (5,\n",
       "  '0.177*\"femal\" + 0.088*\"furri\" + 0.058*\"earli\" + 0.056*\"proper\" + 0.050*\"outsid\" + 0.049*\"readi\" + 0.035*\"hard\" + 0.035*\"play\" + 0.033*\"petit\" + 0.027*\"half\" + 0.026*\"sick\" + 0.025*\"certain\" + 0.022*\"physic\" + 0.021*\"similar\" + 0.019*\"initi\" + 0.019*\"flexibl\" + 0.018*\"detail\" + 0.016*\"underweight\" + 0.013*\"simplyywendi\" + 0.013*\"mid\"'),\n",
       " (6,\n",
       "  '0.317*\"well\" + 0.310*\"readi\" + 0.262*\"play\" + 0.021*\"popular\" + 0.012*\"hand\" + 0.006*\"lap\" + 0.001*\"cwob\" + 0.001*\"requir\" + 0.001*\"snorti\" + 0.000*\"lingual\" + 0.000*\"legal\" + 0.000*\"lith\" + 0.000*\"agreeabl\" + 0.000*\"restless\" + 0.000*\"industri\" + 0.000*\"dispos\" + 0.000*\"western\" + 0.000*\"rotten\" + 0.000*\"unshelt\" + 0.000*\"excess\"'),\n",
       " (7,\n",
       "  '0.101*\"human\" + 0.094*\"long\" + 0.059*\"medium\" + 0.057*\"lost\" + 0.049*\"ideal\" + 0.045*\"close\" + 0.043*\"funni\" + 0.042*\"total\" + 0.038*\"select\" + 0.035*\"respect\" + 0.032*\"substanti\" + 0.032*\"second\" + 0.031*\"veterinari\" + 0.027*\"deduct\" + 0.026*\"onlin\" + 0.025*\"necessari\" + 0.021*\"routin\" + 0.020*\"familiar\" + 0.018*\"natur\" + 0.016*\"moder\"'),\n",
       " (8,\n",
       "  '0.171*\"current\" + 0.145*\"previou\" + 0.081*\"easi\" + 0.060*\"german\" + 0.047*\"right\" + 0.046*\"neuter\" + 0.043*\"safe\" + 0.039*\"full\" + 0.039*\"comfort\" + 0.035*\"non\" + 0.026*\"awesom\" + 0.022*\"addit\" + 0.020*\"stun\" + 0.017*\"least\" + 0.016*\"respons\" + 0.012*\"rambuncti\" + 0.011*\"tire\" + 0.010*\"overcrowd\" + 0.008*\"toler\" + 0.008*\"anxiou\"'),\n",
       " (9,\n",
       "  '0.169*\"avail\" + 0.164*\"sure\" + 0.125*\"mani\" + 0.055*\"monthli\" + 0.054*\"pre\" + 0.049*\"regular\" + 0.036*\"vac\" + 0.036*\"bordatella\" + 0.036*\"apt\" + 0.031*\"appropri\" + 0.029*\"resid\" + 0.028*\"daili\" + 0.024*\"tzu\" + 0.020*\"vaccin\" + 0.020*\"intellig\" + 0.017*\"cut\" + 0.010*\"aggress\" + 0.009*\"focus\" + 0.008*\"prior\" + 0.005*\"enthusiast\"'),\n",
       " (10,\n",
       "  '0.211*\"adopt\" + 0.123*\"most\" + 0.067*\"upcom\" + 0.067*\"basic\" + 0.066*\"strong\" + 0.048*\"nervou\" + 0.031*\"secur\" + 0.030*\"scare\" + 0.025*\"quick\" + 0.024*\"rare\" + 0.022*\"unsur\" + 0.020*\"person\" + 0.018*\"present\" + 0.013*\"kid\" + 0.013*\"raw\" + 0.010*\"continu\" + 0.010*\"gloriou\" + 0.009*\"love\" + 0.008*\"temporari\" + 0.008*\"deferenti\"'),\n",
       " (11,\n",
       "  '0.131*\"wonder\" + 0.118*\"favorit\" + 0.102*\"affection\" + 0.072*\"nice\" + 0.060*\"particular\" + 0.055*\"real\" + 0.052*\"clear\" + 0.047*\"more\" + 0.038*\"rough\" + 0.038*\"leg\" + 0.027*\"mix\" + 0.012*\"maltes\" + 0.012*\"overal\" + 0.011*\"incred\" + 0.011*\"tasti\" + 0.011*\"pushi\" + 0.011*\"frequent\" + 0.011*\"singl\" + 0.009*\"snorti\" + 0.009*\"bossi\"'),\n",
       " (12,\n",
       "  '0.182*\"amaz\" + 0.086*\"energet\" + 0.075*\"much\" + 0.061*\"potenti\" + 0.056*\"potti\" + 0.044*\"belov\" + 0.038*\"matur\" + 0.028*\"endear\" + 0.025*\"mat\" + 0.025*\"excel\" + 0.025*\"trainabl\" + 0.024*\"pertin\" + 0.024*\"topic\" + 0.024*\"rental\" + 0.020*\"gloriou\" + 0.018*\"submiss\" + 0.014*\"prepar\" + 0.013*\"australian\" + 0.012*\"protect\" + 0.010*\"capabl\"'),\n",
       " (13,\n",
       "  '0.101*\"fine\" + 0.076*\"confid\" + 0.055*\"whole\" + 0.050*\"true\" + 0.050*\"loyal\" + 0.044*\"complet\" + 0.041*\"alon\" + 0.029*\"cautiou\" + 0.027*\"sturdi\" + 0.023*\"scari\" + 0.021*\"relax\" + 0.021*\"utd\" + 0.020*\"devot\" + 0.020*\"skittish\" + 0.016*\"wari\" + 0.015*\"spri\" + 0.014*\"uniqu\" + 0.014*\"central\" + 0.012*\"doggi\" + 0.012*\"solid\"'),\n",
       " (14,\n",
       "  '0.076*\"kind\" + 0.068*\"sensit\" + 0.057*\"experienc\" + 0.048*\"reserv\" + 0.041*\"poor\" + 0.035*\"outdoor\" + 0.031*\"loud\" + 0.030*\"pregnant\" + 0.028*\"dead\" + 0.022*\"lone\" + 0.022*\"mild\" + 0.021*\"huge\" + 0.021*\"cute\" + 0.020*\"urgent\" + 0.020*\"thorough\" + 0.014*\"use\" + 0.014*\"mean\" + 0.014*\"remot\" + 0.013*\"clever\" + 0.012*\"zealou\"'),\n",
       " (15,\n",
       "  '0.307*\"friendli\" + 0.112*\"high\" + 0.097*\"healthi\" + 0.054*\"spay\" + 0.048*\"low\" + 0.047*\"special\" + 0.041*\"manner\" + 0.031*\"miniatur\" + 0.018*\"differ\" + 0.017*\"extra\" + 0.016*\"hair\" + 0.015*\"snuggler\" + 0.014*\"crate\" + 0.013*\"poodl\" + 0.009*\"suit\" + 0.009*\"past\" + 0.009*\"color\" + 0.008*\"weekli\" + 0.007*\"relat\" + 0.006*\"appi\"'),\n",
       " (16,\n",
       "  '0.109*\"larg\" + 0.081*\"typic\" + 0.075*\"neg\" + 0.069*\"possibl\" + 0.037*\"prevent\" + 0.036*\"open\" + 0.033*\"bad\" + 0.032*\"reactiv\" + 0.030*\"athlet\" + 0.029*\"former\" + 0.025*\"refund\" + 0.024*\"option\" + 0.024*\"back\" + 0.022*\"belgian\" + 0.020*\"homeless\" + 0.014*\"complimentari\" + 0.013*\"empti\" + 0.013*\"yearli\" + 0.012*\"unshelt\" + 0.012*\"elderli\"')]"
      ]
     },
     "execution_count": 429,
     "metadata": {},
     "output_type": "execute_result"
    }
   ],
   "source": [
    "model_list[5].print_topics(num_words=20)"
   ]
  },
  {
   "cell_type": "code",
   "execution_count": 425,
   "metadata": {
    "ExecuteTime": {
     "end_time": "2019-09-25T21:01:56.802017Z",
     "start_time": "2019-09-25T21:01:56.790381Z"
    }
   },
   "outputs": [],
   "source": [
    "topic_details = pd.DataFrame((model_list[5].print_topics(num_words=20)))"
   ]
  },
  {
   "cell_type": "code",
   "execution_count": 428,
   "metadata": {
    "ExecuteTime": {
     "end_time": "2019-09-25T21:07:53.243300Z",
     "start_time": "2019-09-25T21:07:53.225802Z"
    }
   },
   "outputs": [],
   "source": [
    "# topic_details.head()"
   ]
  },
  {
   "cell_type": "code",
   "execution_count": 427,
   "metadata": {
    "ExecuteTime": {
     "end_time": "2019-09-25T21:02:22.542889Z",
     "start_time": "2019-09-25T21:02:22.533818Z"
    }
   },
   "outputs": [],
   "source": [
    "topic_details.to_csv(\"topics_files.csv\")"
   ]
  },
  {
   "cell_type": "code",
   "execution_count": 369,
   "metadata": {
    "ExecuteTime": {
     "end_time": "2019-09-25T19:48:37.676552Z",
     "start_time": "2019-09-25T19:48:37.665472Z"
    }
   },
   "outputs": [],
   "source": [
    "## pickle up the model \n",
    "\n",
    "filename_mdl = 'lda_model_17_tps.sav'\n",
    "pickle.dump(model_list[5], open(filename_mdl, 'wb'))\n",
    "\n",
    "filename_dct = 'lda_dict_17_tps.sav'\n",
    "pickle.dump(dictionary_descr_adj, open(filename_dct, 'wb'))\n"
   ]
  },
  {
   "cell_type": "markdown",
   "metadata": {},
   "source": [
    "### Visualize the topics"
   ]
  },
  {
   "cell_type": "code",
   "execution_count": 430,
   "metadata": {
    "ExecuteTime": {
     "end_time": "2019-09-25T21:32:25.267671Z",
     "start_time": "2019-09-25T21:30:24.210370Z"
    }
   },
   "outputs": [
    {
     "data": {
      "text/html": [
       "\n",
       "<link rel=\"stylesheet\" type=\"text/css\" href=\"https://cdn.rawgit.com/bmabey/pyLDAvis/files/ldavis.v1.0.0.css\">\n",
       "\n",
       "\n",
       "<div id=\"ldavis_el6707112611409496431041473\"></div>\n",
       "<script type=\"text/javascript\">\n",
       "\n",
       "var ldavis_el6707112611409496431041473_data = {\"mdsDat\": {\"x\": [0.08542433190702817, 0.12834810184614587, 0.05498338928817677, 0.06632883952155483, 0.026202838465606556, 0.03625112645219502, 0.03418135332411571, 0.044196833981160824, 0.004622720018345761, 0.03562468840924717, 0.03807962465010595, 0.04453196709159972, 0.02394164346781625, -0.3154461517859635, 0.03396338380977518, -0.35017544354275115, 0.008940753095841485], \"y\": [-0.24159984849972838, -0.3493010116256044, -0.010404337039346801, 0.039761058100140044, 0.04092190266762017, 0.05613719353547334, 0.06999110589997205, 0.048790045389810424, 0.0814309106992977, 0.0678796215851283, 0.06409262161323823, 0.015550229084855502, 0.08948725758515735, -0.04772331946007107, 0.06797442966603588, -0.08424474575934351, 0.09125688655736604], \"topics\": [1, 2, 3, 4, 5, 6, 7, 8, 9, 10, 11, 12, 13, 14, 15, 16, 17], \"cluster\": [1, 1, 1, 1, 1, 1, 1, 1, 1, 1, 1, 1, 1, 1, 1, 1, 1], \"Freq\": [8.568561553955078, 8.374374389648438, 7.431584358215332, 5.930667400360107, 5.908185005187988, 5.88218879699707, 5.829052448272705, 5.726268768310547, 5.548774719238281, 5.540706157684326, 5.391091823577881, 5.3676557540893555, 5.210245132446289, 5.052764892578125, 5.0264997482299805, 4.680438041687012, 4.53094482421875]}, \"tinfo\": {\"Category\": [\"Default\", \"Default\", \"Default\", \"Default\", \"Default\", \"Default\", \"Default\", \"Default\", \"Default\", \"Default\", \"Default\", \"Default\", \"Default\", \"Default\", \"Default\", \"Default\", \"Default\", \"Default\", \"Default\", \"Default\", \"Default\", \"Default\", \"Default\", \"Default\", \"Default\", \"Default\", \"Default\", \"Default\", \"Default\", \"Default\", \"Topic1\", \"Topic1\", \"Topic1\", \"Topic1\", \"Topic1\", \"Topic1\", \"Topic1\", \"Topic1\", \"Topic1\", \"Topic1\", \"Topic1\", \"Topic1\", \"Topic1\", \"Topic1\", \"Topic1\", \"Topic1\", \"Topic1\", \"Topic1\", \"Topic1\", \"Topic1\", \"Topic1\", \"Topic1\", \"Topic1\", \"Topic1\", \"Topic1\", \"Topic1\", \"Topic1\", \"Topic1\", \"Topic1\", \"Topic1\", \"Topic1\", \"Topic2\", \"Topic2\", \"Topic2\", \"Topic2\", \"Topic2\", \"Topic2\", \"Topic2\", \"Topic2\", \"Topic2\", \"Topic2\", \"Topic2\", \"Topic2\", \"Topic2\", \"Topic2\", \"Topic2\", \"Topic2\", \"Topic2\", \"Topic2\", \"Topic2\", \"Topic2\", \"Topic2\", \"Topic2\", \"Topic2\", \"Topic2\", \"Topic2\", \"Topic2\", \"Topic2\", \"Topic2\", \"Topic2\", \"Topic2\", \"Topic2\", \"Topic2\", \"Topic2\", \"Topic2\", \"Topic3\", \"Topic3\", \"Topic3\", \"Topic3\", \"Topic3\", \"Topic3\", \"Topic3\", \"Topic3\", \"Topic3\", \"Topic3\", \"Topic3\", \"Topic3\", \"Topic3\", \"Topic3\", \"Topic3\", \"Topic3\", \"Topic3\", \"Topic3\", \"Topic3\", \"Topic3\", \"Topic3\", \"Topic3\", \"Topic3\", \"Topic3\", \"Topic3\", \"Topic3\", \"Topic3\", \"Topic3\", \"Topic3\", \"Topic3\", \"Topic3\", \"Topic3\", \"Topic4\", \"Topic4\", \"Topic4\", \"Topic4\", \"Topic4\", \"Topic4\", \"Topic4\", \"Topic4\", \"Topic4\", \"Topic4\", \"Topic4\", \"Topic4\", \"Topic4\", \"Topic4\", \"Topic4\", \"Topic4\", \"Topic4\", \"Topic4\", \"Topic4\", \"Topic4\", \"Topic4\", \"Topic4\", \"Topic4\", \"Topic4\", \"Topic4\", \"Topic4\", \"Topic4\", \"Topic4\", \"Topic4\", \"Topic4\", \"Topic4\", \"Topic4\", \"Topic5\", \"Topic5\", \"Topic5\", \"Topic5\", \"Topic5\", \"Topic5\", \"Topic5\", \"Topic5\", \"Topic5\", \"Topic5\", \"Topic5\", \"Topic5\", \"Topic5\", \"Topic5\", \"Topic5\", \"Topic5\", \"Topic5\", \"Topic5\", \"Topic5\", \"Topic5\", \"Topic5\", \"Topic5\", \"Topic5\", \"Topic5\", \"Topic5\", \"Topic5\", \"Topic5\", \"Topic5\", \"Topic5\", \"Topic5\", \"Topic5\", \"Topic5\", \"Topic5\", \"Topic5\", \"Topic6\", \"Topic6\", \"Topic6\", \"Topic6\", \"Topic6\", \"Topic6\", \"Topic6\", \"Topic6\", \"Topic6\", \"Topic6\", \"Topic6\", \"Topic6\", \"Topic6\", \"Topic6\", \"Topic6\", \"Topic6\", \"Topic6\", \"Topic6\", \"Topic6\", \"Topic6\", \"Topic6\", \"Topic6\", \"Topic6\", \"Topic6\", \"Topic6\", \"Topic6\", \"Topic6\", \"Topic6\", \"Topic6\", \"Topic6\", \"Topic6\", \"Topic7\", \"Topic7\", \"Topic7\", \"Topic7\", \"Topic7\", \"Topic7\", \"Topic7\", \"Topic7\", \"Topic7\", \"Topic7\", \"Topic7\", \"Topic7\", \"Topic7\", \"Topic7\", \"Topic7\", \"Topic7\", \"Topic7\", \"Topic7\", \"Topic7\", \"Topic7\", \"Topic7\", \"Topic7\", \"Topic7\", \"Topic7\", \"Topic7\", \"Topic7\", \"Topic7\", \"Topic7\", \"Topic7\", \"Topic7\", \"Topic7\", \"Topic7\", \"Topic8\", \"Topic8\", \"Topic8\", \"Topic8\", \"Topic8\", \"Topic8\", \"Topic8\", \"Topic8\", \"Topic8\", \"Topic8\", \"Topic8\", \"Topic8\", \"Topic8\", \"Topic8\", \"Topic8\", \"Topic8\", \"Topic8\", \"Topic8\", \"Topic8\", \"Topic8\", \"Topic8\", \"Topic8\", \"Topic8\", \"Topic8\", \"Topic8\", \"Topic8\", \"Topic8\", \"Topic8\", \"Topic8\", \"Topic8\", \"Topic9\", \"Topic9\", \"Topic9\", \"Topic9\", \"Topic9\", \"Topic9\", \"Topic9\", \"Topic9\", \"Topic9\", \"Topic9\", \"Topic9\", \"Topic9\", \"Topic9\", \"Topic9\", \"Topic9\", \"Topic9\", \"Topic9\", \"Topic9\", \"Topic9\", \"Topic9\", \"Topic9\", \"Topic9\", \"Topic9\", \"Topic9\", \"Topic9\", \"Topic9\", \"Topic9\", \"Topic9\", \"Topic9\", \"Topic9\", \"Topic9\", \"Topic9\", \"Topic9\", \"Topic9\", \"Topic10\", \"Topic10\", \"Topic10\", \"Topic10\", \"Topic10\", \"Topic10\", \"Topic10\", \"Topic10\", \"Topic10\", \"Topic10\", \"Topic10\", \"Topic10\", \"Topic10\", \"Topic10\", \"Topic10\", \"Topic10\", \"Topic10\", \"Topic10\", \"Topic10\", \"Topic10\", \"Topic10\", \"Topic10\", \"Topic10\", \"Topic10\", \"Topic10\", \"Topic10\", \"Topic10\", \"Topic10\", \"Topic10\", \"Topic10\", \"Topic10\", \"Topic10\", \"Topic11\", \"Topic11\", \"Topic11\", \"Topic11\", \"Topic11\", \"Topic11\", \"Topic11\", \"Topic11\", \"Topic11\", \"Topic11\", \"Topic11\", \"Topic11\", \"Topic11\", \"Topic11\", \"Topic11\", \"Topic11\", \"Topic11\", \"Topic11\", \"Topic11\", \"Topic11\", \"Topic11\", \"Topic11\", \"Topic11\", \"Topic11\", \"Topic11\", \"Topic11\", \"Topic11\", \"Topic11\", \"Topic11\", \"Topic11\", \"Topic11\", \"Topic11\", \"Topic11\", \"Topic11\", \"Topic11\", \"Topic11\", \"Topic11\", \"Topic12\", \"Topic12\", \"Topic12\", \"Topic12\", \"Topic12\", \"Topic12\", \"Topic12\", \"Topic12\", \"Topic12\", \"Topic12\", \"Topic12\", \"Topic12\", \"Topic12\", \"Topic12\", \"Topic12\", \"Topic12\", \"Topic12\", \"Topic12\", \"Topic12\", \"Topic12\", \"Topic12\", \"Topic12\", \"Topic12\", \"Topic12\", \"Topic12\", \"Topic12\", \"Topic12\", \"Topic12\", \"Topic12\", \"Topic12\", \"Topic12\", \"Topic12\", \"Topic12\", \"Topic12\", \"Topic12\", \"Topic12\", \"Topic13\", \"Topic13\", \"Topic13\", \"Topic13\", \"Topic13\", \"Topic13\", \"Topic13\", \"Topic13\", \"Topic13\", \"Topic13\", \"Topic13\", \"Topic13\", \"Topic13\", \"Topic13\", \"Topic13\", \"Topic13\", \"Topic13\", \"Topic13\", \"Topic13\", \"Topic13\", \"Topic13\", \"Topic13\", \"Topic13\", \"Topic13\", \"Topic13\", \"Topic13\", \"Topic13\", \"Topic13\", \"Topic13\", \"Topic13\", \"Topic13\", \"Topic13\", \"Topic14\", \"Topic14\", \"Topic14\", \"Topic14\", \"Topic14\", \"Topic14\", \"Topic14\", \"Topic14\", \"Topic14\", \"Topic14\", \"Topic14\", \"Topic14\", \"Topic14\", \"Topic14\", \"Topic14\", \"Topic14\", \"Topic14\", \"Topic14\", \"Topic14\", \"Topic14\", \"Topic14\", \"Topic14\", \"Topic14\", \"Topic14\", \"Topic14\", \"Topic14\", \"Topic14\", \"Topic14\", \"Topic14\", \"Topic14\", \"Topic14\", \"Topic14\", \"Topic14\", \"Topic14\", \"Topic14\", \"Topic14\", \"Topic14\", \"Topic15\", \"Topic15\", \"Topic15\", \"Topic15\", \"Topic15\", \"Topic15\", \"Topic15\", \"Topic15\", \"Topic15\", \"Topic15\", \"Topic15\", \"Topic15\", \"Topic15\", \"Topic15\", \"Topic15\", \"Topic15\", \"Topic15\", \"Topic15\", \"Topic15\", \"Topic15\", \"Topic15\", \"Topic15\", \"Topic15\", \"Topic15\", \"Topic15\", \"Topic15\", \"Topic15\", \"Topic15\", \"Topic15\", \"Topic15\", \"Topic15\", \"Topic15\", \"Topic16\", \"Topic16\", \"Topic16\", \"Topic16\", \"Topic16\", \"Topic16\", \"Topic16\", \"Topic16\", \"Topic16\", \"Topic16\", \"Topic16\", \"Topic16\", \"Topic16\", \"Topic16\", \"Topic16\", \"Topic16\", \"Topic16\", \"Topic16\", \"Topic16\", \"Topic16\", \"Topic16\", \"Topic16\", \"Topic16\", \"Topic16\", \"Topic16\", \"Topic16\", \"Topic16\", \"Topic16\", \"Topic16\", \"Topic16\", \"Topic16\", \"Topic16\", \"Topic16\", \"Topic16\", \"Topic16\", \"Topic16\", \"Topic16\", \"Topic16\", \"Topic16\", \"Topic16\", \"Topic16\", \"Topic16\", \"Topic16\", \"Topic16\", \"Topic16\", \"Topic16\", \"Topic16\", \"Topic16\", \"Topic17\", \"Topic17\", \"Topic17\", \"Topic17\", \"Topic17\", \"Topic17\", \"Topic17\", \"Topic17\", \"Topic17\", \"Topic17\", \"Topic17\", \"Topic17\", \"Topic17\", \"Topic17\", \"Topic17\", \"Topic17\", \"Topic17\", \"Topic17\", \"Topic17\", \"Topic17\", \"Topic17\", \"Topic17\", \"Topic17\", \"Topic17\", \"Topic17\", \"Topic17\", \"Topic17\", \"Topic17\", \"Topic17\", \"Topic17\", \"Topic17\"], \"Freq\": [1781.0, 1083.0, 975.0, 847.0, 693.0, 793.0, 664.0, 655.0, 687.0, 533.0, 587.0, 570.0, 580.0, 428.0, 418.0, 435.0, 372.0, 356.0, 322.0, 313.0, 310.0, 308.0, 340.0, 284.0, 326.0, 277.0, 277.0, 267.0, 260.0, 247.0, 686.1240844726562, 579.7542724609375, 325.1898498535156, 239.69183349609375, 188.4076385498047, 185.8197021484375, 170.66673278808594, 157.2443389892578, 138.87510681152344, 102.46056365966797, 89.02951049804688, 81.08421325683594, 66.77276611328125, 65.66979217529297, 48.25120162963867, 43.99784469604492, 39.816219329833984, 33.81737518310547, 33.610816955566406, 32.34743881225586, 29.136701583862305, 28.628944396972656, 27.119688034057617, 25.565628051757812, 25.226757049560547, 25.12478256225586, 20.372516632080078, 18.591360092163086, 17.75261116027832, 17.475051879882812, 157.3183135986328, 1780.8314208984375, 339.35638427734375, 292.1887512207031, 257.4590759277344, 236.1237030029297, 119.48877716064453, 109.13631439208984, 102.38147735595703, 70.85498046875, 69.5370864868164, 63.497371673583984, 50.319705963134766, 39.699951171875, 27.12653160095215, 24.868860244750977, 19.05588722229004, 15.613107681274414, 2.663808822631836, 152.11428833007812, 1.555175542831421, 1.0897139310836792, 6.433426380157471, 0.7617166638374329, 0.7117568850517273, 1.738419532775879, 0.37353459000587463, 0.13719411194324493, 0.24551346898078918, 1.0168101787567139, 1.0168101787567139, 0.7091355323791504, 0.572383463382721, 0.7363548278808594, 0.7080376744270325, 586.7462768554688, 569.7975463867188, 434.18524169921875, 192.1378631591797, 186.9656219482422, 171.54779052734375, 124.63714599609375, 124.58618927001953, 124.18869018554688, 107.26119232177734, 100.15770721435547, 98.36695861816406, 71.0206069946289, 68.44194030761719, 57.45392608642578, 82.8987045288086, 36.276939392089844, 29.72602081298828, 27.11724853515625, 18.226247787475586, 17.03268814086914, 16.161211013793945, 12.714958190917969, 12.429826736450195, 9.495990753173828, 2.800800323486328, 2.6939876079559326, 1.7173439264297485, 3.212390184402466, 0.6972983479499817, 4.29721736907959, 2.461052656173706, 974.7737426757812, 371.2210388183594, 151.456787109375, 132.95074462890625, 107.83820343017578, 87.49260711669922, 78.2938003540039, 75.88072204589844, 69.12503814697266, 58.37165069580078, 45.69883728027344, 42.097618103027344, 39.2541389465332, 38.825504302978516, 37.56461715698242, 36.2753791809082, 33.990196228027344, 29.744117736816406, 20.59691047668457, 18.26622200012207, 17.359682083129883, 16.225751876831055, 15.906521797180176, 13.360932350158691, 11.816628456115723, 9.366872787475586, 8.820185661315918, 7.125546455383301, 7.101324081420898, 5.794153213500977, 13.580772399902344, 24.28900718688965, 846.6395874023438, 307.8437805175781, 266.69970703125, 147.7723388671875, 133.55239868164062, 129.2247314453125, 113.33808135986328, 85.58518981933594, 50.58411407470703, 46.65237808227539, 43.322914123535156, 41.944217681884766, 37.715274810791016, 36.911258697509766, 25.052587509155273, 24.66366958618164, 23.9451847076416, 22.360456466674805, 16.9561824798584, 14.072134971618652, 10.09239673614502, 9.295998573303223, 7.955448627471924, 5.484551429748535, 11.567513465881348, 3.8072991371154785, 3.7807631492614746, 11.376546859741211, 2.929008722305298, 17.687129974365234, 19.217756271362305, 16.345012664794922, 7.262716770172119, 6.852096080780029, 276.3244934082031, 259.1642761230469, 162.95907592773438, 157.7998809814453, 135.215576171875, 123.35407257080078, 118.13215637207031, 116.4896469116211, 105.63861083984375, 95.79956817626953, 87.1462631225586, 86.93473052978516, 85.44480895996094, 73.02792358398438, 70.08525085449219, 69.0152816772461, 56.67528533935547, 55.347206115722656, 48.626319885253906, 43.21389389038086, 31.43288230895996, 21.54289436340332, 18.7983455657959, 12.136005401611328, 16.310184478759766, 11.3936767578125, 11.619603157043457, 10.999767303466797, 10.570791244506836, 9.565630912780762, 13.410147666931152, 355.7421569824219, 321.663330078125, 276.7814636230469, 163.3365936279297, 150.69651794433594, 141.86309814453125, 129.2425537109375, 103.75443267822266, 102.47457122802734, 72.95784759521484, 33.7667236328125, 32.18349838256836, 30.8984375, 29.13840675354004, 30.269210815429688, 28.964235305786133, 28.6954288482666, 23.976024627685547, 20.633508682250977, 19.069475173950195, 17.25914764404297, 14.610158920288086, 12.95663070678711, 25.036775588989258, 11.359130859375, 11.589168548583984, 14.19312572479248, 9.413228988647461, 8.610913276672363, 196.97695922851562, 19.30224609375, 11.084017753601074, 246.0674285888672, 227.3580322265625, 241.99606323242188, 194.66966247558594, 191.72386169433594, 190.10073852539062, 110.8567123413086, 78.54036712646484, 70.70848083496094, 69.41111755371094, 53.499691009521484, 52.26355743408203, 44.63957595825195, 41.494293212890625, 40.88177490234375, 39.45416259765625, 37.92556381225586, 37.38641357421875, 34.38022232055664, 67.18411254882812, 26.89002799987793, 23.231243133544922, 21.735374450683594, 21.353214263916016, 21.265464782714844, 20.651891708374023, 19.908432006835938, 18.033504486083984, 15.283136367797852, 14.582111358642578, 283.120361328125, 209.8460693359375, 194.1818389892578, 179.07598876953125, 94.61697387695312, 92.53861999511719, 85.2080078125, 84.00205993652344, 77.40670013427734, 75.38420104980469, 64.2863998413086, 62.38267135620117, 61.224395751953125, 57.77395248413086, 51.4761848449707, 34.470176696777344, 32.09607696533203, 31.90175437927246, 31.12653923034668, 30.40903091430664, 27.199228286743164, 26.957191467285156, 24.379295349121094, 22.629091262817383, 33.88850021362305, 21.02103614807129, 20.128381729125977, 19.610645294189453, 19.168140411376953, 16.636850357055664, 32.212364196777344, 36.50413513183594, 29.14373779296875, 24.076547622680664, 312.68115234375, 186.8760223388672, 138.694091796875, 134.1073455810547, 120.14839935302734, 76.28640747070312, 67.20198822021484, 66.63346099853516, 60.198089599609375, 58.763755798339844, 53.70981979370117, 52.79895782470703, 52.21830368041992, 50.34223937988281, 48.411094665527344, 50.74644470214844, 45.73453903198242, 42.66257858276367, 40.67896270751953, 37.8896484375, 35.22209930419922, 31.838884353637695, 27.63626480102539, 26.03237533569336, 22.480117797851562, 21.903148651123047, 20.924814224243164, 19.147592544555664, 28.59333610534668, 18.11665153503418, 52.10450744628906, 19.44881820678711, 532.2339477539062, 309.3565673828125, 169.3297882080078, 169.01890563964844, 165.77442932128906, 120.90333557128906, 78.0933837890625, 76.10745239257812, 62.97880935668945, 60.672393798828125, 55.95429229736328, 51.24342727661133, 44.553123474121094, 32.06136703491211, 31.6802921295166, 25.945560455322266, 22.9951114654541, 21.103004455566406, 19.146730422973633, 18.885995864868164, 18.62779426574707, 13.926522254943848, 11.522315979003906, 11.097478866577148, 10.952707290649414, 9.363470077514648, 4.727255821228027, 4.621522903442383, 3.8102097511291504, 3.8102097511291504, 20.570894241333008, 9.632534980773926, 8.96619701385498, 12.640949249267578, 11.472745895385742, 25.6063175201416, 11.277957916259766, 1082.8546142578125, 663.1723022460938, 230.63619995117188, 76.86632537841797, 55.86668395996094, 50.75955581665039, 49.83571243286133, 39.75382614135742, 15.482465744018555, 14.946389198303223, 13.363103866577148, 14.07602596282959, 28.528486251831055, 4.495949745178223, 4.516446113586426, 2.3988003730773926, 1.135027289390564, 0.8383885025978088, 3.9842348098754883, 0.6978505253791809, 0.5332764983177185, 0.40043625235557556, 0.23322787880897522, 0.9004481434822083, 1.2060579061508179, 0.30297064781188965, 0.30297064781188965, 0.16714619100093842, 0.062130365520715714, 0.06123964861035347, 0.35148024559020996, 0.34768298268318176, 0.34768298268318176, 0.408069908618927, 0.30717992782592773, 0.30717992782592773, 246.9093475341797, 185.39959716796875, 134.26303100585938, 122.87835693359375, 121.35954284667969, 107.50190734863281, 98.8938217163086, 70.08100891113281, 66.66445922851562, 54.83460235595703, 50.683982849121094, 50.641754150390625, 48.24452209472656, 47.49632263183594, 39.729000091552734, 34.99143981933594, 29.417638778686523, 35.529396057128906, 34.59612274169922, 28.260725021362305, 27.07559585571289, 25.163829803466797, 24.93714141845703, 23.665285110473633, 23.206161499023438, 22.392295837402344, 22.094213485717773, 22.377607345581055, 18.541160583496094, 18.415912628173828, 23.2154541015625, 22.622047424316406, 417.794921875, 208.8621826171875, 135.82618713378906, 131.01780700683594, 118.36087799072266, 82.08251953125, 78.06248474121094, 62.93260955810547, 60.65229415893555, 59.769710540771484, 51.63032531738281, 50.59410095214844, 44.59762191772461, 44.05830764770508, 38.33918762207031, 42.947532653808594, 29.91728401184082, 27.644268035888672, 15.975367546081543, 14.473357200622559, 13.76993179321289, 10.766040802001953, 5.860202789306641, 4.736807346343994, 4.714594841003418, 9.127799034118652, 4.319561958312988, 3.90521240234375, 15.722996711730957, 15.722996711730957, 30.033035278320312, 8.237547874450684, 8.237547874450684, 21.24608612060547, 114.62252044677734, 81.55596923828125, 15.509674072265625, 427.83746337890625, 200.9657440185547, 175.27828979492188, 143.09490966796875, 132.39024353027344, 103.45002746582031, 88.79390716552734, 66.67192077636719, 57.69796371459961, 57.659080505371094, 56.44533157348633, 56.373390197753906, 55.54352951049805, 43.156246185302734, 58.274837493896484, 32.2850227355957, 29.8736629486084, 27.35167694091797, 24.57547378540039, 23.47284698486328, 20.893024444580078, 20.71199607849121, 20.332395553588867, 15.293656349182129, 13.868387222290039, 12.603337287902832, 12.269588470458984, 11.977554321289062, 10.212076187133789, 10.020009994506836, 10.272570610046387, 47.24372482299805, 692.929443359375, 46.34431076049805, 13.247817039489746, 573.13623046875, 677.7142944335938, 26.49591827392578, 2.4536516666412354, 0.8065481781959534, 0.5504857897758484, 0.299403578042984, 1.9488646984100342, 0.18766823410987854, 0.1733546257019043, 0.6293897032737732, 0.7388454079627991, 0.2989978790283203, 0.15212927758693695, 0.08503159880638123, 0.057657819241285324, 0.05644354969263077, 0.05625538527965546, 0.056239865720272064, 0.05626881122589111, 0.05631835386157036, 0.056116748601198196, 0.05612744390964508, 0.05602742359042168, 0.05601221323013306, 0.05600518360733986, 0.05600472167134285, 1.174345850944519, 0.17190581560134888, 0.07795639336109161, 0.13569551706314087, 0.29102879762649536, 0.1646801233291626, 0.15340062975883484, 0.34134575724601746, 0.29439252614974976, 0.3218644857406616, 0.14818112552165985, 0.23158375918865204, 0.2663653492927551, 0.31479403376579285, 0.29648545384407043, 0.17067019641399384, 0.1657504290342331, 0.15794482827186584, 161.33485412597656, 143.71226501464844, 119.6200180053711, 100.93978118896484, 86.8206558227539, 74.19670104980469, 64.7313232421875, 62.69884490966797, 59.6733283996582, 47.04661560058594, 46.83443832397461, 44.60669708251953, 43.96980285644531, 41.9886474609375, 41.486568450927734, 29.753189086914062, 29.55168342590332, 30.445980072021484, 24.729389190673828, 21.827585220336914, 21.55510139465332, 21.35287094116211, 21.25289535522461, 20.791208267211914, 20.76543617248535, 20.752763748168945, 20.267141342163086, 19.573104858398438, 16.412330627441406, 15.39647102355957, 27.618728637695312], \"Term\": [\"interest\", \"slow\", \"offici\", \"friendli\", \"well\", \"readi\", \"fit\", \"play\", \"current\", \"adopt\", \"avail\", \"sure\", \"previou\", \"amaz\", \"femal\", \"mani\", \"first\", \"wonder\", \"favorit\", \"quiet\", \"most\", \"high\", \"activ\", \"larg\", \"easi\", \"affection\", \"human\", \"healthi\", \"long\", \"fine\", \"current\", \"previou\", \"easi\", \"german\", \"right\", \"neuter\", \"safe\", \"comfort\", \"non\", \"awesom\", \"addit\", \"stun\", \"least\", \"respons\", \"rambuncti\", \"tire\", \"overcrowd\", \"toler\", \"anxiou\", \"crazi\", \"numer\", \"top\", \"blind\", \"care\", \"didn\", \"late\", \"common\", \"age\", \"northern\", \"mental\", \"full\", \"interest\", \"activ\", \"short\", \"chip\", \"smart\", \"grown\", \"leash\", \"medic\", \"senior\", \"fantast\", \"social\", \"mouthi\", \"pet\", \"tall\", \"privat\", \"unwant\", \"strike\", \"public\", \"full\", \"luvabl\", \"guess\", \"incredi\", \"proactiv\", \"rous\", \"lepto\", \"lingual\", \"snippi\", \"flashi\", \"doptabl\", \"dorabl\", \"benign\", \"prematur\", \"luckili\", \"automat\", \"avail\", \"sure\", \"mani\", \"monthli\", \"pre\", \"regular\", \"vac\", \"bordatella\", \"apt\", \"appropri\", \"resid\", \"daili\", \"vaccin\", \"intellig\", \"cut\", \"tzu\", \"aggress\", \"focus\", \"prior\", \"enthusiast\", \"portabl\", \"overwhelm\", \"strang\", \"treat\", \"elev\", \"squatti\", \"shed\", \"otherwis\", \"extend\", \"quirk\", \"girlish\", \"familar\", \"offici\", \"first\", \"outgo\", \"patient\", \"clean\", \"timid\", \"last\", \"soft\", \"posit\", \"enough\", \"independ\", \"grate\", \"attent\", \"sociabl\", \"easygo\", \"content\", \"live\", \"floppi\", \"pure\", \"tender\", \"soul\", \"plu\", \"inquisit\", \"crowd\", \"dri\", \"stocki\", \"lush\", \"futur\", \"slim\", \"suitabl\", \"global\", \"nice\", \"friendli\", \"high\", \"healthi\", \"spay\", \"low\", \"special\", \"manner\", \"miniatur\", \"differ\", \"extra\", \"hair\", \"snuggler\", \"crate\", \"poodl\", \"suit\", \"past\", \"color\", \"weekli\", \"middl\", \"broken\", \"uncondit\", \"fond\", \"variou\", \"time\", \"benign\", \"magnific\", \"balanc\", \"asian\", \"glad\", \"appi\", \"relat\", \"unskil\", \"motherli\", \"conscienti\", \"human\", \"long\", \"medium\", \"lost\", \"ideal\", \"close\", \"funni\", \"total\", \"select\", \"respect\", \"substanti\", \"second\", \"veterinari\", \"deduct\", \"onlin\", \"necessari\", \"routin\", \"familiar\", \"natur\", \"moder\", \"prime\", \"occasion\", \"jealou\", \"surgic\", \"convent\", \"obedi\", \"sole\", \"observ\", \"injur\", \"dire\", \"nonprofit\", \"wonder\", \"favorit\", \"affection\", \"particular\", \"real\", \"clear\", \"more\", \"rough\", \"leg\", \"mix\", \"maltes\", \"overal\", \"incred\", \"pushi\", \"tasti\", \"frequent\", \"singl\", \"bossi\", \"illeg\", \"recept\", \"terribl\", \"lege\", \"averag\", \"snorti\", \"compassion\", \"affili\", \"whippet\", \"thought\", \"noisi\", \"nice\", \"knowledg\", \"vigil\", \"sever\", \"local\", \"alter\", \"specif\", \"will\", \"calm\", \"excit\", \"entir\", \"adventur\", \"warm\", \"fabul\", \"reason\", \"rear\", \"forev\", \"unabl\", \"overweight\", \"needi\", \"constant\", \"slight\", \"automat\", \"difficult\", \"snappi\", \"unusu\", \"lusciou\", \"terrif\", \"pain\", \"separ\", \"blond\", \"secondari\", \"main\", \"larg\", \"typic\", \"neg\", \"possibl\", \"prevent\", \"open\", \"bad\", \"reactiv\", \"athlet\", \"former\", \"refund\", \"option\", \"back\", \"belgian\", \"homeless\", \"empti\", \"elderli\", \"motiv\", \"firm\", \"afraid\", \"muscular\", \"compact\", \"upset\", \"worth\", \"yearli\", \"whop\", \"ill\", \"nearbi\", \"housebroken\", \"vocal\", \"unshelt\", \"complimentari\", \"dispos\", \"uphil\", \"quiet\", \"unknown\", \"afford\", \"due\", \"like\", \"dental\", \"delight\", \"busi\", \"tough\", \"defens\", \"fear\", \"fragil\", \"okay\", \"recent\", \"green\", \"mischiev\", \"domin\", \"less\", \"origin\", \"eye\", \"polit\", \"yorki\", \"behav\", \"express\", \"cool\", \"front\", \"impecc\", \"normal\", \"photogen\", \"ongo\", \"bitti\", \"dysplasia\", \"adopt\", \"most\", \"upcom\", \"basic\", \"strong\", \"nervou\", \"secur\", \"scare\", \"quick\", \"rare\", \"unsur\", \"person\", \"present\", \"kid\", \"raw\", \"continu\", \"love\", \"temporari\", \"wide\", \"stabl\", \"minor\", \"limit\", \"perman\", \"minim\", \"qualifi\", \"stubborn\", \"help\", \"entertain\", \"roli\", \"poli\", \"deferenti\", \"symbol\", \"reliev\", \"elementari\", \"distrust\", \"gloriou\", \"unskil\", \"slow\", \"fit\", \"doesn\", \"next\", \"picki\", \"size\", \"absolut\", \"cold\", \"gener\", \"comfi\", \"pekinges\", \"excess\", \"vet\", \"aw\", \"horrif\", \"critic\", \"arthrit\", \"rotten\", \"girlish\", \"barki\", \"hyper\", \"catastroph\", \"unhealthi\", \"outlandishli\", \"distrust\", \"roam\", \"obvious\", \"quirk\", \"spectacular\", \"offish\", \"legal\", \"birthright\", \"vile\", \"uphil\", \"diminut\", \"nativ\", \"fine\", \"confid\", \"whole\", \"true\", \"loyal\", \"complet\", \"alon\", \"cautiou\", \"sturdi\", \"scari\", \"relax\", \"utd\", \"devot\", \"skittish\", \"wari\", \"uniqu\", \"doggi\", \"spri\", \"central\", \"solid\", \"exuber\", \"cozi\", \"uncertain\", \"coat\", \"heavi\", \"deaf\", \"import\", \"isn\", \"correct\", \"endless\", \"center\", \"vast\", \"femal\", \"furri\", \"earli\", \"proper\", \"outsid\", \"hard\", \"petit\", \"half\", \"sick\", \"certain\", \"physic\", \"similar\", \"initi\", \"flexibl\", \"underweight\", \"detail\", \"mid\", \"key\", \"tan\", \"unlik\", \"seriou\", \"anatolian\", \"accident\", \"deworm\", \"amus\", \"marvel\", \"pinsch\", \"upfront\", \"unoffici\", \"pettabl\", \"simplyywendi\", \"caffein\", \"bodi\", \"recogniz\", \"readi\", \"play\", \"heathi\", \"amaz\", \"energet\", \"much\", \"potenti\", \"potti\", \"belov\", \"matur\", \"endear\", \"excel\", \"trainabl\", \"pertin\", \"topic\", \"rental\", \"submiss\", \"mat\", \"prepar\", \"australian\", \"protect\", \"capabl\", \"bustl\", \"surpris\", \"horribl\", \"connect\", \"suffici\", \"elig\", \"decent\", \"extrem\", \"rural\", \"accept\", \"alert\", \"underbit\", \"gloriou\", \"well\", \"popular\", \"lap\", \"play\", \"readi\", \"hand\", \"cwob\", \"lingual\", \"agreeabl\", \"western\", \"requir\", \"indiffer\", \"honorari\", \"lith\", \"legal\", \"rotten\", \"sidekick\", \"bloodi\", \"usp\", \"dang\", \"look\", \"latter\", \"subdu\", \"nourish\", \"sheilli\", \"insan\", \"luxuri\", \"charm\", \"adjac\", \"herder\", \"snorti\", \"nth\", \"astut\", \"wire\", \"fourth\", \"kinda\", \"med\", \"restless\", \"excess\", \"industri\", \"scottish\", \"amic\", \"girlish\", \"dispos\", \"unshelt\", \"elementari\", \"dysplasia\", \"wonki\", \"kind\", \"sensit\", \"experienc\", \"reserv\", \"poor\", \"outdoor\", \"loud\", \"pregnant\", \"dead\", \"lone\", \"mild\", \"huge\", \"cute\", \"urgent\", \"thorough\", \"mean\", \"remot\", \"use\", \"zealou\", \"minimum\", \"ear\", \"obviou\", \"dramat\", \"insecur\", \"lean\", \"thin\", \"except\", \"american\", \"keen\", \"siberian\", \"clever\"], \"Total\": [1781.0, 1083.0, 975.0, 847.0, 693.0, 793.0, 664.0, 655.0, 687.0, 533.0, 587.0, 570.0, 580.0, 428.0, 418.0, 435.0, 372.0, 356.0, 322.0, 313.0, 310.0, 308.0, 340.0, 284.0, 326.0, 277.0, 277.0, 267.0, 260.0, 247.0, 687.1029663085938, 580.733154296875, 326.16864013671875, 240.67062377929688, 189.3864288330078, 186.79849243164062, 171.64553833007812, 158.22312927246094, 139.85389709472656, 103.43936157226562, 90.00830841064453, 82.0630111694336, 67.7515640258789, 66.64859008789062, 49.2299919128418, 44.97663497924805, 40.79500961303711, 34.796165466308594, 34.58960723876953, 33.326229095458984, 30.132083892822266, 29.60774040222168, 28.09848403930664, 26.544424057006836, 26.20555305480957, 26.103578567504883, 21.351505279541016, 19.57015609741211, 18.731407165527344, 18.453847885131836, 310.3675231933594, 1781.8265380859375, 340.35174560546875, 293.1841125488281, 258.4544372558594, 237.11904907226562, 120.48412322998047, 110.13166046142578, 103.37682342529297, 71.85032653808594, 70.53243255615234, 64.49271392822266, 51.3150520324707, 40.69529724121094, 28.12188148498535, 25.86421012878418, 20.051239013671875, 16.609729766845703, 3.659156560897827, 310.3675231933594, 3.4209611415863037, 2.5260655879974365, 21.24444007873535, 2.8086864948272705, 2.6855344772338867, 9.751655578613281, 2.235042095184326, 1.1325901746749878, 3.789309501647949, 15.982929229736328, 15.982929229736328, 13.920037269592285, 14.795774459838867, 25.90633201599121, 69.658447265625, 587.7283935546875, 570.7796630859375, 435.1672668457031, 193.11988830566406, 187.94764709472656, 172.52981567382812, 125.6191635131836, 125.56819915771484, 125.17070770263672, 108.24320983886719, 101.13971710205078, 99.3489761352539, 72.00262451171875, 69.42395782470703, 58.43593978881836, 84.8187255859375, 37.25895309448242, 30.70859718322754, 28.09926986694336, 19.208267211914062, 18.014707565307617, 17.143230438232422, 13.696974754333496, 13.411845207214355, 11.293920516967773, 3.7888023853302, 3.676004648208618, 2.69936203956604, 8.046539306640625, 2.784658432006836, 20.579750061035156, 12.335362434387207, 975.7701416015625, 372.2173156738281, 152.45306396484375, 133.947021484375, 108.83448028564453, 88.48888397216797, 79.29007720947266, 76.87699890136719, 70.1213150024414, 59.367923736572266, 46.69511032104492, 43.09389114379883, 40.25041198730469, 39.82177734375, 38.560890197753906, 37.27165222167969, 34.98646926879883, 30.740392684936523, 21.593185424804688, 19.262496948242188, 18.35595703125, 17.222034454345703, 16.90279769897461, 14.357215881347656, 12.81290340423584, 10.363147735595703, 9.819137573242188, 8.121821403503418, 8.097601890563965, 6.790428161621094, 19.424266815185547, 222.19444274902344, 847.6099243164062, 308.81402587890625, 267.6699523925781, 148.74256896972656, 134.5226287841797, 130.19496154785156, 114.30831146240234, 86.55541229248047, 51.554344177246094, 47.62260818481445, 44.29314422607422, 42.91446304321289, 38.68550491333008, 37.88148880004883, 26.022823333740234, 25.633901596069336, 24.915416717529297, 23.3306884765625, 17.926414489746094, 15.042366027832031, 11.062628746032715, 10.266229629516602, 8.925679206848145, 6.454782962799072, 13.920037269592285, 4.779324054718018, 4.750995635986328, 14.859903335571289, 3.8992414474487305, 23.75607681274414, 29.553747177124023, 28.56846046447754, 11.889397621154785, 12.820916175842285, 277.3002014160156, 260.1399841308594, 163.9347686767578, 158.77557373046875, 136.19126892089844, 124.32978057861328, 119.10786437988281, 117.4653549194336, 106.61431884765625, 96.77527618408203, 88.1219711303711, 87.91043853759766, 86.42051696777344, 74.00363159179688, 71.06095886230469, 69.9909896850586, 57.6509895324707, 56.32291030883789, 49.60202407836914, 44.189598083496094, 32.40858459472656, 22.518600463867188, 19.871685028076172, 13.117087364196777, 17.693052291870117, 12.36938190460205, 12.639117240905762, 11.975472450256348, 11.54652214050293, 10.541336059570312, 15.931350708007812, 356.713623046875, 322.6347961425781, 277.7529296875, 164.3080291748047, 151.66795349121094, 142.83453369140625, 130.2139892578125, 104.72587585449219, 103.44601440429688, 73.92928314208984, 34.738162994384766, 33.15496063232422, 31.869882583618164, 30.109851837158203, 31.282718658447266, 29.93581199645996, 29.666873931884766, 24.94746971130371, 21.604957580566406, 20.04092025756836, 18.230592727661133, 15.5816068649292, 13.92807388305664, 27.126842498779297, 12.330574989318848, 12.697264671325684, 15.608795166015625, 10.384674072265625, 9.582357406616211, 222.19444274902344, 22.04644775390625, 12.62474250793457, 247.0603790283203, 228.35098266601562, 243.0701141357422, 195.66261291503906, 192.71681213378906, 191.09368896484375, 111.84967041015625, 79.5333251953125, 71.7014389038086, 70.4040756225586, 54.49264907836914, 53.25651550292969, 45.63253402709961, 42.48725128173828, 41.874732971191406, 40.44712448120117, 38.918521881103516, 38.379371643066406, 35.3731803894043, 69.658447265625, 27.882993698120117, 24.23422622680664, 22.728336334228516, 22.349308013916016, 22.2584285736084, 21.64485740661621, 20.901397705078125, 19.026466369628906, 16.278518676757812, 15.575072288513184, 284.0816650390625, 210.807373046875, 195.1431427001953, 180.03729248046875, 95.57827758789062, 93.49991607666016, 86.1693115234375, 84.96336364746094, 78.36800384521484, 76.34550476074219, 65.2477035522461, 63.34397506713867, 62.185699462890625, 58.73525619506836, 52.4374885559082, 35.43149185180664, 33.05738067626953, 32.863059997558594, 32.08784484863281, 31.370338439941406, 28.160537719726562, 27.918498992919922, 25.34069061279297, 23.59039878845215, 35.3553352355957, 21.998149871826172, 21.089691162109375, 20.57195472717285, 20.12944793701172, 17.59815788269043, 34.573753356933594, 39.625797271728516, 37.38971710205078, 29.4139347076416, 313.6612548828125, 187.8561248779297, 139.6741943359375, 135.0874481201172, 121.12850189208984, 77.26651000976562, 68.18209075927734, 67.61356353759766, 61.178192138671875, 59.74386215209961, 54.68992233276367, 53.779083251953125, 53.19840621948242, 51.32234191894531, 49.391204833984375, 51.82762145996094, 46.71464538574219, 43.64268112182617, 41.65906524658203, 38.8697509765625, 36.20220184326172, 32.818992614746094, 28.61637306213379, 27.012483596801758, 23.46022605895996, 22.883256912231445, 21.904939651489258, 20.127700805664062, 30.065574645996094, 19.096759796142578, 57.4428825378418, 25.409114837646484, 533.2129516601562, 310.33551025390625, 170.30873107910156, 169.9978485107422, 166.7533721923828, 121.88228607177734, 79.07233428955078, 77.0864028930664, 63.9577522277832, 61.651336669921875, 56.93323516845703, 52.22237014770508, 45.532066345214844, 33.04582595825195, 32.659236907958984, 26.92450714111328, 23.97406578063965, 22.081951141357422, 20.12567901611328, 19.86494255065918, 19.606740951538086, 14.905467987060547, 12.501261711120605, 12.07642936706543, 11.931657791137695, 10.346686363220215, 5.706202030181885, 5.60046911239624, 4.816651821136475, 4.816651821136475, 26.84127426147461, 13.26292610168457, 12.412223815917969, 19.441741943359375, 18.16472816467285, 76.81658935546875, 28.56846046447754, 1083.8370361328125, 664.1549072265625, 231.6187286376953, 77.8488540649414, 56.84920883178711, 51.74208068847656, 50.8182373046875, 40.736351013183594, 16.464994430541992, 15.928921699523926, 14.610164642333984, 15.480572700500488, 33.860530853271484, 5.485862731933594, 5.875433444976807, 3.3877971172332764, 2.5027647018432617, 3.486381769180298, 20.579750061035156, 4.398694038391113, 3.3966758251190186, 3.791783332824707, 3.061222553253174, 11.93326187133789, 18.16472816467285, 4.739617347717285, 4.739617347717285, 2.784658432006836, 1.0513776540756226, 1.0477041006088257, 8.423851013183594, 10.745741844177246, 10.745741844177246, 29.4139347076416, 9.394606590270996, 9.394606590270996, 247.8828582763672, 186.37310791015625, 135.23654174804688, 123.85187530517578, 122.33306121826172, 108.47542572021484, 99.86734008789062, 71.05452728271484, 67.63797760009766, 55.80812072753906, 51.657501220703125, 51.615272521972656, 49.218040466308594, 48.46984100341797, 40.702518463134766, 35.96495819091797, 30.391162872314453, 36.70661544799805, 35.74309158325195, 29.234249114990234, 28.04911994934082, 26.137353897094727, 25.91066551208496, 24.638809204101562, 24.179685592651367, 23.365819931030273, 23.067737579345703, 23.38817596435547, 19.514684677124023, 19.389436721801758, 24.8372745513916, 28.436918258666992, 418.7540588378906, 209.8212890625, 136.78529357910156, 131.97691345214844, 119.31999969482422, 83.04164123535156, 79.0216064453125, 63.891727447509766, 61.611412048339844, 60.72882843017578, 52.58944320678711, 51.553218841552734, 45.55674362182617, 45.017425537109375, 39.29830551147461, 44.16991424560547, 30.882383346557617, 28.603389739990234, 16.93448829650879, 15.447317123413086, 14.729050636291504, 11.72517204284668, 6.819322109222412, 5.695926666259766, 5.6737141609191895, 11.260934829711914, 5.381158351898193, 4.874094486236572, 19.84313201904297, 19.84313201904297, 39.123634338378906, 11.209748268127441, 11.209748268127441, 37.03298568725586, 793.2399291992188, 655.5952758789062, 38.297176361083984, 428.815673828125, 201.94393920898438, 176.25648498535156, 144.07310485839844, 133.36843872070312, 104.42823791503906, 89.7721176147461, 67.65023803710938, 58.676177978515625, 58.63729476928711, 57.423545837402344, 57.35160446166992, 56.52174377441406, 44.13446044921875, 59.73571014404297, 33.26323699951172, 30.85187530517578, 28.329891204833984, 25.553688049316406, 24.455673217773438, 21.871238708496094, 21.690208435058594, 21.310609817504883, 16.329702377319336, 14.848493576049805, 13.581585884094238, 13.247801780700684, 12.955766677856445, 11.190632820129395, 10.998222351074219, 11.282864570617676, 76.81658935546875, 693.9126586914062, 47.32754898071289, 14.231050491333008, 655.5952758789062, 793.2399291992188, 32.73332977294922, 3.7595908641815186, 2.235042095184326, 1.5567560195922852, 1.282637119293213, 11.959543228149414, 1.1709017753601074, 1.1565881967544556, 6.262782096862793, 8.423851013183594, 3.486381769180298, 1.9061946868896484, 1.203228235244751, 1.040891408920288, 1.04079008102417, 1.039491891860962, 1.0394734144210815, 1.0404855012893677, 1.0416804552078247, 1.03954017162323, 1.0403121709823608, 1.039261817932129, 1.0392823219299316, 1.039241909980774, 1.0392570495605469, 27.126842498779297, 3.5814664363861084, 1.6366313695907593, 3.585930109024048, 11.144128799438477, 5.376118183135986, 4.945895671844482, 17.33873176574707, 15.480572700500488, 18.031612396240234, 5.439719200134277, 15.513694763183594, 20.579750061035156, 37.38971710205078, 34.573753356933594, 19.441741943359375, 25.409114837646484, 24.001365661621094, 162.3029022216797, 144.68031311035156, 120.58806610107422, 101.90782928466797, 87.78870391845703, 75.16474914550781, 65.69937133789062, 63.666893005371094, 60.64137649536133, 48.01466369628906, 47.802486419677734, 45.574745178222656, 44.93785095214844, 42.956695556640625, 42.45461654663086, 30.721237182617188, 30.519731521606445, 31.472707748413086, 25.697446823120117, 22.799436569213867, 22.52553939819336, 22.320919036865234, 22.22098159790039, 21.759695053100586, 21.733501434326172, 21.72081184387207, 21.269359588623047, 20.541154861450195, 17.38037872314453, 16.364519119262695, 29.57524299621582], \"loglift\": [30.0, 29.0, 28.0, 27.0, 26.0, 25.0, 24.0, 23.0, 22.0, 21.0, 20.0, 19.0, 18.0, 17.0, 16.0, 15.0, 14.0, 13.0, 12.0, 11.0, 10.0, 9.0, 8.0, 7.0, 6.0, 5.0, 4.0, 3.0, 2.0, 1.0, 2.4556000232696533, 2.455399990081787, 2.4540998935699463, 2.453000068664551, 2.451900005340576, 2.4518001079559326, 2.4514000415802, 2.450900077819824, 2.450000047683716, 2.4475998878479004, 2.4460999965667725, 2.4451000690460205, 2.442500114440918, 2.4423000812530518, 2.437000036239624, 2.4351000785827637, 2.432800054550171, 2.428499937057495, 2.4284000396728516, 2.427299976348877, 2.4235000610351562, 2.4235000610351562, 2.421600103378296, 2.4195001125335693, 2.4189999103546143, 2.4189000129699707, 2.410099983215332, 2.4058001041412354, 2.40339994430542, 2.402600049972534, 1.7776000499725342, 2.4793999195098877, 2.477099895477295, 2.476599931716919, 2.476099967956543, 2.475800037384033, 2.4716999530792236, 2.470900058746338, 2.4702999591827393, 2.4660000801086426, 2.4658000469207764, 2.464400053024292, 2.460400104522705, 2.455199956893921, 2.444000005722046, 2.4407999515533447, 2.4291000366210938, 2.418100118637085, 2.1624999046325684, 1.7668999433517456, 1.6916999816894531, 1.63919997215271, 1.2854000329971313, 1.1750999689102173, 1.1520999670028687, 0.7555000185966492, 0.6909999847412109, 0.36910000443458557, -0.2565999925136566, -0.27489998936653137, -0.27489998936653137, -0.4970000088214874, -0.7723000049591064, -1.0805000066757202, -2.1089000701904297, 2.5978000164031982, 2.5977001190185547, 2.5971999168395996, 2.5943000316619873, 2.5941998958587646, 2.5936999320983887, 2.591599941253662, 2.591599941253662, 2.591599941253662, 2.5903000831604004, 2.5896999835968018, 2.5894999504089355, 2.585700035095215, 2.585200071334839, 2.5824999809265137, 2.5764999389648438, 2.572700023651123, 2.5669000148773193, 2.5638999938964844, 2.546999931335449, 2.5434000492095947, 2.5404000282287598, 2.5250000953674316, 2.523400068283081, 2.4260001182556152, 2.297300100326538, 2.288599967956543, 2.147200107574463, 1.6812000274658203, 1.2148000001907349, 1.0331000089645386, 0.9876000285148621, 2.8239998817443848, 2.8224000930786133, 2.81850004196167, 2.8176000118255615, 2.8157999515533447, 2.813699960708618, 2.8124001026153564, 2.812000036239624, 2.810699939727783, 2.8080999851226807, 2.803499937057495, 2.8015999794006348, 2.799999952316284, 2.7997000217437744, 2.7988998889923096, 2.7978999614715576, 2.796099901199341, 2.792099952697754, 2.7778000831604004, 2.771899938583374, 2.769200086593628, 2.765399932861328, 2.7643001079559326, 2.7530999183654785, 2.7441000938415527, 2.7239999771118164, 2.7177000045776367, 2.694200038909912, 2.693700075149536, 2.6663999557495117, 2.4672000408172607, 0.6115000247955322, 2.827699899673462, 2.825700044631958, 2.825200080871582, 2.8222999572753906, 2.8215999603271484, 2.8213999271392822, 2.8203001022338867, 2.8176000118255615, 2.809799909591675, 2.808199882507324, 2.8066999912261963, 2.805999994277954, 2.8034000396728516, 2.8029000759124756, 2.790800094604492, 2.7901999950408936, 2.789099931716919, 2.786400079727173, 2.773200035095215, 2.762200117111206, 2.736999988555908, 2.729599952697754, 2.7137999534606934, 2.6658999919891357, 2.643699884414673, 2.6015000343322754, 2.600399971008301, 2.5617001056671143, 2.5427000522613525, 2.533799886703491, 2.3984999656677246, 2.2704999446868896, 2.335900068283081, 2.2023000717163086, 2.829699993133545, 2.8294999599456787, 2.8273000717163086, 2.8271000385284424, 2.8261001110076904, 2.8254001140594482, 2.825000047683716, 2.824899911880493, 2.8239998817443848, 2.8231000900268555, 2.8220999240875244, 2.8220999240875244, 2.821899890899658, 2.819999933242798, 2.8194000720977783, 2.819200038909912, 2.816200017929077, 2.8157999515533447, 2.8134000301361084, 2.8108999729156494, 2.8027000427246094, 2.7888998985290527, 2.7776999473571777, 2.755500078201294, 2.7518999576568604, 2.7511000633239746, 2.7490999698638916, 2.748300075531006, 2.744999885559082, 2.7360999584198, 2.6610000133514404, 2.839600086212158, 2.8392999172210693, 2.8387999534606934, 2.836400032043457, 2.835900068283081, 2.8355000019073486, 2.8348000049591064, 2.8329999446868896, 2.832900047302246, 2.8290998935699463, 2.813999891281128, 2.8125998973846436, 2.8113999366760254, 2.809499979019165, 2.8094000816345215, 2.809299945831299, 2.809000015258789, 2.8025999069213867, 2.796299934387207, 2.79259991645813, 2.787600040435791, 2.777899980545044, 2.7699999809265137, 2.7620999813079834, 2.7602999210357666, 2.750999927520752, 2.7472000122070312, 2.7441000938415527, 2.7353999614715576, 2.7218000888824463, 2.709399938583374, 2.7121999263763428, 2.856100082397461, 2.8557000160217285, 2.8557000160217285, 2.8550000190734863, 2.8548998832702637, 2.8548998832702637, 2.8512001037597656, 2.8475000858306885, 2.8461999893188477, 2.845900058746338, 2.8417000770568848, 2.8413000106811523, 2.838099956512451, 2.8364999294281006, 2.8361001014709473, 2.835200071334839, 2.8343000411987305, 2.833899974822998, 2.8315999507904053, 2.823899984359741, 2.8238000869750977, 2.8178000450134277, 2.8153998851776123, 2.814500093460083, 2.814500093460083, 2.8131000995635986, 2.8113999366760254, 2.80649995803833, 2.796999931335449, 2.7941999435424805, 2.888200044631958, 2.88700008392334, 2.886699914932251, 2.886199951171875, 2.881500005722046, 2.8812999725341797, 2.8803999423980713, 2.880199909210205, 2.879300117492676, 2.8789000511169434, 2.876800060272217, 2.876300096511841, 2.875999927520752, 2.8750998973846436, 2.8731000423431396, 2.8640999794006348, 2.8620998859405518, 2.8619000911712646, 2.8612000942230225, 2.8605000972747803, 2.8568999767303467, 2.856600046157837, 2.8529000282287598, 2.8499999046325684, 2.8492000102996826, 2.8461999893188477, 2.844899892807007, 2.8436999320983887, 2.8427000045776367, 2.835400104522705, 2.8208000659942627, 2.809499979019165, 2.642400026321411, 2.6914000511169434, 2.889899969100952, 2.8877999782562256, 2.885999917984009, 2.8857998847961426, 2.8849000930786133, 2.8803000450134277, 2.8785998821258545, 2.8784000873565674, 2.8768999576568604, 2.876499891281128, 2.875, 2.8747000694274902, 2.874500036239624, 2.873800039291382, 2.872999906539917, 2.871999979019165, 2.871799945831299, 2.870300054550171, 2.8691999912261963, 2.867500066757202, 2.865600109100342, 2.8626999855041504, 2.8582000732421875, 2.856100082397461, 2.850399971008301, 2.849299907684326, 2.8473000526428223, 2.843100070953369, 2.8427999019622803, 2.840399980545044, 2.7955000400543213, 2.625699996948242, 2.918600082397461, 2.91729998588562, 2.9147000312805176, 2.914599895477295, 2.9144999980926514, 2.912400007247925, 2.9079999923706055, 2.907599925994873, 2.9049999713897705, 2.904400110244751, 2.90310001373291, 2.9014999866485596, 2.898699998855591, 2.890199899673462, 2.890000104904175, 2.8833999633789062, 2.878700017929077, 2.8750998973846436, 2.8705999851226807, 2.8698999881744385, 2.8691999912261963, 2.8524999618530273, 2.838900089263916, 2.835900068283081, 2.8348000049591064, 2.8206000328063965, 2.7321999073028564, 2.728300094604492, 2.686000108718872, 2.686000108718872, 2.654400110244751, 2.600600004196167, 2.5952000617980957, 2.4899001121520996, 2.460900068283081, 1.8217999935150146, 1.9910000562667847, 2.9238998889923096, 2.92330002784729, 2.9205000400543213, 2.912100076675415, 2.9072999954223633, 2.905600070953369, 2.9052999019622803, 2.900399923324585, 2.863300085067749, 2.8610999584198, 2.835599899291992, 2.829699993133545, 2.7534000873565674, 2.725800037384033, 2.6617000102996826, 2.5796000957489014, 2.134000062942505, 1.4996000528335571, 1.2827999591827393, 1.0836999416351318, 1.0733000040054321, 0.6766999959945679, 0.35019999742507935, 0.34060001373291016, 0.2126999944448471, 0.17470000684261322, 0.17470000684261322, 0.11180000007152557, 0.09619999676942825, 0.0851999968290329, -0.25189998745918274, -0.5062000155448914, -0.5062000155448914, -1.3530000448226929, -0.49570000171661377, -0.49570000171661377, 2.9505999088287354, 2.9493000507354736, 2.9472999572753906, 2.946700096130371, 2.9465999603271484, 2.945499897003174, 2.944700002670288, 2.940700054168701, 2.940000057220459, 2.9368999004364014, 2.935499906539917, 2.935499906539917, 2.9346001148223877, 2.934299945831299, 2.930299997329712, 2.9270999431610107, 2.921999931335449, 2.9219000339508057, 2.9219000339508057, 2.9207000732421875, 2.9191999435424805, 2.916599988937378, 2.9161999225616455, 2.9142000675201416, 2.9133999347686768, 2.9119999408721924, 2.911400079727173, 2.910399913787842, 2.90339994430542, 2.9030001163482666, 2.88700008392334, 2.725800037384033, 2.9828999042510986, 2.9807000160217285, 2.9781999588012695, 2.9779000282287598, 2.9772000312805176, 2.973599910736084, 2.9730000495910645, 2.970099925994873, 2.9695000648498535, 2.9693000316619873, 2.9667999744415283, 2.9665000438690186, 2.9639999866485596, 2.96370005607605, 2.9605000019073486, 2.957200050354004, 2.9535000324249268, 2.9511001110076904, 2.9268999099731445, 2.920099973678589, 2.9179000854492188, 2.899899959564209, 2.833699941635132, 2.800800085067749, 2.800100088119507, 2.7751998901367188, 2.765500068664551, 2.7636001110076904, 2.752500057220459, 2.752500057220459, 2.7207999229431152, 2.6772000789642334, 2.6772000789642334, 2.4296000003814697, 1.0507999658584595, 0.9010000228881836, 2.0813000202178955, 2.9881999492645264, 2.985599994659424, 2.9848999977111816, 2.983599901199341, 2.983099937438965, 2.9809999465942383, 2.9795000553131104, 2.9758999347686768, 2.973599910736084, 2.973599910736084, 2.973299980163574, 2.9732000827789307, 2.9730000495910645, 2.9679999351501465, 2.9656999111175537, 2.960599899291992, 2.958199977874756, 2.9553000926971436, 2.9514000415802, 2.949399948120117, 2.944700002670288, 2.9442999362945557, 2.94350004196167, 2.9249000549316406, 2.9221999645233154, 2.9156999588012695, 2.9137001037597656, 2.911900043487549, 2.898900032043457, 2.8973000049591064, 2.8966000080108643, 2.504300117492676, 3.0604000091552734, 3.040800094604492, 2.9902000427246094, 2.9274001121520996, 2.904400110244751, 2.850399971008301, 2.634999990463257, 2.0425000190734863, 2.022200107574463, 1.6068999767303467, 1.247499942779541, 1.2309000492095947, 1.1639000177383423, 0.7641000151634216, 0.628000020980835, 0.6055999994277954, 0.5335999727249146, 0.41200000047683716, 0.16850000619888306, 0.14730000495910645, 0.1451999992132187, 0.14489999413490295, 0.1445000022649765, 0.14419999718666077, 0.14270000159740448, 0.1421000063419342, 0.14139999449253082, 0.14110000431537628, 0.14100000262260437, 0.14100000262260437, -0.07800000160932541, 0.025200000032782555, 0.017500000074505806, -0.2125999927520752, -0.5835000276565552, -0.4239000082015991, -0.4115000069141388, -0.8659999966621399, -0.900600016117096, -0.9639999866485596, -0.5412999987602234, -1.142799973487854, -1.2854000329971313, -1.715499997138977, -1.697100043296814, -1.673699975013733, -1.9706000089645386, -1.9617999792099, 3.0882999897003174, 3.0875000953674316, 3.086199998855591, 3.084700107574463, 3.083199977874756, 3.0813000202178955, 3.079400062561035, 3.078900098800659, 3.0780999660491943, 3.073899984359741, 3.0738000869750977, 3.0727999210357666, 3.072499990463257, 3.0713999271392822, 3.071199893951416, 3.0622000694274902, 3.062000036239624, 3.0611000061035156, 3.055799961090088, 3.0506999492645264, 3.0501999855041504, 3.0499000549316406, 3.0497000217437744, 3.0487000942230225, 3.0487000942230225, 3.0485999584198, 3.0460000038146973, 3.0460000038146973, 3.036900043487549, 3.0332999229431152, 3.0257999897003174], \"logprob\": [30.0, 29.0, 28.0, 27.0, 26.0, 25.0, 24.0, 23.0, 22.0, 21.0, 20.0, 19.0, 18.0, 17.0, 16.0, 15.0, 14.0, 13.0, 12.0, 11.0, 10.0, 9.0, 8.0, 7.0, 6.0, 5.0, 4.0, 3.0, 2.0, 1.0, -1.7635999917984009, -1.9321000576019287, -2.5102999210357666, -2.8152999877929688, -3.0560998916625977, -3.0699000358581543, -3.1549999713897705, -3.2369000911712646, -3.3610999584198, -3.6651999950408936, -3.8057000637054443, -3.899199962615967, -4.093400001525879, -4.110099792480469, -4.418300151824951, -4.5106000900268555, -4.610400199890137, -4.77370023727417, -4.779900074005127, -4.81820011138916, -4.922699928283691, -4.940299987792969, -4.9944000244140625, -5.053500175476074, -5.066800117492676, -5.070799827575684, -5.2804999351501465, -5.372000217437744, -5.4182000160217285, -5.433899879455566, -3.2363998889923096, -0.786899983882904, -2.444700002670288, -2.594399929046631, -2.720900058746338, -2.8073999881744385, -3.488600015640259, -3.579200029373169, -3.6431000232696533, -4.011099815368652, -4.029900074005127, -4.120800018310547, -4.353400230407715, -4.590400218963623, -4.97130012512207, -5.058199882507324, -5.324399948120117, -5.52370023727417, -7.291999816894531, -3.2471001148223877, -7.8302001953125, -8.18589973449707, -6.410299777984619, -8.543999671936035, -8.611800193786621, -7.718800067901611, -9.256500244140625, -10.258099555969238, -9.676199913024902, -8.25510025024414, -8.25510025024414, -8.615500450134277, -8.829700469970703, -8.577799797058105, -8.616999626159668, -1.7776999473571777, -1.8071000576019287, -2.078900098800659, -2.8940999507904053, -2.9214000701904297, -3.007499933242798, -3.326900005340576, -3.3273000717163086, -3.3304998874664307, -3.477099895477295, -3.545599937438965, -3.5636000633239746, -3.889400005340576, -3.9263999462127686, -4.101399898529053, -3.7346999645233154, -4.561200141906738, -4.760300159454346, -4.852200031280518, -5.249499797821045, -5.317200183868408, -5.369699954986572, -5.609600067138672, -5.632199764251709, -5.901500225067139, -7.122399806976318, -7.161300182342529, -7.611599922180176, -6.985300064086914, -8.512900352478027, -6.694399833679199, -7.251800060272217, -1.0444999933242798, -2.0099000930786133, -2.906399965286255, -3.036799907684326, -3.2460999488830566, -3.455199956893921, -3.5662999153137207, -3.597599983215332, -3.6907999515533447, -3.8598999977111816, -4.104700088500977, -4.186699867248535, -4.256700038909912, -4.2677001953125, -4.3007001876831055, -4.335599899291992, -4.400700092315674, -4.53410005569458, -4.901599884033203, -5.021699905395508, -5.0725998878479, -5.140100002288818, -5.159999847412109, -5.334400177001953, -5.457200050354004, -5.689599990844727, -5.74970006942749, -5.963099956512451, -5.9664998054504395, -6.169899940490723, -5.3180999755859375, -4.736700057983398, -1.1816999912261963, -2.1933000087738037, -2.3368000984191895, -2.927299976348877, -3.02839994430542, -3.0613999366760254, -3.1926000118255615, -3.473400115966797, -3.999300003051758, -4.0802001953125, -4.154300212860107, -4.186600208282471, -4.292900085449219, -4.3144001960754395, -4.702000141143799, -4.717599868774414, -4.747200012207031, -4.8155999183654785, -5.092299938201904, -5.27869987487793, -5.611199855804443, -5.693399906158447, -5.849100112915039, -6.2210001945495605, -5.474699974060059, -6.585999965667725, -6.5929999351501465, -5.491399765014648, -6.848299980163574, -5.050099849700928, -4.967100143432617, -5.129000186920166, -5.940199851989746, -5.9984002113342285, -2.296999931335449, -2.3610999584198, -2.825000047683716, -2.8571999073028564, -3.011699914932251, -3.1034998893737793, -3.146699905395508, -3.1607000827789307, -3.258500099182129, -3.356300115585327, -3.450900077819824, -3.453399896621704, -3.4707000255584717, -3.627700090408325, -3.668800115585327, -3.6842000484466553, -3.881200075149536, -3.904900074005127, -4.03439998626709, -4.152400016784668, -4.470699787139893, -4.848499774932861, -4.984799861907959, -5.422399997711182, -5.126699924468994, -5.485499858856201, -5.465799808502197, -5.520699977874756, -5.560400009155273, -5.660399913787842, -5.322500228881836, -2.0353000164031982, -2.135999917984009, -2.2862000465393066, -2.8136000633239746, -2.894200086593628, -2.9546000957489014, -3.047800064086914, -3.267400026321411, -3.2797999382019043, -3.6196000576019287, -4.389999866485596, -4.438000202178955, -4.478799819946289, -4.537399768829346, -4.499300003051758, -4.543399810791016, -4.552700042724609, -4.732399940490723, -4.882500171661377, -4.961400032043457, -5.061100006103516, -5.227700233459473, -5.347799777984619, -4.6890997886657715, -5.479400157928467, -5.459400177001953, -5.256700038909912, -5.667300224304199, -5.756400108337402, -2.6263999938964844, -4.94920015335083, -5.504000186920166, -2.3861000537872314, -2.465100049972534, -2.4026999473571777, -2.6203999519348145, -2.6356000900268555, -2.6440999507904053, -3.1833999156951904, -3.52810001373291, -3.6331000328063965, -3.651599884033203, -3.9119999408721924, -3.9354000091552734, -4.0929999351501465, -4.166100025177002, -4.181000232696533, -4.2164998054504395, -4.25600004196167, -4.270400047302246, -4.3541998863220215, -3.6842000484466553, -4.599899768829346, -4.746200084686279, -4.812699794769287, -4.83050012588501, -4.83459997177124, -4.863900184631348, -4.9004998207092285, -4.9994001388549805, -5.164899826049805, -5.211900234222412, -2.2142999172210693, -2.5137999057769775, -2.591399908065796, -2.6723999977111816, -3.31030011177063, -3.3326001167297363, -3.41510009765625, -3.42930006980896, -3.5111000537872314, -3.537600040435791, -3.6967999935150146, -3.726900100708008, -3.7455999851226807, -3.8036000728607178, -3.919100046157837, -4.320099830627441, -4.39139986038208, -4.397500038146973, -4.422100067138672, -4.445400238037109, -4.557000160217285, -4.565899848937988, -4.666399955749512, -4.740900039672852, -4.337100028991699, -4.814700126647949, -4.857999801635742, -4.884099960327148, -4.906899929046631, -5.048600196838379, -4.387800216674805, -4.262800216674805, -4.4878997802734375, -4.678899765014648, -2.1135001182556152, -2.6282999515533447, -2.926500082015991, -2.960099935531616, -3.069999933242798, -3.524199962615967, -3.6510000228881836, -3.6594998836517334, -3.7611000537872314, -3.7852001190185547, -3.8750998973846436, -3.892199993133545, -3.9033000469207764, -3.9398999214172363, -3.9790000915527344, -3.9319000244140625, -4.035900115966797, -4.105400085449219, -4.1529998779296875, -4.223999977111816, -4.297100067138672, -4.3979997634887695, -4.539599895477295, -4.599400043487549, -4.746099948883057, -4.77209997177124, -4.817800045013428, -4.906499862670898, -4.5055999755859375, -4.961900234222412, -3.9054999351501465, -4.890900135040283, -1.5542999505996704, -2.09689998626709, -2.69950008392334, -2.7012999057769775, -2.7207000255584717, -3.036400079727173, -3.473400115966797, -3.4992001056671143, -3.6886000633239746, -3.7258999347686768, -3.80679988861084, -3.8947999477386475, -4.0346999168396, -4.363699913024902, -4.375699996948242, -4.575300216674805, -4.696100234985352, -4.781899929046631, -4.879199981689453, -4.892899990081787, -4.906700134277344, -5.1975998878479, -5.3871002197265625, -5.424600124359131, -5.43779993057251, -5.5945000648498535, -6.2779998779296875, -6.300600051879883, -6.49370002746582, -6.49370002746582, -4.807499885559082, -5.566199779510498, -5.637899875640869, -5.294400215148926, -5.39139986038208, -4.588500022888184, -5.4085001945495605, -0.8396000266075134, -1.3300000429153442, -2.386199951171875, -3.4848999977111816, -3.803999900817871, -3.899899959564209, -3.918299913406372, -4.1442999839782715, -5.087299823760986, -5.122499942779541, -5.234499931335449, -5.182499885559082, -4.476099967956543, -6.323800086975098, -6.319300174713135, -6.952000141143799, -7.700300216674805, -8.003299713134766, -6.4446001052856445, -8.186699867248535, -8.455699920654297, -8.742199897766113, -9.282699584960938, -7.9319000244140625, -7.639599800109863, -9.021100044250488, -9.021100044250488, -9.615900039672852, -10.605500221252441, -10.619999885559082, -8.872599601745605, -8.883500099182129, -8.883500099182129, -8.723299980163574, -9.00730037689209, -9.00730037689209, -2.2881999015808105, -2.574700117111206, -2.89739990234375, -2.9860000610351562, -2.998500108718872, -3.1196999549865723, -3.203200101852417, -3.547600030899048, -3.597599983215332, -3.7929000854492188, -3.8715999126434326, -3.872499942779541, -3.9209001064300537, -3.9365999698638916, -4.115099906921387, -4.242099761962891, -4.415599822998047, -4.226900100708008, -4.253499984741211, -4.4558000564575195, -4.498600006103516, -4.571800231933594, -4.580900192260742, -4.633200168609619, -4.6528000831604, -4.688499927520752, -4.701900005340576, -4.689199924468994, -4.877200126647949, -4.883999824523926, -4.652400016784668, -4.678299903869629, -1.7315000295639038, -2.4249000549316406, -2.8552000522613525, -2.891200065612793, -2.992799997329712, -3.358799934387207, -3.4089999198913574, -3.624500036239624, -3.661400079727173, -3.6760001182556152, -3.8224000930786133, -3.8427000045776367, -3.968899965286255, -3.9809999465942383, -4.120100021362305, -4.0065999031066895, -4.368100166320801, -4.4471001625061035, -4.995500087738037, -5.094200134277344, -5.144100189208984, -5.390100002288818, -5.9984002113342285, -6.21120023727417, -6.21589994430542, -5.555200099945068, -6.303400039672852, -6.404200077056885, -5.01140022277832, -5.01140022277832, -4.364200115203857, -5.657800197601318, -5.657800197601318, -4.710400104522705, -3.024899959564209, -3.3652000427246094, -5.025100231170654, -1.7026000022888184, -2.458199977874756, -2.5950000286102295, -2.797800064086914, -2.8756000995635986, -3.1222000122070312, -3.2750000953674316, -3.561500072479248, -3.7060999870300293, -3.7067999839782715, -3.728100061416626, -3.729300022125244, -3.7441999912261963, -3.996500015258789, -3.696199893951416, -4.2866997718811035, -4.364299774169922, -4.452499866485596, -4.559599876403809, -4.605500221252441, -4.72189998626709, -4.730599880218506, -4.749100208282471, -5.033899784088135, -5.131700038909912, -5.227399826049805, -5.254199981689453, -5.278299808502197, -5.43779993057251, -5.456699848175049, -5.43179988861084, -3.9059998989105225, -1.1490999460220337, -3.8538999557495117, -5.106200218200684, -1.3388999700546265, -1.1713000535964966, -4.413000106811523, -6.792399883270264, -7.90500020980835, -8.28689956665039, -8.895999908447266, -7.02269983291626, -9.363100051879883, -9.442399978637695, -8.152999877929688, -7.992700099945068, -8.897299766540527, -9.572999954223633, -10.15470027923584, -10.54319953918457, -10.564499855041504, -10.56779956817627, -10.568099975585938, -10.56760025024414, -10.566699981689453, -10.570300102233887, -10.570099830627441, -10.571900367736816, -10.572199821472168, -10.57229995727539, -10.57229995727539, -7.529300212860107, -9.450799942016602, -10.241600036621094, -9.687299728393555, -8.924300193786621, -9.49370002746582, -9.56470012664795, -8.764900207519531, -8.912799835205078, -8.823599815368652, -9.599300384521484, -9.152799606323242, -9.012900352478027, -8.845800399780273, -8.905799865722656, -9.458000183105469, -9.487299919128418, -9.535499572753906, -2.5741000175476074, -2.68969988822937, -2.873199939727783, -3.0429999828338623, -3.193700075149536, -3.350800037384033, -3.487299919128418, -3.519200086593628, -3.5685999393463135, -3.8064000606536865, -3.8108999729156494, -3.859600067138672, -3.874000072479248, -3.920099973678589, -3.9321999549865723, -4.264599800109863, -4.271399974822998, -4.241600036621094, -4.44950008392334, -4.574399948120117, -4.586900234222412, -4.59630012512207, -4.60099983215332, -4.623000144958496, -4.624199867248535, -4.624899864196777, -4.648499965667725, -4.6834001541137695, -4.859499931335449, -4.923399925231934, -4.339000225067139]}, \"token.table\": {\"Topic\": [12, 15, 14, 2, 1, 11, 8, 7, 7, 10, 9, 1, 3, 16, 15, 13, 8, 15, 17, 6, 7, 8, 11, 14, 14, 1, 1, 5, 10, 3, 3, 12, 1, 5, 13, 9, 4, 15, 2, 8, 11, 3, 7, 12, 1, 9, 9, 5, 4, 7, 10, 12, 11, 10, 9, 15, 2, 5, 6, 10, 6, 10, 1, 8, 5, 14, 3, 7, 5, 10, 15, 5, 14, 8, 15, 1, 7, 13, 8, 13, 13, 14, 2, 4, 7, 9, 17, 6, 13, 12, 5, 12, 1, 1, 9, 7, 13, 9, 14, 13, 15, 5, 8, 10, 13, 8, 4, 11, 6, 10, 13, 13, 5, 1, 12, 4, 1, 3, 17, 16, 3, 17, 13, 15, 6, 10, 1, 9, 11, 10, 10, 14, 13, 14, 1, 5, 8, 10, 6, 8, 9, 10, 10, 11, 12, 14, 12, 13, 10, 2, 3, 13, 2, 3, 13, 17, 4, 10, 8, 10, 13, 17, 14, 1, 4, 9, 1, 2, 4, 11, 15, 3, 15, 9, 15, 13, 15, 4, 11, 3, 8, 15, 17, 12, 8, 17, 10, 3, 6, 8, 5, 15, 13, 10, 8, 3, 10, 17, 6, 2, 7, 10, 14, 13, 9, 4, 12, 13, 14, 4, 3, 5, 8, 9, 1, 6, 15, 10, 7, 5, 10, 1, 2, 6, 14, 4, 12, 1, 1, 3, 10, 12, 5, 4, 6, 8, 7, 11, 15, 4, 10, 2, 2, 5, 14, 1, 3, 16, 14, 5, 7, 9, 14, 13, 11, 5, 9, 15, 12, 9, 17, 6, 3, 12, 14, 6, 9, 7, 10, 13, 7, 2, 6, 8, 11, 15, 4, 4, 6, 7, 9, 10, 14, 6, 4, 17, 3, 2, 13, 6, 17, 14, 11, 17, 5, 8, 7, 8, 16, 9, 4, 1, 17, 2, 1, 7, 8, 10, 16, 7, 2, 3, 10, 11, 10, 10, 11, 16, 7, 10, 16, 17, 4, 8, 17, 6, 6, 17, 11, 5, 13, 2, 5, 8, 13, 8, 4, 2, 11, 5, 8, 7, 3, 5, 11, 14, 4, 15, 15, 17, 5, 8, 2, 6, 1, 14, 5, 17, 5, 11, 17, 11, 10, 7, 6, 3, 7, 11, 5, 14, 9, 2, 15, 9, 10, 6, 9, 6, 8, 9, 11, 1, 12, 4, 7, 7, 1, 6, 9, 10, 1, 8, 1, 6, 6, 17, 1, 10, 6, 4, 10, 10, 6, 9, 9, 10, 3, 17, 4, 11, 12, 15, 14, 7, 1, 8, 3, 8, 7, 5, 4, 12, 11, 11, 15, 2, 14, 13, 14, 10, 14, 12, 14, 14, 16, 4, 11, 10, 5, 17, 16, 3, 4, 9, 15, 15, 3, 17, 2, 8, 9, 10, 13, 17, 15, 11, 9, 1, 6, 3, 2, 2, 6, 14, 15, 2, 4, 7, 11, 11, 10, 3, 11, 1, 11, 11, 9, 14, 16, 7, 8, 8, 10, 7, 1, 3, 14, 9, 3, 5, 10, 13, 1, 11, 14, 17, 15, 7, 10, 13, 15, 16, 17, 3, 6, 1, 1, 4, 6, 1, 1, 10, 11, 10, 12, 7, 2, 6, 6, 15, 1, 11, 13, 6, 11, 15, 6, 8, 11, 6, 2, 17, 8, 14, 8, 3, 2, 17, 14, 14, 3, 5, 6, 8, 14, 7, 12, 13, 8, 4, 12, 2, 8, 7, 16, 5, 4, 2, 4, 6, 13, 4, 5, 5, 8, 13, 3, 11, 4, 3, 2, 11, 11, 1, 13, 15, 6, 15, 5, 4, 3, 6, 15, 1, 11, 14, 2, 14, 7, 11, 4, 7, 8, 17, 17, 7, 5, 4, 1, 1, 1, 15, 6, 10, 15, 3, 13, 9, 3, 4, 8, 13, 5, 15, 14, 11, 13, 10, 14, 13, 14, 5, 9, 5, 11, 11, 8, 2, 11, 14, 9, 17, 9, 17, 17, 13, 3, 3, 5, 3, 4, 13, 15, 17, 1, 5, 7, 12, 6, 7, 10, 9, 13, 8, 5, 16, 7, 13, 9, 11, 8, 4, 7, 7, 8, 10, 13, 9, 9, 10, 17], \"Freq\": [0.9838987588882446, 0.8936045169830322, 0.879852831363678, 0.9960283637046814, 0.9887976050376892, 0.9977251887321472, 0.9902172088623047, 0.99728924036026, 0.9450854659080505, 0.9951730966567993, 0.9563173651695251, 0.9708660244941711, 0.9662107229232788, 0.6423614025115967, 0.9092378616333008, 0.9913150668144226, 0.9955974817276001, 0.998097836971283, 0.973655104637146, 0.4512142539024353, 0.1289183497428894, 0.0644591748714447, 0.3222958743572235, 0.8812569379806519, 0.938152551651001, 0.982954204082489, 0.12628348171710968, 0.7577008605003357, 0.08418898284435272, 0.9885146617889404, 0.9906471371650696, 0.3995581269264221, 0.13459037244319916, 0.7402470707893372, 0.06729518622159958, 0.9825438261032104, 0.968934178352356, 0.9723882079124451, 0.014355760999023914, 0.9618359804153442, 0.014355760999023914, 0.9987606406211853, 0.9333666563034058, 0.7291469573974609, 0.9860849976539612, 0.9809329509735107, 0.9864300489425659, 0.8419287800788879, 0.2273402065038681, 0.2273402065038681, 0.2273402065038681, 0.2273402065038681, 0.9941302537918091, 0.9784608483314514, 0.9874818325042725, 0.9863232374191284, 0.07183888554573059, 0.8620666861534119, 0.07183888554573059, 0.8375410437583923, 0.06963438540697098, 0.9052470326423645, 0.960905909538269, 0.9460505843162537, 0.17841613292694092, 0.7136645317077637, 0.9954749941825867, 0.9620214104652405, 0.930704653263092, 0.9909254312515259, 0.9404770731925964, 0.17841613292694092, 0.7136645317077637, 0.9942767024040222, 0.9783323407173157, 0.9794901013374329, 0.5274562835693359, 0.9851589202880859, 0.04026206582784653, 0.9260275363922119, 0.9792101979255676, 0.9879986643791199, 0.994372546672821, 0.9923325777053833, 0.9941573143005371, 0.03381206467747688, 0.9467377662658691, 0.9893044233322144, 0.974073052406311, 0.9819239974021912, 0.9632590413093567, 0.9416833519935608, 0.9922695755958557, 0.9367021322250366, 0.9671006798744202, 0.8920913934707642, 0.9956172108650208, 0.9337351322174072, 0.05047217011451721, 0.9926324486732483, 0.9384996294975281, 0.545982837677002, 0.07799754291772842, 0.23399263620376587, 0.07799754291772842, 0.9640595316886902, 0.9658815264701843, 0.9656630158424377, 0.9043097496032715, 0.9377573728561401, 0.9736257791519165, 0.9564855098724365, 0.9822800755500793, 0.9602046608924866, 0.5903541445732117, 0.9054680466651917, 0.998394787311554, 0.9754270911216736, 0.9791300296783447, 0.5319727659225464, 0.9864218235015869, 0.9894234538078308, 0.9415462613105774, 0.9571783542633057, 0.9864380955696106, 0.9875491261482239, 0.11176816374063492, 0.07451210916042328, 0.7823771834373474, 0.9826627373695374, 0.9836085438728333, 0.9735133051872253, 0.9752521514892578, 0.8778203129768372, 0.9539963006973267, 0.9892473816871643, 0.9683321714401245, 0.851552426815033, 0.9486463665962219, 0.026745321229100227, 0.775614321231842, 0.16047193109989166, 0.11010349541902542, 0.6055691838264465, 0.05505174770951271, 0.11010349541902542, 0.9973286986351013, 0.9542247653007507, 0.9847018718719482, 0.06256675720214844, 0.12513351440429688, 0.7508010268211365, 0.06256675720214844, 0.12513351440429688, 0.7508010268211365, 0.9450527429580688, 0.9365558624267578, 0.9919500350952148, 0.03935595601797104, 0.7477631568908691, 0.15742382407188416, 0.976669192314148, 0.9942589402198792, 0.9964170455932617, 0.9854544401168823, 0.9680137634277344, 0.15430715680122375, 0.051435720175504684, 0.051435720175504684, 0.6686643362045288, 0.051435720175504684, 0.7968888878822327, 0.9428566098213196, 0.9595983028411865, 0.9903882145881653, 0.9283405542373657, 0.9953257441520691, 0.9769585132598877, 0.8927823305130005, 0.9370964765548706, 0.9932942986488342, 0.9884760975837708, 0.9403197765350342, 0.9043592810630798, 0.9924034476280212, 0.9951233267784119, 0.9625179171562195, 0.3728310763835907, 0.1242770254611969, 0.2485540509223938, 0.9869261980056763, 0.9058106541633606, 0.9625970721244812, 0.9776239395141602, 0.9726082682609558, 0.16213548183441162, 0.08106774091720581, 0.6485419273376465, 0.9765120148658752, 0.9924512505531311, 0.9980324506759644, 0.9873848557472229, 0.9981992840766907, 0.9964383840560913, 0.966097891330719, 0.9967295527458191, 0.9982610940933228, 0.2639003098011017, 0.9773992896080017, 0.9759146571159363, 0.9769251346588135, 0.8766607046127319, 0.9649953246116638, 0.9823760986328125, 0.08973334729671478, 0.5384001135826111, 0.26920005679130554, 0.9855132699012756, 0.96873939037323, 0.9992803931236267, 0.9614015817642212, 0.5058519244194031, 0.4897419512271881, 0.9906986355781555, 0.9960857629776001, 0.8618756532669067, 0.9110236763954163, 0.9972135424613953, 0.24295727908611298, 0.19436581432819366, 0.2915487289428711, 0.19436581432819366, 0.7693803906440735, 0.7207479476928711, 0.10296399146318436, 0.15444599092006683, 0.039054062217473984, 0.3384685516357422, 0.6118469834327698, 0.9746161103248596, 0.9718329310417175, 0.9876819849014282, 0.3958725333213806, 0.9708048701286316, 0.9860431551933289, 0.12219960242509842, 0.030549900606274605, 0.794297456741333, 0.9874563813209534, 0.9974970817565918, 0.10444634407758713, 0.4700085520744324, 0.4177853763103485, 0.95121169090271, 0.876239538192749, 0.9973640441894531, 0.9725866317749023, 0.9681788086891174, 0.8510010242462158, 0.9438907504081726, 0.9873889684677124, 0.9953112006187439, 0.2944054901599884, 0.2944054901599884, 0.2944054901599884, 0.9912529587745667, 0.9483306407928467, 0.9719991087913513, 0.9586879014968872, 0.9537129402160645, 0.9727051854133606, 0.2824268341064453, 0.04707114025950432, 0.14121341705322266, 0.14121341705322266, 0.2824268341064453, 0.9851138591766357, 0.05545815825462341, 0.05545815825462341, 0.27729079127311707, 0.3882071077823639, 0.16637447476387024, 0.9877791404724121, 0.9526678323745728, 0.9465888738632202, 0.9650870561599731, 0.9794889688491821, 0.9995361566543579, 0.940646231174469, 0.9561343193054199, 0.9205783009529114, 0.9789049625396729, 0.9683522582054138, 0.9919723868370056, 0.1860078126192093, 0.5580234527587891, 0.8618168234825134, 0.09071756154298782, 0.9134954810142517, 0.9961923956871033, 0.9837296605110168, 0.957723081111908, 0.9662501811981201, 0.9897244572639465, 0.9889070391654968, 0.9860215783119202, 0.5935527682304382, 0.11871055513620377, 0.11871055513620377, 0.9626734852790833, 0.2050933837890625, 0.2050933837890625, 0.2050933837890625, 0.30764007568359375, 0.9852740168571472, 0.9906834363937378, 0.9392526149749756, 0.44741886854171753, 0.15967345237731934, 0.31934690475463867, 0.15967345237731934, 0.15967345237731934, 0.9718042612075806, 0.9940837621688843, 0.9788676500320435, 0.9956178069114685, 0.9951152801513672, 0.9893549680709839, 0.9593700170516968, 0.9961149096488953, 0.9891030192375183, 0.03860060125589371, 0.03860060125589371, 0.23160360753536224, 0.6562102437019348, 0.9396263957023621, 0.9165774583816528, 0.5846310257911682, 0.2923155128955841, 0.8369384407997131, 0.9630773663520813, 0.9787506461143494, 0.9973176717758179, 0.9885545372962952, 0.08880257606506348, 0.7992231845855713, 0.016740405932068825, 0.9709435105323792, 0.9913991093635559, 0.9765231609344482, 0.20218785107135773, 0.40437570214271545, 0.9866815209388733, 0.9942979216575623, 0.9212170839309692, 0.9714276194572449, 0.9483212828636169, 0.9832124710083008, 0.9935831427574158, 0.9108652472496033, 0.9649361371994019, 0.9690544605255127, 0.9840312600135803, 0.9874300956726074, 0.9730796813964844, 0.9942010641098022, 0.9906769394874573, 0.9956965446472168, 0.5887598395347595, 0.2523256540298462, 0.9737376570701599, 0.9743729829788208, 0.9928712844848633, 0.9587885141372681, 0.851552426815033, 0.9878628849983215, 0.9721973538398743, 0.9858411550521851, 0.9763988256454468, 0.9941420555114746, 0.9927611351013184, 0.9957253932952881, 0.9890961050987244, 0.10801350325345993, 0.8866108059883118, 0.9392260909080505, 0.9938943386077881, 0.8160011172294617, 0.125538632273674, 0.9439727067947388, 0.960952877998352, 0.5584304928779602, 0.9624292850494385, 0.8892925977706909, 0.9185441136360168, 0.9408214688301086, 0.21098749339580536, 0.4219749867916107, 0.9769701361656189, 0.9992107152938843, 0.9774729013442993, 0.942568302154541, 0.985069751739502, 0.9946532845497131, 0.9787828922271729, 0.9841795563697815, 0.740915834903717, 0.9845040440559387, 0.9904688000679016, 0.08379938453435898, 0.08379938453435898, 0.754194438457489, 0.9889373183250427, 0.9651647806167603, 0.9805120825767517, 0.9642218351364136, 0.9333130121231079, 0.9702073335647583, 0.992039144039154, 0.9752709865570068, 0.9929298758506775, 0.8897914886474609, 0.9599031209945679, 0.9765929579734802, 0.9752097129821777, 0.9829145669937134, 0.9870718121528625, 0.1511858105659485, 0.806324303150177, 0.9645583033561707, 0.9887915849685669, 0.9850620627403259, 0.7433343529701233, 0.12507717311382294, 0.8740148544311523, 0.929042398929596, 0.8304523825645447, 0.9667920470237732, 0.9767303466796875, 0.9910159111022949, 0.9719497561454773, 0.9436733722686768, 0.9840089082717896, 0.9942384362220764, 0.9925516843795776, 0.9897394180297852, 0.9949579238891602, 0.9895252585411072, 0.06758686155080795, 0.06758686155080795, 0.06758686155080795, 0.06758686155080795, 0.06758686155080795, 0.5406948924064636, 0.9620230197906494, 0.9883144497871399, 0.9939497113227844, 0.9987375140190125, 0.9565367102622986, 0.9608790874481201, 0.9665866494178772, 0.35603830218315125, 0.35603830218315125, 0.9925978183746338, 0.9530569314956665, 0.8198610544204712, 0.9725290536880493, 0.9631398916244507, 0.9219171404838562, 0.9850252270698547, 0.9978918433189392, 0.3591104745864868, 0.3591104745864868, 0.97501540184021, 0.9894351363182068, 0.9798147082328796, 0.9886614084243774, 0.14497505128383636, 0.8547224998474121, 0.9955959320068359, 0.9861385226249695, 0.9764063358306885, 0.9742345809936523, 0.9480602741241455, 0.3780413568019867, 0.027002952992916107, 0.5670620203018188, 0.9808774590492249, 0.9969291090965271, 0.6428964734077454, 0.30452990531921387, 0.9872719049453735, 0.08056574314832687, 0.7250916361808777, 0.08056574314832687, 0.982970654964447, 0.9907691478729248, 0.08361523598432541, 0.16723047196865082, 0.08361523598432541, 0.41807615756988525, 0.16723047196865082, 0.9910916686058044, 0.9887312650680542, 0.9919888973236084, 0.9902685284614563, 0.6344177722930908, 0.0576743446290493, 0.2306973785161972, 0.9926793575286865, 0.21098749339580536, 0.4219749867916107, 0.8304523825645447, 0.2868303060531616, 0.2868303060531616, 0.9930688142776489, 0.3723653554916382, 0.3723653554916382, 0.9887080788612366, 0.9262284636497498, 0.9962391257286072, 0.9859066605567932, 0.9855196475982666, 0.1838330179452896, 0.55149906873703, 0.1838330179452896, 0.9896435737609863, 0.9214597940444946, 0.9864385724067688, 0.9942379593849182, 0.9881653189659119, 0.9952977895736694, 0.9568738341331482, 0.9505025148391724, 0.9957079887390137, 0.816103458404541, 0.9959611892700195, 0.916617214679718, 0.9900763034820557, 0.989268958568573, 0.05111999437212944, 0.05111999437212944, 0.05111999437212944, 0.07667998969554901, 0.7667999267578125, 0.9775212407112122, 0.9856581091880798, 0.9696751236915588, 0.9611802101135254, 0.8644534349441528, 0.9992277026176453, 0.9952806234359741, 0.949070930480957, 0.9215964078903198, 0.03686385601758957, 0.978691041469574, 0.9793636202812195, 0.9768545627593994, 0.9885922074317932, 0.9494333863258362, 0.9577807188034058, 0.9261298775672913, 0.9950076937675476, 0.9908217787742615, 0.9966135025024414, 0.9807496666908264, 0.7918069362640381, 0.9564588665962219, 0.8684620261192322, 0.9491146802902222, 0.963290810585022, 0.9954821467399597, 0.8698437213897705, 0.9870464205741882, 0.9905677437782288, 0.9742953777313232, 0.9872679710388184, 0.9185715317726135, 0.9606951475143433, 0.8835967183113098, 0.9986340403556824, 0.9148372411727905, 0.9601650834083557, 0.07539813965559006, 0.7539814114570618, 0.07539813965559006, 0.9601064324378967, 0.9448174238204956, 0.9589959383010864, 0.9510028958320618, 0.934458315372467, 0.9324984550476074, 0.9434628486633301, 0.9668146967887878, 0.9657371640205383, 0.866661787033081, 0.7746194005012512, 0.9831743240356445, 0.9782857298851013, 0.9771191477775574, 0.9794735908508301, 0.9764330387115479, 0.987525224685669, 0.9807416200637817, 0.9891315698623657, 0.8947314620018005, 0.9931218028068542, 0.9961701035499573, 0.9785575270652771, 0.011789849027991295, 0.9791107177734375, 0.9648536443710327, 0.9039442539215088, 0.886299729347229, 0.9669628143310547, 0.6533337235450745, 0.9731695055961609, 0.9954426288604736, 0.906306266784668, 0.1511858105659485, 0.806324303150177, 0.028923675417900085, 0.9255576133728027, 0.5600581765174866, 0.3850399851799011, 0.9836082458496094, 0.967954695224762, 0.9475723505020142, 0.9923155307769775, 0.8206652402877808, 0.8159397840499878, 0.1359899640083313, 0.9470933675765991, 0.9777288436889648, 0.9532068371772766, 0.9880796670913696, 0.9950711131095886, 0.9860751628875732, 0.8962903618812561, 0.03516555577516556, 0.03516555577516556, 0.8088077306747437, 0.07033111155033112, 0.07033111155033112, 0.029532909393310547, 0.029532909393310547, 0.08859872817993164, 0.8564543724060059, 0.983562707901001, 0.8713048696517944, 0.8375410437583923, 0.9660102128982544, 0.9827401638031006, 0.980056881904602, 0.9429640173912048, 0.9986847639083862, 0.8969302177429199, 0.9908564686775208, 0.9546257257461548, 0.9440675377845764, 0.9962804913520813, 0.5577353835105896, 0.2788676917552948, 0.9979994297027588, 0.04166429489850998, 0.7499573230743408, 0.16665717959403992, 0.9749729037284851, 0.9616653323173523, 0.9750451445579529, 0.9728593230247498], \"Term\": [\"absolut\", \"accept\", \"accident\", \"activ\", \"addit\", \"adopt\", \"adventur\", \"affection\", \"affili\", \"afford\", \"afraid\", \"age\", \"aggress\", \"agreeabl\", \"alert\", \"alon\", \"alter\", \"amaz\", \"american\", \"amic\", \"amic\", \"amic\", \"amic\", \"amus\", \"anatolian\", \"anxiou\", \"appi\", \"appi\", \"appi\", \"appropri\", \"apt\", \"arthrit\", \"asian\", \"asian\", \"asian\", \"athlet\", \"attent\", \"australian\", \"automat\", \"automat\", \"automat\", \"avail\", \"averag\", \"aw\", \"awesom\", \"back\", \"bad\", \"balanc\", \"barki\", \"barki\", \"barki\", \"barki\", \"basic\", \"behav\", \"belgian\", \"belov\", \"benign\", \"benign\", \"benign\", \"birthright\", \"bitti\", \"bitti\", \"blind\", \"blond\", \"bodi\", \"bodi\", \"bordatella\", \"bossi\", \"broken\", \"busi\", \"bustl\", \"caffein\", \"caffein\", \"calm\", \"capabl\", \"care\", \"catastroph\", \"cautiou\", \"center\", \"center\", \"central\", \"certain\", \"chip\", \"clean\", \"clear\", \"clever\", \"clever\", \"close\", \"coat\", \"cold\", \"color\", \"comfi\", \"comfort\", \"common\", \"compact\", \"compassion\", \"complet\", \"complimentari\", \"complimentari\", \"confid\", \"connect\", \"conscienti\", \"conscienti\", \"conscienti\", \"conscienti\", \"constant\", \"content\", \"continu\", \"convent\", \"cool\", \"correct\", \"cozi\", \"crate\", \"crazi\", \"critic\", \"crowd\", \"current\", \"cut\", \"cute\", \"cwob\", \"daili\", \"dead\", \"deaf\", \"decent\", \"deduct\", \"defens\", \"deferenti\", \"deferenti\", \"deferenti\", \"delight\", \"dental\", \"detail\", \"devot\", \"deworm\", \"didn\", \"differ\", \"difficult\", \"diminut\", \"dire\", \"dispos\", \"dispos\", \"dispos\", \"distrust\", \"distrust\", \"distrust\", \"distrust\", \"doesn\", \"doggi\", \"domin\", \"doptabl\", \"doptabl\", \"doptabl\", \"dorabl\", \"dorabl\", \"dorabl\", \"dramat\", \"dri\", \"due\", \"dysplasia\", \"dysplasia\", \"dysplasia\", \"ear\", \"earli\", \"easi\", \"easygo\", \"elderli\", \"elementari\", \"elementari\", \"elementari\", \"elementari\", \"elementari\", \"elev\", \"elig\", \"empti\", \"endear\", \"endless\", \"energet\", \"enough\", \"entertain\", \"enthusiast\", \"entir\", \"excel\", \"except\", \"excess\", \"excit\", \"experienc\", \"express\", \"extend\", \"extend\", \"extend\", \"extra\", \"extrem\", \"exuber\", \"eye\", \"fabul\", \"familar\", \"familar\", \"familar\", \"familiar\", \"fantast\", \"favorit\", \"fear\", \"femal\", \"fine\", \"firm\", \"first\", \"fit\", \"flashi\", \"flexibl\", \"floppi\", \"focus\", \"fond\", \"forev\", \"former\", \"fourth\", \"fourth\", \"fourth\", \"fragil\", \"frequent\", \"friendli\", \"front\", \"full\", \"full\", \"funni\", \"furri\", \"futur\", \"gener\", \"german\", \"girlish\", \"girlish\", \"girlish\", \"girlish\", \"glad\", \"global\", \"global\", \"global\", \"gloriou\", \"gloriou\", \"gloriou\", \"grate\", \"green\", \"grown\", \"guess\", \"hair\", \"half\", \"hand\", \"hand\", \"hand\", \"hard\", \"healthi\", \"heathi\", \"heathi\", \"heathi\", \"heavi\", \"help\", \"high\", \"homeless\", \"horribl\", \"horrif\", \"housebroken\", \"huge\", \"human\", \"hyper\", \"hyper\", \"hyper\", \"ideal\", \"ill\", \"illeg\", \"impecc\", \"import\", \"incred\", \"incredi\", \"incredi\", \"incredi\", \"incredi\", \"incredi\", \"independ\", \"industri\", \"industri\", \"industri\", \"industri\", \"industri\", \"initi\", \"injur\", \"inquisit\", \"insecur\", \"intellig\", \"interest\", \"isn\", \"jealou\", \"keen\", \"key\", \"kid\", \"kind\", \"kinda\", \"kinda\", \"knowledg\", \"knowledg\", \"lap\", \"larg\", \"last\", \"late\", \"lean\", \"leash\", \"least\", \"leg\", \"legal\", \"legal\", \"legal\", \"lege\", \"lepto\", \"lepto\", \"lepto\", \"lepto\", \"less\", \"like\", \"limit\", \"lingual\", \"lith\", \"lith\", \"lith\", \"lith\", \"live\", \"local\", \"lone\", \"long\", \"lost\", \"loud\", \"love\", \"low\", \"loyal\", \"luckili\", \"luckili\", \"luckili\", \"luckili\", \"lusciou\", \"lush\", \"luvabl\", \"luvabl\", \"magnific\", \"main\", \"maltes\", \"mani\", \"manner\", \"marvel\", \"marvel\", \"mat\", \"mat\", \"matur\", \"mean\", \"med\", \"med\", \"medic\", \"medium\", \"mental\", \"mid\", \"middl\", \"mild\", \"miniatur\", \"minim\", \"minimum\", \"minor\", \"mischiev\", \"mix\", \"moder\", \"monthli\", \"more\", \"most\", \"motherli\", \"motherli\", \"motiv\", \"mouthi\", \"much\", \"muscular\", \"nativ\", \"natur\", \"nearbi\", \"necessari\", \"needi\", \"neg\", \"nervou\", \"neuter\", \"next\", \"nice\", \"nice\", \"noisi\", \"non\", \"nonprofit\", \"nonprofit\", \"normal\", \"northern\", \"nth\", \"numer\", \"obedi\", \"observ\", \"obviou\", \"obvious\", \"obvious\", \"occasion\", \"offici\", \"okay\", \"ongo\", \"onlin\", \"open\", \"option\", \"origin\", \"otherwis\", \"outdoor\", \"outgo\", \"outlandishli\", \"outlandishli\", \"outlandishli\", \"outsid\", \"overal\", \"overcrowd\", \"overweight\", \"overwhelm\", \"pain\", \"particular\", \"past\", \"patient\", \"pekinges\", \"perman\", \"person\", \"pertin\", \"pet\", \"petit\", \"pettabl\", \"pettabl\", \"photogen\", \"physic\", \"picki\", \"pinsch\", \"play\", \"play\", \"plu\", \"poli\", \"polit\", \"poodl\", \"poor\", \"popular\", \"portabl\", \"posit\", \"possibl\", \"potenti\", \"potti\", \"pre\", \"pregnant\", \"prematur\", \"prematur\", \"prematur\", \"prematur\", \"prematur\", \"prematur\", \"prepar\", \"present\", \"prevent\", \"previou\", \"prime\", \"prior\", \"privat\", \"proactiv\", \"proactiv\", \"proper\", \"protect\", \"public\", \"pure\", \"pushi\", \"qualifi\", \"quick\", \"quiet\", \"quirk\", \"quirk\", \"rambuncti\", \"rare\", \"raw\", \"reactiv\", \"readi\", \"readi\", \"real\", \"rear\", \"reason\", \"recent\", \"recept\", \"recogniz\", \"recogniz\", \"recogniz\", \"refund\", \"regular\", \"relat\", \"relat\", \"relax\", \"reliev\", \"reliev\", \"reliev\", \"remot\", \"rental\", \"requir\", \"requir\", \"requir\", \"requir\", \"requir\", \"reserv\", \"resid\", \"respect\", \"respons\", \"restless\", \"restless\", \"restless\", \"right\", \"roam\", \"roam\", \"roli\", \"rotten\", \"rotten\", \"rough\", \"rous\", \"rous\", \"routin\", \"rural\", \"safe\", \"scare\", \"scari\", \"scottish\", \"scottish\", \"scottish\", \"second\", \"secondari\", \"secur\", \"select\", \"senior\", \"sensit\", \"separ\", \"seriou\", \"sever\", \"shed\", \"short\", \"siberian\", \"sick\", \"similar\", \"simplyywendi\", \"simplyywendi\", \"simplyywendi\", \"simplyywendi\", \"simplyywendi\", \"singl\", \"size\", \"skittish\", \"slight\", \"slim\", \"slow\", \"smart\", \"snappi\", \"snorti\", \"snorti\", \"snuggler\", \"sociabl\", \"social\", \"soft\", \"sole\", \"solid\", \"soul\", \"spay\", \"special\", \"specif\", \"spri\", \"squatti\", \"stabl\", \"stocki\", \"strang\", \"strike\", \"strong\", \"stubborn\", \"stun\", \"sturdi\", \"submiss\", \"substanti\", \"suffici\", \"suit\", \"suitabl\", \"sure\", \"surgic\", \"surpris\", \"symbol\", \"symbol\", \"symbol\", \"tall\", \"tan\", \"tasti\", \"temporari\", \"tender\", \"terribl\", \"terrif\", \"thin\", \"thorough\", \"thought\", \"time\", \"timid\", \"tire\", \"toler\", \"top\", \"topic\", \"total\", \"tough\", \"trainabl\", \"treat\", \"true\", \"typic\", \"tzu\", \"tzu\", \"unabl\", \"uncertain\", \"uncondit\", \"underbit\", \"underweight\", \"unhealthi\", \"uniqu\", \"unknown\", \"unlik\", \"unoffici\", \"unoffici\", \"unshelt\", \"unshelt\", \"unskil\", \"unskil\", \"unsur\", \"unusu\", \"unwant\", \"upcom\", \"upfront\", \"uphil\", \"uphil\", \"upset\", \"urgent\", \"use\", \"utd\", \"vac\", \"vaccin\", \"variou\", \"vast\", \"vast\", \"vast\", \"vast\", \"vast\", \"vet\", \"vet\", \"vet\", \"vet\", \"veterinari\", \"vigil\", \"vile\", \"vocal\", \"wari\", \"warm\", \"weekli\", \"well\", \"whippet\", \"whole\", \"whop\", \"wide\", \"will\", \"wire\", \"wire\", \"wonder\", \"wonki\", \"wonki\", \"wonki\", \"worth\", \"yearli\", \"yorki\", \"zealou\"]}, \"R\": 30, \"lambda.step\": 0.01, \"plot.opts\": {\"xlab\": \"PC1\", \"ylab\": \"PC2\"}, \"topic.order\": [9, 1, 10, 5, 16, 8, 12, 4, 17, 3, 11, 2, 14, 6, 13, 7, 15]};\n",
       "\n",
       "function LDAvis_load_lib(url, callback){\n",
       "  var s = document.createElement('script');\n",
       "  s.src = url;\n",
       "  s.async = true;\n",
       "  s.onreadystatechange = s.onload = callback;\n",
       "  s.onerror = function(){console.warn(\"failed to load library \" + url);};\n",
       "  document.getElementsByTagName(\"head\")[0].appendChild(s);\n",
       "}\n",
       "\n",
       "if(typeof(LDAvis) !== \"undefined\"){\n",
       "   // already loaded: just create the visualization\n",
       "   !function(LDAvis){\n",
       "       new LDAvis(\"#\" + \"ldavis_el6707112611409496431041473\", ldavis_el6707112611409496431041473_data);\n",
       "   }(LDAvis);\n",
       "}else if(typeof define === \"function\" && define.amd){\n",
       "   // require.js is available: use it to load d3/LDAvis\n",
       "   require.config({paths: {d3: \"https://cdnjs.cloudflare.com/ajax/libs/d3/3.5.5/d3.min\"}});\n",
       "   require([\"d3\"], function(d3){\n",
       "      window.d3 = d3;\n",
       "      LDAvis_load_lib(\"https://cdn.rawgit.com/bmabey/pyLDAvis/files/ldavis.v1.0.0.js\", function(){\n",
       "        new LDAvis(\"#\" + \"ldavis_el6707112611409496431041473\", ldavis_el6707112611409496431041473_data);\n",
       "      });\n",
       "    });\n",
       "}else{\n",
       "    // require.js not available: dynamically load d3 & LDAvis\n",
       "    LDAvis_load_lib(\"https://cdnjs.cloudflare.com/ajax/libs/d3/3.5.5/d3.min.js\", function(){\n",
       "         LDAvis_load_lib(\"https://cdn.rawgit.com/bmabey/pyLDAvis/files/ldavis.v1.0.0.js\", function(){\n",
       "                 new LDAvis(\"#\" + \"ldavis_el6707112611409496431041473\", ldavis_el6707112611409496431041473_data);\n",
       "            })\n",
       "         });\n",
       "}\n",
       "</script>"
      ],
      "text/plain": [
       "PreparedData(topic_coordinates=              x         y  topics  cluster      Freq\n",
       "topic                                               \n",
       "8      0.085424 -0.241600  1       1        8.568562\n",
       "0      0.128348 -0.349301  2       1        8.374374\n",
       "9      0.054983 -0.010404  3       1        7.431584\n",
       "4      0.066329  0.039761  4       1        5.930667\n",
       "15     0.026203  0.040922  5       1        5.908185\n",
       "7      0.036251  0.056137  6       1        5.882189\n",
       "11     0.034181  0.069991  7       1        5.829052\n",
       "3      0.044197  0.048790  8       1        5.726269\n",
       "16     0.004623  0.081431  9       1        5.548775\n",
       "2      0.035625  0.067880  10      1        5.540706\n",
       "10     0.038080  0.064093  11      1        5.391092\n",
       "1      0.044532  0.015550  12      1        5.367656\n",
       "13     0.023942  0.089487  13      1        5.210245\n",
       "5     -0.315446 -0.047723  14      1        5.052765\n",
       "12     0.033963  0.067974  15      1        5.026500\n",
       "6     -0.350175 -0.084245  16      1        4.680438\n",
       "14     0.008941  0.091257  17      1        4.530945, topic_info=     Category         Freq       Term        Total  loglift  logprob\n",
       "11    Default  1781.000000  interest   1781.000000  30.0000  30.0000\n",
       "73    Default  1083.000000  slow       1083.000000  29.0000  29.0000\n",
       "69    Default  975.000000   offici     975.000000   28.0000  28.0000\n",
       "19    Default  847.000000   friendli   847.000000   27.0000  27.0000\n",
       "55    Default  693.000000   well       693.000000   26.0000  26.0000\n",
       "54    Default  793.000000   readi      793.000000   25.0000  25.0000\n",
       "72    Default  664.000000   fit        664.000000   24.0000  24.0000\n",
       "53    Default  655.000000   play       655.000000   23.0000  23.0000\n",
       "78    Default  687.000000   current    687.000000   22.0000  22.0000\n",
       "34    Default  533.000000   adopt      533.000000   21.0000  21.0000\n",
       "17    Default  587.000000   avail      587.000000   20.0000  20.0000\n",
       "22    Default  570.000000   sure       570.000000   19.0000  19.0000\n",
       "74    Default  580.000000   previou    580.000000   18.0000  18.0000\n",
       "129   Default  428.000000   amaz       428.000000   17.0000  17.0000\n",
       "45    Default  418.000000   femal      418.000000   16.0000  16.0000\n",
       "2     Default  435.000000   mani       435.000000   15.0000  15.0000\n",
       "149   Default  372.000000   first      372.000000   14.0000  14.0000\n",
       "23    Default  356.000000   wonder     356.000000   13.0000  13.0000\n",
       "26    Default  322.000000   favorit    322.000000   12.0000  12.0000\n",
       "191   Default  313.000000   quiet      313.000000   11.0000  11.0000\n",
       "234   Default  310.000000   most       310.000000   10.0000  10.0000\n",
       "76    Default  308.000000   high       308.000000   9.0000   9.0000 \n",
       "7     Default  340.000000   activ      340.000000   8.0000   8.0000 \n",
       "71    Default  284.000000   larg       284.000000   7.0000   7.0000 \n",
       "79    Default  326.000000   easi       326.000000   6.0000   6.0000 \n",
       "107   Default  277.000000   affection  277.000000   5.0000   5.0000 \n",
       "38    Default  277.000000   human      277.000000   4.0000   4.0000 \n",
       "27    Default  267.000000   healthi    267.000000   3.0000   3.0000 \n",
       "90    Default  260.000000   long       260.000000   2.0000   2.0000 \n",
       "131   Default  247.000000   fine       247.000000   1.0000   1.0000 \n",
       "...       ...         ...    ...              ...      ...      ... \n",
       "231   Topic17  143.712265   sensit     144.680313   3.0875  -2.6897 \n",
       "120   Topic17  119.620018   experienc  120.588066   3.0862  -2.8732 \n",
       "226   Topic17  100.939781   reserv     101.907829   3.0847  -3.0430 \n",
       "122   Topic17  86.820656    poor       87.788704    3.0832  -3.1937 \n",
       "263   Topic17  74.196701    outdoor    75.164749    3.0813  -3.3508 \n",
       "210   Topic17  64.731323    loud       65.699371    3.0794  -3.4873 \n",
       "211   Topic17  62.698845    pregnant   63.666893    3.0789  -3.5192 \n",
       "711   Topic17  59.673328    dead       60.641376    3.0781  -3.5686 \n",
       "506   Topic17  47.046616    lone       48.014664    3.0739  -3.8064 \n",
       "237   Topic17  46.834438    mild       47.802486    3.0738  -3.8109 \n",
       "209   Topic17  44.606697    huge       45.574745    3.0728  -3.8596 \n",
       "688   Topic17  43.969803    cute       44.937851    3.0725  -3.8740 \n",
       "126   Topic17  41.988647    urgent     42.956696    3.0714  -3.9201 \n",
       "125   Topic17  41.486568    thorough   42.454617    3.0712  -3.9322 \n",
       "418   Topic17  29.753189    mean       30.721237    3.0622  -4.2646 \n",
       "124   Topic17  29.551683    remot      30.519732    3.0620  -4.2714 \n",
       "1101  Topic17  30.445980    use        31.472708    3.0611  -4.2416 \n",
       "1109  Topic17  24.729389    zealou     25.697447    3.0558  -4.4495 \n",
       "404   Topic17  21.827585    minimum    22.799437    3.0507  -4.5744 \n",
       "1606  Topic17  21.555101    ear        22.525539    3.0502  -4.5869 \n",
       "552   Topic17  21.352871    obviou     22.320919    3.0499  -4.5963 \n",
       "1940  Topic17  21.252895    dramat     22.220982    3.0497  -4.6010 \n",
       "713   Topic17  20.791208    insecur    21.759695    3.0487  -4.6230 \n",
       "258   Topic17  20.765436    lean       21.733501    3.0487  -4.6242 \n",
       "213   Topic17  20.752764    thin       21.720812    3.0486  -4.6249 \n",
       "662   Topic17  20.267141    except     21.269360    3.0460  -4.6485 \n",
       "491   Topic17  19.573105    american   20.541155    3.0460  -4.6834 \n",
       "632   Topic17  16.412331    keen       17.380379    3.0369  -4.8595 \n",
       "343   Topic17  15.396471    siberian   16.364519    3.0333  -4.9234 \n",
       "647   Topic17  27.618729    clever     29.575243    3.0258  -4.3390 \n",
       "\n",
       "[605 rows x 6 columns], token_table=      Topic      Freq        Term\n",
       "term                             \n",
       "316   12     0.983899  absolut   \n",
       "612   15     0.893605  accept    \n",
       "1108  14     0.879853  accident  \n",
       "7     2      0.996028  activ     \n",
       "85    1      0.988798  addit     \n",
       "34    11     0.997725  adopt     \n",
       "244   8      0.990217  adventur  \n",
       "107   7      0.997289  affection \n",
       "731   7      0.945085  affili    \n",
       "356   10     0.995173  afford    \n",
       "62    9      0.956317  afraid    \n",
       "111   1      0.970866  age       \n",
       "259   3      0.966211  aggress   \n",
       "894   16     0.642361  agreeabl  \n",
       "531   15     0.909238  alert     \n",
       "128   13     0.991315  alon      \n",
       "728   8      0.995597  alter     \n",
       "129   15     0.998098  amaz      \n",
       "491   17     0.973655  american  \n",
       "1103  6      0.451214  amic      \n",
       "1103  7      0.128918  amic      \n",
       "1103  8      0.064459  amic      \n",
       "1103  11     0.322296  amic      \n",
       "1090  14     0.881257  amus      \n",
       "996   14     0.938153  anatolian \n",
       "257   1      0.982954  anxiou    \n",
       "2560  1      0.126283  appi      \n",
       "2560  5      0.757701  appi      \n",
       "2560  10     0.084189  appi      \n",
       "109   3      0.988515  appropri  \n",
       "...   ..          ...   ...      \n",
       "306   13     0.808808  vast      \n",
       "306   15     0.070331  vast      \n",
       "306   17     0.070331  vast      \n",
       "2228  1      0.029533  vet       \n",
       "2228  5      0.029533  vet       \n",
       "2228  7      0.088599  vet       \n",
       "2228  12     0.856454  vet       \n",
       "283   6      0.983563  veterinari\n",
       "738   7      0.871305  vigil     \n",
       "2555  10     0.837541  vile      \n",
       "430   9      0.966010  vocal     \n",
       "174   13     0.982740  wari      \n",
       "460   8      0.980057  warm      \n",
       "1499  5      0.942964  weekli    \n",
       "55    16     0.998685  well      \n",
       "832   7      0.896930  whippet   \n",
       "133   13     0.990856  whole     \n",
       "980   9      0.954626  whop      \n",
       "235   11     0.944068  wide      \n",
       "47    8      0.996280  will      \n",
       "2510  4      0.557735  wire      \n",
       "2510  7      0.278868  wire      \n",
       "23    7      0.997999  wonder    \n",
       "1340  8      0.041664  wonki     \n",
       "1340  10     0.749957  wonki     \n",
       "1340  13     0.166657  wonki     \n",
       "295   9      0.974973  worth     \n",
       "2331  9      0.961665  yearli    \n",
       "747   10     0.975045  yorki     \n",
       "1109  17     0.972859  zealou    \n",
       "\n",
       "[671 rows x 3 columns], R=30, lambda_step=0.01, plot_opts={'xlab': 'PC1', 'ylab': 'PC2'}, topic_order=[9, 1, 10, 5, 16, 8, 12, 4, 17, 3, 11, 2, 14, 6, 13, 7, 15])"
      ]
     },
     "execution_count": 430,
     "metadata": {},
     "output_type": "execute_result"
    }
   ],
   "source": [
    "pyLDAvis.enable_notebook()\n",
    "LDAvis_prepared = pyLDAvis.gensim.prepare(model_list[5], corpus_adj_tfidf, dictionary_descr_adj)\n",
    "LDAvis_prepared"
   ]
  },
  {
   "cell_type": "code",
   "execution_count": 373,
   "metadata": {
    "ExecuteTime": {
     "end_time": "2019-09-25T20:25:30.009524Z",
     "start_time": "2019-09-25T20:25:30.004696Z"
    }
   },
   "outputs": [],
   "source": [
    "the_model = model_list[5]"
   ]
  },
  {
   "cell_type": "code",
   "execution_count": 541,
   "metadata": {
    "ExecuteTime": {
     "end_time": "2019-09-28T04:07:14.509187Z",
     "start_time": "2019-09-28T04:07:14.500831Z"
    }
   },
   "outputs": [],
   "source": [
    "test_corp = dictionary_descr_adj.doc2bow(\n",
    "    [\n",
    "        \"Outgoing\",\n",
    "        \"Amazing\",\n",
    "        \"energetic\",\n",
    "        \"trainable\",\n",
    "        \"Typical\",\n",
    "        \"puppy\",\n",
    "        \"Confident\",\n",
    "        \"loyal\",\n",
    "        \"Quiet\",\n",
    "        \"delightful\",\n",
    "        \"Wonderful\",\n",
    "        \"affectionate\",\n",
    "        \"nice\",\n",
    "        \"Playful\",\n",
    "        \"Calm\",\n",
    "        \"Active\",\n",
    "        \"Smart\",\n",
    "        \"Strong\",\n",
    "        \"secure\",\n",
    "        \"Ideal\",\n",
    "        \"Easy\",\n",
    "        \"going\",\n",
    "    ]\n",
    ")"
   ]
  },
  {
   "cell_type": "code",
   "execution_count": 544,
   "metadata": {
    "ExecuteTime": {
     "end_time": "2019-09-28T04:08:01.614828Z",
     "start_time": "2019-09-28T04:08:01.608703Z"
    }
   },
   "outputs": [],
   "source": [
    "test = pd.DataFrame(model_list[5].get_document_topics(test_corp, minimum_probability=0.08))"
   ]
  },
  {
   "cell_type": "code",
   "execution_count": 545,
   "metadata": {
    "ExecuteTime": {
     "end_time": "2019-09-28T04:08:02.292520Z",
     "start_time": "2019-09-28T04:08:02.283669Z"
    }
   },
   "outputs": [
    {
     "data": {
      "text/html": [
       "<div>\n",
       "<style scoped>\n",
       "    .dataframe tbody tr th:only-of-type {\n",
       "        vertical-align: middle;\n",
       "    }\n",
       "\n",
       "    .dataframe tbody tr th {\n",
       "        vertical-align: top;\n",
       "    }\n",
       "\n",
       "    .dataframe thead th {\n",
       "        text-align: right;\n",
       "    }\n",
       "</style>\n",
       "<table border=\"1\" class=\"dataframe\">\n",
       "  <thead>\n",
       "    <tr style=\"text-align: right;\">\n",
       "      <th></th>\n",
       "      <th>0</th>\n",
       "      <th>1</th>\n",
       "    </tr>\n",
       "  </thead>\n",
       "  <tbody>\n",
       "    <tr>\n",
       "      <th>0</th>\n",
       "      <td>11</td>\n",
       "      <td>0.352941</td>\n",
       "    </tr>\n",
       "    <tr>\n",
       "      <th>1</th>\n",
       "      <td>13</td>\n",
       "      <td>0.352941</td>\n",
       "    </tr>\n",
       "  </tbody>\n",
       "</table>\n",
       "</div>"
      ],
      "text/plain": [
       "    0         1\n",
       "0  11  0.352941\n",
       "1  13  0.352941"
      ]
     },
     "execution_count": 545,
     "metadata": {},
     "output_type": "execute_result"
    }
   ],
   "source": [
    "test"
   ]
  },
  {
   "cell_type": "code",
   "execution_count": 546,
   "metadata": {
    "ExecuteTime": {
     "end_time": "2019-09-28T04:08:12.449206Z",
     "start_time": "2019-09-28T04:08:12.443765Z"
    },
    "scrolled": true
   },
   "outputs": [],
   "source": [
    "# model_list[5].get_document_topics(['ugly'], minimum_probability=0.0)"
   ]
  },
  {
   "cell_type": "markdown",
   "metadata": {},
   "source": [
    "### Predict out, merge with all data and export for modeling"
   ]
  },
  {
   "cell_type": "code",
   "execution_count": 157,
   "metadata": {
    "ExecuteTime": {
     "end_time": "2019-09-25T00:49:11.119472Z",
     "start_time": "2019-09-25T00:49:11.093797Z"
    },
    "scrolled": true
   },
   "outputs": [],
   "source": [
    "lda_adj_topics = model_list[5].get_document_topics(corpus_adj_tfidf, minimum_probability=0.0)"
   ]
  },
  {
   "cell_type": "code",
   "execution_count": 494,
   "metadata": {
    "ExecuteTime": {
     "end_time": "2019-09-26T20:51:24.178136Z",
     "start_time": "2019-09-26T20:51:24.172680Z"
    }
   },
   "outputs": [],
   "source": [
    "list_top = pd.DataFrame(lda_adj_topics[0])[0]"
   ]
  },
  {
   "cell_type": "code",
   "execution_count": 497,
   "metadata": {
    "ExecuteTime": {
     "end_time": "2019-09-26T20:51:35.329739Z",
     "start_time": "2019-09-26T20:51:35.322740Z"
    }
   },
   "outputs": [
    {
     "data": {
      "text/plain": [
       "3"
      ]
     },
     "execution_count": 497,
     "metadata": {},
     "output_type": "execute_result"
    }
   ],
   "source": [
    "list_top[3]"
   ]
  },
  {
   "cell_type": "code",
   "execution_count": 499,
   "metadata": {
    "ExecuteTime": {
     "end_time": "2019-09-26T20:52:14.015925Z",
     "start_time": "2019-09-26T20:52:14.007068Z"
    }
   },
   "outputs": [
    {
     "data": {
      "text/plain": [
       "13"
      ]
     },
     "execution_count": 499,
     "metadata": {},
     "output_type": "execute_result"
    }
   ],
   "source": [
    "len([top for top in list_top if top in [0,2,3,4,6,7,8,9,10,11,12,13,16]])\n"
   ]
  },
  {
   "cell_type": "code",
   "execution_count": 158,
   "metadata": {
    "ExecuteTime": {
     "end_time": "2019-09-25T00:49:16.065687Z",
     "start_time": "2019-09-25T00:49:16.028804Z"
    }
   },
   "outputs": [
    {
     "name": "stdout",
     "output_type": "stream",
     "text": [
      "<class 'pandas.core.frame.DataFrame'>\n",
      "RangeIndex: 21938 entries, 0 to 21937\n",
      "Data columns (total 2 columns):\n",
      "desc_lemm_adj    20680 non-null object\n",
      "all_index        20680 non-null float64\n",
      "dtypes: float64(1), object(1)\n",
      "memory usage: 342.9+ KB\n"
     ]
    }
   ],
   "source": [
    "adj_words_df =pd.DataFrame(adj_words)\n",
    "adj_words_df['all_index'] = adj_words_df.index\n",
    "adj_words_df = adj_words_df.reindex(range(0,21938))\n",
    "adj_words_df.info()"
   ]
  },
  {
   "cell_type": "code",
   "execution_count": 159,
   "metadata": {
    "ExecuteTime": {
     "end_time": "2019-09-25T00:49:22.410648Z",
     "start_time": "2019-09-25T00:49:17.315798Z"
    }
   },
   "outputs": [],
   "source": [
    "lda_topics_df  = pd.DataFrame(lda_adj_topics)"
   ]
  },
  {
   "cell_type": "code",
   "execution_count": 160,
   "metadata": {
    "ExecuteTime": {
     "end_time": "2019-09-25T00:49:24.023250Z",
     "start_time": "2019-09-25T00:49:23.957105Z"
    }
   },
   "outputs": [
    {
     "name": "stdout",
     "output_type": "stream",
     "text": [
      "<class 'pandas.core.frame.DataFrame'>\n",
      "RangeIndex: 21144 entries, 0 to 21143\n",
      "Data columns (total 17 columns):\n",
      "0     21144 non-null object\n",
      "1     21144 non-null object\n",
      "2     21144 non-null object\n",
      "3     21144 non-null object\n",
      "4     21144 non-null object\n",
      "5     21144 non-null object\n",
      "6     21144 non-null object\n",
      "7     21144 non-null object\n",
      "8     21144 non-null object\n",
      "9     21144 non-null object\n",
      "10    21144 non-null object\n",
      "11    21144 non-null object\n",
      "12    21144 non-null object\n",
      "13    21144 non-null object\n",
      "14    21144 non-null object\n",
      "15    21144 non-null object\n",
      "16    21144 non-null object\n",
      "dtypes: object(17)\n",
      "memory usage: 2.7+ MB\n"
     ]
    }
   ],
   "source": [
    "lda_topics_df.info()"
   ]
  },
  {
   "cell_type": "code",
   "execution_count": 161,
   "metadata": {
    "ExecuteTime": {
     "end_time": "2019-09-25T00:49:33.713397Z",
     "start_time": "2019-09-25T00:49:33.691153Z"
    },
    "scrolled": true
   },
   "outputs": [],
   "source": [
    "all_data_topics_df = pd.concat([adj_words_df, lda_topics_df], axis=1)"
   ]
  },
  {
   "cell_type": "code",
   "execution_count": 162,
   "metadata": {
    "ExecuteTime": {
     "end_time": "2019-09-25T00:49:35.110644Z",
     "start_time": "2019-09-25T00:49:34.963504Z"
    },
    "scrolled": true
   },
   "outputs": [
    {
     "name": "stdout",
     "output_type": "stream",
     "text": [
      "<class 'pandas.core.frame.DataFrame'>\n",
      "RangeIndex: 21938 entries, 0 to 21937\n",
      "Data columns (total 19 columns):\n",
      "desc_lemm_adj    20680 non-null object\n",
      "all_index        20680 non-null float64\n",
      "0                21144 non-null object\n",
      "1                21144 non-null object\n",
      "2                21144 non-null object\n",
      "3                21144 non-null object\n",
      "4                21144 non-null object\n",
      "5                21144 non-null object\n",
      "6                21144 non-null object\n",
      "7                21144 non-null object\n",
      "8                21144 non-null object\n",
      "9                21144 non-null object\n",
      "10               21144 non-null object\n",
      "11               21144 non-null object\n",
      "12               21144 non-null object\n",
      "13               21144 non-null object\n",
      "14               21144 non-null object\n",
      "15               21144 non-null object\n",
      "16               21144 non-null object\n",
      "dtypes: float64(1), object(18)\n",
      "memory usage: 3.2+ MB\n"
     ]
    }
   ],
   "source": [
    "all_data_topics_df.info()"
   ]
  },
  {
   "cell_type": "code",
   "execution_count": 166,
   "metadata": {
    "ExecuteTime": {
     "end_time": "2019-09-25T00:51:20.250339Z",
     "start_time": "2019-09-25T00:51:20.244169Z"
    }
   },
   "outputs": [],
   "source": [
    "all_data_topics_df.columns = [\n",
    "    \"desc_lemm_adj\",\n",
    "    \"all_index\",\n",
    "    \"topic_1\",\n",
    "    \"topic_2\",\n",
    "    \"topic_3\",\n",
    "    \"topic_4\",\n",
    "    \"topic_5\",\n",
    "    \"topic_6\",\n",
    "    \"topic_7\",\n",
    "    \"topic_8\",\n",
    "    \"topic_9\",\n",
    "    \"topic_10\",\n",
    "    \"topic_11\",\n",
    "    \"topic_12\",\n",
    "    \"topic_13\",\n",
    "    \"topic_14\",\n",
    "    \"topic_15\",\n",
    "    \"topic_16\",\n",
    "    \"topic_17\"\n",
    "]"
   ]
  },
  {
   "cell_type": "code",
   "execution_count": 167,
   "metadata": {
    "ExecuteTime": {
     "end_time": "2019-09-25T00:51:23.776765Z",
     "start_time": "2019-09-25T00:51:23.525778Z"
    }
   },
   "outputs": [],
   "source": [
    "dog_data_SF_w_tps = dog_data_SF_19_full.merge(\n",
    "    all_data_topics_df,\n",
    "    how=\"inner\",\n",
    "    left_index=True,\n",
    "    right_on='all_index'\n",
    ")"
   ]
  },
  {
   "cell_type": "code",
   "execution_count": 168,
   "metadata": {
    "ExecuteTime": {
     "end_time": "2019-09-25T00:51:25.687278Z",
     "start_time": "2019-09-25T00:51:25.442633Z"
    },
    "scrolled": true
   },
   "outputs": [
    {
     "name": "stdout",
     "output_type": "stream",
     "text": [
      "<class 'pandas.core.frame.DataFrame'>\n",
      "Int64Index: 20680 entries, 0 to 21937\n",
      "Data columns (total 93 columns):\n",
      "num_photo                     20680 non-null int64\n",
      "url                           20680 non-null object\n",
      "age                           20680 non-null object\n",
      "gender                        20680 non-null object\n",
      "size                          20680 non-null object\n",
      "coat                          17494 non-null object\n",
      "name                          20680 non-null object\n",
      "status                        20680 non-null object\n",
      "breeds.primary                20680 non-null object\n",
      "breeds.mixed                  20680 non-null int64\n",
      "colors.primary                17414 non-null object\n",
      "attributes.spayed_neutered    20680 non-null int64\n",
      "attributes.house_trained      20680 non-null int64\n",
      "attributes.special_needs      20680 non-null int64\n",
      "attributes.shots_current      20680 non-null int64\n",
      "environment.children          10504 non-null object\n",
      "environment.dogs              13089 non-null object\n",
      "environment.cats              6798 non-null object\n",
      "contact.address.city          20680 non-null object\n",
      "animal_id                     20680 non-null int64\n",
      "pub_year                      20680 non-null int64\n",
      "pub_month                     20680 non-null int64\n",
      "pub_time                      20680 non-null object\n",
      "stat_time                     20680 non-null object\n",
      "time_in_shelter               20680 non-null float64\n",
      "easy_adopt                    20680 non-null int64\n",
      "tags_cln                      3218 non-null object\n",
      "tags_top                      2839 non-null object\n",
      "num_tags                      20680 non-null int64\n",
      "missing_description           20680 non-null int64\n",
      "colors_cat                    17414 non-null object\n",
      "age_Adult                     20680 non-null int64\n",
      "age_Baby                      20680 non-null int64\n",
      "age_Senior                    20680 non-null int64\n",
      "age_Young                     20680 non-null int64\n",
      "gender_Female                 20680 non-null int64\n",
      "gender_Male                   20680 non-null int64\n",
      "size_Extra Large              20680 non-null int64\n",
      "size_Large                    20680 non-null int64\n",
      "size_Medium                   20680 non-null int64\n",
      "size_Small                    20680 non-null int64\n",
      "coat_Curly                    20680 non-null int64\n",
      "coat_Hairless                 20680 non-null int64\n",
      "coat_Long                     20680 non-null int64\n",
      "coat_Medium                   20680 non-null int64\n",
      "coat_Short                    20680 non-null int64\n",
      "coat_Wire                     20680 non-null int64\n",
      "colors_cat_ct_dark            20680 non-null int64\n",
      "colors_cat_ct_light           20680 non-null int64\n",
      "colors_cat_ct_med             20680 non-null int64\n",
      "pub_month_1                   20680 non-null int64\n",
      "pub_month_2                   20680 non-null int64\n",
      "pub_month_3                   20680 non-null int64\n",
      "pub_month_4                   20680 non-null int64\n",
      "pub_month_5                   20680 non-null int64\n",
      "pub_month_6                   20680 non-null int64\n",
      "pub_month_7                   20680 non-null int64\n",
      "pub_month_8                   20680 non-null int64\n",
      "pub_month_9                   20680 non-null int64\n",
      "pub_month_10                  20680 non-null int64\n",
      "pub_month_11                  20680 non-null int64\n",
      "pub_month_12                  20680 non-null int64\n",
      "tags_top_active               20680 non-null int64\n",
      "tags_top_friendly             20680 non-null int64\n",
      "tags_top_loving               20680 non-null int64\n",
      "tags_top_playful              20680 non-null int64\n",
      "tags_top_sweet                20680 non-null int64\n",
      "time_adpt_med                 20680 non-null int64\n",
      "pet_id                        20680 non-null int64\n",
      "full_description              20680 non-null object\n",
      "desc_full_clean               20680 non-null object\n",
      "len_descr                     20680 non-null float64\n",
      "desc_lemm_adj_x               20680 non-null object\n",
      "desc_lemm_st                  20680 non-null object\n",
      "desc_lemm_adj_y               20680 non-null object\n",
      "all_index                     20680 non-null float64\n",
      "topic_1                       19933 non-null object\n",
      "topic_2                       19933 non-null object\n",
      "topic_3                       19933 non-null object\n",
      "topic_4                       19933 non-null object\n",
      "topic_5                       19933 non-null object\n",
      "topic_6                       19933 non-null object\n",
      "topic_7                       19933 non-null object\n",
      "topic_8                       19933 non-null object\n",
      "topic_9                       19933 non-null object\n",
      "topic_10                      19933 non-null object\n",
      "topic_11                      19933 non-null object\n",
      "topic_12                      19933 non-null object\n",
      "topic_13                      19933 non-null object\n",
      "topic_14                      19933 non-null object\n",
      "topic_15                      19933 non-null object\n",
      "topic_16                      19933 non-null object\n",
      "topic_17                      19933 non-null object\n",
      "dtypes: float64(3), int64(50), object(40)\n",
      "memory usage: 14.8+ MB\n"
     ]
    }
   ],
   "source": [
    "dog_data_SF_w_tps.info()"
   ]
  },
  {
   "cell_type": "code",
   "execution_count": 179,
   "metadata": {
    "ExecuteTime": {
     "end_time": "2019-09-25T02:10:30.785127Z",
     "start_time": "2019-09-25T02:10:30.677634Z"
    }
   },
   "outputs": [],
   "source": [
    "dog_data_SF_w_tps = dog_data_SF_w_tps.dropna(subset=[\"topic_1\"])\n"
   ]
  },
  {
   "cell_type": "code",
   "execution_count": 180,
   "metadata": {
    "ExecuteTime": {
     "end_time": "2019-09-25T02:10:31.640092Z",
     "start_time": "2019-09-25T02:10:31.625101Z"
    }
   },
   "outputs": [
    {
     "data": {
      "text/plain": [
       "19933"
      ]
     },
     "execution_count": 180,
     "metadata": {},
     "output_type": "execute_result"
    }
   ],
   "source": [
    "sum(dog_data_SF_w_tps['desc_lemm_adj_x'] == dog_data_SF_w_tps['desc_lemm_adj_y'])"
   ]
  },
  {
   "cell_type": "code",
   "execution_count": 181,
   "metadata": {
    "ExecuteTime": {
     "end_time": "2019-09-25T02:10:35.377082Z",
     "start_time": "2019-09-25T02:10:35.365871Z"
    }
   },
   "outputs": [
    {
     "data": {
      "text/plain": [
       "0.016368382"
      ]
     },
     "execution_count": 181,
     "metadata": {},
     "output_type": "execute_result"
    }
   ],
   "source": [
    "dog_data_SF_w_tps['topic_17'][1][1]"
   ]
  },
  {
   "cell_type": "code",
   "execution_count": 256,
   "metadata": {
    "ExecuteTime": {
     "end_time": "2019-09-25T03:03:45.403255Z",
     "start_time": "2019-09-25T03:03:45.398409Z"
    }
   },
   "outputs": [],
   "source": [
    "def convert_topic_val(topic_tpl, thres_topc=0.2):\n",
    "    value = topic_tpl[1]\n",
    "    if value > thres_topc:\n",
    "        return 1\n",
    "    else:\n",
    "        return 0"
   ]
  },
  {
   "cell_type": "code",
   "execution_count": 257,
   "metadata": {
    "ExecuteTime": {
     "end_time": "2019-09-25T03:03:47.388905Z",
     "start_time": "2019-09-25T03:03:46.475556Z"
    }
   },
   "outputs": [],
   "source": [
    "for row in [\n",
    "    \"topic_1\",\n",
    "    \"topic_2\",\n",
    "    \"topic_3\",\n",
    "    \"topic_4\",\n",
    "    \"topic_5\",\n",
    "    \"topic_6\",\n",
    "    \"topic_7\",\n",
    "    \"topic_8\",\n",
    "    \"topic_9\",\n",
    "    \"topic_10\",\n",
    "    \"topic_11\",\n",
    "    \"topic_12\",\n",
    "    \"topic_13\",\n",
    "    \"topic_14\",\n",
    "    \"topic_15\",\n",
    "    \"topic_16\",\n",
    "    \"topic_17\"\n",
    "]:\n",
    "    dog_data_SF_w_tps[row + \"_val\"] = dog_data_SF_w_tps[row].apply(convert_topic_val)"
   ]
  },
  {
   "cell_type": "code",
   "execution_count": 431,
   "metadata": {
    "ExecuteTime": {
     "end_time": "2019-09-26T03:53:40.476147Z",
     "start_time": "2019-09-26T03:53:40.111123Z"
    }
   },
   "outputs": [],
   "source": [
    "def convert_val(topic_tpl):\n",
    "    return topic_tpl[1]\n",
    "\n",
    "for row in [\n",
    "    \"topic_1\",\n",
    "    \"topic_2\",\n",
    "    \"topic_3\",\n",
    "    \"topic_4\",\n",
    "    \"topic_5\",\n",
    "    \"topic_6\",\n",
    "    \"topic_7\",\n",
    "    \"topic_8\",\n",
    "    \"topic_9\",\n",
    "    \"topic_10\",\n",
    "    \"topic_11\",\n",
    "    \"topic_12\",\n",
    "    \"topic_13\",\n",
    "    \"topic_14\",\n",
    "    \"topic_15\",\n",
    "    \"topic_16\",\n",
    "    \"topic_17\"\n",
    "]:\n",
    "    dog_data_SF_w_tps[row + \"_val_full\"] = dog_data_SF_w_tps[row].apply(convert_val)"
   ]
  },
  {
   "cell_type": "code",
   "execution_count": 448,
   "metadata": {
    "ExecuteTime": {
     "end_time": "2019-09-26T04:15:15.520860Z",
     "start_time": "2019-09-26T04:15:15.508434Z"
    }
   },
   "outputs": [
    {
     "data": {
      "text/plain": [
       "count    19933.000000\n",
       "mean     0.052010    \n",
       "std      0.077833    \n",
       "min      0.007903    \n",
       "25%      0.017681    \n",
       "50%      0.022260    \n",
       "75%      0.029412    \n",
       "max      0.609891    \n",
       "Name: topic_11_val_full, dtype: float64"
      ]
     },
     "execution_count": 448,
     "metadata": {},
     "output_type": "execute_result"
    }
   ],
   "source": [
    "dog_data_SF_w_tps['topic_11_val_full'].describe()"
   ]
  },
  {
   "cell_type": "code",
   "execution_count": 475,
   "metadata": {
    "ExecuteTime": {
     "end_time": "2019-09-26T20:43:36.415882Z",
     "start_time": "2019-09-26T20:43:36.413166Z"
    }
   },
   "outputs": [],
   "source": [
    "# dog_data_SF_w_tps['desc_full_clean'][dog_data_SF_w_tps['topic_11_val_full'] > 0.6]"
   ]
  },
  {
   "cell_type": "code",
   "execution_count": 258,
   "metadata": {
    "ExecuteTime": {
     "end_time": "2019-09-25T03:03:47.934541Z",
     "start_time": "2019-09-25T03:03:47.919047Z"
    }
   },
   "outputs": [
    {
     "name": "stdout",
     "output_type": "stream",
     "text": [
      "<class 'pandas.core.frame.DataFrame'>\n",
      "Int64Index: 19933 entries, 0 to 21143\n",
      "Columns: 110 entries, num_photo to topic_17_val\n",
      "dtypes: float64(3), int64(67), object(40)\n",
      "memory usage: 17.5+ MB\n"
     ]
    }
   ],
   "source": [
    "dog_data_SF_w_tps.info()"
   ]
  },
  {
   "cell_type": "code",
   "execution_count": 259,
   "metadata": {
    "ExecuteTime": {
     "end_time": "2019-09-25T03:03:52.372354Z",
     "start_time": "2019-09-25T03:03:49.212499Z"
    }
   },
   "outputs": [],
   "source": [
    "dog_data_SF_w_tps.to_csv(\"Model_Data/dog_data_w_tpcs_3_17_tps.csv\")\n",
    "\n"
   ]
  },
  {
   "cell_type": "markdown",
   "metadata": {},
   "source": [
    "## Initial validation"
   ]
  },
  {
   "cell_type": "code",
   "execution_count": 260,
   "metadata": {
    "ExecuteTime": {
     "end_time": "2019-09-25T03:03:55.736020Z",
     "start_time": "2019-09-25T03:03:55.731028Z"
    }
   },
   "outputs": [],
   "source": [
    "tags_col = [\n",
    "    \"tags_top_active\",\n",
    "    \"tags_top_loving\",\n",
    "    \"tags_top_playful\",\n",
    "    \"tags_top_sweet\",\n",
    "    \"tags_top_friendly\",\n",
    "]\n",
    "\n",
    "\n",
    "top_row = [\n",
    "    \"topic_1_val\",\n",
    "    \"topic_2_val\",\n",
    "    \"topic_3_val\",\n",
    "    \"topic_4_val\",\n",
    "    \"topic_5_val\",\n",
    "    \"topic_6_val\",\n",
    "    \"topic_7_val\",\n",
    "    \"topic_8_val\",\n",
    "    \"topic_9_val\",\n",
    "    \"topic_10_val\",\n",
    "    \"topic_11_val\",\n",
    "    \"topic_12_val\",\n",
    "    \"topic_13_val\",\n",
    "    \"topic_14_val\",\n",
    "    \"topic_15_val\",\n",
    "    \"topic_16_val\",\n",
    "    \"topic_17_val\",\n",
    "]"
   ]
  },
  {
   "cell_type": "code",
   "execution_count": 266,
   "metadata": {
    "ExecuteTime": {
     "end_time": "2019-09-25T03:06:33.731696Z",
     "start_time": "2019-09-25T03:06:33.641391Z"
    }
   },
   "outputs": [
    {
     "data": {
      "text/html": [
       "<div>\n",
       "<style scoped>\n",
       "    .dataframe tbody tr th:only-of-type {\n",
       "        vertical-align: middle;\n",
       "    }\n",
       "\n",
       "    .dataframe tbody tr th {\n",
       "        vertical-align: top;\n",
       "    }\n",
       "\n",
       "    .dataframe thead th {\n",
       "        text-align: right;\n",
       "    }\n",
       "</style>\n",
       "<table border=\"1\" class=\"dataframe\">\n",
       "  <thead>\n",
       "    <tr style=\"text-align: right;\">\n",
       "      <th></th>\n",
       "      <th>topic_1_val</th>\n",
       "      <th>topic_2_val</th>\n",
       "      <th>topic_3_val</th>\n",
       "      <th>topic_4_val</th>\n",
       "      <th>topic_5_val</th>\n",
       "      <th>topic_6_val</th>\n",
       "      <th>topic_7_val</th>\n",
       "      <th>topic_8_val</th>\n",
       "      <th>topic_9_val</th>\n",
       "      <th>topic_10_val</th>\n",
       "      <th>topic_11_val</th>\n",
       "      <th>topic_12_val</th>\n",
       "      <th>topic_13_val</th>\n",
       "      <th>topic_14_val</th>\n",
       "      <th>topic_15_val</th>\n",
       "      <th>topic_16_val</th>\n",
       "      <th>topic_17_val</th>\n",
       "    </tr>\n",
       "  </thead>\n",
       "  <tbody>\n",
       "    <tr>\n",
       "      <th>count</th>\n",
       "      <td>19933.000000</td>\n",
       "      <td>19933.000000</td>\n",
       "      <td>19933.000000</td>\n",
       "      <td>19933.000000</td>\n",
       "      <td>19933.000000</td>\n",
       "      <td>19933.000000</td>\n",
       "      <td>19933.000000</td>\n",
       "      <td>19933.000000</td>\n",
       "      <td>19933.000000</td>\n",
       "      <td>19933.000000</td>\n",
       "      <td>19933.000000</td>\n",
       "      <td>19933.000000</td>\n",
       "      <td>19933.000000</td>\n",
       "      <td>19933.000000</td>\n",
       "      <td>19933.000000</td>\n",
       "      <td>19933.000000</td>\n",
       "      <td>19933.000000</td>\n",
       "    </tr>\n",
       "    <tr>\n",
       "      <th>mean</th>\n",
       "      <td>0.126173</td>\n",
       "      <td>0.107360</td>\n",
       "      <td>0.059148</td>\n",
       "      <td>0.056740</td>\n",
       "      <td>0.072593</td>\n",
       "      <td>0.053379</td>\n",
       "      <td>0.061958</td>\n",
       "      <td>0.061757</td>\n",
       "      <td>0.126123</td>\n",
       "      <td>0.085436</td>\n",
       "      <td>0.058245</td>\n",
       "      <td>0.067275</td>\n",
       "      <td>0.049115</td>\n",
       "      <td>0.050971</td>\n",
       "      <td>0.041389</td>\n",
       "      <td>0.052877</td>\n",
       "      <td>0.055335</td>\n",
       "    </tr>\n",
       "    <tr>\n",
       "      <th>std</th>\n",
       "      <td>0.332052</td>\n",
       "      <td>0.309578</td>\n",
       "      <td>0.235908</td>\n",
       "      <td>0.231351</td>\n",
       "      <td>0.259474</td>\n",
       "      <td>0.224793</td>\n",
       "      <td>0.241084</td>\n",
       "      <td>0.240720</td>\n",
       "      <td>0.331996</td>\n",
       "      <td>0.279537</td>\n",
       "      <td>0.234212</td>\n",
       "      <td>0.250505</td>\n",
       "      <td>0.216113</td>\n",
       "      <td>0.219944</td>\n",
       "      <td>0.199192</td>\n",
       "      <td>0.223794</td>\n",
       "      <td>0.228639</td>\n",
       "    </tr>\n",
       "    <tr>\n",
       "      <th>min</th>\n",
       "      <td>0.000000</td>\n",
       "      <td>0.000000</td>\n",
       "      <td>0.000000</td>\n",
       "      <td>0.000000</td>\n",
       "      <td>0.000000</td>\n",
       "      <td>0.000000</td>\n",
       "      <td>0.000000</td>\n",
       "      <td>0.000000</td>\n",
       "      <td>0.000000</td>\n",
       "      <td>0.000000</td>\n",
       "      <td>0.000000</td>\n",
       "      <td>0.000000</td>\n",
       "      <td>0.000000</td>\n",
       "      <td>0.000000</td>\n",
       "      <td>0.000000</td>\n",
       "      <td>0.000000</td>\n",
       "      <td>0.000000</td>\n",
       "    </tr>\n",
       "    <tr>\n",
       "      <th>25%</th>\n",
       "      <td>0.000000</td>\n",
       "      <td>0.000000</td>\n",
       "      <td>0.000000</td>\n",
       "      <td>0.000000</td>\n",
       "      <td>0.000000</td>\n",
       "      <td>0.000000</td>\n",
       "      <td>0.000000</td>\n",
       "      <td>0.000000</td>\n",
       "      <td>0.000000</td>\n",
       "      <td>0.000000</td>\n",
       "      <td>0.000000</td>\n",
       "      <td>0.000000</td>\n",
       "      <td>0.000000</td>\n",
       "      <td>0.000000</td>\n",
       "      <td>0.000000</td>\n",
       "      <td>0.000000</td>\n",
       "      <td>0.000000</td>\n",
       "    </tr>\n",
       "    <tr>\n",
       "      <th>50%</th>\n",
       "      <td>0.000000</td>\n",
       "      <td>0.000000</td>\n",
       "      <td>0.000000</td>\n",
       "      <td>0.000000</td>\n",
       "      <td>0.000000</td>\n",
       "      <td>0.000000</td>\n",
       "      <td>0.000000</td>\n",
       "      <td>0.000000</td>\n",
       "      <td>0.000000</td>\n",
       "      <td>0.000000</td>\n",
       "      <td>0.000000</td>\n",
       "      <td>0.000000</td>\n",
       "      <td>0.000000</td>\n",
       "      <td>0.000000</td>\n",
       "      <td>0.000000</td>\n",
       "      <td>0.000000</td>\n",
       "      <td>0.000000</td>\n",
       "    </tr>\n",
       "    <tr>\n",
       "      <th>75%</th>\n",
       "      <td>0.000000</td>\n",
       "      <td>0.000000</td>\n",
       "      <td>0.000000</td>\n",
       "      <td>0.000000</td>\n",
       "      <td>0.000000</td>\n",
       "      <td>0.000000</td>\n",
       "      <td>0.000000</td>\n",
       "      <td>0.000000</td>\n",
       "      <td>0.000000</td>\n",
       "      <td>0.000000</td>\n",
       "      <td>0.000000</td>\n",
       "      <td>0.000000</td>\n",
       "      <td>0.000000</td>\n",
       "      <td>0.000000</td>\n",
       "      <td>0.000000</td>\n",
       "      <td>0.000000</td>\n",
       "      <td>0.000000</td>\n",
       "    </tr>\n",
       "    <tr>\n",
       "      <th>max</th>\n",
       "      <td>1.000000</td>\n",
       "      <td>1.000000</td>\n",
       "      <td>1.000000</td>\n",
       "      <td>1.000000</td>\n",
       "      <td>1.000000</td>\n",
       "      <td>1.000000</td>\n",
       "      <td>1.000000</td>\n",
       "      <td>1.000000</td>\n",
       "      <td>1.000000</td>\n",
       "      <td>1.000000</td>\n",
       "      <td>1.000000</td>\n",
       "      <td>1.000000</td>\n",
       "      <td>1.000000</td>\n",
       "      <td>1.000000</td>\n",
       "      <td>1.000000</td>\n",
       "      <td>1.000000</td>\n",
       "      <td>1.000000</td>\n",
       "    </tr>\n",
       "  </tbody>\n",
       "</table>\n",
       "</div>"
      ],
      "text/plain": [
       "        topic_1_val   topic_2_val   topic_3_val   topic_4_val   topic_5_val  \\\n",
       "count  19933.000000  19933.000000  19933.000000  19933.000000  19933.000000   \n",
       "mean   0.126173      0.107360      0.059148      0.056740      0.072593       \n",
       "std    0.332052      0.309578      0.235908      0.231351      0.259474       \n",
       "min    0.000000      0.000000      0.000000      0.000000      0.000000       \n",
       "25%    0.000000      0.000000      0.000000      0.000000      0.000000       \n",
       "50%    0.000000      0.000000      0.000000      0.000000      0.000000       \n",
       "75%    0.000000      0.000000      0.000000      0.000000      0.000000       \n",
       "max    1.000000      1.000000      1.000000      1.000000      1.000000       \n",
       "\n",
       "        topic_6_val   topic_7_val   topic_8_val   topic_9_val  topic_10_val  \\\n",
       "count  19933.000000  19933.000000  19933.000000  19933.000000  19933.000000   \n",
       "mean   0.053379      0.061958      0.061757      0.126123      0.085436       \n",
       "std    0.224793      0.241084      0.240720      0.331996      0.279537       \n",
       "min    0.000000      0.000000      0.000000      0.000000      0.000000       \n",
       "25%    0.000000      0.000000      0.000000      0.000000      0.000000       \n",
       "50%    0.000000      0.000000      0.000000      0.000000      0.000000       \n",
       "75%    0.000000      0.000000      0.000000      0.000000      0.000000       \n",
       "max    1.000000      1.000000      1.000000      1.000000      1.000000       \n",
       "\n",
       "       topic_11_val  topic_12_val  topic_13_val  topic_14_val  topic_15_val  \\\n",
       "count  19933.000000  19933.000000  19933.000000  19933.000000  19933.000000   \n",
       "mean   0.058245      0.067275      0.049115      0.050971      0.041389       \n",
       "std    0.234212      0.250505      0.216113      0.219944      0.199192       \n",
       "min    0.000000      0.000000      0.000000      0.000000      0.000000       \n",
       "25%    0.000000      0.000000      0.000000      0.000000      0.000000       \n",
       "50%    0.000000      0.000000      0.000000      0.000000      0.000000       \n",
       "75%    0.000000      0.000000      0.000000      0.000000      0.000000       \n",
       "max    1.000000      1.000000      1.000000      1.000000      1.000000       \n",
       "\n",
       "       topic_16_val  topic_17_val  \n",
       "count  19933.000000  19933.000000  \n",
       "mean   0.052877      0.055335      \n",
       "std    0.223794      0.228639      \n",
       "min    0.000000      0.000000      \n",
       "25%    0.000000      0.000000      \n",
       "50%    0.000000      0.000000      \n",
       "75%    0.000000      0.000000      \n",
       "max    1.000000      1.000000      "
      ]
     },
     "execution_count": 266,
     "metadata": {},
     "output_type": "execute_result"
    }
   ],
   "source": [
    "dog_data_SF_w_tps[top_row].describe()"
   ]
  },
  {
   "cell_type": "code",
   "execution_count": 274,
   "metadata": {
    "ExecuteTime": {
     "end_time": "2019-09-25T03:10:57.381771Z",
     "start_time": "2019-09-25T03:10:57.347054Z"
    }
   },
   "outputs": [
    {
     "data": {
      "text/html": [
       "<div>\n",
       "<style scoped>\n",
       "    .dataframe tbody tr th:only-of-type {\n",
       "        vertical-align: middle;\n",
       "    }\n",
       "\n",
       "    .dataframe tbody tr th {\n",
       "        vertical-align: top;\n",
       "    }\n",
       "\n",
       "    .dataframe thead th {\n",
       "        text-align: right;\n",
       "    }\n",
       "</style>\n",
       "<table border=\"1\" class=\"dataframe\">\n",
       "  <thead>\n",
       "    <tr style=\"text-align: right;\">\n",
       "      <th></th>\n",
       "      <th>tags_top_active</th>\n",
       "      <th>tags_top_loving</th>\n",
       "      <th>tags_top_playful</th>\n",
       "      <th>tags_top_sweet</th>\n",
       "      <th>tags_top_friendly</th>\n",
       "    </tr>\n",
       "  </thead>\n",
       "  <tbody>\n",
       "    <tr>\n",
       "      <th>count</th>\n",
       "      <td>19933.000000</td>\n",
       "      <td>19933.000000</td>\n",
       "      <td>19933.000000</td>\n",
       "      <td>19933.000000</td>\n",
       "      <td>19933.000000</td>\n",
       "    </tr>\n",
       "    <tr>\n",
       "      <th>mean</th>\n",
       "      <td>0.003110</td>\n",
       "      <td>0.068530</td>\n",
       "      <td>0.033713</td>\n",
       "      <td>0.016555</td>\n",
       "      <td>0.016505</td>\n",
       "    </tr>\n",
       "    <tr>\n",
       "      <th>std</th>\n",
       "      <td>0.055686</td>\n",
       "      <td>0.252659</td>\n",
       "      <td>0.180494</td>\n",
       "      <td>0.127602</td>\n",
       "      <td>0.127411</td>\n",
       "    </tr>\n",
       "    <tr>\n",
       "      <th>min</th>\n",
       "      <td>0.000000</td>\n",
       "      <td>0.000000</td>\n",
       "      <td>0.000000</td>\n",
       "      <td>0.000000</td>\n",
       "      <td>0.000000</td>\n",
       "    </tr>\n",
       "    <tr>\n",
       "      <th>25%</th>\n",
       "      <td>0.000000</td>\n",
       "      <td>0.000000</td>\n",
       "      <td>0.000000</td>\n",
       "      <td>0.000000</td>\n",
       "      <td>0.000000</td>\n",
       "    </tr>\n",
       "    <tr>\n",
       "      <th>50%</th>\n",
       "      <td>0.000000</td>\n",
       "      <td>0.000000</td>\n",
       "      <td>0.000000</td>\n",
       "      <td>0.000000</td>\n",
       "      <td>0.000000</td>\n",
       "    </tr>\n",
       "    <tr>\n",
       "      <th>75%</th>\n",
       "      <td>0.000000</td>\n",
       "      <td>0.000000</td>\n",
       "      <td>0.000000</td>\n",
       "      <td>0.000000</td>\n",
       "      <td>0.000000</td>\n",
       "    </tr>\n",
       "    <tr>\n",
       "      <th>max</th>\n",
       "      <td>1.000000</td>\n",
       "      <td>1.000000</td>\n",
       "      <td>1.000000</td>\n",
       "      <td>1.000000</td>\n",
       "      <td>1.000000</td>\n",
       "    </tr>\n",
       "  </tbody>\n",
       "</table>\n",
       "</div>"
      ],
      "text/plain": [
       "       tags_top_active  tags_top_loving  tags_top_playful  tags_top_sweet  \\\n",
       "count  19933.000000     19933.000000     19933.000000      19933.000000     \n",
       "mean   0.003110         0.068530         0.033713          0.016555         \n",
       "std    0.055686         0.252659         0.180494          0.127602         \n",
       "min    0.000000         0.000000         0.000000          0.000000         \n",
       "25%    0.000000         0.000000         0.000000          0.000000         \n",
       "50%    0.000000         0.000000         0.000000          0.000000         \n",
       "75%    0.000000         0.000000         0.000000          0.000000         \n",
       "max    1.000000         1.000000         1.000000          1.000000         \n",
       "\n",
       "       tags_top_friendly  \n",
       "count  19933.000000       \n",
       "mean   0.016505           \n",
       "std    0.127411           \n",
       "min    0.000000           \n",
       "25%    0.000000           \n",
       "50%    0.000000           \n",
       "75%    0.000000           \n",
       "max    1.000000           "
      ]
     },
     "execution_count": 274,
     "metadata": {},
     "output_type": "execute_result"
    }
   ],
   "source": [
    "dog_data_SF_w_tps[tags_col].describe()"
   ]
  },
  {
   "cell_type": "code",
   "execution_count": 288,
   "metadata": {
    "ExecuteTime": {
     "end_time": "2019-09-25T03:13:43.552915Z",
     "start_time": "2019-09-25T03:13:43.521596Z"
    }
   },
   "outputs": [],
   "source": [
    "table = pd.pivot_table(dog_data_SF_w_tps, values= top_row, index= tags_col, aggfunc=np.mean)"
   ]
  },
  {
   "cell_type": "code",
   "execution_count": 289,
   "metadata": {
    "ExecuteTime": {
     "end_time": "2019-09-25T03:13:44.863762Z",
     "start_time": "2019-09-25T03:13:44.830519Z"
    },
    "scrolled": true
   },
   "outputs": [
    {
     "data": {
      "text/html": [
       "<div>\n",
       "<style scoped>\n",
       "    .dataframe tbody tr th:only-of-type {\n",
       "        vertical-align: middle;\n",
       "    }\n",
       "\n",
       "    .dataframe tbody tr th {\n",
       "        vertical-align: top;\n",
       "    }\n",
       "\n",
       "    .dataframe thead th {\n",
       "        text-align: right;\n",
       "    }\n",
       "</style>\n",
       "<table border=\"1\" class=\"dataframe\">\n",
       "  <thead>\n",
       "    <tr style=\"text-align: right;\">\n",
       "      <th></th>\n",
       "      <th></th>\n",
       "      <th></th>\n",
       "      <th></th>\n",
       "      <th></th>\n",
       "      <th>topic_10_val</th>\n",
       "      <th>topic_11_val</th>\n",
       "      <th>topic_12_val</th>\n",
       "      <th>topic_13_val</th>\n",
       "      <th>topic_14_val</th>\n",
       "      <th>topic_15_val</th>\n",
       "      <th>topic_16_val</th>\n",
       "      <th>topic_17_val</th>\n",
       "      <th>topic_1_val</th>\n",
       "      <th>topic_2_val</th>\n",
       "      <th>topic_3_val</th>\n",
       "      <th>topic_4_val</th>\n",
       "      <th>topic_5_val</th>\n",
       "      <th>topic_6_val</th>\n",
       "      <th>topic_7_val</th>\n",
       "      <th>topic_8_val</th>\n",
       "      <th>topic_9_val</th>\n",
       "    </tr>\n",
       "    <tr>\n",
       "      <th>tags_top_active</th>\n",
       "      <th>tags_top_loving</th>\n",
       "      <th>tags_top_playful</th>\n",
       "      <th>tags_top_sweet</th>\n",
       "      <th>tags_top_friendly</th>\n",
       "      <th></th>\n",
       "      <th></th>\n",
       "      <th></th>\n",
       "      <th></th>\n",
       "      <th></th>\n",
       "      <th></th>\n",
       "      <th></th>\n",
       "      <th></th>\n",
       "      <th></th>\n",
       "      <th></th>\n",
       "      <th></th>\n",
       "      <th></th>\n",
       "      <th></th>\n",
       "      <th></th>\n",
       "      <th></th>\n",
       "      <th></th>\n",
       "      <th></th>\n",
       "    </tr>\n",
       "  </thead>\n",
       "  <tbody>\n",
       "    <tr>\n",
       "      <th rowspan=\"5\" valign=\"top\">0</th>\n",
       "      <th rowspan=\"4\" valign=\"top\">0</th>\n",
       "      <th rowspan=\"3\" valign=\"top\">0</th>\n",
       "      <th rowspan=\"2\" valign=\"top\">0</th>\n",
       "      <th>0</th>\n",
       "      <td>0.09</td>\n",
       "      <td>0.06</td>\n",
       "      <td>0.07</td>\n",
       "      <td>0.05</td>\n",
       "      <td>0.05</td>\n",
       "      <td>0.04</td>\n",
       "      <td>0.05</td>\n",
       "      <td>0.05</td>\n",
       "      <td>0.13</td>\n",
       "      <td>0.11</td>\n",
       "      <td>0.06</td>\n",
       "      <td>0.06</td>\n",
       "      <td>0.07</td>\n",
       "      <td>0.05</td>\n",
       "      <td>0.06</td>\n",
       "      <td>0.06</td>\n",
       "      <td>0.13</td>\n",
       "    </tr>\n",
       "    <tr>\n",
       "      <th>1</th>\n",
       "      <td>0.08</td>\n",
       "      <td>0.05</td>\n",
       "      <td>0.06</td>\n",
       "      <td>0.05</td>\n",
       "      <td>0.05</td>\n",
       "      <td>0.04</td>\n",
       "      <td>0.05</td>\n",
       "      <td>0.05</td>\n",
       "      <td>0.11</td>\n",
       "      <td>0.11</td>\n",
       "      <td>0.06</td>\n",
       "      <td>0.05</td>\n",
       "      <td>0.08</td>\n",
       "      <td>0.06</td>\n",
       "      <td>0.09</td>\n",
       "      <td>0.07</td>\n",
       "      <td>0.13</td>\n",
       "    </tr>\n",
       "    <tr>\n",
       "      <th>1</th>\n",
       "      <th>0</th>\n",
       "      <td>0.05</td>\n",
       "      <td>0.02</td>\n",
       "      <td>0.07</td>\n",
       "      <td>0.06</td>\n",
       "      <td>0.05</td>\n",
       "      <td>0.04</td>\n",
       "      <td>0.05</td>\n",
       "      <td>0.06</td>\n",
       "      <td>0.11</td>\n",
       "      <td>0.11</td>\n",
       "      <td>0.07</td>\n",
       "      <td>0.08</td>\n",
       "      <td>0.06</td>\n",
       "      <td>0.05</td>\n",
       "      <td>0.07</td>\n",
       "      <td>0.06</td>\n",
       "      <td>0.13</td>\n",
       "    </tr>\n",
       "    <tr>\n",
       "      <th>1</th>\n",
       "      <th>0</th>\n",
       "      <th>0</th>\n",
       "      <td>0.09</td>\n",
       "      <td>0.06</td>\n",
       "      <td>0.05</td>\n",
       "      <td>0.06</td>\n",
       "      <td>0.04</td>\n",
       "      <td>0.06</td>\n",
       "      <td>0.06</td>\n",
       "      <td>0.06</td>\n",
       "      <td>0.11</td>\n",
       "      <td>0.12</td>\n",
       "      <td>0.04</td>\n",
       "      <td>0.07</td>\n",
       "      <td>0.07</td>\n",
       "      <td>0.06</td>\n",
       "      <td>0.07</td>\n",
       "      <td>0.07</td>\n",
       "      <td>0.16</td>\n",
       "    </tr>\n",
       "    <tr>\n",
       "      <th>1</th>\n",
       "      <th>0</th>\n",
       "      <th>0</th>\n",
       "      <th>0</th>\n",
       "      <td>0.07</td>\n",
       "      <td>0.06</td>\n",
       "      <td>0.07</td>\n",
       "      <td>0.06</td>\n",
       "      <td>0.05</td>\n",
       "      <td>0.04</td>\n",
       "      <td>0.05</td>\n",
       "      <td>0.07</td>\n",
       "      <td>0.14</td>\n",
       "      <td>0.11</td>\n",
       "      <td>0.06</td>\n",
       "      <td>0.05</td>\n",
       "      <td>0.06</td>\n",
       "      <td>0.05</td>\n",
       "      <td>0.06</td>\n",
       "      <td>0.06</td>\n",
       "      <td>0.12</td>\n",
       "    </tr>\n",
       "    <tr>\n",
       "      <th>1</th>\n",
       "      <th>0</th>\n",
       "      <th>0</th>\n",
       "      <th>0</th>\n",
       "      <th>0</th>\n",
       "      <td>0.13</td>\n",
       "      <td>0.08</td>\n",
       "      <td>0.10</td>\n",
       "      <td>0.03</td>\n",
       "      <td>0.06</td>\n",
       "      <td>0.05</td>\n",
       "      <td>0.05</td>\n",
       "      <td>0.03</td>\n",
       "      <td>0.10</td>\n",
       "      <td>0.08</td>\n",
       "      <td>0.05</td>\n",
       "      <td>0.02</td>\n",
       "      <td>0.08</td>\n",
       "      <td>0.10</td>\n",
       "      <td>0.05</td>\n",
       "      <td>0.08</td>\n",
       "      <td>0.10</td>\n",
       "    </tr>\n",
       "  </tbody>\n",
       "</table>\n",
       "</div>"
      ],
      "text/plain": [
       "                                                                                   topic_10_val  \\\n",
       "tags_top_active tags_top_loving tags_top_playful tags_top_sweet tags_top_friendly                 \n",
       "0               0               0                0              0                  0.09           \n",
       "                                                                1                  0.08           \n",
       "                                                 1              0                  0.05           \n",
       "                                1                0              0                  0.09           \n",
       "                1               0                0              0                  0.07           \n",
       "1               0               0                0              0                  0.13           \n",
       "\n",
       "                                                                                   topic_11_val  \\\n",
       "tags_top_active tags_top_loving tags_top_playful tags_top_sweet tags_top_friendly                 \n",
       "0               0               0                0              0                  0.06           \n",
       "                                                                1                  0.05           \n",
       "                                                 1              0                  0.02           \n",
       "                                1                0              0                  0.06           \n",
       "                1               0                0              0                  0.06           \n",
       "1               0               0                0              0                  0.08           \n",
       "\n",
       "                                                                                   topic_12_val  \\\n",
       "tags_top_active tags_top_loving tags_top_playful tags_top_sweet tags_top_friendly                 \n",
       "0               0               0                0              0                  0.07           \n",
       "                                                                1                  0.06           \n",
       "                                                 1              0                  0.07           \n",
       "                                1                0              0                  0.05           \n",
       "                1               0                0              0                  0.07           \n",
       "1               0               0                0              0                  0.10           \n",
       "\n",
       "                                                                                   topic_13_val  \\\n",
       "tags_top_active tags_top_loving tags_top_playful tags_top_sweet tags_top_friendly                 \n",
       "0               0               0                0              0                  0.05           \n",
       "                                                                1                  0.05           \n",
       "                                                 1              0                  0.06           \n",
       "                                1                0              0                  0.06           \n",
       "                1               0                0              0                  0.06           \n",
       "1               0               0                0              0                  0.03           \n",
       "\n",
       "                                                                                   topic_14_val  \\\n",
       "tags_top_active tags_top_loving tags_top_playful tags_top_sweet tags_top_friendly                 \n",
       "0               0               0                0              0                  0.05           \n",
       "                                                                1                  0.05           \n",
       "                                                 1              0                  0.05           \n",
       "                                1                0              0                  0.04           \n",
       "                1               0                0              0                  0.05           \n",
       "1               0               0                0              0                  0.06           \n",
       "\n",
       "                                                                                   topic_15_val  \\\n",
       "tags_top_active tags_top_loving tags_top_playful tags_top_sweet tags_top_friendly                 \n",
       "0               0               0                0              0                  0.04           \n",
       "                                                                1                  0.04           \n",
       "                                                 1              0                  0.04           \n",
       "                                1                0              0                  0.06           \n",
       "                1               0                0              0                  0.04           \n",
       "1               0               0                0              0                  0.05           \n",
       "\n",
       "                                                                                   topic_16_val  \\\n",
       "tags_top_active tags_top_loving tags_top_playful tags_top_sweet tags_top_friendly                 \n",
       "0               0               0                0              0                  0.05           \n",
       "                                                                1                  0.05           \n",
       "                                                 1              0                  0.05           \n",
       "                                1                0              0                  0.06           \n",
       "                1               0                0              0                  0.05           \n",
       "1               0               0                0              0                  0.05           \n",
       "\n",
       "                                                                                   topic_17_val  \\\n",
       "tags_top_active tags_top_loving tags_top_playful tags_top_sweet tags_top_friendly                 \n",
       "0               0               0                0              0                  0.05           \n",
       "                                                                1                  0.05           \n",
       "                                                 1              0                  0.06           \n",
       "                                1                0              0                  0.06           \n",
       "                1               0                0              0                  0.07           \n",
       "1               0               0                0              0                  0.03           \n",
       "\n",
       "                                                                                   topic_1_val  \\\n",
       "tags_top_active tags_top_loving tags_top_playful tags_top_sweet tags_top_friendly                \n",
       "0               0               0                0              0                  0.13          \n",
       "                                                                1                  0.11          \n",
       "                                                 1              0                  0.11          \n",
       "                                1                0              0                  0.11          \n",
       "                1               0                0              0                  0.14          \n",
       "1               0               0                0              0                  0.10          \n",
       "\n",
       "                                                                                   topic_2_val  \\\n",
       "tags_top_active tags_top_loving tags_top_playful tags_top_sweet tags_top_friendly                \n",
       "0               0               0                0              0                  0.11          \n",
       "                                                                1                  0.11          \n",
       "                                                 1              0                  0.11          \n",
       "                                1                0              0                  0.12          \n",
       "                1               0                0              0                  0.11          \n",
       "1               0               0                0              0                  0.08          \n",
       "\n",
       "                                                                                   topic_3_val  \\\n",
       "tags_top_active tags_top_loving tags_top_playful tags_top_sweet tags_top_friendly                \n",
       "0               0               0                0              0                  0.06          \n",
       "                                                                1                  0.06          \n",
       "                                                 1              0                  0.07          \n",
       "                                1                0              0                  0.04          \n",
       "                1               0                0              0                  0.06          \n",
       "1               0               0                0              0                  0.05          \n",
       "\n",
       "                                                                                   topic_4_val  \\\n",
       "tags_top_active tags_top_loving tags_top_playful tags_top_sweet tags_top_friendly                \n",
       "0               0               0                0              0                  0.06          \n",
       "                                                                1                  0.05          \n",
       "                                                 1              0                  0.08          \n",
       "                                1                0              0                  0.07          \n",
       "                1               0                0              0                  0.05          \n",
       "1               0               0                0              0                  0.02          \n",
       "\n",
       "                                                                                   topic_5_val  \\\n",
       "tags_top_active tags_top_loving tags_top_playful tags_top_sweet tags_top_friendly                \n",
       "0               0               0                0              0                  0.07          \n",
       "                                                                1                  0.08          \n",
       "                                                 1              0                  0.06          \n",
       "                                1                0              0                  0.07          \n",
       "                1               0                0              0                  0.06          \n",
       "1               0               0                0              0                  0.08          \n",
       "\n",
       "                                                                                   topic_6_val  \\\n",
       "tags_top_active tags_top_loving tags_top_playful tags_top_sweet tags_top_friendly                \n",
       "0               0               0                0              0                  0.05          \n",
       "                                                                1                  0.06          \n",
       "                                                 1              0                  0.05          \n",
       "                                1                0              0                  0.06          \n",
       "                1               0                0              0                  0.05          \n",
       "1               0               0                0              0                  0.10          \n",
       "\n",
       "                                                                                   topic_7_val  \\\n",
       "tags_top_active tags_top_loving tags_top_playful tags_top_sweet tags_top_friendly                \n",
       "0               0               0                0              0                  0.06          \n",
       "                                                                1                  0.09          \n",
       "                                                 1              0                  0.07          \n",
       "                                1                0              0                  0.07          \n",
       "                1               0                0              0                  0.06          \n",
       "1               0               0                0              0                  0.05          \n",
       "\n",
       "                                                                                   topic_8_val  \\\n",
       "tags_top_active tags_top_loving tags_top_playful tags_top_sweet tags_top_friendly                \n",
       "0               0               0                0              0                  0.06          \n",
       "                                                                1                  0.07          \n",
       "                                                 1              0                  0.06          \n",
       "                                1                0              0                  0.07          \n",
       "                1               0                0              0                  0.06          \n",
       "1               0               0                0              0                  0.08          \n",
       "\n",
       "                                                                                   topic_9_val  \n",
       "tags_top_active tags_top_loving tags_top_playful tags_top_sweet tags_top_friendly               \n",
       "0               0               0                0              0                  0.13         \n",
       "                                                                1                  0.13         \n",
       "                                                 1              0                  0.13         \n",
       "                                1                0              0                  0.16         \n",
       "                1               0                0              0                  0.12         \n",
       "1               0               0                0              0                  0.10         "
      ]
     },
     "execution_count": 289,
     "metadata": {},
     "output_type": "execute_result"
    }
   ],
   "source": [
    "round(table,2)"
   ]
  },
  {
   "cell_type": "code",
   "execution_count": 334,
   "metadata": {
    "ExecuteTime": {
     "end_time": "2019-09-25T03:29:33.941646Z",
     "start_time": "2019-09-25T03:29:33.933752Z"
    }
   },
   "outputs": [],
   "source": [
    "def topic_tag_test(topic, tag):\n",
    "    contingency = pd.crosstab(dog_data_SF_w_tps[topic], dog_data_SF_w_tps[tag])\n",
    "    c, p, dof, expected = chi2_contingency(contingency)\n",
    "    percent_match = round(\n",
    "        contingency[1][1] / (contingency[1][1] + contingency[1][0]), 3\n",
    "    )\n",
    "    gen_pop_percent = round(\n",
    "        contingency[0][1] / (contingency[0][1] + contingency[0][0]), 3\n",
    "    )\n",
    "    print(contingency)\n",
    "    print(\"P-value \", round(p, 5))\n",
    "    print(\"Percent match: \", percent_match)\n",
    "    print(\"General match: \", gen_pop_percent)\n",
    "\n",
    "    return"
   ]
  },
  {
   "cell_type": "code",
   "execution_count": 359,
   "metadata": {
    "ExecuteTime": {
     "end_time": "2019-09-25T04:00:30.564959Z",
     "start_time": "2019-09-25T04:00:30.539952Z"
    },
    "scrolled": true
   },
   "outputs": [
    {
     "name": "stdout",
     "output_type": "stream",
     "text": [
      "tags_top_loving      0     1\n",
      "topic_17_val                \n",
      "0                17557  1273\n",
      "1                1010   93  \n",
      "P-value  0.03811\n",
      "Percent match:  0.068\n",
      "General match:  0.054\n"
     ]
    }
   ],
   "source": [
    "topic_tag_test('topic_17_val', 'tags_top_loving') ### loving"
   ]
  },
  {
   "cell_type": "code",
   "execution_count": 352,
   "metadata": {
    "ExecuteTime": {
     "end_time": "2019-09-25T03:59:42.740863Z",
     "start_time": "2019-09-25T03:59:42.716185Z"
    }
   },
   "outputs": [
    {
     "name": "stdout",
     "output_type": "stream",
     "text": [
      "tags_top_friendly      0    1\n",
      "topic_7_val                  \n",
      "0                  18398  300\n",
      "1                  1206   29 \n",
      "P-value  0.06127\n",
      "Percent match:  0.088\n",
      "General match:  0.062\n"
     ]
    }
   ],
   "source": [
    "topic_tag_test('topic_7_val', 'tags_top_friendly')  ### Maybe friendly?"
   ]
  },
  {
   "cell_type": "code",
   "execution_count": 354,
   "metadata": {
    "ExecuteTime": {
     "end_time": "2019-09-25T03:59:42.740863Z",
     "start_time": "2019-09-25T03:59:42.716185Z"
    }
   },
   "outputs": [
    {
     "name": "stdout",
     "output_type": "stream",
     "text": [
      "tags_top_sweet      0    1\n",
      "topic_10_val              \n",
      "0               17917  313\n",
      "1               1686   17 \n",
      "P-value  0.0337\n",
      "Percent match:  0.052\n",
      "General match:  0.086\n"
     ]
    }
   ],
   "source": [
    "topic_tag_test('topic_10_val', 'tags_top_sweet') ## NOT sweet"
   ]
  },
  {
   "cell_type": "code",
   "execution_count": 355,
   "metadata": {
    "ExecuteTime": {
     "end_time": "2019-09-25T03:59:42.740863Z",
     "start_time": "2019-09-25T03:59:42.716185Z"
    }
   },
   "outputs": [
    {
     "name": "stdout",
     "output_type": "stream",
     "text": [
      "tags_top_sweet      0    1\n",
      "topic_11_val              \n",
      "0               18450  322\n",
      "1               1153   8  \n",
      "P-value  0.01105\n",
      "Percent match:  0.024\n",
      "General match:  0.059\n"
     ]
    }
   ],
   "source": [
    "topic_tag_test('topic_11_val', 'tags_top_sweet') ## also not sweet"
   ]
  },
  {
   "cell_type": "code",
   "execution_count": 353,
   "metadata": {
    "ExecuteTime": {
     "end_time": "2019-09-25T03:59:42.740863Z",
     "start_time": "2019-09-25T03:59:42.716185Z"
    }
   },
   "outputs": [
    {
     "name": "stdout",
     "output_type": "stream",
     "text": [
      "tags_top_playful      0    1\n",
      "topic_9_val                 \n",
      "0                 16852  567\n",
      "1                 2409   105\n",
      "P-value  0.01959\n",
      "Percent match:  0.156\n",
      "General match:  0.125\n"
     ]
    }
   ],
   "source": [
    "topic_tag_test('topic_9_val', 'tags_top_playful') ## topic 9 and playful"
   ]
  },
  {
   "cell_type": "code",
   "execution_count": 357,
   "metadata": {
    "ExecuteTime": {
     "end_time": "2019-09-25T03:59:42.740863Z",
     "start_time": "2019-09-25T03:59:42.716185Z"
    }
   },
   "outputs": [
    {
     "name": "stdout",
     "output_type": "stream",
     "text": [
      "tags_top_playful      0    1\n",
      "topic_12_val                \n",
      "0                 17953  639\n",
      "1                 1308   33 \n",
      "P-value  0.0666\n",
      "Percent match:  0.049\n",
      "General match:  0.068\n"
     ]
    }
   ],
   "source": [
    "topic_tag_test('topic_12_val', 'tags_top_playful') ### not playful"
   ]
  },
  {
   "cell_type": "code",
   "execution_count": 358,
   "metadata": {
    "ExecuteTime": {
     "end_time": "2019-09-25T03:59:42.740863Z",
     "start_time": "2019-09-25T03:59:42.716185Z"
    }
   },
   "outputs": [
    {
     "name": "stdout",
     "output_type": "stream",
     "text": [
      "tags_top_playful      0    1\n",
      "topic_15_val                \n",
      "0                 18475  633\n",
      "1                 786    39 \n",
      "P-value  0.03525\n",
      "Percent match:  0.058\n",
      "General match:  0.041\n"
     ]
    }
   ],
   "source": [
    "topic_tag_test('topic_15_val', 'tags_top_playful') ### similar to playful?"
   ]
  },
  {
   "cell_type": "code",
   "execution_count": 360,
   "metadata": {
    "ExecuteTime": {
     "end_time": "2019-09-25T04:02:57.247451Z",
     "start_time": "2019-09-25T04:02:57.222904Z"
    }
   },
   "outputs": [
    {
     "name": "stdout",
     "output_type": "stream",
     "text": [
      "tags_top_active      0   1\n",
      "topic_10_val              \n",
      "0                18176  54\n",
      "1                1695   8 \n",
      "P-value  0.31613\n",
      "Percent match:  0.129\n",
      "General match:  0.085\n"
     ]
    }
   ],
   "source": [
    "topic_tag_test('topic_10_val', 'tags_top_active') "
   ]
  },
  {
   "cell_type": "code",
   "execution_count": 507,
   "metadata": {
    "ExecuteTime": {
     "end_time": "2019-09-28T03:10:43.676008Z",
     "start_time": "2019-09-28T03:10:43.672210Z"
    }
   },
   "outputs": [],
   "source": [
    "empy = []"
   ]
  },
  {
   "cell_type": "code",
   "execution_count": 508,
   "metadata": {
    "ExecuteTime": {
     "end_time": "2019-09-28T03:11:04.551655Z",
     "start_time": "2019-09-28T03:11:04.543190Z"
    }
   },
   "outputs": [
    {
     "data": {
      "text/plain": [
       "0"
      ]
     },
     "execution_count": 508,
     "metadata": {},
     "output_type": "execute_result"
    }
   ],
   "source": [
    "len(empy)"
   ]
  },
  {
   "cell_type": "code",
   "execution_count": null,
   "metadata": {},
   "outputs": [],
   "source": []
  }
 ],
 "metadata": {
  "kernelspec": {
   "display_name": "Python 3",
   "language": "python",
   "name": "python3"
  },
  "language_info": {
   "codemirror_mode": {
    "name": "ipython",
    "version": 3
   },
   "file_extension": ".py",
   "mimetype": "text/x-python",
   "name": "python",
   "nbconvert_exporter": "python",
   "pygments_lexer": "ipython3",
   "version": "3.7.6"
  }
 },
 "nbformat": 4,
 "nbformat_minor": 4
}
