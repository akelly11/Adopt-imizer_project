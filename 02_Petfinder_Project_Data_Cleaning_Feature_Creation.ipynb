{
 "cells": [
  {
   "cell_type": "markdown",
   "metadata": {},
   "source": [
    "# Cleaning API Returned Data and Creating Features"
   ]
  },
  {
   "cell_type": "markdown",
   "metadata": {},
   "source": [
    "### Call in packages"
   ]
  },
  {
   "cell_type": "code",
   "execution_count": 1,
   "metadata": {
    "ExecuteTime": {
     "end_time": "2019-10-01T17:06:45.735017Z",
     "start_time": "2019-10-01T17:06:44.273233Z"
    }
   },
   "outputs": [],
   "source": [
    "import pandas as pd\n",
    "import numpy as np\n",
    "import datetime as dt\n",
    "\n",
    "import nltk\n",
    "from nltk.tokenize import wordpunct_tokenize\n",
    "\n",
    "import sys\n",
    "import re\n",
    "\n",
    "import matplotlib.pyplot as plt\n",
    "\n",
    "%matplotlib inline\n",
    "import seaborn as sns\n",
    "from wordcloud import WordCloud, STOPWORDS, ImageColorGenerator\n",
    "sns.set_context('poster', font_scale=.8)\n",
    "\n",
    "pd.set_option(\"display.max_colwidth\", -1)"
   ]
  },
  {
   "cell_type": "code",
   "execution_count": 3,
   "metadata": {
    "ExecuteTime": {
     "end_time": "2019-10-01T17:07:59.040195Z",
     "start_time": "2019-10-01T17:07:58.678883Z"
    }
   },
   "outputs": [],
   "source": [
    "dog_data_SF = pd.read_csv(\"Model_Data/dog_data_SF_19.csv\")\n",
    "\n",
    "# dog_data_SF = pd.read_csv(\"Model_Data/dog_data_STL.csv\")"
   ]
  },
  {
   "cell_type": "code",
   "execution_count": 4,
   "metadata": {
    "ExecuteTime": {
     "end_time": "2019-10-01T17:08:00.034290Z",
     "start_time": "2019-10-01T17:08:00.028879Z"
    },
    "scrolled": true
   },
   "outputs": [
    {
     "name": "stdout",
     "output_type": "stream",
     "text": [
      "Index(['Unnamed: 0', 'num_photo', 'url', 'age', 'gender', 'size', 'coat',\n",
      "       'name', 'status', 'breeds.primary', 'breeds.mixed', 'colors.primary',\n",
      "       'attributes.spayed_neutered', 'attributes.house_trained',\n",
      "       'attributes.special_needs', 'attributes.shots_current',\n",
      "       'environment.children', 'environment.dogs', 'environment.cats',\n",
      "       'contact.address.city', 'animal_id', 'pub_year', 'pub_month',\n",
      "       'pub_time', 'stat_time', 'time_in_shelter', 'easy_adopt', 'tags_cln',\n",
      "       'tags_top', 'num_tags', 'missing_description', 'colors_cat',\n",
      "       'age_Adult', 'age_Baby', 'age_Senior', 'age_Young', 'gender_Female',\n",
      "       'gender_Male', 'size_Extra Large', 'size_Large', 'size_Medium',\n",
      "       'size_Small', 'coat_Curly', 'coat_Hairless', 'coat_Long', 'coat_Medium',\n",
      "       'coat_Short', 'coat_Wire', 'colors_cat_ct_dark', 'colors_cat_ct_light',\n",
      "       'colors_cat_ct_med', 'pub_month_1', 'pub_month_2', 'pub_month_3',\n",
      "       'pub_month_4', 'pub_month_5', 'pub_month_6', 'pub_month_7',\n",
      "       'pub_month_8', 'pub_month_9', 'pub_month_10', 'pub_month_11',\n",
      "       'pub_month_12', 'tags_top_active', 'tags_top_friendly',\n",
      "       'tags_top_loving', 'tags_top_playful', 'tags_top_sweet',\n",
      "       'time_adpt_med'],\n",
      "      dtype='object')\n",
      "(26313, 69)\n"
     ]
    }
   ],
   "source": [
    "#dog_data_SF =dog_data_SF.set_index('animal_id')\n",
    "print(dog_data_SF.columns)\n",
    "print(dog_data_SF.shape)\n"
   ]
  },
  {
   "cell_type": "markdown",
   "metadata": {},
   "source": [
    "Features that should  be numeric:\n",
    "    - 'num_photo'\n",
    "\n",
    "Features to keep as cats:\n",
    "    - 'age'\n",
    "    - 'gender'\n",
    "    - 'size'\n",
    "    - 'coat'\n",
    "    - 'tags' - create a dummy if has tags or no, number of tags\n",
    "    - 'bread-primary'\n",
    "    - 'colors.primary'\n",
    "    - 'attributes.spayed_neutered'\n",
    "    - 'attributes.house_trained',\n",
    "    - 'attributes.special_needs',\n",
    "    - 'attributes.shots_current', \n",
    "    - 'environment.children', \n",
    "    - 'environment.dogs',\n",
    "    - 'environment.cats'\n",
    "    - 'contact.address.city' (as dummies)\n",
    "    - 'pub_year',\n",
    "    - 'pub_month', \n",
    "    - 'full_description' (if has one)\n",
    "\n",
    "Features I need to improve the NLP model\n",
    "    - 'tags'\n",
    "    - 'full_description'\n"
   ]
  },
  {
   "cell_type": "code",
   "execution_count": 5,
   "metadata": {
    "ExecuteTime": {
     "end_time": "2019-09-29T00:27:44.956377Z",
     "start_time": "2019-09-29T00:27:44.938713Z"
    }
   },
   "outputs": [],
   "source": [
    "## Drop variables we won't include in the model\n",
    "unneeded = [\n",
    "    \"species\",\n",
    "    \"type\",\n",
    "    \"attributes.declawed\",\n",
    "    \"distance\",\n",
    "    \"breeds.unknown\",\n",
    "    \"contact.email\",\n",
    "    \"contact.phone\",\n",
    "    \"contact.address.address1\",\n",
    "    \"contact.address.address2\",\n",
    "    \"contact.address.country\",\n",
    "    \"animal_type\",\n",
    "    \"contact.address.state\",\n",
    "    \"breeds.secondary\",\n",
    "    \"colors.secondary\",\n",
    "    \"colors.tertiary\",\n",
    "    \"contact.address.postcode\",\n",
    "    \"id\",  ## redundant\n",
    "    \"photo\",\n",
    "    \"photos\",\n",
    "    \"organization_id\"\n",
    "]\n",
    "\n",
    "dog_data_SF = dog_data_SF.drop(unneeded, axis=1)"
   ]
  },
  {
   "cell_type": "code",
   "execution_count": 6,
   "metadata": {
    "ExecuteTime": {
     "end_time": "2019-09-29T00:27:46.326398Z",
     "start_time": "2019-09-29T00:27:46.318766Z"
    }
   },
   "outputs": [
    {
     "data": {
      "text/plain": [
       "Index(['animal_id', 'age', 'attributes.house_trained',\n",
       "       'attributes.shots_current', 'attributes.spayed_neutered',\n",
       "       'attributes.special_needs', 'breeds.mixed', 'breeds.primary', 'coat',\n",
       "       'colors.primary', 'contact.address.city', 'description',\n",
       "       'environment.cats', 'environment.children', 'environment.dogs',\n",
       "       'gender', 'name', 'organization_id.1', 'published_at', 'size', 'status',\n",
       "       'status_changed_at', 'tags', 'url', 'num_photo', 'pub_year',\n",
       "       'pub_month', 'pub_day', 'missing_description'],\n",
       "      dtype='object')"
      ]
     },
     "execution_count": 6,
     "metadata": {},
     "output_type": "execute_result"
    }
   ],
   "source": [
    "dog_data_SF.columns"
   ]
  },
  {
   "cell_type": "code",
   "execution_count": 8,
   "metadata": {
    "ExecuteTime": {
     "end_time": "2019-09-29T00:28:05.423737Z",
     "start_time": "2019-09-29T00:28:05.420219Z"
    }
   },
   "outputs": [],
   "source": [
    "# dog_data_SF.head()"
   ]
  },
  {
   "cell_type": "code",
   "execution_count": 9,
   "metadata": {
    "ExecuteTime": {
     "end_time": "2019-09-29T00:28:06.247922Z",
     "start_time": "2019-09-29T00:28:06.224886Z"
    }
   },
   "outputs": [
    {
     "name": "stdout",
     "output_type": "stream",
     "text": [
      "<class 'pandas.core.frame.DataFrame'>\n",
      "RangeIndex: 5961 entries, 0 to 5960\n",
      "Data columns (total 29 columns):\n",
      "animal_id                     5961 non-null int64\n",
      "age                           5961 non-null object\n",
      "attributes.house_trained      5961 non-null bool\n",
      "attributes.shots_current      5961 non-null bool\n",
      "attributes.spayed_neutered    5961 non-null bool\n",
      "attributes.special_needs      5961 non-null bool\n",
      "breeds.mixed                  5961 non-null bool\n",
      "breeds.primary                5961 non-null object\n",
      "coat                          3732 non-null object\n",
      "colors.primary                3315 non-null object\n",
      "contact.address.city          5961 non-null object\n",
      "description                   5858 non-null object\n",
      "environment.cats              2273 non-null object\n",
      "environment.children          3641 non-null object\n",
      "environment.dogs              4617 non-null object\n",
      "gender                        5961 non-null object\n",
      "name                          5961 non-null object\n",
      "organization_id.1             5961 non-null object\n",
      "published_at                  5961 non-null object\n",
      "size                          5961 non-null object\n",
      "status                        5961 non-null object\n",
      "status_changed_at             5961 non-null object\n",
      "tags                          5961 non-null object\n",
      "url                           5961 non-null object\n",
      "num_photo                     5961 non-null int64\n",
      "pub_year                      5961 non-null int64\n",
      "pub_month                     5961 non-null int64\n",
      "pub_day                       5961 non-null int64\n",
      "missing_description           5961 non-null bool\n",
      "dtypes: bool(6), int64(5), object(18)\n",
      "memory usage: 1.1+ MB\n"
     ]
    }
   ],
   "source": [
    "dog_data_SF.info()"
   ]
  },
  {
   "cell_type": "code",
   "execution_count": 8,
   "metadata": {
    "ExecuteTime": {
     "end_time": "2019-09-20T04:03:45.830259Z",
     "start_time": "2019-09-20T04:03:45.824249Z"
    }
   },
   "outputs": [],
   "source": [
    "# dog_data_SF.describe(include=\"all\")"
   ]
  },
  {
   "cell_type": "markdown",
   "metadata": {},
   "source": [
    "### Extracting time to adoption"
   ]
  },
  {
   "cell_type": "code",
   "execution_count": 10,
   "metadata": {
    "ExecuteTime": {
     "end_time": "2019-09-29T00:28:29.488153Z",
     "start_time": "2019-09-29T00:28:29.477414Z"
    }
   },
   "outputs": [],
   "source": [
    "## Create truncated string of data\n",
    "dog_data_SF[\"published_at\"] = dog_data_SF[\"published_at\"].str[0:10]\n",
    "\n",
    "dog_data_SF[\"status_changed_at\"] = dog_data_SF[\"status_changed_at\"].str[0:10]"
   ]
  },
  {
   "cell_type": "code",
   "execution_count": 12,
   "metadata": {
    "ExecuteTime": {
     "end_time": "2019-09-29T00:28:41.730167Z",
     "start_time": "2019-09-29T00:28:41.539029Z"
    },
    "scrolled": true
   },
   "outputs": [
    {
     "data": {
      "image/png": "[encoded data removed]",
      "text/plain": [
       "<Figure size 360x360 with 1 Axes>"
      ]
     },
     "metadata": {
      "needs_background": "light"
     },
     "output_type": "display_data"
    }
   ],
   "source": [
    "status_fig = sns.catplot(\n",
    "    x=\"status\",\n",
    "    kind=\"count\",\n",
    "    # hue=\"status\",\n",
    "    data=dog_data_SF[dog_data_SF[\"pub_year\"] == 2019],\n",
    ")\n",
    "\n",
    "status_fig.set(xlabel=\"\", ylabel=\"\",title=\"\")\n",
    "status_fig.set(xlabel=\"\", ylabel=\"\",title=\"\")\n",
    "\n",
    "plt.savefig(\"Demo_Figures/status_2019_SF.png\")\n",
    "plt.show()"
   ]
  },
  {
   "cell_type": "code",
   "execution_count": 13,
   "metadata": {
    "ExecuteTime": {
     "end_time": "2019-09-29T00:28:47.182325Z",
     "start_time": "2019-09-29T00:28:47.166040Z"
    }
   },
   "outputs": [],
   "source": [
    "dog_data_SF = dog_data_SF[(dog_data_SF['status']=='adopted') ]"
   ]
  },
  {
   "cell_type": "code",
   "execution_count": 14,
   "metadata": {
    "ExecuteTime": {
     "end_time": "2019-09-29T00:28:49.044027Z",
     "start_time": "2019-09-29T00:28:49.039683Z"
    }
   },
   "outputs": [],
   "source": [
    "date_format = \"%Y-%m-%d\"\n",
    "\n",
    "def date_conversion(string_date):\n",
    "    return dt.datetime.strptime(string_date, date_format)"
   ]
  },
  {
   "cell_type": "code",
   "execution_count": 15,
   "metadata": {
    "ExecuteTime": {
     "end_time": "2019-09-29T00:28:51.425081Z",
     "start_time": "2019-09-29T00:28:51.260524Z"
    }
   },
   "outputs": [],
   "source": [
    "dog_data_SF[\"pub_time\"] = dog_data_SF[\"published_at\"].apply(date_conversion)\n",
    "dog_data_SF[\"stat_time\"] = dog_data_SF[\"status_changed_at\"].apply(date_conversion)"
   ]
  },
  {
   "cell_type": "code",
   "execution_count": 16,
   "metadata": {
    "ExecuteTime": {
     "end_time": "2019-09-29T00:28:52.687724Z",
     "start_time": "2019-09-29T00:28:52.678850Z"
    }
   },
   "outputs": [
    {
     "data": {
      "text/plain": [
       "90    2019-09-27\n",
       "117   2019-09-27\n",
       "146   2019-09-26\n",
       "167   2019-09-26\n",
       "170   2019-09-26\n",
       "Name: pub_time, dtype: datetime64[ns]"
      ]
     },
     "execution_count": 16,
     "metadata": {},
     "output_type": "execute_result"
    }
   ],
   "source": [
    "dog_data_SF[\"pub_time\"].head()"
   ]
  },
  {
   "cell_type": "code",
   "execution_count": 17,
   "metadata": {
    "ExecuteTime": {
     "end_time": "2019-09-29T00:28:54.514690Z",
     "start_time": "2019-09-29T00:28:54.507539Z"
    },
    "scrolled": true
   },
   "outputs": [
    {
     "data": {
      "text/plain": [
       "90    2019-09-27\n",
       "117   2019-09-27\n",
       "146   2019-09-27\n",
       "167   2019-09-26\n",
       "170   2019-09-28\n",
       "Name: stat_time, dtype: datetime64[ns]"
      ]
     },
     "execution_count": 17,
     "metadata": {},
     "output_type": "execute_result"
    }
   ],
   "source": [
    "dog_data_SF[\"stat_time\"].head()"
   ]
  },
  {
   "cell_type": "code",
   "execution_count": 18,
   "metadata": {
    "ExecuteTime": {
     "end_time": "2019-09-29T00:29:01.304979Z",
     "start_time": "2019-09-29T00:29:01.297652Z"
    }
   },
   "outputs": [],
   "source": [
    "dog_data_SF[\"time_in_shelter\"] = (\n",
    "    dog_data_SF[\"stat_time\"] - dog_data_SF[\"pub_time\"]\n",
    ").astype(\"timedelta64[D]\")"
   ]
  },
  {
   "cell_type": "code",
   "execution_count": 19,
   "metadata": {
    "ExecuteTime": {
     "end_time": "2019-09-29T00:29:02.726696Z",
     "start_time": "2019-09-29T00:29:02.714230Z"
    }
   },
   "outputs": [
    {
     "data": {
      "text/plain": [
       "count    4633.000000\n",
       "mean     18.665444  \n",
       "std      23.212521  \n",
       "min      0.000000   \n",
       "25%      3.000000   \n",
       "50%      11.000000  \n",
       "75%      25.000000  \n",
       "max      165.000000 \n",
       "Name: time_in_shelter, dtype: float64"
      ]
     },
     "execution_count": 19,
     "metadata": {},
     "output_type": "execute_result"
    }
   ],
   "source": [
    "dog_data_SF[\"time_in_shelter\"].describe()"
   ]
  },
  {
   "cell_type": "code",
   "execution_count": 20,
   "metadata": {
    "ExecuteTime": {
     "end_time": "2019-09-29T00:29:13.792139Z",
     "start_time": "2019-09-29T00:29:13.364481Z"
    },
    "scrolled": true
   },
   "outputs": [
    {
     "data": {
      "image/png": "[encoded data removed]",
      "text/plain": [
       "<Figure size 1080x360 with 1 Axes>"
      ]
     },
     "metadata": {
      "needs_background": "light"
     },
     "output_type": "display_data"
    }
   ],
   "source": [
    "fig, ax = plt.subplots(figsize=(15,5))\n",
    "sns.distplot(\n",
    "    dog_data_SF[\"time_in_shelter\"][dog_data_SF[\"status\"] == \"adopted\"],\n",
    "    kde=False, bins=100, ax=ax\n",
    ")\n",
    "ax.set(xlabel=\"Days in Shelter\", ylabel=\"Number of Adopted Dogs\");\n",
    "fig.subplots_adjust(bottom=0.15)\n",
    "plt.savefig(\"Demo_Figures/day_in_shelter_SF.png\")\n"
   ]
  },
  {
   "cell_type": "code",
   "execution_count": 21,
   "metadata": {
    "ExecuteTime": {
     "end_time": "2019-09-29T00:29:19.916702Z",
     "start_time": "2019-09-29T00:29:19.901396Z"
    },
    "scrolled": true
   },
   "outputs": [
    {
     "data": {
      "text/plain": [
       "0.20548240880638896"
      ]
     },
     "execution_count": 21,
     "metadata": {},
     "output_type": "execute_result"
    }
   ],
   "source": [
    "sum(dog_data_SF[\"time_in_shelter\"] < 2)/len(dog_data_SF[\"time_in_shelter\"])"
   ]
  },
  {
   "cell_type": "code",
   "execution_count": 22,
   "metadata": {
    "ExecuteTime": {
     "end_time": "2019-09-29T00:29:21.434917Z",
     "start_time": "2019-09-29T00:29:21.425034Z"
    }
   },
   "outputs": [
    {
     "data": {
      "text/plain": [
       "0.7388301316641485"
      ]
     },
     "execution_count": 22,
     "metadata": {},
     "output_type": "execute_result"
    }
   ],
   "source": [
    "sum((dog_data_SF[\"time_in_shelter\"] > 2) & (dog_data_SF[\"time_in_shelter\"] < 93)) / len(\n",
    "    dog_data_SF[\"time_in_shelter\"]\n",
    ")"
   ]
  },
  {
   "cell_type": "code",
   "execution_count": 23,
   "metadata": {
    "ExecuteTime": {
     "end_time": "2019-09-29T00:29:22.809271Z",
     "start_time": "2019-09-29T00:29:22.798321Z"
    },
    "scrolled": true
   },
   "outputs": [
    {
     "data": {
      "text/plain": [
       "0.9443125404705375"
      ]
     },
     "execution_count": 23,
     "metadata": {},
     "output_type": "execute_result"
    }
   ],
   "source": [
    "sum(dog_data_SF[\"time_in_shelter\"] < 2)/len(dog_data_SF[\"time_in_shelter\"]) + sum((dog_data_SF[\"time_in_shelter\"] > 2) & (dog_data_SF[\"time_in_shelter\"] < 93)) / len(\n",
    "    dog_data_SF[\"time_in_shelter\"]\n",
    ")"
   ]
  },
  {
   "cell_type": "code",
   "execution_count": 24,
   "metadata": {
    "ExecuteTime": {
     "end_time": "2019-09-29T00:29:24.183193Z",
     "start_time": "2019-09-29T00:29:24.175321Z"
    }
   },
   "outputs": [
    {
     "data": {
      "text/plain": [
       "102"
      ]
     },
     "execution_count": 24,
     "metadata": {},
     "output_type": "execute_result"
    }
   ],
   "source": [
    "sum(dog_data_SF[\"time_in_shelter\"] > 90)"
   ]
  },
  {
   "cell_type": "code",
   "execution_count": 25,
   "metadata": {
    "ExecuteTime": {
     "end_time": "2019-09-29T00:29:26.389614Z",
     "start_time": "2019-09-29T00:29:26.381853Z"
    }
   },
   "outputs": [
    {
     "data": {
      "text/plain": [
       "952"
      ]
     },
     "execution_count": 25,
     "metadata": {},
     "output_type": "execute_result"
    }
   ],
   "source": [
    "sum(dog_data_SF[\"time_in_shelter\"] < 2)"
   ]
  },
  {
   "cell_type": "code",
   "execution_count": 27,
   "metadata": {
    "ExecuteTime": {
     "end_time": "2019-09-29T00:29:43.918227Z",
     "start_time": "2019-09-29T00:29:43.899197Z"
    }
   },
   "outputs": [],
   "source": [
    "dog_data_SF['time_adpt_med'] =1*(dog_data_SF['time_in_shelter'] < 14)"
   ]
  },
  {
   "cell_type": "markdown",
   "metadata": {
    "ExecuteTime": {
     "end_time": "2019-09-16T21:57:28.582864Z",
     "start_time": "2019-09-16T21:57:28.578321Z"
    }
   },
   "source": [
    "### Cleaning up categorical features\n",
    "\n",
    "    - 'age'\n",
    "    - 'gender'\n",
    "    - 'size'\n",
    "    - 'coat'\n",
    "    - 'bread-primary'\n",
    "    - 'colors.primary'\n",
    "    - 'attributes.spayed_neutered'\n",
    "    - 'attributes.house_trained',\n",
    "    - 'attributes.special_needs',\n",
    "    - 'attributes.shots_current', \n",
    "    - 'environment.children', \n",
    "    - 'environment.dogs',\n",
    "    - 'environment.cats'\n",
    "    - 'pub_year',\n",
    "    - 'pub_month',\n",
    "    \n",
    "    - 'contact.address.city' (as dummies)\n",
    "    - 'pub_month' (as dummies)\n",
    "    - 'tags' - create a dummy if has tags or no, number of tags\n",
    "    - 'full_description' (if has one)\n"
   ]
  },
  {
   "cell_type": "code",
   "execution_count": 28,
   "metadata": {
    "ExecuteTime": {
     "end_time": "2019-09-29T00:29:46.604458Z",
     "start_time": "2019-09-29T00:29:46.592869Z"
    }
   },
   "outputs": [
    {
     "data": {
      "text/plain": [
       "90     2 \n",
       "117    2 \n",
       "146    39\n",
       "167    2 \n",
       "170    2 \n",
       "Name: tags, dtype: int64"
      ]
     },
     "execution_count": 28,
     "metadata": {},
     "output_type": "execute_result"
    }
   ],
   "source": [
    "dog_data_SF['tags'].apply(len).head()"
   ]
  },
  {
   "cell_type": "code",
   "execution_count": 29,
   "metadata": {
    "ExecuteTime": {
     "end_time": "2019-09-29T00:29:52.356109Z",
     "start_time": "2019-09-29T00:29:52.290829Z"
    }
   },
   "outputs": [],
   "source": [
    "dog_data_SF[\"tags_cln\"] = dog_data_SF[\"tags\"].apply(lambda x: x[1:-1].lower().strip())\n",
    "\n",
    "tags = sum(dog_data_SF[\"tags_cln\"].apply(lambda x: x.split(\",\")), [])\n"
   ]
  },
  {
   "cell_type": "code",
   "execution_count": 30,
   "metadata": {
    "ExecuteTime": {
     "end_time": "2019-09-29T00:29:54.705233Z",
     "start_time": "2019-09-29T00:29:54.699919Z"
    }
   },
   "outputs": [],
   "source": [
    "all_tags = pd.DataFrame(tags)"
   ]
  },
  {
   "cell_type": "code",
   "execution_count": 31,
   "metadata": {
    "ExecuteTime": {
     "end_time": "2019-09-29T00:29:56.113037Z",
     "start_time": "2019-09-29T00:29:56.107104Z"
    }
   },
   "outputs": [],
   "source": [
    "def to_lower(str_list):\n",
    "    return str_list.lower().strip()"
   ]
  },
  {
   "cell_type": "code",
   "execution_count": 32,
   "metadata": {
    "ExecuteTime": {
     "end_time": "2019-09-29T00:29:57.253513Z",
     "start_time": "2019-09-29T00:29:57.246630Z"
    },
    "scrolled": true
   },
   "outputs": [],
   "source": [
    "all_tags = all_tags[0].apply(to_lower)\n"
   ]
  },
  {
   "cell_type": "code",
   "execution_count": 33,
   "metadata": {
    "ExecuteTime": {
     "end_time": "2019-09-29T00:29:58.271919Z",
     "start_time": "2019-09-29T00:29:58.259629Z"
    }
   },
   "outputs": [
    {
     "data": {
      "text/plain": [
       "                                         4029\n",
       "'loving'                                 347 \n",
       "'playful'                                329 \n",
       "'sweet'                                  169 \n",
       "'active'                                 164 \n",
       "'smart'                                  99  \n",
       "'friendly'                               67  \n",
       "'happy'                                  60  \n",
       "'puppy'                                  48  \n",
       "'loyal'                                  45  \n",
       "'gentle'                                 40  \n",
       "'affectionate'                           39  \n",
       "'fun'                                    39  \n",
       "'cute'                                   37  \n",
       "'calm'                                   30  \n",
       "'energetic'                              29  \n",
       "'cuddly'                                 29  \n",
       "'adorable'                               27  \n",
       "''                                       23  \n",
       "'intelligent'                            20  \n",
       "'curious'                                19  \n",
       "'mellow'                                 16  \n",
       "'funny'                                  15  \n",
       "'beautiful'                              15  \n",
       "'handsome'                               11  \n",
       "'companion'                              10  \n",
       "'shy'                                    10  \n",
       "'kind'                                   9   \n",
       "'quiet'                                  9   \n",
       "'goofy'                                  9   \n",
       "                                        ..   \n",
       "'cuddles'                                1   \n",
       "' friendly'                              1   \n",
       "'very affectionate'                      1   \n",
       "'well socilized'                         1   \n",
       "'loves people'                           1   \n",
       "'staffy mix'                             1   \n",
       "'caring'                                 1   \n",
       "'blue heeler'                            1   \n",
       "'lots of fun'                            1   \n",
       "'female dog friendly only'               1   \n",
       "'low activity'                           1   \n",
       "'hiking'                                 1   \n",
       "' outgoing'                              1   \n",
       "'highly trainable'                       1   \n",
       "'baby'                                   1   \n",
       "'great with small children'              1   \n",
       "'cuddle bug'                             1   \n",
       "'lovable and playful'                    1   \n",
       "'couch potatoe'                          1   \n",
       "'tender'                                 1   \n",
       "'kid friendly'                           1   \n",
       "'ac'                                     1   \n",
       "'good with small kids'                   1   \n",
       "'couch hog'                              1   \n",
       "' lovable'                               1   \n",
       "'kind to all'                            1   \n",
       "'corgi'                                  1   \n",
       "'intense'                                1   \n",
       "'she is very loving calm loves walks'    1   \n",
       "'snuggles'                               1   \n",
       "Name: 0, Length: 283, dtype: int64"
      ]
     },
     "execution_count": 33,
     "metadata": {},
     "output_type": "execute_result"
    }
   ],
   "source": [
    "all_tags.value_counts()"
   ]
  },
  {
   "cell_type": "code",
   "execution_count": 34,
   "metadata": {
    "ExecuteTime": {
     "end_time": "2019-09-29T00:30:09.885148Z",
     "start_time": "2019-09-29T00:30:09.874942Z"
    },
    "scrolled": true
   },
   "outputs": [
    {
     "data": {
      "text/plain": [
       "             4029\n",
       "'loving'     347 \n",
       "'playful'    329 \n",
       "'sweet'      169 \n",
       "'active'     164 \n",
       "Name: 0, dtype: int64"
      ]
     },
     "execution_count": 34,
     "metadata": {},
     "output_type": "execute_result"
    }
   ],
   "source": [
    "tag_freq = all_tags.value_counts()\n",
    "tag_freq.head()"
   ]
  },
  {
   "cell_type": "code",
   "execution_count": 35,
   "metadata": {
    "ExecuteTime": {
     "end_time": "2019-09-29T00:30:17.925349Z",
     "start_time": "2019-09-29T00:30:16.027531Z"
    }
   },
   "outputs": [
    {
     "data": {
      "image/png": "[encoded data removed]",
      "text/plain": [
       "<Figure size 1000x1000 with 1 Axes>"
      ]
     },
     "metadata": {
      "needs_background": "light"
     },
     "output_type": "display_data"
    }
   ],
   "source": [
    "wordcloud = WordCloud(background_color=\"white\", colormap ='BuGn_r').generate_from_frequencies(tag_freq)\n",
    "\n",
    "# Generate plot\n",
    "plt.figure(figsize=(10, 10), dpi=100)\n",
    "plt.imshow(wordcloud)\n",
    "plt.axis(\"off\")\n",
    "\n",
    "\n",
    "plt.savefig(\"Demo_Figures/word_cloud_SF.png\", dpi=500)"
   ]
  },
  {
   "cell_type": "code",
   "execution_count": 36,
   "metadata": {
    "ExecuteTime": {
     "end_time": "2019-09-29T00:30:58.073460Z",
     "start_time": "2019-09-29T00:30:58.068650Z"
    }
   },
   "outputs": [],
   "source": [
    "top_tags = [\"loving\", \"playful\", \"sweet\", \"friendly\", \"active\"]\n",
    "\n",
    "def top_tg(str_list):\n",
    "    for tgs in top_tags:\n",
    "        if tgs in str_list:\n",
    "            return tgs\n",
    "    "
   ]
  },
  {
   "cell_type": "code",
   "execution_count": 37,
   "metadata": {
    "ExecuteTime": {
     "end_time": "2019-09-29T00:31:01.383938Z",
     "start_time": "2019-09-29T00:31:01.374598Z"
    }
   },
   "outputs": [],
   "source": [
    "dog_data_SF[\"tags_top\"] = dog_data_SF[\"tags_cln\"].apply(top_tg)"
   ]
  },
  {
   "cell_type": "code",
   "execution_count": 38,
   "metadata": {
    "ExecuteTime": {
     "end_time": "2019-09-29T00:31:03.882260Z",
     "start_time": "2019-09-29T00:31:03.868952Z"
    },
    "scrolled": true
   },
   "outputs": [
    {
     "data": {
      "text/html": [
       "<div>\n",
       "<style scoped>\n",
       "    .dataframe tbody tr th:only-of-type {\n",
       "        vertical-align: middle;\n",
       "    }\n",
       "\n",
       "    .dataframe tbody tr th {\n",
       "        vertical-align: top;\n",
       "    }\n",
       "\n",
       "    .dataframe thead th {\n",
       "        text-align: right;\n",
       "    }\n",
       "</style>\n",
       "<table border=\"1\" class=\"dataframe\">\n",
       "  <thead>\n",
       "    <tr style=\"text-align: right;\">\n",
       "      <th></th>\n",
       "      <th>counts</th>\n",
       "      <th>freqs</th>\n",
       "    </tr>\n",
       "    <tr>\n",
       "      <th>categories</th>\n",
       "      <th></th>\n",
       "      <th></th>\n",
       "    </tr>\n",
       "  </thead>\n",
       "  <tbody>\n",
       "    <tr>\n",
       "      <th>NaN</th>\n",
       "      <td>4078</td>\n",
       "      <td>0.880207</td>\n",
       "    </tr>\n",
       "    <tr>\n",
       "      <th>loving</th>\n",
       "      <td>366</td>\n",
       "      <td>0.078998</td>\n",
       "    </tr>\n",
       "    <tr>\n",
       "      <th>playful</th>\n",
       "      <td>119</td>\n",
       "      <td>0.025685</td>\n",
       "    </tr>\n",
       "    <tr>\n",
       "      <th>sweet</th>\n",
       "      <td>46</td>\n",
       "      <td>0.009929</td>\n",
       "    </tr>\n",
       "    <tr>\n",
       "      <th>friendly</th>\n",
       "      <td>15</td>\n",
       "      <td>0.003238</td>\n",
       "    </tr>\n",
       "    <tr>\n",
       "      <th>active</th>\n",
       "      <td>9</td>\n",
       "      <td>0.001943</td>\n",
       "    </tr>\n",
       "  </tbody>\n",
       "</table>\n",
       "</div>"
      ],
      "text/plain": [
       "            counts     freqs\n",
       "categories                  \n",
       "NaN         4078    0.880207\n",
       "loving      366     0.078998\n",
       "playful     119     0.025685\n",
       "sweet       46      0.009929\n",
       "friendly    15      0.003238\n",
       "active      9       0.001943"
      ]
     },
     "execution_count": 38,
     "metadata": {},
     "output_type": "execute_result"
    }
   ],
   "source": [
    "pd.Categorical.describe(dog_data_SF[\"tags_top\"])"
   ]
  },
  {
   "cell_type": "code",
   "execution_count": 39,
   "metadata": {
    "ExecuteTime": {
     "end_time": "2019-09-29T00:31:07.952373Z",
     "start_time": "2019-09-29T00:31:07.944534Z"
    }
   },
   "outputs": [],
   "source": [
    "dog_data_SF['num_tags'] = dog_data_SF['tags'].apply(len)\n",
    "dog_data_SF['missing_description'] = pd.isnull(dog_data_SF['description'])"
   ]
  },
  {
   "cell_type": "code",
   "execution_count": 40,
   "metadata": {
    "ExecuteTime": {
     "end_time": "2019-09-29T00:31:10.117378Z",
     "start_time": "2019-09-29T00:31:09.852474Z"
    }
   },
   "outputs": [
    {
     "data": {
      "image/png": "[encoded data removed]",
      "text/plain": [
       "<Figure size 432x288 with 1 Axes>"
      ]
     },
     "metadata": {
      "needs_background": "light"
     },
     "output_type": "display_data"
    }
   ],
   "source": [
    "sns.distplot(dog_data_SF['num_tags']);"
   ]
  },
  {
   "cell_type": "code",
   "execution_count": 42,
   "metadata": {
    "ExecuteTime": {
     "end_time": "2019-09-29T00:31:33.570030Z",
     "start_time": "2019-09-29T00:31:33.552412Z"
    }
   },
   "outputs": [
    {
     "data": {
      "text/plain": [
       "Index(['animal_id', 'age', 'attributes.house_trained',\n",
       "       'attributes.shots_current', 'attributes.spayed_neutered',\n",
       "       'attributes.special_needs', 'breeds.mixed', 'breeds.primary', 'coat',\n",
       "       'colors.primary', 'contact.address.city', 'environment.cats',\n",
       "       'environment.children', 'environment.dogs', 'gender', 'name',\n",
       "       'organization_id.1', 'size', 'status', 'url', 'num_photo', 'pub_year',\n",
       "       'pub_month', 'pub_day', 'missing_description', 'pub_time', 'stat_time',\n",
       "       'time_in_shelter', 'time_adpt_med', 'tags_cln', 'tags_top', 'num_tags'],\n",
       "      dtype='object')"
      ]
     },
     "execution_count": 42,
     "metadata": {},
     "output_type": "execute_result"
    }
   ],
   "source": [
    "dog_data_SF = dog_data_SF.drop(\n",
    "    [\"tags\", \"description\", \"status_changed_at\", \"published_at\"],\n",
    "    axis=1,\n",
    ")\n",
    "dog_data_SF.columns"
   ]
  },
  {
   "cell_type": "markdown",
   "metadata": {
    "ExecuteTime": {
     "end_time": "2019-09-20T04:03:50.267124Z",
     "start_time": "2019-09-20T04:03:50.263346Z"
    }
   },
   "source": [
    "#### reclassify coat color"
   ]
  },
  {
   "cell_type": "code",
   "execution_count": 43,
   "metadata": {
    "ExecuteTime": {
     "end_time": "2019-09-29T00:31:46.252460Z",
     "start_time": "2019-09-29T00:31:46.243775Z"
    }
   },
   "outputs": [],
   "source": [
    "recat_color = {\n",
    "    \"Apricot / Beige\": \"ct_light\",\n",
    "    \"Brindle\": \"ct_light\",\n",
    "    \"Golden\": \"ct_light\",\n",
    "    \"Red / Chestnut / Orange\": \"ct_light\",\n",
    "    \"White / Cream\": \"ct_light\",\n",
    "    \"Yellow / Tan / Blond / Fawn\": \"ct_light\",\n",
    "    \"Bicolor\": \"ct_med\",\n",
    "    \"Gray / Blue / Silver\": \"ct_med\",\n",
    "    \"Harlequin\": \"ct_med\",\n",
    "    \"Merle (Blue)\": \"ct_med\",\n",
    "    \"Merle (Red)\": \"ct_med\",\n",
    "    \"Sable\": \"ct_med\",\n",
    "    \"Tricolor (Brown, Black, & White)\": \"ct_med\",\n",
    "    \"Black\": \"ct_dark\",\n",
    "    \"Brown / Chocolate\": \"ct_dark\",\n",
    "}\n",
    "\n",
    "dog_data_SF[\"colors_cat\"] = dog_data_SF[\"colors.primary\"].map(recat_color)"
   ]
  },
  {
   "cell_type": "code",
   "execution_count": 44,
   "metadata": {
    "ExecuteTime": {
     "end_time": "2019-09-29T00:31:47.427290Z",
     "start_time": "2019-09-29T00:31:47.412303Z"
    },
    "scrolled": true
   },
   "outputs": [
    {
     "data": {
      "text/html": [
       "<div>\n",
       "<style scoped>\n",
       "    .dataframe tbody tr th:only-of-type {\n",
       "        vertical-align: middle;\n",
       "    }\n",
       "\n",
       "    .dataframe tbody tr th {\n",
       "        vertical-align: top;\n",
       "    }\n",
       "\n",
       "    .dataframe thead th {\n",
       "        text-align: right;\n",
       "    }\n",
       "</style>\n",
       "<table border=\"1\" class=\"dataframe\">\n",
       "  <thead>\n",
       "    <tr style=\"text-align: right;\">\n",
       "      <th></th>\n",
       "      <th>counts</th>\n",
       "      <th>freqs</th>\n",
       "    </tr>\n",
       "    <tr>\n",
       "      <th>categories</th>\n",
       "      <th></th>\n",
       "      <th></th>\n",
       "    </tr>\n",
       "  </thead>\n",
       "  <tbody>\n",
       "    <tr>\n",
       "      <th>NaN</th>\n",
       "      <td>1929</td>\n",
       "      <td>0.416361</td>\n",
       "    </tr>\n",
       "    <tr>\n",
       "      <th>Black</th>\n",
       "      <td>871</td>\n",
       "      <td>0.187999</td>\n",
       "    </tr>\n",
       "    <tr>\n",
       "      <th>White / Cream</th>\n",
       "      <td>295</td>\n",
       "      <td>0.063674</td>\n",
       "    </tr>\n",
       "    <tr>\n",
       "      <th>Brown / Chocolate</th>\n",
       "      <td>286</td>\n",
       "      <td>0.061731</td>\n",
       "    </tr>\n",
       "    <tr>\n",
       "      <th>Bicolor</th>\n",
       "      <td>257</td>\n",
       "      <td>0.055472</td>\n",
       "    </tr>\n",
       "    <tr>\n",
       "      <th>Tricolor (Brown, Black, &amp; White)</th>\n",
       "      <td>190</td>\n",
       "      <td>0.041010</td>\n",
       "    </tr>\n",
       "    <tr>\n",
       "      <th>Yellow / Tan / Blond / Fawn</th>\n",
       "      <td>158</td>\n",
       "      <td>0.034103</td>\n",
       "    </tr>\n",
       "    <tr>\n",
       "      <th>Apricot / Beige</th>\n",
       "      <td>151</td>\n",
       "      <td>0.032592</td>\n",
       "    </tr>\n",
       "    <tr>\n",
       "      <th>Red / Chestnut / Orange</th>\n",
       "      <td>131</td>\n",
       "      <td>0.028275</td>\n",
       "    </tr>\n",
       "    <tr>\n",
       "      <th>Brindle</th>\n",
       "      <td>118</td>\n",
       "      <td>0.025469</td>\n",
       "    </tr>\n",
       "    <tr>\n",
       "      <th>Gray / Blue / Silver</th>\n",
       "      <td>112</td>\n",
       "      <td>0.024174</td>\n",
       "    </tr>\n",
       "    <tr>\n",
       "      <th>Golden</th>\n",
       "      <td>86</td>\n",
       "      <td>0.018562</td>\n",
       "    </tr>\n",
       "    <tr>\n",
       "      <th>Merle (Blue)</th>\n",
       "      <td>18</td>\n",
       "      <td>0.003885</td>\n",
       "    </tr>\n",
       "    <tr>\n",
       "      <th>Merle (Red)</th>\n",
       "      <td>17</td>\n",
       "      <td>0.003669</td>\n",
       "    </tr>\n",
       "    <tr>\n",
       "      <th>Sable</th>\n",
       "      <td>10</td>\n",
       "      <td>0.002158</td>\n",
       "    </tr>\n",
       "    <tr>\n",
       "      <th>Harlequin</th>\n",
       "      <td>4</td>\n",
       "      <td>0.000863</td>\n",
       "    </tr>\n",
       "  </tbody>\n",
       "</table>\n",
       "</div>"
      ],
      "text/plain": [
       "                                  counts     freqs\n",
       "categories                                        \n",
       "NaN                               1929    0.416361\n",
       "Black                             871     0.187999\n",
       "White / Cream                     295     0.063674\n",
       "Brown / Chocolate                 286     0.061731\n",
       "Bicolor                           257     0.055472\n",
       "Tricolor (Brown, Black, & White)  190     0.041010\n",
       "Yellow / Tan / Blond / Fawn       158     0.034103\n",
       "Apricot / Beige                   151     0.032592\n",
       "Red / Chestnut / Orange           131     0.028275\n",
       "Brindle                           118     0.025469\n",
       "Gray / Blue / Silver              112     0.024174\n",
       "Golden                            86      0.018562\n",
       "Merle (Blue)                      18      0.003885\n",
       "Merle (Red)                       17      0.003669\n",
       "Sable                             10      0.002158\n",
       "Harlequin                         4       0.000863"
      ]
     },
     "execution_count": 44,
     "metadata": {},
     "output_type": "execute_result"
    }
   ],
   "source": [
    "pd.Categorical.describe(dog_data_SF['colors.primary'])"
   ]
  },
  {
   "cell_type": "code",
   "execution_count": 45,
   "metadata": {
    "ExecuteTime": {
     "end_time": "2019-09-29T00:31:55.673933Z",
     "start_time": "2019-09-29T00:31:55.659204Z"
    },
    "scrolled": true
   },
   "outputs": [
    {
     "data": {
      "text/html": [
       "<div>\n",
       "<style scoped>\n",
       "    .dataframe tbody tr th:only-of-type {\n",
       "        vertical-align: middle;\n",
       "    }\n",
       "\n",
       "    .dataframe tbody tr th {\n",
       "        vertical-align: top;\n",
       "    }\n",
       "\n",
       "    .dataframe thead th {\n",
       "        text-align: right;\n",
       "    }\n",
       "</style>\n",
       "<table border=\"1\" class=\"dataframe\">\n",
       "  <thead>\n",
       "    <tr style=\"text-align: right;\">\n",
       "      <th></th>\n",
       "      <th>counts</th>\n",
       "      <th>freqs</th>\n",
       "    </tr>\n",
       "    <tr>\n",
       "      <th>categories</th>\n",
       "      <th></th>\n",
       "      <th></th>\n",
       "    </tr>\n",
       "  </thead>\n",
       "  <tbody>\n",
       "    <tr>\n",
       "      <th>NaN</th>\n",
       "      <td>1929</td>\n",
       "      <td>0.416361</td>\n",
       "    </tr>\n",
       "    <tr>\n",
       "      <th>ct_dark</th>\n",
       "      <td>1157</td>\n",
       "      <td>0.249730</td>\n",
       "    </tr>\n",
       "    <tr>\n",
       "      <th>ct_light</th>\n",
       "      <td>939</td>\n",
       "      <td>0.202676</td>\n",
       "    </tr>\n",
       "    <tr>\n",
       "      <th>ct_med</th>\n",
       "      <td>608</td>\n",
       "      <td>0.131232</td>\n",
       "    </tr>\n",
       "  </tbody>\n",
       "</table>\n",
       "</div>"
      ],
      "text/plain": [
       "            counts     freqs\n",
       "categories                  \n",
       "NaN         1929    0.416361\n",
       "ct_dark     1157    0.249730\n",
       "ct_light    939     0.202676\n",
       "ct_med      608     0.131232"
      ]
     },
     "execution_count": 45,
     "metadata": {},
     "output_type": "execute_result"
    }
   ],
   "source": [
    "pd.Categorical.describe(dog_data_SF['colors_cat'])"
   ]
  },
  {
   "cell_type": "code",
   "execution_count": 46,
   "metadata": {
    "ExecuteTime": {
     "end_time": "2019-09-29T00:32:00.053154Z",
     "start_time": "2019-09-29T00:32:00.045218Z"
    }
   },
   "outputs": [
    {
     "data": {
      "text/plain": [
       "1929"
      ]
     },
     "execution_count": 46,
     "metadata": {},
     "output_type": "execute_result"
    }
   ],
   "source": [
    "sum(pd.isnull(dog_data_SF['colors_cat']))"
   ]
  },
  {
   "cell_type": "code",
   "execution_count": 47,
   "metadata": {
    "ExecuteTime": {
     "end_time": "2019-09-29T00:32:01.839325Z",
     "start_time": "2019-09-29T00:32:01.807395Z"
    },
    "scrolled": true
   },
   "outputs": [
    {
     "data": {
      "text/html": [
       "<div>\n",
       "<style scoped>\n",
       "    .dataframe tbody tr th:only-of-type {\n",
       "        vertical-align: middle;\n",
       "    }\n",
       "\n",
       "    .dataframe tbody tr th {\n",
       "        vertical-align: top;\n",
       "    }\n",
       "\n",
       "    .dataframe thead th {\n",
       "        text-align: right;\n",
       "    }\n",
       "</style>\n",
       "<table border=\"1\" class=\"dataframe\">\n",
       "  <thead>\n",
       "    <tr style=\"text-align: right;\">\n",
       "      <th>pub_year</th>\n",
       "      <th>2019</th>\n",
       "    </tr>\n",
       "    <tr>\n",
       "      <th>colors_cat</th>\n",
       "      <th></th>\n",
       "    </tr>\n",
       "  </thead>\n",
       "  <tbody>\n",
       "    <tr>\n",
       "      <th>False</th>\n",
       "      <td>2704</td>\n",
       "    </tr>\n",
       "    <tr>\n",
       "      <th>True</th>\n",
       "      <td>1929</td>\n",
       "    </tr>\n",
       "  </tbody>\n",
       "</table>\n",
       "</div>"
      ],
      "text/plain": [
       "pub_year    2019\n",
       "colors_cat      \n",
       "False       2704\n",
       "True        1929"
      ]
     },
     "execution_count": 47,
     "metadata": {},
     "output_type": "execute_result"
    }
   ],
   "source": [
    "pd.crosstab(pd.isnull(dog_data_SF['colors_cat'])==True,dog_data_SF['pub_year'])"
   ]
  },
  {
   "cell_type": "code",
   "execution_count": 48,
   "metadata": {
    "ExecuteTime": {
     "end_time": "2019-09-29T00:32:05.327571Z",
     "start_time": "2019-09-29T00:32:05.313214Z"
    }
   },
   "outputs": [
    {
     "data": {
      "text/html": [
       "<div>\n",
       "<style scoped>\n",
       "    .dataframe tbody tr th:only-of-type {\n",
       "        vertical-align: middle;\n",
       "    }\n",
       "\n",
       "    .dataframe tbody tr th {\n",
       "        vertical-align: top;\n",
       "    }\n",
       "\n",
       "    .dataframe thead th {\n",
       "        text-align: right;\n",
       "    }\n",
       "</style>\n",
       "<table border=\"1\" class=\"dataframe\">\n",
       "  <thead>\n",
       "    <tr style=\"text-align: right;\">\n",
       "      <th></th>\n",
       "      <th>counts</th>\n",
       "      <th>freqs</th>\n",
       "    </tr>\n",
       "    <tr>\n",
       "      <th>categories</th>\n",
       "      <th></th>\n",
       "      <th></th>\n",
       "    </tr>\n",
       "  </thead>\n",
       "  <tbody>\n",
       "    <tr>\n",
       "      <th>Short</th>\n",
       "      <td>2115</td>\n",
       "      <td>0.456508</td>\n",
       "    </tr>\n",
       "    <tr>\n",
       "      <th>NaN</th>\n",
       "      <td>1576</td>\n",
       "      <td>0.340168</td>\n",
       "    </tr>\n",
       "    <tr>\n",
       "      <th>Medium</th>\n",
       "      <td>686</td>\n",
       "      <td>0.148068</td>\n",
       "    </tr>\n",
       "    <tr>\n",
       "      <th>Long</th>\n",
       "      <td>159</td>\n",
       "      <td>0.034319</td>\n",
       "    </tr>\n",
       "    <tr>\n",
       "      <th>Wire</th>\n",
       "      <td>56</td>\n",
       "      <td>0.012087</td>\n",
       "    </tr>\n",
       "    <tr>\n",
       "      <th>Curly</th>\n",
       "      <td>40</td>\n",
       "      <td>0.008634</td>\n",
       "    </tr>\n",
       "    <tr>\n",
       "      <th>Hairless</th>\n",
       "      <td>1</td>\n",
       "      <td>0.000216</td>\n",
       "    </tr>\n",
       "  </tbody>\n",
       "</table>\n",
       "</div>"
      ],
      "text/plain": [
       "            counts     freqs\n",
       "categories                  \n",
       "Short       2115    0.456508\n",
       "NaN         1576    0.340168\n",
       "Medium      686     0.148068\n",
       "Long        159     0.034319\n",
       "Wire        56      0.012087\n",
       "Curly       40      0.008634\n",
       "Hairless    1       0.000216"
      ]
     },
     "execution_count": 48,
     "metadata": {},
     "output_type": "execute_result"
    }
   ],
   "source": [
    "pd.Categorical.describe(dog_data_SF['coat'])"
   ]
  },
  {
   "cell_type": "code",
   "execution_count": 49,
   "metadata": {
    "ExecuteTime": {
     "end_time": "2019-09-29T00:32:06.661151Z",
     "start_time": "2019-09-29T00:32:06.637207Z"
    },
    "scrolled": true
   },
   "outputs": [
    {
     "data": {
      "text/html": [
       "<div>\n",
       "<style scoped>\n",
       "    .dataframe tbody tr th:only-of-type {\n",
       "        vertical-align: middle;\n",
       "    }\n",
       "\n",
       "    .dataframe tbody tr th {\n",
       "        vertical-align: top;\n",
       "    }\n",
       "\n",
       "    .dataframe thead th {\n",
       "        text-align: right;\n",
       "    }\n",
       "</style>\n",
       "<table border=\"1\" class=\"dataframe\">\n",
       "  <thead>\n",
       "    <tr style=\"text-align: right;\">\n",
       "      <th>pub_year</th>\n",
       "      <th>2019</th>\n",
       "    </tr>\n",
       "    <tr>\n",
       "      <th>coat</th>\n",
       "      <th></th>\n",
       "    </tr>\n",
       "  </thead>\n",
       "  <tbody>\n",
       "    <tr>\n",
       "      <th>Curly</th>\n",
       "      <td>40</td>\n",
       "    </tr>\n",
       "    <tr>\n",
       "      <th>Hairless</th>\n",
       "      <td>1</td>\n",
       "    </tr>\n",
       "    <tr>\n",
       "      <th>Long</th>\n",
       "      <td>159</td>\n",
       "    </tr>\n",
       "    <tr>\n",
       "      <th>Medium</th>\n",
       "      <td>686</td>\n",
       "    </tr>\n",
       "    <tr>\n",
       "      <th>Short</th>\n",
       "      <td>2115</td>\n",
       "    </tr>\n",
       "    <tr>\n",
       "      <th>Wire</th>\n",
       "      <td>56</td>\n",
       "    </tr>\n",
       "  </tbody>\n",
       "</table>\n",
       "</div>"
      ],
      "text/plain": [
       "pub_year  2019\n",
       "coat          \n",
       "Curly     40  \n",
       "Hairless  1   \n",
       "Long      159 \n",
       "Medium    686 \n",
       "Short     2115\n",
       "Wire      56  "
      ]
     },
     "execution_count": 49,
     "metadata": {},
     "output_type": "execute_result"
    }
   ],
   "source": [
    "pd.crosstab(dog_data_SF['coat'],dog_data_SF['pub_year'])"
   ]
  },
  {
   "cell_type": "code",
   "execution_count": 50,
   "metadata": {
    "ExecuteTime": {
     "end_time": "2019-09-29T00:32:13.709657Z",
     "start_time": "2019-09-29T00:32:13.705496Z"
    }
   },
   "outputs": [],
   "source": [
    "cat_features = [\"age\", \"gender\", \"size\", \"coat\", \"colors_cat\", \"pub_month\", \"pub_year\", \"tags_top\"]\n",
    "\n",
    "# 'breeds.primary', 'breeds.mixed', 'breeds.unknown', 'contact.address.city'"
   ]
  },
  {
   "cell_type": "code",
   "execution_count": 51,
   "metadata": {
    "ExecuteTime": {
     "end_time": "2019-09-29T00:32:14.760122Z",
     "start_time": "2019-09-29T00:32:14.755472Z"
    }
   },
   "outputs": [],
   "source": [
    "def gen_dummies(dataset, variable_list):\n",
    "    for var in variable_list:\n",
    "        dataset = pd.concat([dataset, pd.get_dummies(dataset[var], prefix=var)], axis=1)\n",
    "    return dataset"
   ]
  },
  {
   "cell_type": "code",
   "execution_count": 52,
   "metadata": {
    "ExecuteTime": {
     "end_time": "2019-09-29T00:32:16.101973Z",
     "start_time": "2019-09-29T00:32:15.899803Z"
    }
   },
   "outputs": [
    {
     "data": {
      "text/html": [
       "<div>\n",
       "<style scoped>\n",
       "    .dataframe tbody tr th:only-of-type {\n",
       "        vertical-align: middle;\n",
       "    }\n",
       "\n",
       "    .dataframe tbody tr th {\n",
       "        vertical-align: top;\n",
       "    }\n",
       "\n",
       "    .dataframe thead th {\n",
       "        text-align: right;\n",
       "    }\n",
       "</style>\n",
       "<table border=\"1\" class=\"dataframe\">\n",
       "  <thead>\n",
       "    <tr style=\"text-align: right;\">\n",
       "      <th></th>\n",
       "      <th>animal_id</th>\n",
       "      <th>num_photo</th>\n",
       "      <th>pub_year</th>\n",
       "      <th>pub_month</th>\n",
       "      <th>pub_day</th>\n",
       "      <th>time_in_shelter</th>\n",
       "      <th>time_adpt_med</th>\n",
       "      <th>num_tags</th>\n",
       "      <th>age_Adult</th>\n",
       "      <th>age_Baby</th>\n",
       "      <th>...</th>\n",
       "      <th>pub_month_6</th>\n",
       "      <th>pub_month_7</th>\n",
       "      <th>pub_month_8</th>\n",
       "      <th>pub_month_9</th>\n",
       "      <th>pub_year_2019</th>\n",
       "      <th>tags_top_active</th>\n",
       "      <th>tags_top_friendly</th>\n",
       "      <th>tags_top_loving</th>\n",
       "      <th>tags_top_playful</th>\n",
       "      <th>tags_top_sweet</th>\n",
       "    </tr>\n",
       "  </thead>\n",
       "  <tbody>\n",
       "    <tr>\n",
       "      <th>count</th>\n",
       "      <td>4.633000e+03</td>\n",
       "      <td>4633.000000</td>\n",
       "      <td>4633.0</td>\n",
       "      <td>4633.000000</td>\n",
       "      <td>4633.000000</td>\n",
       "      <td>4633.000000</td>\n",
       "      <td>4633.000000</td>\n",
       "      <td>4633.000000</td>\n",
       "      <td>4633.000000</td>\n",
       "      <td>4633.000000</td>\n",
       "      <td>...</td>\n",
       "      <td>4633.000000</td>\n",
       "      <td>4633.000000</td>\n",
       "      <td>4633.000000</td>\n",
       "      <td>4633.000000</td>\n",
       "      <td>4633.0</td>\n",
       "      <td>4633.000000</td>\n",
       "      <td>4633.000000</td>\n",
       "      <td>4633.000000</td>\n",
       "      <td>4633.000000</td>\n",
       "      <td>4633.000000</td>\n",
       "    </tr>\n",
       "    <tr>\n",
       "      <th>mean</th>\n",
       "      <td>4.511837e+07</td>\n",
       "      <td>3.007986</td>\n",
       "      <td>2019.0</td>\n",
       "      <td>6.346644</td>\n",
       "      <td>6.346644</td>\n",
       "      <td>18.665444</td>\n",
       "      <td>0.571552</td>\n",
       "      <td>6.941075</td>\n",
       "      <td>0.301317</td>\n",
       "      <td>0.388517</td>\n",
       "      <td>...</td>\n",
       "      <td>0.200086</td>\n",
       "      <td>0.198144</td>\n",
       "      <td>0.191668</td>\n",
       "      <td>0.079862</td>\n",
       "      <td>1.0</td>\n",
       "      <td>0.001943</td>\n",
       "      <td>0.003238</td>\n",
       "      <td>0.078998</td>\n",
       "      <td>0.025685</td>\n",
       "      <td>0.009929</td>\n",
       "    </tr>\n",
       "    <tr>\n",
       "      <th>std</th>\n",
       "      <td>4.562706e+05</td>\n",
       "      <td>1.671326</td>\n",
       "      <td>0.0</td>\n",
       "      <td>1.525354</td>\n",
       "      <td>1.525354</td>\n",
       "      <td>23.212521</td>\n",
       "      <td>0.494907</td>\n",
       "      <td>14.084918</td>\n",
       "      <td>0.458879</td>\n",
       "      <td>0.487466</td>\n",
       "      <td>...</td>\n",
       "      <td>0.400108</td>\n",
       "      <td>0.398644</td>\n",
       "      <td>0.393656</td>\n",
       "      <td>0.271108</td>\n",
       "      <td>0.0</td>\n",
       "      <td>0.044037</td>\n",
       "      <td>0.056814</td>\n",
       "      <td>0.269766</td>\n",
       "      <td>0.158212</td>\n",
       "      <td>0.099158</td>\n",
       "    </tr>\n",
       "    <tr>\n",
       "      <th>min</th>\n",
       "      <td>4.437287e+07</td>\n",
       "      <td>0.000000</td>\n",
       "      <td>2019.0</td>\n",
       "      <td>4.000000</td>\n",
       "      <td>4.000000</td>\n",
       "      <td>0.000000</td>\n",
       "      <td>0.000000</td>\n",
       "      <td>2.000000</td>\n",
       "      <td>0.000000</td>\n",
       "      <td>0.000000</td>\n",
       "      <td>...</td>\n",
       "      <td>0.000000</td>\n",
       "      <td>0.000000</td>\n",
       "      <td>0.000000</td>\n",
       "      <td>0.000000</td>\n",
       "      <td>1.0</td>\n",
       "      <td>0.000000</td>\n",
       "      <td>0.000000</td>\n",
       "      <td>0.000000</td>\n",
       "      <td>0.000000</td>\n",
       "      <td>0.000000</td>\n",
       "    </tr>\n",
       "    <tr>\n",
       "      <th>25%</th>\n",
       "      <td>4.471620e+07</td>\n",
       "      <td>1.000000</td>\n",
       "      <td>2019.0</td>\n",
       "      <td>5.000000</td>\n",
       "      <td>5.000000</td>\n",
       "      <td>3.000000</td>\n",
       "      <td>0.000000</td>\n",
       "      <td>2.000000</td>\n",
       "      <td>0.000000</td>\n",
       "      <td>0.000000</td>\n",
       "      <td>...</td>\n",
       "      <td>0.000000</td>\n",
       "      <td>0.000000</td>\n",
       "      <td>0.000000</td>\n",
       "      <td>0.000000</td>\n",
       "      <td>1.0</td>\n",
       "      <td>0.000000</td>\n",
       "      <td>0.000000</td>\n",
       "      <td>0.000000</td>\n",
       "      <td>0.000000</td>\n",
       "      <td>0.000000</td>\n",
       "    </tr>\n",
       "    <tr>\n",
       "      <th>50%</th>\n",
       "      <td>4.508719e+07</td>\n",
       "      <td>3.000000</td>\n",
       "      <td>2019.0</td>\n",
       "      <td>6.000000</td>\n",
       "      <td>6.000000</td>\n",
       "      <td>11.000000</td>\n",
       "      <td>1.000000</td>\n",
       "      <td>2.000000</td>\n",
       "      <td>0.000000</td>\n",
       "      <td>0.000000</td>\n",
       "      <td>...</td>\n",
       "      <td>0.000000</td>\n",
       "      <td>0.000000</td>\n",
       "      <td>0.000000</td>\n",
       "      <td>0.000000</td>\n",
       "      <td>1.0</td>\n",
       "      <td>0.000000</td>\n",
       "      <td>0.000000</td>\n",
       "      <td>0.000000</td>\n",
       "      <td>0.000000</td>\n",
       "      <td>0.000000</td>\n",
       "    </tr>\n",
       "    <tr>\n",
       "      <th>75%</th>\n",
       "      <td>4.549831e+07</td>\n",
       "      <td>4.000000</td>\n",
       "      <td>2019.0</td>\n",
       "      <td>8.000000</td>\n",
       "      <td>8.000000</td>\n",
       "      <td>25.000000</td>\n",
       "      <td>1.000000</td>\n",
       "      <td>2.000000</td>\n",
       "      <td>1.000000</td>\n",
       "      <td>1.000000</td>\n",
       "      <td>...</td>\n",
       "      <td>0.000000</td>\n",
       "      <td>0.000000</td>\n",
       "      <td>0.000000</td>\n",
       "      <td>0.000000</td>\n",
       "      <td>1.0</td>\n",
       "      <td>0.000000</td>\n",
       "      <td>0.000000</td>\n",
       "      <td>0.000000</td>\n",
       "      <td>0.000000</td>\n",
       "      <td>0.000000</td>\n",
       "    </tr>\n",
       "    <tr>\n",
       "      <th>max</th>\n",
       "      <td>4.611011e+07</td>\n",
       "      <td>6.000000</td>\n",
       "      <td>2019.0</td>\n",
       "      <td>9.000000</td>\n",
       "      <td>9.000000</td>\n",
       "      <td>165.000000</td>\n",
       "      <td>1.000000</td>\n",
       "      <td>99.000000</td>\n",
       "      <td>1.000000</td>\n",
       "      <td>1.000000</td>\n",
       "      <td>...</td>\n",
       "      <td>1.000000</td>\n",
       "      <td>1.000000</td>\n",
       "      <td>1.000000</td>\n",
       "      <td>1.000000</td>\n",
       "      <td>1.0</td>\n",
       "      <td>1.000000</td>\n",
       "      <td>1.000000</td>\n",
       "      <td>1.000000</td>\n",
       "      <td>1.000000</td>\n",
       "      <td>1.000000</td>\n",
       "    </tr>\n",
       "  </tbody>\n",
       "</table>\n",
       "<p>8 rows × 39 columns</p>\n",
       "</div>"
      ],
      "text/plain": [
       "          animal_id    num_photo  pub_year    pub_month      pub_day  \\\n",
       "count  4.633000e+03  4633.000000  4633.0    4633.000000  4633.000000   \n",
       "mean   4.511837e+07  3.007986     2019.0    6.346644     6.346644      \n",
       "std    4.562706e+05  1.671326     0.0       1.525354     1.525354      \n",
       "min    4.437287e+07  0.000000     2019.0    4.000000     4.000000      \n",
       "25%    4.471620e+07  1.000000     2019.0    5.000000     5.000000      \n",
       "50%    4.508719e+07  3.000000     2019.0    6.000000     6.000000      \n",
       "75%    4.549831e+07  4.000000     2019.0    8.000000     8.000000      \n",
       "max    4.611011e+07  6.000000     2019.0    9.000000     9.000000      \n",
       "\n",
       "       time_in_shelter  time_adpt_med     num_tags    age_Adult     age_Baby  \\\n",
       "count  4633.000000      4633.000000    4633.000000  4633.000000  4633.000000   \n",
       "mean   18.665444        0.571552       6.941075     0.301317     0.388517      \n",
       "std    23.212521        0.494907       14.084918    0.458879     0.487466      \n",
       "min    0.000000         0.000000       2.000000     0.000000     0.000000      \n",
       "25%    3.000000         0.000000       2.000000     0.000000     0.000000      \n",
       "50%    11.000000        1.000000       2.000000     0.000000     0.000000      \n",
       "75%    25.000000        1.000000       2.000000     1.000000     1.000000      \n",
       "max    165.000000       1.000000       99.000000    1.000000     1.000000      \n",
       "\n",
       "       ...  pub_month_6  pub_month_7  pub_month_8  pub_month_9  pub_year_2019  \\\n",
       "count  ...  4633.000000  4633.000000  4633.000000  4633.000000  4633.0          \n",
       "mean   ...  0.200086     0.198144     0.191668     0.079862     1.0             \n",
       "std    ...  0.400108     0.398644     0.393656     0.271108     0.0             \n",
       "min    ...  0.000000     0.000000     0.000000     0.000000     1.0             \n",
       "25%    ...  0.000000     0.000000     0.000000     0.000000     1.0             \n",
       "50%    ...  0.000000     0.000000     0.000000     0.000000     1.0             \n",
       "75%    ...  0.000000     0.000000     0.000000     0.000000     1.0             \n",
       "max    ...  1.000000     1.000000     1.000000     1.000000     1.0             \n",
       "\n",
       "       tags_top_active  tags_top_friendly  tags_top_loving  tags_top_playful  \\\n",
       "count  4633.000000      4633.000000        4633.000000      4633.000000        \n",
       "mean   0.001943         0.003238           0.078998         0.025685           \n",
       "std    0.044037         0.056814           0.269766         0.158212           \n",
       "min    0.000000         0.000000           0.000000         0.000000           \n",
       "25%    0.000000         0.000000           0.000000         0.000000           \n",
       "50%    0.000000         0.000000           0.000000         0.000000           \n",
       "75%    0.000000         0.000000           0.000000         0.000000           \n",
       "max    1.000000         1.000000           1.000000         1.000000           \n",
       "\n",
       "       tags_top_sweet  \n",
       "count  4633.000000     \n",
       "mean   0.009929        \n",
       "std    0.099158        \n",
       "min    0.000000        \n",
       "25%    0.000000        \n",
       "50%    0.000000        \n",
       "75%    0.000000        \n",
       "max    1.000000        \n",
       "\n",
       "[8 rows x 39 columns]"
      ]
     },
     "execution_count": 52,
     "metadata": {},
     "output_type": "execute_result"
    }
   ],
   "source": [
    "dog_data_SF = gen_dummies(dog_data_SF, cat_features)\n",
    "\n",
    "dog_data_SF.describe()"
   ]
  },
  {
   "cell_type": "code",
   "execution_count": 53,
   "metadata": {
    "ExecuteTime": {
     "end_time": "2019-09-29T00:32:31.257723Z",
     "start_time": "2019-09-29T00:32:31.250731Z"
    },
    "scrolled": true
   },
   "outputs": [
    {
     "data": {
      "text/plain": [
       "Index(['animal_id', 'age', 'attributes.house_trained',\n",
       "       'attributes.shots_current', 'attributes.spayed_neutered',\n",
       "       'attributes.special_needs', 'breeds.mixed', 'breeds.primary', 'coat',\n",
       "       'colors.primary', 'contact.address.city', 'environment.cats',\n",
       "       'environment.children', 'environment.dogs', 'gender', 'name',\n",
       "       'organization_id.1', 'size', 'status', 'url', 'num_photo', 'pub_year',\n",
       "       'pub_month', 'pub_day', 'missing_description', 'pub_time', 'stat_time',\n",
       "       'time_in_shelter', 'time_adpt_med', 'tags_cln', 'tags_top', 'num_tags',\n",
       "       'colors_cat', 'age_Adult', 'age_Baby', 'age_Senior', 'age_Young',\n",
       "       'gender_Female', 'gender_Male', 'size_Extra Large', 'size_Large',\n",
       "       'size_Medium', 'size_Small', 'coat_Curly', 'coat_Hairless', 'coat_Long',\n",
       "       'coat_Medium', 'coat_Short', 'coat_Wire', 'colors_cat_ct_dark',\n",
       "       'colors_cat_ct_light', 'colors_cat_ct_med', 'pub_month_4',\n",
       "       'pub_month_5', 'pub_month_6', 'pub_month_7', 'pub_month_8',\n",
       "       'pub_month_9', 'pub_year_2019', 'tags_top_active', 'tags_top_friendly',\n",
       "       'tags_top_loving', 'tags_top_playful', 'tags_top_sweet'],\n",
       "      dtype='object')"
      ]
     },
     "execution_count": 53,
     "metadata": {},
     "output_type": "execute_result"
    }
   ],
   "source": [
    "dog_data_SF.columns"
   ]
  },
  {
   "cell_type": "code",
   "execution_count": 57,
   "metadata": {
    "ExecuteTime": {
     "end_time": "2019-09-29T00:33:12.337373Z",
     "start_time": "2019-09-29T00:33:12.310907Z"
    }
   },
   "outputs": [
    {
     "name": "stdout",
     "output_type": "stream",
     "text": [
      "<class 'pandas.core.frame.DataFrame'>\n",
      "Int64Index: 4633 entries, 90 to 5959\n",
      "Data columns (total 64 columns):\n",
      "animal_id                     4633 non-null int64\n",
      "age                           4633 non-null object\n",
      "attributes.house_trained      4633 non-null bool\n",
      "attributes.shots_current      4633 non-null bool\n",
      "attributes.spayed_neutered    4633 non-null bool\n",
      "attributes.special_needs      4633 non-null bool\n",
      "breeds.mixed                  4633 non-null bool\n",
      "breeds.primary                4633 non-null object\n",
      "coat                          3057 non-null object\n",
      "colors.primary                2704 non-null object\n",
      "contact.address.city          4633 non-null object\n",
      "environment.cats              1812 non-null object\n",
      "environment.children          2789 non-null object\n",
      "environment.dogs              3591 non-null object\n",
      "gender                        4633 non-null object\n",
      "name                          4633 non-null object\n",
      "organization_id.1             4633 non-null object\n",
      "size                          4633 non-null object\n",
      "status                        4633 non-null object\n",
      "url                           4633 non-null object\n",
      "num_photo                     4633 non-null int64\n",
      "pub_year                      4633 non-null int64\n",
      "pub_month                     4633 non-null int64\n",
      "pub_day                       4633 non-null int64\n",
      "missing_description           4633 non-null bool\n",
      "pub_time                      4633 non-null datetime64[ns]\n",
      "stat_time                     4633 non-null datetime64[ns]\n",
      "time_in_shelter               4633 non-null float64\n",
      "time_adpt_med                 4633 non-null int64\n",
      "tags_cln                      4633 non-null object\n",
      "tags_top                      555 non-null object\n",
      "num_tags                      4633 non-null int64\n",
      "colors_cat                    2704 non-null object\n",
      "age_Adult                     4633 non-null uint8\n",
      "age_Baby                      4633 non-null uint8\n",
      "age_Senior                    4633 non-null uint8\n",
      "age_Young                     4633 non-null uint8\n",
      "gender_Female                 4633 non-null uint8\n",
      "gender_Male                   4633 non-null uint8\n",
      "size_Extra Large              4633 non-null uint8\n",
      "size_Large                    4633 non-null uint8\n",
      "size_Medium                   4633 non-null uint8\n",
      "size_Small                    4633 non-null uint8\n",
      "coat_Curly                    4633 non-null uint8\n",
      "coat_Hairless                 4633 non-null uint8\n",
      "coat_Long                     4633 non-null uint8\n",
      "coat_Medium                   4633 non-null uint8\n",
      "coat_Short                    4633 non-null uint8\n",
      "coat_Wire                     4633 non-null uint8\n",
      "colors_cat_ct_dark            4633 non-null uint8\n",
      "colors_cat_ct_light           4633 non-null uint8\n",
      "colors_cat_ct_med             4633 non-null uint8\n",
      "pub_month_4                   4633 non-null uint8\n",
      "pub_month_5                   4633 non-null uint8\n",
      "pub_month_6                   4633 non-null uint8\n",
      "pub_month_7                   4633 non-null uint8\n",
      "pub_month_8                   4633 non-null uint8\n",
      "pub_month_9                   4633 non-null uint8\n",
      "pub_year_2019                 4633 non-null uint8\n",
      "tags_top_active               4633 non-null uint8\n",
      "tags_top_friendly             4633 non-null uint8\n",
      "tags_top_loving               4633 non-null uint8\n",
      "tags_top_playful              4633 non-null uint8\n",
      "tags_top_sweet                4633 non-null uint8\n",
      "dtypes: bool(6), datetime64[ns](2), float64(1), int64(7), object(17), uint8(31)\n",
      "memory usage: 1.2+ MB\n"
     ]
    }
   ],
   "source": [
    "dog_data_SF.info()"
   ]
  },
  {
   "cell_type": "markdown",
   "metadata": {},
   "source": [
    "### Cleaning up boolean variables"
   ]
  },
  {
   "cell_type": "code",
   "execution_count": 54,
   "metadata": {
    "ExecuteTime": {
     "end_time": "2019-09-29T00:32:40.275981Z",
     "start_time": "2019-09-29T00:32:40.253567Z"
    },
    "scrolled": true
   },
   "outputs": [
    {
     "data": {
      "text/html": [
       "<div>\n",
       "<style scoped>\n",
       "    .dataframe tbody tr th:only-of-type {\n",
       "        vertical-align: middle;\n",
       "    }\n",
       "\n",
       "    .dataframe tbody tr th {\n",
       "        vertical-align: top;\n",
       "    }\n",
       "\n",
       "    .dataframe thead th {\n",
       "        text-align: right;\n",
       "    }\n",
       "</style>\n",
       "<table border=\"1\" class=\"dataframe\">\n",
       "  <thead>\n",
       "    <tr style=\"text-align: right;\">\n",
       "      <th></th>\n",
       "      <th>attributes.house_trained</th>\n",
       "      <th>attributes.shots_current</th>\n",
       "      <th>attributes.spayed_neutered</th>\n",
       "      <th>attributes.special_needs</th>\n",
       "      <th>breeds.mixed</th>\n",
       "      <th>missing_description</th>\n",
       "    </tr>\n",
       "  </thead>\n",
       "  <tbody>\n",
       "    <tr>\n",
       "      <th>90</th>\n",
       "      <td>True</td>\n",
       "      <td>True</td>\n",
       "      <td>True</td>\n",
       "      <td>False</td>\n",
       "      <td>True</td>\n",
       "      <td>False</td>\n",
       "    </tr>\n",
       "    <tr>\n",
       "      <th>117</th>\n",
       "      <td>False</td>\n",
       "      <td>True</td>\n",
       "      <td>True</td>\n",
       "      <td>False</td>\n",
       "      <td>True</td>\n",
       "      <td>False</td>\n",
       "    </tr>\n",
       "    <tr>\n",
       "      <th>146</th>\n",
       "      <td>True</td>\n",
       "      <td>True</td>\n",
       "      <td>True</td>\n",
       "      <td>False</td>\n",
       "      <td>True</td>\n",
       "      <td>False</td>\n",
       "    </tr>\n",
       "    <tr>\n",
       "      <th>167</th>\n",
       "      <td>True</td>\n",
       "      <td>True</td>\n",
       "      <td>True</td>\n",
       "      <td>False</td>\n",
       "      <td>True</td>\n",
       "      <td>False</td>\n",
       "    </tr>\n",
       "    <tr>\n",
       "      <th>170</th>\n",
       "      <td>False</td>\n",
       "      <td>True</td>\n",
       "      <td>True</td>\n",
       "      <td>False</td>\n",
       "      <td>True</td>\n",
       "      <td>False</td>\n",
       "    </tr>\n",
       "  </tbody>\n",
       "</table>\n",
       "</div>"
      ],
      "text/plain": [
       "     attributes.house_trained  attributes.shots_current  \\\n",
       "90   True                      True                       \n",
       "117  False                     True                       \n",
       "146  True                      True                       \n",
       "167  True                      True                       \n",
       "170  False                     True                       \n",
       "\n",
       "     attributes.spayed_neutered  attributes.special_needs  breeds.mixed  \\\n",
       "90   True                        False                     True           \n",
       "117  True                        False                     True           \n",
       "146  True                        False                     True           \n",
       "167  True                        False                     True           \n",
       "170  True                        False                     True           \n",
       "\n",
       "     missing_description  \n",
       "90   False                \n",
       "117  False                \n",
       "146  False                \n",
       "167  False                \n",
       "170  False                "
      ]
     },
     "execution_count": 54,
     "metadata": {},
     "output_type": "execute_result"
    }
   ],
   "source": [
    "dog_data_SF.select_dtypes(include='bool').head()"
   ]
  },
  {
   "cell_type": "code",
   "execution_count": 56,
   "metadata": {
    "ExecuteTime": {
     "end_time": "2019-09-29T00:32:54.159279Z",
     "start_time": "2019-09-29T00:32:54.127970Z"
    }
   },
   "outputs": [
    {
     "name": "stdout",
     "output_type": "stream",
     "text": [
      "<class 'pandas.core.frame.DataFrame'>\n",
      "Int64Index: 4633 entries, 90 to 5959\n",
      "Data columns (total 64 columns):\n",
      "animal_id                     4633 non-null int64\n",
      "age                           4633 non-null object\n",
      "attributes.house_trained      4633 non-null bool\n",
      "attributes.shots_current      4633 non-null bool\n",
      "attributes.spayed_neutered    4633 non-null bool\n",
      "attributes.special_needs      4633 non-null bool\n",
      "breeds.mixed                  4633 non-null bool\n",
      "breeds.primary                4633 non-null object\n",
      "coat                          3057 non-null object\n",
      "colors.primary                2704 non-null object\n",
      "contact.address.city          4633 non-null object\n",
      "environment.cats              1812 non-null object\n",
      "environment.children          2789 non-null object\n",
      "environment.dogs              3591 non-null object\n",
      "gender                        4633 non-null object\n",
      "name                          4633 non-null object\n",
      "organization_id.1             4633 non-null object\n",
      "size                          4633 non-null object\n",
      "status                        4633 non-null object\n",
      "url                           4633 non-null object\n",
      "num_photo                     4633 non-null int64\n",
      "pub_year                      4633 non-null int64\n",
      "pub_month                     4633 non-null int64\n",
      "pub_day                       4633 non-null int64\n",
      "missing_description           4633 non-null bool\n",
      "pub_time                      4633 non-null datetime64[ns]\n",
      "stat_time                     4633 non-null datetime64[ns]\n",
      "time_in_shelter               4633 non-null float64\n",
      "time_adpt_med                 4633 non-null int64\n",
      "tags_cln                      4633 non-null object\n",
      "tags_top                      555 non-null object\n",
      "num_tags                      4633 non-null int64\n",
      "colors_cat                    2704 non-null object\n",
      "age_Adult                     4633 non-null uint8\n",
      "age_Baby                      4633 non-null uint8\n",
      "age_Senior                    4633 non-null uint8\n",
      "age_Young                     4633 non-null uint8\n",
      "gender_Female                 4633 non-null uint8\n",
      "gender_Male                   4633 non-null uint8\n",
      "size_Extra Large              4633 non-null uint8\n",
      "size_Large                    4633 non-null uint8\n",
      "size_Medium                   4633 non-null uint8\n",
      "size_Small                    4633 non-null uint8\n",
      "coat_Curly                    4633 non-null uint8\n",
      "coat_Hairless                 4633 non-null uint8\n",
      "coat_Long                     4633 non-null uint8\n",
      "coat_Medium                   4633 non-null uint8\n",
      "coat_Short                    4633 non-null uint8\n",
      "coat_Wire                     4633 non-null uint8\n",
      "colors_cat_ct_dark            4633 non-null uint8\n",
      "colors_cat_ct_light           4633 non-null uint8\n",
      "colors_cat_ct_med             4633 non-null uint8\n",
      "pub_month_4                   4633 non-null uint8\n",
      "pub_month_5                   4633 non-null uint8\n",
      "pub_month_6                   4633 non-null uint8\n",
      "pub_month_7                   4633 non-null uint8\n",
      "pub_month_8                   4633 non-null uint8\n",
      "pub_month_9                   4633 non-null uint8\n",
      "pub_year_2019                 4633 non-null uint8\n",
      "tags_top_active               4633 non-null uint8\n",
      "tags_top_friendly             4633 non-null uint8\n",
      "tags_top_loving               4633 non-null uint8\n",
      "tags_top_playful              4633 non-null uint8\n",
      "tags_top_sweet                4633 non-null uint8\n",
      "dtypes: bool(6), datetime64[ns](2), float64(1), int64(7), object(17), uint8(31)\n",
      "memory usage: 1.2+ MB\n"
     ]
    }
   ],
   "source": [
    "dog_data_SF.info()"
   ]
  },
  {
   "cell_type": "code",
   "execution_count": 58,
   "metadata": {
    "ExecuteTime": {
     "end_time": "2019-09-29T00:33:57.167508Z",
     "start_time": "2019-09-29T00:33:57.145697Z"
    }
   },
   "outputs": [],
   "source": [
    "for var in dog_data_SF.select_dtypes(include='bool').columns:\n",
    "    dog_data_SF[var] = 1*dog_data_SF[var]"
   ]
  },
  {
   "cell_type": "markdown",
   "metadata": {},
   "source": [
    "### Export clean data for modeling"
   ]
  },
  {
   "cell_type": "code",
   "execution_count": 1,
   "metadata": {
    "ExecuteTime": {
     "end_time": "2019-09-29T00:25:09.480505Z",
     "start_time": "2019-09-29T00:25:09.477826Z"
    },
    "scrolled": true
   },
   "outputs": [],
   "source": [
    "# dog_data_SF.info()"
   ]
  },
  {
   "cell_type": "code",
   "execution_count": 62,
   "metadata": {
    "ExecuteTime": {
     "end_time": "2019-09-29T00:34:42.210987Z",
     "start_time": "2019-09-29T00:34:42.203731Z"
    },
    "scrolled": true
   },
   "outputs": [
    {
     "data": {
      "text/plain": [
       "(4633, 64)"
      ]
     },
     "execution_count": 62,
     "metadata": {},
     "output_type": "execute_result"
    }
   ],
   "source": [
    "dog_data_SF.shape"
   ]
  },
  {
   "cell_type": "code",
   "execution_count": 63,
   "metadata": {
    "ExecuteTime": {
     "end_time": "2019-09-29T00:35:06.315209Z",
     "start_time": "2019-09-29T00:35:05.969929Z"
    }
   },
   "outputs": [],
   "source": [
    "dog_data_SF.to_csv('Model_Data/dog_data_SF_19.csv')"
   ]
  },
  {
   "cell_type": "code",
   "execution_count": null,
   "metadata": {},
   "outputs": [],
   "source": []
  }
 ],
 "metadata": {
  "kernelspec": {
   "display_name": "Python 3",
   "language": "python",
   "name": "python3"
  },
  "language_info": {
   "codemirror_mode": {
    "name": "ipython",
    "version": 3
   },
   "file_extension": ".py",
   "mimetype": "text/x-python",
   "name": "python",
   "nbconvert_exporter": "python",
   "pygments_lexer": "ipython3",
   "version": "3.7.6"
  }
 },
 "nbformat": 4,
 "nbformat_minor": 4
}
