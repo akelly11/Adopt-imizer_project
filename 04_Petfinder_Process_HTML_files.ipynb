{
 "cells": [
  {
   "cell_type": "code",
   "execution_count": 2,
   "metadata": {
    "ExecuteTime": {
     "end_time": "2019-10-01T17:10:48.286341Z",
     "start_time": "2019-10-01T17:10:47.635521Z"
    }
   },
   "outputs": [],
   "source": [
    "from __future__ import division, unicode_literals\n",
    "\n",
    "import re\n",
    "import os\n",
    "import pandas as pd\n",
    "import numpy as np\n",
    "\n",
    "import codecs\n",
    "from bs4 import BeautifulSoup\n",
    "import random\n",
    "import time"
   ]
  },
  {
   "cell_type": "code",
   "execution_count": 3,
   "metadata": {
    "ExecuteTime": {
     "end_time": "2019-10-01T17:10:48.933024Z",
     "start_time": "2019-10-01T17:10:48.641274Z"
    },
    "scrolled": true
   },
   "outputs": [],
   "source": [
    "dog_data_SF_19 = pd.read_csv('/Users/allisonkelly/Documents/Insight/Petfinder_Project/Model_Data/dog_data_SF_19.csv')"
   ]
  },
  {
   "cell_type": "code",
   "execution_count": 2,
   "metadata": {
    "ExecuteTime": {
     "end_time": "2019-09-29T00:35:59.093730Z",
     "start_time": "2019-09-29T00:35:59.018111Z"
    },
    "scrolled": true
   },
   "outputs": [],
   "source": [
    "# dog_data_SF_19 = pd.read_csv('/Users/allisonkelly/Documents/Insight/Petfinder_Project/Model_Data/dog_data_STL_19.csv')"
   ]
  },
  {
   "cell_type": "code",
   "execution_count": 4,
   "metadata": {
    "ExecuteTime": {
     "end_time": "2019-09-29T00:36:10.648428Z",
     "start_time": "2019-09-29T00:36:10.639855Z"
    }
   },
   "outputs": [],
   "source": [
    "dog_data_SF_19 = dog_data_SF_19.drop(['Unnamed: 0'], axis =1)"
   ]
  },
  {
   "cell_type": "code",
   "execution_count": 5,
   "metadata": {
    "ExecuteTime": {
     "end_time": "2019-09-29T00:36:12.241025Z",
     "start_time": "2019-09-29T00:36:12.210501Z"
    },
    "scrolled": true
   },
   "outputs": [
    {
     "name": "stdout",
     "output_type": "stream",
     "text": [
      "<class 'pandas.core.frame.DataFrame'>\n",
      "RangeIndex: 4633 entries, 0 to 4632\n",
      "Data columns (total 64 columns):\n",
      "animal_id                     4633 non-null int64\n",
      "age                           4633 non-null object\n",
      "attributes.house_trained      4633 non-null int64\n",
      "attributes.shots_current      4633 non-null int64\n",
      "attributes.spayed_neutered    4633 non-null int64\n",
      "attributes.special_needs      4633 non-null int64\n",
      "breeds.mixed                  4633 non-null int64\n",
      "breeds.primary                4633 non-null object\n",
      "coat                          3057 non-null object\n",
      "colors.primary                2704 non-null object\n",
      "contact.address.city          4633 non-null object\n",
      "environment.cats              1812 non-null object\n",
      "environment.children          2789 non-null object\n",
      "environment.dogs              3591 non-null object\n",
      "gender                        4633 non-null object\n",
      "name                          4633 non-null object\n",
      "organization_id.1             4633 non-null object\n",
      "size                          4633 non-null object\n",
      "status                        4633 non-null object\n",
      "url                           4633 non-null object\n",
      "num_photo                     4633 non-null int64\n",
      "pub_year                      4633 non-null int64\n",
      "pub_month                     4633 non-null int64\n",
      "pub_day                       4633 non-null int64\n",
      "missing_description           4633 non-null int64\n",
      "pub_time                      4633 non-null object\n",
      "stat_time                     4633 non-null object\n",
      "time_in_shelter               4633 non-null float64\n",
      "time_adpt_med                 4633 non-null int64\n",
      "tags_cln                      604 non-null object\n",
      "tags_top                      555 non-null object\n",
      "num_tags                      4633 non-null int64\n",
      "colors_cat                    2704 non-null object\n",
      "age_Adult                     4633 non-null int64\n",
      "age_Baby                      4633 non-null int64\n",
      "age_Senior                    4633 non-null int64\n",
      "age_Young                     4633 non-null int64\n",
      "gender_Female                 4633 non-null int64\n",
      "gender_Male                   4633 non-null int64\n",
      "size_Extra Large              4633 non-null int64\n",
      "size_Large                    4633 non-null int64\n",
      "size_Medium                   4633 non-null int64\n",
      "size_Small                    4633 non-null int64\n",
      "coat_Curly                    4633 non-null int64\n",
      "coat_Hairless                 4633 non-null int64\n",
      "coat_Long                     4633 non-null int64\n",
      "coat_Medium                   4633 non-null int64\n",
      "coat_Short                    4633 non-null int64\n",
      "coat_Wire                     4633 non-null int64\n",
      "colors_cat_ct_dark            4633 non-null int64\n",
      "colors_cat_ct_light           4633 non-null int64\n",
      "colors_cat_ct_med             4633 non-null int64\n",
      "pub_month_4                   4633 non-null int64\n",
      "pub_month_5                   4633 non-null int64\n",
      "pub_month_6                   4633 non-null int64\n",
      "pub_month_7                   4633 non-null int64\n",
      "pub_month_8                   4633 non-null int64\n",
      "pub_month_9                   4633 non-null int64\n",
      "pub_year_2019                 4633 non-null int64\n",
      "tags_top_active               4633 non-null int64\n",
      "tags_top_friendly             4633 non-null int64\n",
      "tags_top_loving               4633 non-null int64\n",
      "tags_top_playful              4633 non-null int64\n",
      "tags_top_sweet                4633 non-null int64\n",
      "dtypes: float64(1), int64(44), object(19)\n",
      "memory usage: 2.3+ MB\n"
     ]
    }
   ],
   "source": [
    "dog_data_SF_19.info()"
   ]
  },
  {
   "cell_type": "code",
   "execution_count": 6,
   "metadata": {
    "ExecuteTime": {
     "end_time": "2019-09-29T00:36:42.260918Z",
     "start_time": "2019-09-29T00:36:42.246425Z"
    },
    "scrolled": true
   },
   "outputs": [
    {
     "data": {
      "text/plain": [
       "Index(['animal_id', 'age', 'attributes.house_trained',\n",
       "       'attributes.shots_current', 'attributes.spayed_neutered',\n",
       "       'attributes.special_needs', 'breeds.mixed', 'breeds.primary', 'coat',\n",
       "       'colors.primary', 'contact.address.city', 'environment.cats',\n",
       "       'environment.children', 'environment.dogs', 'gender', 'name',\n",
       "       'organization_id.1', 'size', 'status', 'url', 'num_photo', 'pub_year',\n",
       "       'pub_month', 'pub_day', 'missing_description', 'pub_time', 'stat_time',\n",
       "       'time_in_shelter', 'time_adpt_med', 'tags_cln', 'tags_top', 'num_tags',\n",
       "       'colors_cat', 'age_Adult', 'age_Baby', 'age_Senior', 'age_Young',\n",
       "       'gender_Female', 'gender_Male', 'size_Extra Large', 'size_Large',\n",
       "       'size_Medium', 'size_Small', 'coat_Curly', 'coat_Hairless', 'coat_Long',\n",
       "       'coat_Medium', 'coat_Short', 'coat_Wire', 'colors_cat_ct_dark',\n",
       "       'colors_cat_ct_light', 'colors_cat_ct_med', 'pub_month_4',\n",
       "       'pub_month_5', 'pub_month_6', 'pub_month_7', 'pub_month_8',\n",
       "       'pub_month_9', 'pub_year_2019', 'tags_top_active', 'tags_top_friendly',\n",
       "       'tags_top_loving', 'tags_top_playful', 'tags_top_sweet'],\n",
       "      dtype='object')"
      ]
     },
     "execution_count": 6,
     "metadata": {},
     "output_type": "execute_result"
    }
   ],
   "source": [
    "dog_data_SF_19.columns"
   ]
  },
  {
   "cell_type": "markdown",
   "metadata": {},
   "source": [
    "### Processing HTML files"
   ]
  },
  {
   "cell_type": "code",
   "execution_count": 8,
   "metadata": {
    "ExecuteTime": {
     "end_time": "2019-09-29T00:37:10.533577Z",
     "start_time": "2019-09-29T00:37:10.517140Z"
    },
    "scrolled": true
   },
   "outputs": [
    {
     "name": "stdout",
     "output_type": "stream",
     "text": [
      "['karolina-45489095', 'skylar-45171826', 'nikko-45938659', 'willow-45239342', 'holden-46073834', 'olivia-44679213', 'monet-45903641', 'teddy-46110106', 'sierra-45414526', 'lettie-44657482']\n",
      "5345\n"
     ]
    }
   ],
   "source": [
    "path =  \"/Users/allisonkelly/Documents/Insight/Petfinder_Project/Pet_Profiles_SF\"\n",
    "os.chdir(path)\n",
    "\n",
    "profile_raw = [filename for filename in os.listdir(path)]\n",
    "# profile_raw.remove('.DS_Store')\n",
    "\n",
    "print(profile_raw[:10])\n",
    "print(len(profile_raw))"
   ]
  },
  {
   "cell_type": "code",
   "execution_count": 7,
   "metadata": {
    "ExecuteTime": {
     "end_time": "2019-09-20T04:04:10.382362Z",
     "start_time": "2019-09-20T04:04:10.378952Z"
    }
   },
   "outputs": [],
   "source": [
    "# html_ex = \"/Users/allisonkelly/Documents/Insight/Petfinder_Project/Pet_Profiles/abby-45688357\"\n",
    "# f=open(html_ex, 'r')\n",
    "\n",
    "# print(re.findall('\\-(.*)', html_ex))\n",
    "# print(re.findall('(?s)<div class=\\\"u-vr4x\\\">(.*?)</div>', doc, flags=re.S))\n"
   ]
  },
  {
   "cell_type": "code",
   "execution_count": 9,
   "metadata": {
    "ExecuteTime": {
     "end_time": "2019-09-29T00:37:29.621555Z",
     "start_time": "2019-09-29T00:37:29.613497Z"
    }
   },
   "outputs": [],
   "source": [
    "def extract_full_description(html_file):\n",
    "    html_file_open = open(html_file, \"r\")\n",
    "    prof_text = html_file_open.read()\n",
    "    if len(prof_text) == 0:\n",
    "        pet_id = re.findall(\"(?s:.*)\\-(.*)\", html_file)\n",
    "        return {\"pet_id\": pet_id[-1], \"full_description\": \"NULL\"}\n",
    "    else:\n",
    "        full_description = re.findall(\n",
    "            '(?s)<div class=\"u-vr4x\">(.*?)</div>', prof_text, flags=re.S\n",
    "        )\n",
    "        pet_id = re.findall(\"(?s:.*)\\-(.*)\", html_file)\n",
    "        if len(full_description) != 0:\n",
    "            return {\"pet_id\": pet_id[-1], \"full_description\": full_description[-1]}"
   ]
  },
  {
   "cell_type": "code",
   "execution_count": 10,
   "metadata": {
    "ExecuteTime": {
     "end_time": "2019-09-29T00:37:33.366082Z",
     "start_time": "2019-09-29T00:37:33.356697Z"
    }
   },
   "outputs": [],
   "source": [
    "dog_data_full_desc = pd.DataFrame(columns=['pet_id', 'full_description'])"
   ]
  },
  {
   "cell_type": "code",
   "execution_count": 11,
   "metadata": {
    "ExecuteTime": {
     "end_time": "2019-09-29T00:38:00.717499Z",
     "start_time": "2019-09-29T00:37:37.710498Z"
    }
   },
   "outputs": [],
   "source": [
    "for pet in profile_raw:\n",
    "    full_desc = extract_full_description(pet)\n",
    "    if full_desc!= 'NULL':\n",
    "        dog_data_full_desc = dog_data_full_desc.append(full_desc, ignore_index=True)"
   ]
  },
  {
   "cell_type": "code",
   "execution_count": 12,
   "metadata": {
    "ExecuteTime": {
     "end_time": "2019-09-29T00:38:44.315076Z",
     "start_time": "2019-09-29T00:38:44.308166Z"
    }
   },
   "outputs": [
    {
     "name": "stdout",
     "output_type": "stream",
     "text": [
      "(5280, 2)\n",
      "5345\n"
     ]
    }
   ],
   "source": [
    "print(dog_data_full_desc.shape)\n",
    "print(len(profile_raw))"
   ]
  },
  {
   "cell_type": "code",
   "execution_count": 13,
   "metadata": {
    "ExecuteTime": {
     "end_time": "2019-09-29T00:38:47.021135Z",
     "start_time": "2019-09-29T00:38:47.008354Z"
    }
   },
   "outputs": [
    {
     "name": "stdout",
     "output_type": "stream",
     "text": [
      "<class 'pandas.core.frame.DataFrame'>\n",
      "RangeIndex: 5280 entries, 0 to 5279\n",
      "Data columns (total 2 columns):\n",
      "pet_id              5280 non-null object\n",
      "full_description    5280 non-null object\n",
      "dtypes: object(2)\n",
      "memory usage: 82.6+ KB\n"
     ]
    }
   ],
   "source": [
    "dog_data_full_desc.info()"
   ]
  },
  {
   "cell_type": "code",
   "execution_count": 14,
   "metadata": {
    "ExecuteTime": {
     "end_time": "2019-09-29T00:38:50.315135Z",
     "start_time": "2019-09-29T00:38:50.304881Z"
    },
    "scrolled": true
   },
   "outputs": [
    {
     "data": {
      "text/plain": [
       "4"
      ]
     },
     "execution_count": 14,
     "metadata": {},
     "output_type": "execute_result"
    }
   ],
   "source": [
    "len(dog_data_full_desc[dog_data_full_desc['full_description']=='NULL'])"
   ]
  },
  {
   "cell_type": "code",
   "execution_count": 15,
   "metadata": {
    "ExecuteTime": {
     "end_time": "2019-09-29T00:38:53.361239Z",
     "start_time": "2019-09-29T00:38:53.354524Z"
    },
    "scrolled": true
   },
   "outputs": [
    {
     "data": {
      "text/plain": [
       "0    45489095\n",
       "1    45171826\n",
       "2    45938659\n",
       "3    45239342\n",
       "4    46073834\n",
       "Name: pet_id, dtype: object"
      ]
     },
     "execution_count": 15,
     "metadata": {},
     "output_type": "execute_result"
    }
   ],
   "source": [
    "dog_data_full_desc['pet_id'].head()"
   ]
  },
  {
   "cell_type": "code",
   "execution_count": 16,
   "metadata": {
    "ExecuteTime": {
     "end_time": "2019-09-29T00:38:54.225654Z",
     "start_time": "2019-09-29T00:38:54.209591Z"
    }
   },
   "outputs": [
    {
     "data": {
      "text/plain": [
       "count    5280.0\n",
       "mean        8.0\n",
       "std         0.0\n",
       "min         8.0\n",
       "25%         8.0\n",
       "50%         8.0\n",
       "75%         8.0\n",
       "max         8.0\n",
       "Name: pet_id, dtype: float64"
      ]
     },
     "execution_count": 16,
     "metadata": {},
     "output_type": "execute_result"
    }
   ],
   "source": [
    "dog_data_full_desc['pet_id'].apply(len).describe()"
   ]
  },
  {
   "cell_type": "code",
   "execution_count": 17,
   "metadata": {
    "ExecuteTime": {
     "end_time": "2019-09-29T00:39:01.000492Z",
     "start_time": "2019-09-29T00:39:00.992240Z"
    }
   },
   "outputs": [],
   "source": [
    "dog_data_full_desc['pet_id'] = dog_data_full_desc['pet_id'].astype('int64')"
   ]
  },
  {
   "cell_type": "code",
   "execution_count": 18,
   "metadata": {
    "ExecuteTime": {
     "end_time": "2019-09-29T00:39:02.360815Z",
     "start_time": "2019-09-29T00:39:02.353074Z"
    }
   },
   "outputs": [
    {
     "data": {
      "text/plain": [
       "5280"
      ]
     },
     "execution_count": 18,
     "metadata": {},
     "output_type": "execute_result"
    }
   ],
   "source": [
    "len(dog_data_full_desc['pet_id'].unique())"
   ]
  },
  {
   "cell_type": "code",
   "execution_count": 19,
   "metadata": {
    "ExecuteTime": {
     "end_time": "2019-09-29T00:39:05.294464Z",
     "start_time": "2019-09-29T00:39:05.282702Z"
    },
    "scrolled": true
   },
   "outputs": [
    {
     "name": "stdout",
     "output_type": "stream",
     "text": [
      "<class 'pandas.core.frame.DataFrame'>\n",
      "RangeIndex: 5280 entries, 0 to 5279\n",
      "Data columns (total 2 columns):\n",
      "pet_id              5280 non-null int64\n",
      "full_description    5280 non-null object\n",
      "dtypes: int64(1), object(1)\n",
      "memory usage: 82.6+ KB\n"
     ]
    }
   ],
   "source": [
    "dog_data_full_desc.info()"
   ]
  },
  {
   "cell_type": "code",
   "execution_count": 20,
   "metadata": {
    "ExecuteTime": {
     "end_time": "2019-09-29T00:39:06.595484Z",
     "start_time": "2019-09-29T00:39:06.572443Z"
    },
    "scrolled": true
   },
   "outputs": [
    {
     "data": {
      "text/html": [
       "<div>\n",
       "<style scoped>\n",
       "    .dataframe tbody tr th:only-of-type {\n",
       "        vertical-align: middle;\n",
       "    }\n",
       "\n",
       "    .dataframe tbody tr th {\n",
       "        vertical-align: top;\n",
       "    }\n",
       "\n",
       "    .dataframe thead th {\n",
       "        text-align: right;\n",
       "    }\n",
       "</style>\n",
       "<table border=\"1\" class=\"dataframe\">\n",
       "  <thead>\n",
       "    <tr style=\"text-align: right;\">\n",
       "      <th></th>\n",
       "      <th>pet_id</th>\n",
       "    </tr>\n",
       "  </thead>\n",
       "  <tbody>\n",
       "    <tr>\n",
       "      <th>count</th>\n",
       "      <td>5.280000e+03</td>\n",
       "    </tr>\n",
       "    <tr>\n",
       "      <th>mean</th>\n",
       "      <td>4.534786e+07</td>\n",
       "    </tr>\n",
       "    <tr>\n",
       "      <th>std</th>\n",
       "      <td>4.680870e+05</td>\n",
       "    </tr>\n",
       "    <tr>\n",
       "      <th>min</th>\n",
       "      <td>4.451789e+07</td>\n",
       "    </tr>\n",
       "    <tr>\n",
       "      <th>25%</th>\n",
       "      <td>4.495141e+07</td>\n",
       "    </tr>\n",
       "    <tr>\n",
       "      <th>50%</th>\n",
       "      <td>4.531107e+07</td>\n",
       "    </tr>\n",
       "    <tr>\n",
       "      <th>75%</th>\n",
       "      <td>4.575338e+07</td>\n",
       "    </tr>\n",
       "    <tr>\n",
       "      <th>max</th>\n",
       "      <td>4.612224e+07</td>\n",
       "    </tr>\n",
       "  </tbody>\n",
       "</table>\n",
       "</div>"
      ],
      "text/plain": [
       "             pet_id\n",
       "count  5.280000e+03\n",
       "mean   4.534786e+07\n",
       "std    4.680870e+05\n",
       "min    4.451789e+07\n",
       "25%    4.495141e+07\n",
       "50%    4.531107e+07\n",
       "75%    4.575338e+07\n",
       "max    4.612224e+07"
      ]
     },
     "execution_count": 20,
     "metadata": {},
     "output_type": "execute_result"
    }
   ],
   "source": [
    "dog_data_full_desc.describe()"
   ]
  },
  {
   "cell_type": "code",
   "execution_count": 21,
   "metadata": {
    "ExecuteTime": {
     "end_time": "2019-09-29T00:39:17.924690Z",
     "start_time": "2019-09-29T00:39:17.753985Z"
    }
   },
   "outputs": [],
   "source": [
    "dog_data_full_desc.to_csv('dog_data_SF_19_full_desc.csv')"
   ]
  },
  {
   "cell_type": "code",
   "execution_count": 22,
   "metadata": {
    "ExecuteTime": {
     "end_time": "2019-09-29T00:39:20.598879Z",
     "start_time": "2019-09-29T00:39:20.591480Z"
    }
   },
   "outputs": [
    {
     "data": {
      "text/plain": [
       "(4633, 64)"
      ]
     },
     "execution_count": 22,
     "metadata": {},
     "output_type": "execute_result"
    }
   ],
   "source": [
    "dog_data_SF_19.shape"
   ]
  },
  {
   "cell_type": "code",
   "execution_count": 23,
   "metadata": {
    "ExecuteTime": {
     "end_time": "2019-09-29T00:39:24.259882Z",
     "start_time": "2019-09-29T00:39:24.252048Z"
    }
   },
   "outputs": [
    {
     "data": {
      "text/plain": [
       "4621"
      ]
     },
     "execution_count": 23,
     "metadata": {},
     "output_type": "execute_result"
    }
   ],
   "source": [
    "len(dog_data_SF_19['animal_id'].unique())"
   ]
  },
  {
   "cell_type": "code",
   "execution_count": 24,
   "metadata": {
    "ExecuteTime": {
     "end_time": "2019-09-29T00:39:27.560905Z",
     "start_time": "2019-09-29T00:39:27.553082Z"
    },
    "scrolled": true
   },
   "outputs": [
    {
     "data": {
      "text/plain": [
       "0    46110106\n",
       "1    46106871\n",
       "2    46100624\n",
       "3    46096113\n",
       "4    46095465\n",
       "Name: animal_id, dtype: int64"
      ]
     },
     "execution_count": 24,
     "metadata": {},
     "output_type": "execute_result"
    }
   ],
   "source": [
    "dog_data_SF_19['animal_id'].head()\n",
    "\n"
   ]
  },
  {
   "cell_type": "code",
   "execution_count": 25,
   "metadata": {
    "ExecuteTime": {
     "end_time": "2019-09-29T00:39:29.991643Z",
     "start_time": "2019-09-29T00:39:29.962688Z"
    }
   },
   "outputs": [
    {
     "data": {
      "text/plain": [
       "count    4.633000e+03\n",
       "mean     4.511837e+07\n",
       "std      4.562706e+05\n",
       "min      4.437287e+07\n",
       "25%      4.471620e+07\n",
       "50%      4.508719e+07\n",
       "75%      4.549831e+07\n",
       "max      4.611011e+07\n",
       "Name: animal_id, dtype: float64"
      ]
     },
     "execution_count": 25,
     "metadata": {},
     "output_type": "execute_result"
    }
   ],
   "source": [
    "dog_data_SF_19['animal_id'].describe()"
   ]
  },
  {
   "cell_type": "code",
   "execution_count": 26,
   "metadata": {
    "ExecuteTime": {
     "end_time": "2019-09-29T00:39:33.210291Z",
     "start_time": "2019-09-29T00:39:33.180249Z"
    }
   },
   "outputs": [],
   "source": [
    "dog_data_SF_19_full = dog_data_SF_19.merge(dog_data_full_desc, how='inner', left_on='animal_id', right_on='pet_id')"
   ]
  },
  {
   "cell_type": "code",
   "execution_count": 27,
   "metadata": {
    "ExecuteTime": {
     "end_time": "2019-09-29T00:39:34.413601Z",
     "start_time": "2019-09-29T00:39:34.390578Z"
    }
   },
   "outputs": [
    {
     "data": {
      "text/plain": [
       "3995"
      ]
     },
     "execution_count": 27,
     "metadata": {},
     "output_type": "execute_result"
    }
   ],
   "source": [
    "len(dog_data_SF_19.merge(dog_data_full_desc, how='inner', left_on='animal_id', right_on='pet_id'))"
   ]
  },
  {
   "cell_type": "code",
   "execution_count": 28,
   "metadata": {
    "ExecuteTime": {
     "end_time": "2019-09-29T00:39:35.990564Z",
     "start_time": "2019-09-29T00:39:35.980961Z"
    },
    "scrolled": true
   },
   "outputs": [
    {
     "data": {
      "text/plain": [
       "(3995, 66)"
      ]
     },
     "execution_count": 28,
     "metadata": {},
     "output_type": "execute_result"
    }
   ],
   "source": [
    "dog_data_SF_19_full.shape"
   ]
  },
  {
   "cell_type": "code",
   "execution_count": 29,
   "metadata": {
    "ExecuteTime": {
     "end_time": "2019-09-29T00:39:37.817372Z",
     "start_time": "2019-09-29T00:39:37.809269Z"
    },
    "scrolled": true
   },
   "outputs": [
    {
     "data": {
      "text/plain": [
       "Index(['animal_id', 'age', 'attributes.house_trained',\n",
       "       'attributes.shots_current', 'attributes.spayed_neutered',\n",
       "       'attributes.special_needs', 'breeds.mixed', 'breeds.primary', 'coat',\n",
       "       'colors.primary', 'contact.address.city', 'environment.cats',\n",
       "       'environment.children', 'environment.dogs', 'gender', 'name',\n",
       "       'organization_id.1', 'size', 'status', 'url', 'num_photo', 'pub_year',\n",
       "       'pub_month', 'pub_day', 'missing_description', 'pub_time', 'stat_time',\n",
       "       'time_in_shelter', 'time_adpt_med', 'tags_cln', 'tags_top', 'num_tags',\n",
       "       'colors_cat', 'age_Adult', 'age_Baby', 'age_Senior', 'age_Young',\n",
       "       'gender_Female', 'gender_Male', 'size_Extra Large', 'size_Large',\n",
       "       'size_Medium', 'size_Small', 'coat_Curly', 'coat_Hairless', 'coat_Long',\n",
       "       'coat_Medium', 'coat_Short', 'coat_Wire', 'colors_cat_ct_dark',\n",
       "       'colors_cat_ct_light', 'colors_cat_ct_med', 'pub_month_4',\n",
       "       'pub_month_5', 'pub_month_6', 'pub_month_7', 'pub_month_8',\n",
       "       'pub_month_9', 'pub_year_2019', 'tags_top_active', 'tags_top_friendly',\n",
       "       'tags_top_loving', 'tags_top_playful', 'tags_top_sweet', 'pet_id',\n",
       "       'full_description'],\n",
       "      dtype='object')"
      ]
     },
     "execution_count": 29,
     "metadata": {},
     "output_type": "execute_result"
    }
   ],
   "source": [
    "dog_data_SF_19_full.columns"
   ]
  },
  {
   "cell_type": "code",
   "execution_count": 30,
   "metadata": {
    "ExecuteTime": {
     "end_time": "2019-09-29T00:39:40.486011Z",
     "start_time": "2019-09-29T00:39:40.476383Z"
    }
   },
   "outputs": [
    {
     "data": {
      "text/plain": [
       "3995"
      ]
     },
     "execution_count": 30,
     "metadata": {},
     "output_type": "execute_result"
    }
   ],
   "source": [
    "sum(pd.isnull(dog_data_SF_19_full['full_description'])==False)"
   ]
  },
  {
   "cell_type": "code",
   "execution_count": 31,
   "metadata": {
    "ExecuteTime": {
     "end_time": "2019-09-29T00:40:15.346257Z",
     "start_time": "2019-09-29T00:40:14.980077Z"
    }
   },
   "outputs": [],
   "source": [
    "dog_data_SF_19_full.to_csv(\n",
    "    \"/Users/allisonkelly/Documents/Insight/Petfinder_Project/Model_Data/dog_data_SF_19_full.csv\",\n",
    "    index=False\n",
    ")"
   ]
  },
  {
   "cell_type": "code",
   "execution_count": null,
   "metadata": {},
   "outputs": [],
   "source": []
  }
 ],
 "metadata": {
  "kernelspec": {
   "display_name": "Python 3",
   "language": "python",
   "name": "python3"
  },
  "language_info": {
   "codemirror_mode": {
    "name": "ipython",
    "version": 3
   },
   "file_extension": ".py",
   "mimetype": "text/x-python",
   "name": "python",
   "nbconvert_exporter": "python",
   "pygments_lexer": "ipython3",
   "version": "3.7.6"
  }
 },
 "nbformat": 4,
 "nbformat_minor": 4
}
