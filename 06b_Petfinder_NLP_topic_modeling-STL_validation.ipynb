{
 "cells": [
  {
   "cell_type": "code",
   "execution_count": 99,
   "metadata": {
    "ExecuteTime": {
     "end_time": "2019-09-30T01:46:43.470454Z",
     "start_time": "2019-09-30T01:46:43.148168Z"
    }
   },
   "outputs": [
    {
     "name": "stderr",
     "output_type": "stream",
     "text": [
      "[nltk_data] Downloading package averaged_perceptron_tagger to\n",
      "[nltk_data]     /Users/allisonkelly/nltk_data...\n",
      "[nltk_data]   Package averaged_perceptron_tagger is already up-to-\n",
      "[nltk_data]       date!\n",
      "[nltk_data] Downloading package wordnet to\n",
      "[nltk_data]     /Users/allisonkelly/nltk_data...\n",
      "[nltk_data]   Package wordnet is already up-to-date!\n"
     ]
    }
   ],
   "source": [
    "# Core\n",
    "import re\n",
    "import pandas as pd\n",
    "import numpy as np\n",
    "import pickle\n",
    "import csv\n",
    "\n",
    "import nltk, spacy, string\n",
    "from pprint import pprint\n",
    "\n",
    "pd.set_option(\"display.max_colwidth\", -1)\n",
    "\n",
    "## NLTK \n",
    "import nltk\n",
    "from nltk.tokenize import wordpunct_tokenize\n",
    "from nltk.corpus import stopwords\n",
    "Pstemmer = nltk.stem.PorterStemmer()\n",
    "nltk.download('averaged_perceptron_tagger')\n",
    "nltk.download('wordnet')\n",
    "from nltk.stem import WordNetLemmatizer \n",
    "lemmatizer = WordNetLemmatizer()\n",
    "\n",
    "import gensim\n",
    "from gensim import corpora, models, similarities\n",
    "from gensim.utils import lemmatize\n",
    "from gensim.models.coherencemodel import CoherenceModel\n",
    "\n",
    "# Sklearn\n",
    "import sklearn.metrics \n",
    "from sklearn.decomposition import LatentDirichletAllocation, TruncatedSVD\n",
    "from sklearn.feature_extraction.text import CountVectorizer, TfidfVectorizer\n",
    "from sklearn.model_selection import GridSearchCV\n",
    "from sklearn.manifold import TSNE\n",
    "\n",
    "from bokeh.plotting import figure, output_file, show\n",
    "from bokeh.models import Label\n",
    "from bokeh.io import output_notebook\n",
    "\n",
    "# Plotting tools\n",
    "import pyLDAvis\n",
    "import pyLDAvis.sklearn\n",
    "import pyLDAvis.gensim\n",
    "\n",
    "from pprint import pprint\n",
    "\n",
    "import warnings\n",
    "warnings.filterwarnings('ignore')\n",
    "warnings.filterwarnings(\"ignore\",category=DeprecationWarning)\n",
    "\n",
    "import matplotlib.pyplot as plt\n",
    "import seaborn as sns\n",
    "%matplotlib inline\n",
    "\n",
    "from scipy.stats import chi2_contingency"
   ]
  },
  {
   "cell_type": "code",
   "execution_count": 2,
   "metadata": {
    "ExecuteTime": {
     "end_time": "2019-09-29T01:54:32.444565Z",
     "start_time": "2019-09-29T01:54:28.872972Z"
    }
   },
   "outputs": [
    {
     "name": "stdout",
     "output_type": "stream",
     "text": [
      "Requirement already satisfied: en_core_web_sm==2.1.0 from https://github.com/explosion/spacy-models/releases/download/en_core_web_sm-2.1.0/en_core_web_sm-2.1.0.tar.gz#egg=en_core_web_sm==2.1.0 in /Users/allisonkelly/anaconda3/lib/python3.7/site-packages (2.1.0)\n",
      "\u001b[38;5;2m✔ Download and installation successful\u001b[0m\n",
      "You can now load the model via spacy.load('en_core_web_sm')\n",
      "\u001b[38;5;2m✔ Linking successful\u001b[0m\n",
      "/Users/allisonkelly/anaconda3/lib/python3.7/site-packages/en_core_web_sm -->\n",
      "/Users/allisonkelly/anaconda3/lib/python3.7/site-packages/spacy/data/en\n",
      "You can now load the model via spacy.load('en')\n"
     ]
    }
   ],
   "source": [
    "!python3 -m spacy download en"
   ]
  },
  {
   "cell_type": "code",
   "execution_count": 4,
   "metadata": {
    "ExecuteTime": {
     "end_time": "2019-09-29T01:55:37.818192Z",
     "start_time": "2019-09-29T01:55:37.650698Z"
    },
    "scrolled": true
   },
   "outputs": [],
   "source": [
    "dog_data_SF_19_full = pd.read_csv(\"Model_Data/dog_data_STL_ready.csv\")"
   ]
  },
  {
   "cell_type": "code",
   "execution_count": 5,
   "metadata": {
    "ExecuteTime": {
     "end_time": "2019-09-29T01:55:39.718209Z",
     "start_time": "2019-09-29T01:55:39.706384Z"
    }
   },
   "outputs": [],
   "source": [
    "dog_data_SF_19_full = dog_data_SF_19_full.dropna(subset=['desc_full_clean'])"
   ]
  },
  {
   "cell_type": "code",
   "execution_count": 6,
   "metadata": {
    "ExecuteTime": {
     "end_time": "2019-09-29T01:55:40.888841Z",
     "start_time": "2019-09-29T01:55:40.878312Z"
    },
    "scrolled": true
   },
   "outputs": [
    {
     "data": {
      "text/plain": [
       "0"
      ]
     },
     "execution_count": 6,
     "metadata": {},
     "output_type": "execute_result"
    }
   ],
   "source": [
    "sum(pd.isnull(dog_data_SF_19_full[\"desc_full_clean\"]))"
   ]
  },
  {
   "cell_type": "markdown",
   "metadata": {},
   "source": [
    "### Extract pet names and city names to extract from text"
   ]
  },
  {
   "cell_type": "code",
   "execution_count": 7,
   "metadata": {
    "ExecuteTime": {
     "end_time": "2019-09-29T01:55:43.282150Z",
     "start_time": "2019-09-29T01:55:43.273799Z"
    }
   },
   "outputs": [
    {
     "data": {
      "text/plain": [
       "2810"
      ]
     },
     "execution_count": 7,
     "metadata": {},
     "output_type": "execute_result"
    }
   ],
   "source": [
    "len(dog_data_SF_19_full['name'].unique())"
   ]
  },
  {
   "cell_type": "code",
   "execution_count": 8,
   "metadata": {
    "ExecuteTime": {
     "end_time": "2019-09-29T01:55:43.964547Z",
     "start_time": "2019-09-29T01:55:43.950012Z"
    }
   },
   "outputs": [
    {
     "name": "stdout",
     "output_type": "stream",
     "text": [
      "3994\n",
      "2241\n"
     ]
    }
   ],
   "source": [
    "names_split = [word.split(' ')[0].lower() for word in dog_data_SF_19_full['name'] ]\n",
    "print(len(names_split))\n",
    "names_unq = list(set(names_split))\n",
    "print(len(names_unq))\n"
   ]
  },
  {
   "cell_type": "code",
   "execution_count": 9,
   "metadata": {
    "ExecuteTime": {
     "end_time": "2019-09-29T01:55:44.930073Z",
     "start_time": "2019-09-29T01:55:44.923230Z"
    }
   },
   "outputs": [
    {
     "data": {
      "text/plain": [
       "75"
      ]
     },
     "execution_count": 9,
     "metadata": {},
     "output_type": "execute_result"
    }
   ],
   "source": [
    "len(dog_data_SF_19_full['contact.address.city'].unique())"
   ]
  },
  {
   "cell_type": "code",
   "execution_count": 10,
   "metadata": {
    "ExecuteTime": {
     "end_time": "2019-09-29T01:55:45.868364Z",
     "start_time": "2019-09-29T01:55:45.856312Z"
    }
   },
   "outputs": [
    {
     "name": "stdout",
     "output_type": "stream",
     "text": [
      "3994\n",
      "73\n"
     ]
    }
   ],
   "source": [
    "city_split = [word.lower() for word in dog_data_SF_19_full['contact.address.city'] ]\n",
    "print(len(city_split))\n",
    "cities_unq = list(set(city_split))\n",
    "print(len(cities_unq))"
   ]
  },
  {
   "cell_type": "markdown",
   "metadata": {
    "ExecuteTime": {
     "end_time": "2019-09-17T19:33:10.552639Z",
     "start_time": "2019-09-17T19:33:10.546964Z"
    }
   },
   "source": [
    "### Prepare text for use in topic modeling: tokenize, lemmatize, stem"
   ]
  },
  {
   "cell_type": "code",
   "execution_count": 11,
   "metadata": {
    "ExecuteTime": {
     "end_time": "2019-09-29T01:55:55.170064Z",
     "start_time": "2019-09-29T01:55:54.669702Z"
    }
   },
   "outputs": [],
   "source": [
    "def lemmatization(text, postags=[\"ADJ\"]):\n",
    "    texts_out = [\n",
    "        token.lemma_ if token.lemma_ not in [\"-PRON-\"] else \"\"\n",
    "        for token in nlp(text)\n",
    "        if token.pos_ in postags\n",
    "    ]\n",
    "    return texts_out\n",
    "\n",
    "nlp = spacy.load(\"en\", disable=[\"parser\", \"ner\"])"
   ]
  },
  {
   "cell_type": "code",
   "execution_count": 12,
   "metadata": {
    "ExecuteTime": {
     "end_time": "2019-09-29T01:56:29.094142Z",
     "start_time": "2019-09-29T01:55:58.151648Z"
    }
   },
   "outputs": [],
   "source": [
    "dog_data_SF_19_full[\"desc_lemm_adj\"] = dog_data_SF_19_full[\"desc_full_clean\"].apply(\n",
    "    lemmatization\n",
    ")"
   ]
  },
  {
   "cell_type": "code",
   "execution_count": 13,
   "metadata": {
    "ExecuteTime": {
     "end_time": "2019-09-29T01:57:00.723137Z",
     "start_time": "2019-09-29T01:57:00.710596Z"
    }
   },
   "outputs": [],
   "source": [
    "other_words = names_unq + cities_unq\n",
    "\n",
    "pd.DataFrame(other_words).to_csv(\"stop_words_full.csv\", index=False)"
   ]
  },
  {
   "cell_type": "code",
   "execution_count": 14,
   "metadata": {
    "ExecuteTime": {
     "end_time": "2019-09-29T01:57:03.364439Z",
     "start_time": "2019-09-29T01:57:03.355530Z"
    }
   },
   "outputs": [],
   "source": [
    "swfull = stopwords.words(\"english\") + names_unq + cities_unq\n",
    "\n",
    "def stop_wrds(text_str):\n",
    "    if len(text_str) != 0:\n",
    "        return [word.lower() for word in text_str if word not in swfull]"
   ]
  },
  {
   "cell_type": "code",
   "execution_count": 15,
   "metadata": {
    "ExecuteTime": {
     "end_time": "2019-09-29T01:57:13.984081Z",
     "start_time": "2019-09-29T01:57:12.112710Z"
    }
   },
   "outputs": [],
   "source": [
    "dog_data_SF_19_full[\"desc_lemm_st\"] = dog_data_SF_19_full[\"desc_lemm_adj\"].apply(\n",
    "    stop_wrds\n",
    ")"
   ]
  },
  {
   "cell_type": "code",
   "execution_count": 16,
   "metadata": {
    "ExecuteTime": {
     "end_time": "2019-09-29T01:57:36.608984Z",
     "start_time": "2019-09-29T01:57:36.603737Z"
    }
   },
   "outputs": [],
   "source": [
    "def token_stem(text_str):\n",
    "    if len(text_str) != 0:\n",
    "        list_tok = [word for word in text_str if len(word) > 2]\n",
    "        return [Pstemmer.stem(word) for word in list_tok]"
   ]
  },
  {
   "cell_type": "code",
   "execution_count": 17,
   "metadata": {
    "ExecuteTime": {
     "end_time": "2019-09-29T01:57:39.285644Z",
     "start_time": "2019-09-29T01:57:39.265189Z"
    }
   },
   "outputs": [],
   "source": [
    "dog_data_SF_19_full = dog_data_SF_19_full.dropna(subset=[\"desc_lemm_st\"])"
   ]
  },
  {
   "cell_type": "code",
   "execution_count": 18,
   "metadata": {
    "ExecuteTime": {
     "end_time": "2019-09-29T01:57:42.037860Z",
     "start_time": "2019-09-29T01:57:40.742139Z"
    }
   },
   "outputs": [],
   "source": [
    "dog_data_SF_19_full[\"desc_lemm_adj\"] = dog_data_SF_19_full[\"desc_lemm_st\"].apply(\n",
    "    token_stem\n",
    ")"
   ]
  },
  {
   "cell_type": "code",
   "execution_count": 20,
   "metadata": {
    "ExecuteTime": {
     "end_time": "2019-09-29T01:57:59.212543Z",
     "start_time": "2019-09-29T01:57:59.208738Z"
    },
    "scrolled": true
   },
   "outputs": [],
   "source": [
    "# dog_data_SF_19_full[\"desc_lemm_adj\"].head(10)"
   ]
  },
  {
   "cell_type": "code",
   "execution_count": 21,
   "metadata": {
    "ExecuteTime": {
     "end_time": "2019-09-29T01:58:01.407126Z",
     "start_time": "2019-09-29T01:58:01.401586Z"
    }
   },
   "outputs": [],
   "source": [
    "adj_words = dog_data_SF_19_full[\"desc_lemm_adj\"]"
   ]
  },
  {
   "cell_type": "code",
   "execution_count": 22,
   "metadata": {
    "ExecuteTime": {
     "end_time": "2019-09-29T01:58:02.305015Z",
     "start_time": "2019-09-29T01:58:02.299641Z"
    }
   },
   "outputs": [],
   "source": [
    "adj_words = adj_words[pd.isnull(adj_words) == False]"
   ]
  },
  {
   "cell_type": "code",
   "execution_count": 26,
   "metadata": {
    "ExecuteTime": {
     "end_time": "2019-09-29T02:06:06.692300Z",
     "start_time": "2019-09-29T02:06:06.686698Z"
    }
   },
   "outputs": [
    {
     "data": {
      "text/plain": [
       "(3969,)"
      ]
     },
     "execution_count": 26,
     "metadata": {},
     "output_type": "execute_result"
    }
   ],
   "source": [
    "adj_words.shape"
   ]
  },
  {
   "cell_type": "code",
   "execution_count": 27,
   "metadata": {
    "ExecuteTime": {
     "end_time": "2019-09-29T02:09:48.233850Z",
     "start_time": "2019-09-29T02:09:48.095193Z"
    }
   },
   "outputs": [],
   "source": [
    "dictionary_descr_adj = corpora.Dictionary(adj_words)\n",
    "corpus_descr_adj = [dictionary_descr_adj.doc2bow(text) for text in adj_words]\n",
    "\n",
    "desc_adj_tfidf = models.TfidfModel(corpus_descr_adj)\n",
    "corpus_adj_tfidf = desc_adj_tfidf[corpus_descr_adj]"
   ]
  },
  {
   "cell_type": "code",
   "execution_count": 28,
   "metadata": {
    "ExecuteTime": {
     "end_time": "2019-09-29T02:15:24.535583Z",
     "start_time": "2019-09-29T02:15:24.523035Z"
    }
   },
   "outputs": [],
   "source": [
    "### read in trained model\n",
    "\n",
    "dict_lda = pickle.load(open(\"Exported_models/lda_dict_17_tps.sav\", \"rb\"))\n",
    "lda = pickle.load(open(\"Exported_models/lda_model_17_tps.sav\", \"rb\"))\n"
   ]
  },
  {
   "cell_type": "code",
   "execution_count": 29,
   "metadata": {
    "ExecuteTime": {
     "end_time": "2019-09-29T02:15:54.015095Z",
     "start_time": "2019-09-29T02:15:54.009279Z"
    }
   },
   "outputs": [],
   "source": [
    "test_corp = dictionary_descr_adj.doc2bow(\n",
    "    [\n",
    "        \"Outgoing\",\n",
    "        \"Amazing\",\n",
    "        \"energetic\",\n",
    "        \"trainable\",\n",
    "        \"Typical\",\n",
    "        \"puppy\",\n",
    "        \"Confident\",\n",
    "        \"loyal\",\n",
    "        \"Quiet\",\n",
    "        \"delightful\",\n",
    "        \"Wonderful\",\n",
    "        \"affectionate\",\n",
    "        \"nice\",\n",
    "        \"Playful\",\n",
    "        \"Calm\",\n",
    "        \"Active\",\n",
    "        \"Smart\",\n",
    "        \"Strong\",\n",
    "        \"secure\",\n",
    "        \"Ideal\",\n",
    "        \"Easy\",\n",
    "        \"going\",\n",
    "    ]\n",
    ")"
   ]
  },
  {
   "cell_type": "code",
   "execution_count": 41,
   "metadata": {
    "ExecuteTime": {
     "end_time": "2019-09-29T02:22:33.717695Z",
     "start_time": "2019-09-29T02:22:33.711235Z"
    }
   },
   "outputs": [],
   "source": [
    "test = pd.DataFrame(lda.get_document_topics(test_corp, minimum_probability=0.01))"
   ]
  },
  {
   "cell_type": "code",
   "execution_count": 42,
   "metadata": {
    "ExecuteTime": {
     "end_time": "2019-09-29T02:22:34.289957Z",
     "start_time": "2019-09-29T02:22:34.280413Z"
    }
   },
   "outputs": [
    {
     "data": {
      "text/html": [
       "<div>\n",
       "<style scoped>\n",
       "    .dataframe tbody tr th:only-of-type {\n",
       "        vertical-align: middle;\n",
       "    }\n",
       "\n",
       "    .dataframe tbody tr th {\n",
       "        vertical-align: top;\n",
       "    }\n",
       "\n",
       "    .dataframe thead th {\n",
       "        text-align: right;\n",
       "    }\n",
       "</style>\n",
       "<table border=\"1\" class=\"dataframe\">\n",
       "  <thead>\n",
       "    <tr style=\"text-align: right;\">\n",
       "      <th></th>\n",
       "      <th>0</th>\n",
       "      <th>1</th>\n",
       "    </tr>\n",
       "  </thead>\n",
       "  <tbody>\n",
       "    <tr>\n",
       "      <th>0</th>\n",
       "      <td>0</td>\n",
       "      <td>0.019608</td>\n",
       "    </tr>\n",
       "    <tr>\n",
       "      <th>1</th>\n",
       "      <td>1</td>\n",
       "      <td>0.019608</td>\n",
       "    </tr>\n",
       "    <tr>\n",
       "      <th>2</th>\n",
       "      <td>2</td>\n",
       "      <td>0.019608</td>\n",
       "    </tr>\n",
       "    <tr>\n",
       "      <th>3</th>\n",
       "      <td>3</td>\n",
       "      <td>0.019608</td>\n",
       "    </tr>\n",
       "    <tr>\n",
       "      <th>4</th>\n",
       "      <td>4</td>\n",
       "      <td>0.019608</td>\n",
       "    </tr>\n",
       "    <tr>\n",
       "      <th>5</th>\n",
       "      <td>5</td>\n",
       "      <td>0.019608</td>\n",
       "    </tr>\n",
       "    <tr>\n",
       "      <th>6</th>\n",
       "      <td>6</td>\n",
       "      <td>0.686274</td>\n",
       "    </tr>\n",
       "    <tr>\n",
       "      <th>7</th>\n",
       "      <td>7</td>\n",
       "      <td>0.019608</td>\n",
       "    </tr>\n",
       "    <tr>\n",
       "      <th>8</th>\n",
       "      <td>8</td>\n",
       "      <td>0.019608</td>\n",
       "    </tr>\n",
       "    <tr>\n",
       "      <th>9</th>\n",
       "      <td>9</td>\n",
       "      <td>0.019608</td>\n",
       "    </tr>\n",
       "    <tr>\n",
       "      <th>10</th>\n",
       "      <td>10</td>\n",
       "      <td>0.019608</td>\n",
       "    </tr>\n",
       "    <tr>\n",
       "      <th>11</th>\n",
       "      <td>11</td>\n",
       "      <td>0.019608</td>\n",
       "    </tr>\n",
       "    <tr>\n",
       "      <th>12</th>\n",
       "      <td>12</td>\n",
       "      <td>0.019608</td>\n",
       "    </tr>\n",
       "    <tr>\n",
       "      <th>13</th>\n",
       "      <td>13</td>\n",
       "      <td>0.019608</td>\n",
       "    </tr>\n",
       "    <tr>\n",
       "      <th>14</th>\n",
       "      <td>14</td>\n",
       "      <td>0.019608</td>\n",
       "    </tr>\n",
       "    <tr>\n",
       "      <th>15</th>\n",
       "      <td>15</td>\n",
       "      <td>0.019608</td>\n",
       "    </tr>\n",
       "    <tr>\n",
       "      <th>16</th>\n",
       "      <td>16</td>\n",
       "      <td>0.019608</td>\n",
       "    </tr>\n",
       "  </tbody>\n",
       "</table>\n",
       "</div>"
      ],
      "text/plain": [
       "     0         1\n",
       "0   0   0.019608\n",
       "1   1   0.019608\n",
       "2   2   0.019608\n",
       "3   3   0.019608\n",
       "4   4   0.019608\n",
       "5   5   0.019608\n",
       "6   6   0.686274\n",
       "7   7   0.019608\n",
       "8   8   0.019608\n",
       "9   9   0.019608\n",
       "10  10  0.019608\n",
       "11  11  0.019608\n",
       "12  12  0.019608\n",
       "13  13  0.019608\n",
       "14  14  0.019608\n",
       "15  15  0.019608\n",
       "16  16  0.019608"
      ]
     },
     "execution_count": 42,
     "metadata": {},
     "output_type": "execute_result"
    }
   ],
   "source": [
    "test"
   ]
  },
  {
   "cell_type": "markdown",
   "metadata": {},
   "source": [
    "### Predict out, merge with all data and export for modeling"
   ]
  },
  {
   "cell_type": "code",
   "execution_count": 43,
   "metadata": {
    "ExecuteTime": {
     "end_time": "2019-09-29T02:22:37.690086Z",
     "start_time": "2019-09-29T02:22:37.685724Z"
    },
    "scrolled": true
   },
   "outputs": [],
   "source": [
    "lda_adj_topics = lda.get_document_topics(corpus_adj_tfidf, minimum_probability=0.0)"
   ]
  },
  {
   "cell_type": "code",
   "execution_count": 44,
   "metadata": {
    "ExecuteTime": {
     "end_time": "2019-09-29T02:22:39.376323Z",
     "start_time": "2019-09-29T02:22:39.371336Z"
    }
   },
   "outputs": [],
   "source": [
    "list_top = pd.DataFrame(lda_adj_topics[0])[0]"
   ]
  },
  {
   "cell_type": "code",
   "execution_count": 45,
   "metadata": {
    "ExecuteTime": {
     "end_time": "2019-09-29T02:22:40.179861Z",
     "start_time": "2019-09-29T02:22:40.172328Z"
    }
   },
   "outputs": [
    {
     "data": {
      "text/plain": [
       "3"
      ]
     },
     "execution_count": 45,
     "metadata": {},
     "output_type": "execute_result"
    }
   ],
   "source": [
    "list_top[3]"
   ]
  },
  {
   "cell_type": "code",
   "execution_count": 46,
   "metadata": {
    "ExecuteTime": {
     "end_time": "2019-09-29T02:22:45.097465Z",
     "start_time": "2019-09-29T02:22:45.089041Z"
    }
   },
   "outputs": [
    {
     "data": {
      "text/plain": [
       "13"
      ]
     },
     "execution_count": 46,
     "metadata": {},
     "output_type": "execute_result"
    }
   ],
   "source": [
    "len([top for top in list_top if top in [0,2,3,4,6,7,8,9,10,11,12,13,16]])\n"
   ]
  },
  {
   "cell_type": "code",
   "execution_count": 47,
   "metadata": {
    "ExecuteTime": {
     "end_time": "2019-09-29T02:23:06.612035Z",
     "start_time": "2019-09-29T02:23:06.594922Z"
    }
   },
   "outputs": [
    {
     "name": "stdout",
     "output_type": "stream",
     "text": [
      "<class 'pandas.core.frame.DataFrame'>\n",
      "RangeIndex: 21938 entries, 0 to 21937\n",
      "Data columns (total 2 columns):\n",
      "desc_lemm_adj    3969 non-null object\n",
      "all_index        3969 non-null float64\n",
      "dtypes: float64(1), object(1)\n",
      "memory usage: 342.9+ KB\n"
     ]
    }
   ],
   "source": [
    "adj_words_df =pd.DataFrame(adj_words)\n",
    "adj_words_df['all_index'] = adj_words_df.index\n",
    "adj_words_df = adj_words_df.reindex(range(0,21938))\n",
    "adj_words_df.info()"
   ]
  },
  {
   "cell_type": "code",
   "execution_count": 48,
   "metadata": {
    "ExecuteTime": {
     "end_time": "2019-09-29T02:23:14.201492Z",
     "start_time": "2019-09-29T02:23:12.964986Z"
    },
    "scrolled": false
   },
   "outputs": [],
   "source": [
    "lda_topics_df  = pd.DataFrame(lda_adj_topics)"
   ]
  },
  {
   "cell_type": "code",
   "execution_count": 49,
   "metadata": {
    "ExecuteTime": {
     "end_time": "2019-09-29T02:23:14.237172Z",
     "start_time": "2019-09-29T02:23:14.204349Z"
    },
    "scrolled": false
   },
   "outputs": [
    {
     "name": "stdout",
     "output_type": "stream",
     "text": [
      "<class 'pandas.core.frame.DataFrame'>\n",
      "RangeIndex: 3969 entries, 0 to 3968\n",
      "Data columns (total 17 columns):\n",
      "0     3969 non-null object\n",
      "1     3969 non-null object\n",
      "2     3969 non-null object\n",
      "3     3969 non-null object\n",
      "4     3969 non-null object\n",
      "5     3969 non-null object\n",
      "6     3969 non-null object\n",
      "7     3969 non-null object\n",
      "8     3969 non-null object\n",
      "9     3969 non-null object\n",
      "10    3969 non-null object\n",
      "11    3969 non-null object\n",
      "12    3969 non-null object\n",
      "13    3969 non-null object\n",
      "14    3969 non-null object\n",
      "15    3969 non-null object\n",
      "16    3969 non-null object\n",
      "dtypes: object(17)\n",
      "memory usage: 527.2+ KB\n"
     ]
    }
   ],
   "source": [
    "lda_topics_df.info()"
   ]
  },
  {
   "cell_type": "code",
   "execution_count": 50,
   "metadata": {
    "ExecuteTime": {
     "end_time": "2019-09-29T02:23:20.834714Z",
     "start_time": "2019-09-29T02:23:20.822006Z"
    },
    "scrolled": true
   },
   "outputs": [],
   "source": [
    "all_data_topics_df = pd.concat([adj_words_df, lda_topics_df], axis=1)"
   ]
  },
  {
   "cell_type": "code",
   "execution_count": 51,
   "metadata": {
    "ExecuteTime": {
     "end_time": "2019-09-29T02:23:22.229275Z",
     "start_time": "2019-09-29T02:23:22.159984Z"
    },
    "scrolled": true
   },
   "outputs": [
    {
     "name": "stdout",
     "output_type": "stream",
     "text": [
      "<class 'pandas.core.frame.DataFrame'>\n",
      "RangeIndex: 21938 entries, 0 to 21937\n",
      "Data columns (total 19 columns):\n",
      "desc_lemm_adj    3969 non-null object\n",
      "all_index        3969 non-null float64\n",
      "0                3969 non-null object\n",
      "1                3969 non-null object\n",
      "2                3969 non-null object\n",
      "3                3969 non-null object\n",
      "4                3969 non-null object\n",
      "5                3969 non-null object\n",
      "6                3969 non-null object\n",
      "7                3969 non-null object\n",
      "8                3969 non-null object\n",
      "9                3969 non-null object\n",
      "10               3969 non-null object\n",
      "11               3969 non-null object\n",
      "12               3969 non-null object\n",
      "13               3969 non-null object\n",
      "14               3969 non-null object\n",
      "15               3969 non-null object\n",
      "16               3969 non-null object\n",
      "dtypes: float64(1), object(18)\n",
      "memory usage: 3.2+ MB\n"
     ]
    }
   ],
   "source": [
    "all_data_topics_df.info()"
   ]
  },
  {
   "cell_type": "code",
   "execution_count": 52,
   "metadata": {
    "ExecuteTime": {
     "end_time": "2019-09-29T02:23:32.523312Z",
     "start_time": "2019-09-29T02:23:32.515042Z"
    }
   },
   "outputs": [],
   "source": [
    "all_data_topics_df.columns = [\n",
    "    \"desc_lemm_adj\",\n",
    "    \"all_index\",\n",
    "    \"topic_1\",\n",
    "    \"topic_2\",\n",
    "    \"topic_3\",\n",
    "    \"topic_4\",\n",
    "    \"topic_5\",\n",
    "    \"topic_6\",\n",
    "    \"topic_7\",\n",
    "    \"topic_8\",\n",
    "    \"topic_9\",\n",
    "    \"topic_10\",\n",
    "    \"topic_11\",\n",
    "    \"topic_12\",\n",
    "    \"topic_13\",\n",
    "    \"topic_14\",\n",
    "    \"topic_15\",\n",
    "    \"topic_16\",\n",
    "    \"topic_17\"\n",
    "]"
   ]
  },
  {
   "cell_type": "code",
   "execution_count": 53,
   "metadata": {
    "ExecuteTime": {
     "end_time": "2019-09-29T02:23:34.695164Z",
     "start_time": "2019-09-29T02:23:34.652108Z"
    }
   },
   "outputs": [],
   "source": [
    "dog_data_SF_w_tps = dog_data_SF_19_full.merge(\n",
    "    all_data_topics_df,\n",
    "    how=\"inner\",\n",
    "    left_index=True,\n",
    "    right_on='all_index'\n",
    ")"
   ]
  },
  {
   "cell_type": "code",
   "execution_count": 54,
   "metadata": {
    "ExecuteTime": {
     "end_time": "2019-09-29T02:23:35.958974Z",
     "start_time": "2019-09-29T02:23:35.891753Z"
    },
    "scrolled": true
   },
   "outputs": [
    {
     "name": "stdout",
     "output_type": "stream",
     "text": [
      "<class 'pandas.core.frame.DataFrame'>\n",
      "Int64Index: 3969 entries, 0 to 3994\n",
      "Data columns (total 89 columns):\n",
      "animal_id                     3969 non-null int64\n",
      "age                           3969 non-null object\n",
      "attributes.house_trained      3969 non-null int64\n",
      "attributes.shots_current      3969 non-null int64\n",
      "attributes.spayed_neutered    3969 non-null int64\n",
      "attributes.special_needs      3969 non-null int64\n",
      "breeds.mixed                  3969 non-null int64\n",
      "breeds.primary                3969 non-null object\n",
      "coat                          2602 non-null object\n",
      "colors.primary                2266 non-null object\n",
      "contact.address.city          3969 non-null object\n",
      "environment.cats              1585 non-null object\n",
      "environment.children          2441 non-null object\n",
      "environment.dogs              3149 non-null object\n",
      "gender                        3969 non-null object\n",
      "name                          3969 non-null object\n",
      "organization_id.1             3969 non-null object\n",
      "size                          3969 non-null object\n",
      "status                        3969 non-null object\n",
      "url                           3969 non-null object\n",
      "num_photo                     3969 non-null int64\n",
      "pub_year                      3969 non-null int64\n",
      "pub_month                     3969 non-null int64\n",
      "pub_day                       3969 non-null int64\n",
      "missing_description           3969 non-null int64\n",
      "pub_time                      3969 non-null object\n",
      "stat_time                     3969 non-null object\n",
      "time_in_shelter               3969 non-null float64\n",
      "time_adpt_med                 3969 non-null int64\n",
      "tags_cln                      533 non-null object\n",
      "tags_top                      489 non-null object\n",
      "num_tags                      3969 non-null int64\n",
      "colors_cat                    2266 non-null object\n",
      "age_Adult                     3969 non-null int64\n",
      "age_Baby                      3969 non-null int64\n",
      "age_Senior                    3969 non-null int64\n",
      "age_Young                     3969 non-null int64\n",
      "gender_Female                 3969 non-null int64\n",
      "gender_Male                   3969 non-null int64\n",
      "size_Extra Large              3969 non-null int64\n",
      "size_Large                    3969 non-null int64\n",
      "size_Medium                   3969 non-null int64\n",
      "size_Small                    3969 non-null int64\n",
      "coat_Curly                    3969 non-null int64\n",
      "coat_Hairless                 3969 non-null int64\n",
      "coat_Long                     3969 non-null int64\n",
      "coat_Medium                   3969 non-null int64\n",
      "coat_Short                    3969 non-null int64\n",
      "coat_Wire                     3969 non-null int64\n",
      "colors_cat_ct_dark            3969 non-null int64\n",
      "colors_cat_ct_light           3969 non-null int64\n",
      "colors_cat_ct_med             3969 non-null int64\n",
      "pub_month_4                   3969 non-null int64\n",
      "pub_month_5                   3969 non-null int64\n",
      "pub_month_6                   3969 non-null int64\n",
      "pub_month_7                   3969 non-null int64\n",
      "pub_month_8                   3969 non-null int64\n",
      "pub_month_9                   3969 non-null int64\n",
      "pub_year_2019                 3969 non-null int64\n",
      "tags_top_active               3969 non-null int64\n",
      "tags_top_friendly             3969 non-null int64\n",
      "tags_top_loving               3969 non-null int64\n",
      "tags_top_playful              3969 non-null int64\n",
      "tags_top_sweet                3969 non-null int64\n",
      "pet_id                        3969 non-null int64\n",
      "full_description              3969 non-null object\n",
      "desc_full_clean               3969 non-null object\n",
      "len_descr                     3969 non-null float64\n",
      "desc_lemm_adj_x               3969 non-null object\n",
      "desc_lemm_st                  3969 non-null object\n",
      "desc_lemm_adj_y               3969 non-null object\n",
      "all_index                     3969 non-null float64\n",
      "topic_1                       3943 non-null object\n",
      "topic_2                       3943 non-null object\n",
      "topic_3                       3943 non-null object\n",
      "topic_4                       3943 non-null object\n",
      "topic_5                       3943 non-null object\n",
      "topic_6                       3943 non-null object\n",
      "topic_7                       3943 non-null object\n",
      "topic_8                       3943 non-null object\n",
      "topic_9                       3943 non-null object\n",
      "topic_10                      3943 non-null object\n",
      "topic_11                      3943 non-null object\n",
      "topic_12                      3943 non-null object\n",
      "topic_13                      3943 non-null object\n",
      "topic_14                      3943 non-null object\n",
      "topic_15                      3943 non-null object\n",
      "topic_16                      3943 non-null object\n",
      "topic_17                      3943 non-null object\n",
      "dtypes: float64(3), int64(45), object(41)\n",
      "memory usage: 2.7+ MB\n"
     ]
    }
   ],
   "source": [
    "dog_data_SF_w_tps.info()"
   ]
  },
  {
   "cell_type": "code",
   "execution_count": 55,
   "metadata": {
    "ExecuteTime": {
     "end_time": "2019-09-29T02:23:41.904584Z",
     "start_time": "2019-09-29T02:23:41.889195Z"
    }
   },
   "outputs": [],
   "source": [
    "dog_data_SF_w_tps = dog_data_SF_w_tps.dropna(subset=[\"topic_1\"])\n"
   ]
  },
  {
   "cell_type": "code",
   "execution_count": 56,
   "metadata": {
    "ExecuteTime": {
     "end_time": "2019-09-29T02:23:42.791869Z",
     "start_time": "2019-09-29T02:23:42.781507Z"
    }
   },
   "outputs": [
    {
     "data": {
      "text/plain": [
       "3943"
      ]
     },
     "execution_count": 56,
     "metadata": {},
     "output_type": "execute_result"
    }
   ],
   "source": [
    "sum(dog_data_SF_w_tps['desc_lemm_adj_x'] == dog_data_SF_w_tps['desc_lemm_adj_y'])"
   ]
  },
  {
   "cell_type": "markdown",
   "metadata": {},
   "source": [
    "### Validation"
   ]
  },
  {
   "cell_type": "code",
   "execution_count": 445,
   "metadata": {
    "ExecuteTime": {
     "end_time": "2019-09-30T22:13:53.615583Z",
     "start_time": "2019-09-30T22:13:53.610918Z"
    }
   },
   "outputs": [],
   "source": [
    "def convert_topic_val(topic_tpl, thres_topc=0.08):\n",
    "    value = topic_tpl[1]\n",
    "    if value > thres_topc:\n",
    "        return 1\n",
    "    else:\n",
    "        return 0"
   ]
  },
  {
   "cell_type": "code",
   "execution_count": 446,
   "metadata": {
    "ExecuteTime": {
     "end_time": "2019-09-30T22:13:54.429801Z",
     "start_time": "2019-09-30T22:13:54.203673Z"
    }
   },
   "outputs": [],
   "source": [
    "for row in [\n",
    "    \"topic_1\",\n",
    "    \"topic_2\",\n",
    "    \"topic_3\",\n",
    "    \"topic_4\",\n",
    "    \"topic_5\",\n",
    "    \"topic_6\",\n",
    "    \"topic_7\",\n",
    "    \"topic_8\",\n",
    "    \"topic_9\",\n",
    "    \"topic_10\",\n",
    "    \"topic_11\",\n",
    "    \"topic_12\",\n",
    "    \"topic_13\",\n",
    "    \"topic_14\",\n",
    "    \"topic_15\",\n",
    "    \"topic_16\",\n",
    "    \"topic_17\"\n",
    "]:\n",
    "    dog_data_SF_w_tps[row + \"_val\"] = dog_data_SF_w_tps[row].apply(convert_topic_val)"
   ]
  },
  {
   "cell_type": "code",
   "execution_count": 447,
   "metadata": {
    "ExecuteTime": {
     "end_time": "2019-09-30T22:13:54.578270Z",
     "start_time": "2019-09-30T22:13:54.509752Z"
    }
   },
   "outputs": [],
   "source": [
    "def convert_val(topic_tpl):\n",
    "    return topic_tpl[1]\n",
    "\n",
    "for row in [\n",
    "    \"topic_1\",\n",
    "    \"topic_2\",\n",
    "    \"topic_3\",\n",
    "    \"topic_4\",\n",
    "    \"topic_5\",\n",
    "    \"topic_6\",\n",
    "    \"topic_7\",\n",
    "    \"topic_8\",\n",
    "    \"topic_9\",\n",
    "    \"topic_10\",\n",
    "    \"topic_11\",\n",
    "    \"topic_12\",\n",
    "    \"topic_13\",\n",
    "    \"topic_14\",\n",
    "    \"topic_15\",\n",
    "    \"topic_16\",\n",
    "    \"topic_17\"\n",
    "]:\n",
    "    dog_data_SF_w_tps[row + \"_val_full\"] = dog_data_SF_w_tps[row].apply(convert_val)"
   ]
  },
  {
   "cell_type": "code",
   "execution_count": 448,
   "metadata": {
    "ExecuteTime": {
     "end_time": "2019-09-30T22:13:54.833653Z",
     "start_time": "2019-09-30T22:13:54.820658Z"
    }
   },
   "outputs": [
    {
     "data": {
      "text/plain": [
       "count    3943.000000\n",
       "mean     0.046134   \n",
       "std      0.058522   \n",
       "min      0.009184   \n",
       "25%      0.014890   \n",
       "50%      0.019884   \n",
       "75%      0.056198   \n",
       "max      0.642230   \n",
       "Name: topic_11_val_full, dtype: float64"
      ]
     },
     "execution_count": 448,
     "metadata": {},
     "output_type": "execute_result"
    }
   ],
   "source": [
    "dog_data_SF_w_tps['topic_11_val_full'].describe()"
   ]
  },
  {
   "cell_type": "code",
   "execution_count": 449,
   "metadata": {
    "ExecuteTime": {
     "end_time": "2019-09-30T22:13:55.033384Z",
     "start_time": "2019-09-30T22:13:55.028822Z"
    }
   },
   "outputs": [],
   "source": [
    "# dog_data_SF_w_tps['desc_full_clean'][dog_data_SF_w_tps['topic_11_val_full'] > 0.6]"
   ]
  },
  {
   "cell_type": "code",
   "execution_count": 450,
   "metadata": {
    "ExecuteTime": {
     "end_time": "2019-09-30T22:13:55.264463Z",
     "start_time": "2019-09-30T22:13:55.246595Z"
    }
   },
   "outputs": [
    {
     "name": "stdout",
     "output_type": "stream",
     "text": [
      "<class 'pandas.core.frame.DataFrame'>\n",
      "Int64Index: 3943 entries, 0 to 3968\n",
      "Columns: 123 entries, animal_id to topic_17_val_full\n",
      "dtypes: float64(20), int64(62), object(41)\n",
      "memory usage: 3.9+ MB\n"
     ]
    }
   ],
   "source": [
    "dog_data_SF_w_tps.info()"
   ]
  },
  {
   "cell_type": "code",
   "execution_count": 451,
   "metadata": {
    "ExecuteTime": {
     "end_time": "2019-09-30T22:13:55.432083Z",
     "start_time": "2019-09-30T22:13:55.428824Z"
    }
   },
   "outputs": [],
   "source": [
    "# dog_data_SF_w_tps.to_csv(\"Model_Data/dog_data_w_tpcs_3_17_tps.csv\")"
   ]
  },
  {
   "cell_type": "code",
   "execution_count": 452,
   "metadata": {
    "ExecuteTime": {
     "end_time": "2019-09-30T22:13:56.112972Z",
     "start_time": "2019-09-30T22:13:56.037246Z"
    }
   },
   "outputs": [
    {
     "data": {
      "text/html": [
       "<div>\n",
       "<style scoped>\n",
       "    .dataframe tbody tr th:only-of-type {\n",
       "        vertical-align: middle;\n",
       "    }\n",
       "\n",
       "    .dataframe tbody tr th {\n",
       "        vertical-align: top;\n",
       "    }\n",
       "\n",
       "    .dataframe thead th {\n",
       "        text-align: right;\n",
       "    }\n",
       "</style>\n",
       "<table border=\"1\" class=\"dataframe\">\n",
       "  <thead>\n",
       "    <tr style=\"text-align: right;\">\n",
       "      <th></th>\n",
       "      <th>topic_1_val</th>\n",
       "      <th>topic_2_val</th>\n",
       "      <th>topic_3_val</th>\n",
       "      <th>topic_4_val</th>\n",
       "      <th>topic_5_val</th>\n",
       "      <th>topic_6_val</th>\n",
       "      <th>topic_7_val</th>\n",
       "      <th>topic_8_val</th>\n",
       "      <th>topic_9_val</th>\n",
       "      <th>topic_10_val</th>\n",
       "      <th>topic_11_val</th>\n",
       "      <th>topic_12_val</th>\n",
       "      <th>topic_13_val</th>\n",
       "      <th>topic_14_val</th>\n",
       "      <th>topic_15_val</th>\n",
       "      <th>topic_16_val</th>\n",
       "      <th>topic_17_val</th>\n",
       "    </tr>\n",
       "  </thead>\n",
       "  <tbody>\n",
       "    <tr>\n",
       "      <th>count</th>\n",
       "      <td>3943.000000</td>\n",
       "      <td>3943.000000</td>\n",
       "      <td>3943.000000</td>\n",
       "      <td>3943.000000</td>\n",
       "      <td>3943.000000</td>\n",
       "      <td>3943.000000</td>\n",
       "      <td>3943.000000</td>\n",
       "      <td>3943.000000</td>\n",
       "      <td>3943.000000</td>\n",
       "      <td>3943.000000</td>\n",
       "      <td>3943.000000</td>\n",
       "      <td>3943.000000</td>\n",
       "      <td>3943.000000</td>\n",
       "      <td>3943.000000</td>\n",
       "      <td>3943.000000</td>\n",
       "      <td>3943.000000</td>\n",
       "      <td>3943.000000</td>\n",
       "    </tr>\n",
       "    <tr>\n",
       "      <th>mean</th>\n",
       "      <td>0.354552</td>\n",
       "      <td>0.106518</td>\n",
       "      <td>0.242201</td>\n",
       "      <td>0.332742</td>\n",
       "      <td>0.275425</td>\n",
       "      <td>0.144814</td>\n",
       "      <td>0.068729</td>\n",
       "      <td>0.183109</td>\n",
       "      <td>0.196297</td>\n",
       "      <td>0.538169</td>\n",
       "      <td>0.164849</td>\n",
       "      <td>0.216079</td>\n",
       "      <td>0.227238</td>\n",
       "      <td>0.221405</td>\n",
       "      <td>0.283033</td>\n",
       "      <td>0.217347</td>\n",
       "      <td>0.319554</td>\n",
       "    </tr>\n",
       "    <tr>\n",
       "      <th>std</th>\n",
       "      <td>0.478438</td>\n",
       "      <td>0.308538</td>\n",
       "      <td>0.428470</td>\n",
       "      <td>0.471255</td>\n",
       "      <td>0.446785</td>\n",
       "      <td>0.351957</td>\n",
       "      <td>0.253025</td>\n",
       "      <td>0.386805</td>\n",
       "      <td>0.397246</td>\n",
       "      <td>0.498604</td>\n",
       "      <td>0.371091</td>\n",
       "      <td>0.411621</td>\n",
       "      <td>0.419101</td>\n",
       "      <td>0.415245</td>\n",
       "      <td>0.450530</td>\n",
       "      <td>0.412493</td>\n",
       "      <td>0.466363</td>\n",
       "    </tr>\n",
       "    <tr>\n",
       "      <th>min</th>\n",
       "      <td>0.000000</td>\n",
       "      <td>0.000000</td>\n",
       "      <td>0.000000</td>\n",
       "      <td>0.000000</td>\n",
       "      <td>0.000000</td>\n",
       "      <td>0.000000</td>\n",
       "      <td>0.000000</td>\n",
       "      <td>0.000000</td>\n",
       "      <td>0.000000</td>\n",
       "      <td>0.000000</td>\n",
       "      <td>0.000000</td>\n",
       "      <td>0.000000</td>\n",
       "      <td>0.000000</td>\n",
       "      <td>0.000000</td>\n",
       "      <td>0.000000</td>\n",
       "      <td>0.000000</td>\n",
       "      <td>0.000000</td>\n",
       "    </tr>\n",
       "    <tr>\n",
       "      <th>25%</th>\n",
       "      <td>0.000000</td>\n",
       "      <td>0.000000</td>\n",
       "      <td>0.000000</td>\n",
       "      <td>0.000000</td>\n",
       "      <td>0.000000</td>\n",
       "      <td>0.000000</td>\n",
       "      <td>0.000000</td>\n",
       "      <td>0.000000</td>\n",
       "      <td>0.000000</td>\n",
       "      <td>0.000000</td>\n",
       "      <td>0.000000</td>\n",
       "      <td>0.000000</td>\n",
       "      <td>0.000000</td>\n",
       "      <td>0.000000</td>\n",
       "      <td>0.000000</td>\n",
       "      <td>0.000000</td>\n",
       "      <td>0.000000</td>\n",
       "    </tr>\n",
       "    <tr>\n",
       "      <th>50%</th>\n",
       "      <td>0.000000</td>\n",
       "      <td>0.000000</td>\n",
       "      <td>0.000000</td>\n",
       "      <td>0.000000</td>\n",
       "      <td>0.000000</td>\n",
       "      <td>0.000000</td>\n",
       "      <td>0.000000</td>\n",
       "      <td>0.000000</td>\n",
       "      <td>0.000000</td>\n",
       "      <td>1.000000</td>\n",
       "      <td>0.000000</td>\n",
       "      <td>0.000000</td>\n",
       "      <td>0.000000</td>\n",
       "      <td>0.000000</td>\n",
       "      <td>0.000000</td>\n",
       "      <td>0.000000</td>\n",
       "      <td>0.000000</td>\n",
       "    </tr>\n",
       "    <tr>\n",
       "      <th>75%</th>\n",
       "      <td>1.000000</td>\n",
       "      <td>0.000000</td>\n",
       "      <td>0.000000</td>\n",
       "      <td>1.000000</td>\n",
       "      <td>1.000000</td>\n",
       "      <td>0.000000</td>\n",
       "      <td>0.000000</td>\n",
       "      <td>0.000000</td>\n",
       "      <td>0.000000</td>\n",
       "      <td>1.000000</td>\n",
       "      <td>0.000000</td>\n",
       "      <td>0.000000</td>\n",
       "      <td>0.000000</td>\n",
       "      <td>0.000000</td>\n",
       "      <td>1.000000</td>\n",
       "      <td>0.000000</td>\n",
       "      <td>1.000000</td>\n",
       "    </tr>\n",
       "    <tr>\n",
       "      <th>max</th>\n",
       "      <td>1.000000</td>\n",
       "      <td>1.000000</td>\n",
       "      <td>1.000000</td>\n",
       "      <td>1.000000</td>\n",
       "      <td>1.000000</td>\n",
       "      <td>1.000000</td>\n",
       "      <td>1.000000</td>\n",
       "      <td>1.000000</td>\n",
       "      <td>1.000000</td>\n",
       "      <td>1.000000</td>\n",
       "      <td>1.000000</td>\n",
       "      <td>1.000000</td>\n",
       "      <td>1.000000</td>\n",
       "      <td>1.000000</td>\n",
       "      <td>1.000000</td>\n",
       "      <td>1.000000</td>\n",
       "      <td>1.000000</td>\n",
       "    </tr>\n",
       "  </tbody>\n",
       "</table>\n",
       "</div>"
      ],
      "text/plain": [
       "       topic_1_val  topic_2_val  topic_3_val  topic_4_val  topic_5_val  \\\n",
       "count  3943.000000  3943.000000  3943.000000  3943.000000  3943.000000   \n",
       "mean   0.354552     0.106518     0.242201     0.332742     0.275425      \n",
       "std    0.478438     0.308538     0.428470     0.471255     0.446785      \n",
       "min    0.000000     0.000000     0.000000     0.000000     0.000000      \n",
       "25%    0.000000     0.000000     0.000000     0.000000     0.000000      \n",
       "50%    0.000000     0.000000     0.000000     0.000000     0.000000      \n",
       "75%    1.000000     0.000000     0.000000     1.000000     1.000000      \n",
       "max    1.000000     1.000000     1.000000     1.000000     1.000000      \n",
       "\n",
       "       topic_6_val  topic_7_val  topic_8_val  topic_9_val  topic_10_val  \\\n",
       "count  3943.000000  3943.000000  3943.000000  3943.000000  3943.000000    \n",
       "mean   0.144814     0.068729     0.183109     0.196297     0.538169       \n",
       "std    0.351957     0.253025     0.386805     0.397246     0.498604       \n",
       "min    0.000000     0.000000     0.000000     0.000000     0.000000       \n",
       "25%    0.000000     0.000000     0.000000     0.000000     0.000000       \n",
       "50%    0.000000     0.000000     0.000000     0.000000     1.000000       \n",
       "75%    0.000000     0.000000     0.000000     0.000000     1.000000       \n",
       "max    1.000000     1.000000     1.000000     1.000000     1.000000       \n",
       "\n",
       "       topic_11_val  topic_12_val  topic_13_val  topic_14_val  topic_15_val  \\\n",
       "count  3943.000000   3943.000000   3943.000000   3943.000000   3943.000000    \n",
       "mean   0.164849      0.216079      0.227238      0.221405      0.283033       \n",
       "std    0.371091      0.411621      0.419101      0.415245      0.450530       \n",
       "min    0.000000      0.000000      0.000000      0.000000      0.000000       \n",
       "25%    0.000000      0.000000      0.000000      0.000000      0.000000       \n",
       "50%    0.000000      0.000000      0.000000      0.000000      0.000000       \n",
       "75%    0.000000      0.000000      0.000000      0.000000      1.000000       \n",
       "max    1.000000      1.000000      1.000000      1.000000      1.000000       \n",
       "\n",
       "       topic_16_val  topic_17_val  \n",
       "count  3943.000000   3943.000000   \n",
       "mean   0.217347      0.319554      \n",
       "std    0.412493      0.466363      \n",
       "min    0.000000      0.000000      \n",
       "25%    0.000000      0.000000      \n",
       "50%    0.000000      0.000000      \n",
       "75%    0.000000      1.000000      \n",
       "max    1.000000      1.000000      "
      ]
     },
     "execution_count": 452,
     "metadata": {},
     "output_type": "execute_result"
    }
   ],
   "source": [
    "dog_data_SF_w_tps[[\n",
    "    \"topic_1_val\",\n",
    "    \"topic_2_val\",\n",
    "    \"topic_3_val\",\n",
    "    \"topic_4_val\",\n",
    "    \"topic_5_val\",\n",
    "    \"topic_6_val\",\n",
    "    \"topic_7_val\",\n",
    "    \"topic_8_val\",\n",
    "    \"topic_9_val\",\n",
    "    \"topic_10_val\",\n",
    "    \"topic_11_val\",\n",
    "    \"topic_12_val\",\n",
    "    \"topic_13_val\",\n",
    "    \"topic_14_val\",\n",
    "    \"topic_15_val\",\n",
    "    \"topic_16_val\",\n",
    "    \"topic_17_val\"\n",
    "]].describe()"
   ]
  },
  {
   "cell_type": "code",
   "execution_count": 453,
   "metadata": {
    "ExecuteTime": {
     "end_time": "2019-09-30T22:13:56.420376Z",
     "start_time": "2019-09-30T22:13:56.416793Z"
    }
   },
   "outputs": [],
   "source": [
    "# STL_validation_set = dog_data_SF_w_tps['desc_full_clean'].sample(frac=.1, random_state=99, axis=0)"
   ]
  },
  {
   "cell_type": "code",
   "execution_count": 454,
   "metadata": {
    "ExecuteTime": {
     "end_time": "2019-09-30T22:13:57.077441Z",
     "start_time": "2019-09-30T22:13:57.072439Z"
    }
   },
   "outputs": [],
   "source": [
    "# STL_validation_set.to_csv(\"STL_validation_set.csv\")"
   ]
  },
  {
   "cell_type": "code",
   "execution_count": 455,
   "metadata": {
    "ExecuteTime": {
     "end_time": "2019-09-30T22:13:57.370536Z",
     "start_time": "2019-09-30T22:13:57.367698Z"
    }
   },
   "outputs": [],
   "source": [
    "### read in hand coded "
   ]
  },
  {
   "cell_type": "code",
   "execution_count": 496,
   "metadata": {
    "ExecuteTime": {
     "end_time": "2019-10-01T01:50:24.846650Z",
     "start_time": "2019-10-01T01:50:24.825637Z"
    }
   },
   "outputs": [],
   "source": [
    "hand_codes  = pd.read_csv(\"/Users/allisonkelly/Documents/Insight/Petfinder_Project/STL_validation_set_200.csv\")"
   ]
  },
  {
   "cell_type": "code",
   "execution_count": 490,
   "metadata": {
    "ExecuteTime": {
     "end_time": "2019-10-01T01:49:13.386117Z",
     "start_time": "2019-10-01T01:49:13.369418Z"
    }
   },
   "outputs": [],
   "source": [
    "hand_codes.iloc[:,2:] = hand_codes.iloc[:,2:].fillna(0)"
   ]
  },
  {
   "cell_type": "code",
   "execution_count": 491,
   "metadata": {
    "ExecuteTime": {
     "end_time": "2019-10-01T01:49:15.512290Z",
     "start_time": "2019-10-01T01:49:15.501281Z"
    }
   },
   "outputs": [
    {
     "data": {
      "text/plain": [
       "Index(['Unnamed: 0', 'Unnamed: 1', 'desc_full_clean', 'topic_1_val', 'tp_hc_1',\n",
       "       'topic_3_val', 'tp_hc_3', 'topic_4_val', 'tp_hc_4', 'topic_5_val',\n",
       "       'tp_hc_5', 'topic_7_val', 'tp_hc_7', 'topic_8_val', 'tp_hc_8',\n",
       "       'topic_9_val', 'tp_hc_9', 'topic_11_val', 'tp_hc_11', 'topic_12_val',\n",
       "       'tp_hc_12', 'topic_13_val', 'tp_hc_13', 'topic_14_val', 'tp_hc_14',\n",
       "       'topic_17_val', 'tp_hc_17'],\n",
       "      dtype='object')"
      ]
     },
     "execution_count": 491,
     "metadata": {},
     "output_type": "execute_result"
    }
   ],
   "source": [
    "hand_codes.columns"
   ]
  },
  {
   "cell_type": "code",
   "execution_count": 459,
   "metadata": {
    "ExecuteTime": {
     "end_time": "2019-09-30T22:13:59.453622Z",
     "start_time": "2019-09-30T22:13:59.442567Z"
    },
    "scrolled": true
   },
   "outputs": [],
   "source": [
    "validation_cross = dog_data_SF_w_tps[['desc_full_clean',\n",
    "    \"topic_1_val\",\n",
    "    \"topic_2_val\",\n",
    "    \"topic_3_val\",\n",
    "    \"topic_4_val\",\n",
    "    \"topic_5_val\",\n",
    "    \"topic_6_val\",\n",
    "    \"topic_7_val\",\n",
    "    \"topic_8_val\",\n",
    "    \"topic_9_val\",\n",
    "    \"topic_10_val\",\n",
    "    \"topic_11_val\",\n",
    "    \"topic_12_val\",\n",
    "    \"topic_13_val\",\n",
    "    \"topic_14_val\",\n",
    "    \"topic_15_val\",\n",
    "    \"topic_16_val\",\n",
    "    \"topic_17_val\"]\n",
    "].merge(hand_codes, left_index=True, right_on=\"Unnamed: 0\", how=\"right\")"
   ]
  },
  {
   "cell_type": "code",
   "execution_count": 497,
   "metadata": {
    "ExecuteTime": {
     "end_time": "2019-10-01T01:50:34.630368Z",
     "start_time": "2019-10-01T01:50:34.615417Z"
    }
   },
   "outputs": [
    {
     "data": {
      "text/html": [
       "<div>\n",
       "<style scoped>\n",
       "    .dataframe tbody tr th:only-of-type {\n",
       "        vertical-align: middle;\n",
       "    }\n",
       "\n",
       "    .dataframe tbody tr th {\n",
       "        vertical-align: top;\n",
       "    }\n",
       "\n",
       "    .dataframe thead th {\n",
       "        text-align: right;\n",
       "    }\n",
       "</style>\n",
       "<table border=\"1\" class=\"dataframe\">\n",
       "  <thead>\n",
       "    <tr style=\"text-align: right;\">\n",
       "      <th></th>\n",
       "      <th>desc_full_clean</th>\n",
       "      <th>Unnamed: 1</th>\n",
       "    </tr>\n",
       "  </thead>\n",
       "  <tbody>\n",
       "    <tr>\n",
       "      <th>0</th>\n",
       "      <td>Female   months old Lab Mix This dog will be local in OR WA at the location dates below Yes we adopt to Canada Residents you would need to drive to pick up dog September     Friday  am  pm Petsmart   NE  th Ave Hillsboro OR   September     Saturday  am  pm Petsmart   Guide Meridian Bellingham WA   September     Sunday  am  pm Petsmart   Garden Way NE Unit   Woodinville WA   Adoption fee at the event will be   which includes spay neutered microchip shots up to date and rabies certificate Email us for more info about how to adopt animalrescuekingdom Please note due to space on the transport vehicle not all dogs will attend the event if you are super interested in meeting a certain dog please email us</td>\n",
       "      <td>Female   months old Lab Mix This dog will be local in OR WA at the location dates below Yes we adopt to Canada Residents you would need to drive to pick up dog September     Friday  am  pm Petsmart   NE  th Ave Hillsboro OR   September     Saturday  am  pm Petsmart   Guide Meridian Bellingham WA   September     Sunday  am  pm Petsmart   Garden Way NE Unit   Woodinville WA   Adoption fee at the event will be   which includes spay neutered microchip shots up to date and rabies certificate Email us for more info about how to adopt animalrescuekingdom Please note due to space on the transport vehicle not all dogs will attend the event if you are super interested in meeting a certain dog please email us</td>\n",
       "    </tr>\n",
       "    <tr>\n",
       "      <th>1</th>\n",
       "      <td>Daisy is a cutie pie that was rescued from a junk yard She is a chill girl and approx     months old She is ready to find her forever home This dog will be local in OR WA at the location dates below July     Saturday  am  pm Petsmart   NE  th Ave Hillsboro OR   July     Sunday  am  pm Petsmart   Garden Way NE Unit   Woodinville WA   Yes we adopt to Canada Residents you would need to drive down to pickup the pup Yes we adopt to Canada Residents you would need to drive down to pickup the pup Adoption fee at the event will be   which includes spay neutered microchip shots up to date and rabies certificate Please note due to space on the transport vehicle not all dogs will attend the event if you are super interested in meeting a certain dog please email us</td>\n",
       "      <td>Daisy is a cutie pie that was rescued from a junk yard She is a chill girl and approx     months old She is ready to find her forever home This dog will be local in OR WA at the location dates below July     Saturday  am  pm Petsmart   NE  th Ave Hillsboro OR   July     Sunday  am  pm Petsmart   Garden Way NE Unit   Woodinville WA   Yes we adopt to Canada Residents you would need to drive down to pickup the pup Yes we adopt to Canada Residents you would need to drive down to pickup the pup Adoption fee at the event will be   which includes spay neutered microchip shots up to date and rabies certificate Please note due to space on the transport vehicle not all dogs will attend the event if you are super interested in meeting a certain dog please email us</td>\n",
       "    </tr>\n",
       "    <tr>\n",
       "      <th>2</th>\n",
       "      <td>Meet Annabelle Our best guess is she a shih tzu Two to three years old As her foster mom I call her Annie for short Annie had quite the story She was dumped in a park please see before pic in the profile She was completely matted However she doesn t appear to hold grudges because she is super sweet She gets a long great with other respectful dogs She walks good on a leash She has not been cat tested but I don t see issues with cats and can test if needed Annie LOVES belly rubs She does this cute thing when you rub her belly where she holds your hands It s adorable Her new family must agree to belly rubs Annie is potty trained Annie will do good around respectful kids She will be a bit shy at first but if you talk to her nicely she will gain your trust and wag her tail nonstop If you are interested in hearing more on Annie please send an application to My Way Home and her foster mom will give you a call I am up to date on all of my vaccinations spayed and microchipped My adoption fee is   If you would like to meet me please email for an application or visit our website</td>\n",
       "      <td>Meet Annabelle Our best guess is she a shih tzu Two to three years old As her foster mom I call her Annie for short Annie had quite the story She was dumped in a park please see before pic in the profile She was completely matted However she doesn t appear to hold grudges because she is super sweet She gets a long great with other respectful dogs She walks good on a leash She has not been cat tested but I don t see issues with cats and can test if needed Annie LOVES belly rubs She does this cute thing when you rub her belly where she holds your hands It s adorable Her new family must agree to belly rubs Annie is potty trained Annie will do good around respectful kids She will be a bit shy at first but if you talk to her nicely she will gain your trust and wag her tail nonstop If you are interested in hearing more on Annie please send an application to My Way Home and her foster mom will give you a call I am up to date on all of my vaccinations spayed and microchipped My adoption fee is   If you would like to meet me please email for an application or visit our website</td>\n",
       "    </tr>\n",
       "    <tr>\n",
       "      <th>3</th>\n",
       "      <td>Monty Pee Wee is a small and wiry little black white terrier He just arrived from an overcrowded California shelter He is working on adjusting to his new surroundings watching all of us and trying to understand what his future holds He has the cutest little wiry face and bright eyes Monty is opening up to us a little more everyday and we are seeing the friendly and fun little terrier he is Monty PW loves his walks and can t wait till you get the leash He enjoys exploring his new surroundings and meeting the other small pups Monty PW is a fun loving little guy who enjoys our cuddling on our lap as much as playing with his new buddies Please come and meet Monty Pee Wee soon His DOB is       and he weighs just     lbs Dog adoption fee is   This includes the spay or neuter surgery age appropriate current vaccines distemper and rabies microchip and preventative flea treatment Please stop by to see our adoptable dogs between  pm  pm Tuesday Friday and  pm  pm on Saturdays You are also welcome to contact us via email at emanimalhosp These are rescue dogs and we do not have any further information regarding behavior training or past experiences For the safety of the dogs we need to verify residency for all adopters Renters please bring a copy of the lease showing that you are allowed to own a dog Homeowners please bring a copy of a mortgage statement proving you own your own home We also require a copy of a utility bill with your name and address for all adopters We encourage you to meet the pet you are applying for before submitting the application Your application will not be approved until after you meet the pet If you would like to print and fill out the application to bring with you to our shelter visit our website at PLEASE NOTE EMAILED APPLICATIONS WILL NOT BE ACCEPTED</td>\n",
       "      <td>Monty Pee Wee is a small and wiry little black white terrier He just arrived from an overcrowded California shelter He is working on adjusting to his new surroundings watching all of us and trying to understand what his future holds He has the cutest little wiry face and bright eyes Monty is opening up to us a little more everyday and we are seeing the friendly and fun little terrier he is Monty PW loves his walks and can t wait till you get the leash He enjoys exploring his new surroundings and meeting the other small pups Monty PW is a fun loving little guy who enjoys our cuddling on our lap as much as playing with his new buddies Please come and meet Monty Pee Wee soon His DOB is       and he weighs just     lbs Dog adoption fee is   This includes the spay or neuter surgery age appropriate current vaccines distemper and rabies microchip and preventative flea treatment Please stop by to see our adoptable dogs between  pm  pm Tuesday Friday and  pm  pm on Saturdays You are also welcome to contact us via email at emanimalhosp These are rescue dogs and we do not have any further information regarding behavior training or past experiences For the safety of the dogs we need to verify residency for all adopters Renters please bring a copy of the lease showing that you are allowed to own a dog Homeowners please bring a copy of a mortgage statement proving you own your own home We also require a copy of a utility bill with your name and address for all adopters We encourage you to meet the pet you are applying for before submitting the application Your application will not be approved until after you meet the pet If you would like to print and fill out the application to bring with you to our shelter visit our website at PLEASE NOTE EMAILED APPLICATIONS WILL NOT BE ACCEPTED</td>\n",
       "    </tr>\n",
       "    <tr>\n",
       "      <th>4</th>\n",
       "      <td>Calling all Basset Hound lovers Meet Kona This sweet lovable girl is looking for a new home Her elderly owners have health issues that are making it difficult for them to care for her Kona has been loved and well cared for Kona is   years old spayed and up to date on vaccinations She is very friendly good with kids and good with other dogs She may be low and slow but likes to chase cats so would do best in a home without them Kona is leash trained travels well and is house broken Kona will be a loyal companion If you are interested in giving Kona a loving home the adoption process starts with a completed application The form can be found on our website</td>\n",
       "      <td>Calling all Basset Hound lovers Meet Kona This sweet lovable girl is looking for a new home Her elderly owners have health issues that are making it difficult for them to care for her Kona has been loved and well cared for Kona is   years old spayed and up to date on vaccinations She is very friendly good with kids and good with other dogs She may be low and slow but likes to chase cats so would do best in a home without them Kona is leash trained travels well and is house broken Kona will be a loyal companion If you are interested in giving Kona a loving home the adoption process starts with a completed application The form can be found on our website</td>\n",
       "    </tr>\n",
       "  </tbody>\n",
       "</table>\n",
       "</div>"
      ],
      "text/plain": [
       "                                                                                                                                                                                                                                                                                                                                                                                                                                                                                                                                                                                                                                                                                                                                                                                                                                                                                                                                                                                                                                                                                                                                                                                                                                                                                                                                                                                                                                                                                                                                                                                                                                                                                                                                                                                                                                                            desc_full_clean  \\\n",
       "0   Female   months old Lab Mix This dog will be local in OR WA at the location dates below Yes we adopt to Canada Residents you would need to drive to pick up dog September     Friday  am  pm Petsmart   NE  th Ave Hillsboro OR   September     Saturday  am  pm Petsmart   Guide Meridian Bellingham WA   September     Sunday  am  pm Petsmart   Garden Way NE Unit   Woodinville WA   Adoption fee at the event will be   which includes spay neutered microchip shots up to date and rabies certificate Email us for more info about how to adopt animalrescuekingdom Please note due to space on the transport vehicle not all dogs will attend the event if you are super interested in meeting a certain dog please email us                                                                                                                                                                                                                                                                                                                                                                                                                                                                                                                                                                                                                                                                                                                                                                                                                                                                                                                                                                                                                                                                                                                                       \n",
       "1   Daisy is a cutie pie that was rescued from a junk yard She is a chill girl and approx     months old She is ready to find her forever home This dog will be local in OR WA at the location dates below July     Saturday  am  pm Petsmart   NE  th Ave Hillsboro OR   July     Sunday  am  pm Petsmart   Garden Way NE Unit   Woodinville WA   Yes we adopt to Canada Residents you would need to drive down to pickup the pup Yes we adopt to Canada Residents you would need to drive down to pickup the pup Adoption fee at the event will be   which includes spay neutered microchip shots up to date and rabies certificate Please note due to space on the transport vehicle not all dogs will attend the event if you are super interested in meeting a certain dog please email us                                                                                                                                                                                                                                                                                                                                                                                                                                                                                                                                                                                                                                                                                                                                                                                                                                                                                                                                                                                                                                                                               \n",
       "2   Meet Annabelle Our best guess is she a shih tzu Two to three years old As her foster mom I call her Annie for short Annie had quite the story She was dumped in a park please see before pic in the profile She was completely matted However she doesn t appear to hold grudges because she is super sweet She gets a long great with other respectful dogs She walks good on a leash She has not been cat tested but I don t see issues with cats and can test if needed Annie LOVES belly rubs She does this cute thing when you rub her belly where she holds your hands It s adorable Her new family must agree to belly rubs Annie is potty trained Annie will do good around respectful kids She will be a bit shy at first but if you talk to her nicely she will gain your trust and wag her tail nonstop If you are interested in hearing more on Annie please send an application to My Way Home and her foster mom will give you a call I am up to date on all of my vaccinations spayed and microchipped My adoption fee is   If you would like to meet me please email for an application or visit our website                                                                                                                                                                                                                                                                                                                                                                                                                                                                                                                                                                                                                                                                                                                                              \n",
       "3   Monty Pee Wee is a small and wiry little black white terrier He just arrived from an overcrowded California shelter He is working on adjusting to his new surroundings watching all of us and trying to understand what his future holds He has the cutest little wiry face and bright eyes Monty is opening up to us a little more everyday and we are seeing the friendly and fun little terrier he is Monty PW loves his walks and can t wait till you get the leash He enjoys exploring his new surroundings and meeting the other small pups Monty PW is a fun loving little guy who enjoys our cuddling on our lap as much as playing with his new buddies Please come and meet Monty Pee Wee soon His DOB is       and he weighs just     lbs Dog adoption fee is   This includes the spay or neuter surgery age appropriate current vaccines distemper and rabies microchip and preventative flea treatment Please stop by to see our adoptable dogs between  pm  pm Tuesday Friday and  pm  pm on Saturdays You are also welcome to contact us via email at emanimalhosp These are rescue dogs and we do not have any further information regarding behavior training or past experiences For the safety of the dogs we need to verify residency for all adopters Renters please bring a copy of the lease showing that you are allowed to own a dog Homeowners please bring a copy of a mortgage statement proving you own your own home We also require a copy of a utility bill with your name and address for all adopters We encourage you to meet the pet you are applying for before submitting the application Your application will not be approved until after you meet the pet If you would like to print and fill out the application to bring with you to our shelter visit our website at PLEASE NOTE EMAILED APPLICATIONS WILL NOT BE ACCEPTED    \n",
       "4   Calling all Basset Hound lovers Meet Kona This sweet lovable girl is looking for a new home Her elderly owners have health issues that are making it difficult for them to care for her Kona has been loved and well cared for Kona is   years old spayed and up to date on vaccinations She is very friendly good with kids and good with other dogs She may be low and slow but likes to chase cats so would do best in a home without them Kona is leash trained travels well and is house broken Kona will be a loyal companion If you are interested in giving Kona a loving home the adoption process starts with a completed application The form can be found on our website                                                                                                                                                                                                                                                                                                                                                                                                                                                                                                                                                                                                                                                                                                                                                                                                                                                                                                                                                                                                                                                                                                                                                                                      \n",
       "\n",
       "                                                                                                                                                                                                                                                                                                                                                                                                                                                                                                                                                                                                                                                                                                                                                                                                                                                                                                                                                                                                                                                                                                                                                                                                                                                                                                                                                                                                                                                                                                                                                                                                                                                                                                                                                                                                                                                                 Unnamed: 1  \n",
       "0   Female   months old Lab Mix This dog will be local in OR WA at the location dates below Yes we adopt to Canada Residents you would need to drive to pick up dog September     Friday  am  pm Petsmart   NE  th Ave Hillsboro OR   September     Saturday  am  pm Petsmart   Guide Meridian Bellingham WA   September     Sunday  am  pm Petsmart   Garden Way NE Unit   Woodinville WA   Adoption fee at the event will be   which includes spay neutered microchip shots up to date and rabies certificate Email us for more info about how to adopt animalrescuekingdom Please note due to space on the transport vehicle not all dogs will attend the event if you are super interested in meeting a certain dog please email us                                                                                                                                                                                                                                                                                                                                                                                                                                                                                                                                                                                                                                                                                                                                                                                                                                                                                                                                                                                                                                                                                                                                      \n",
       "1   Daisy is a cutie pie that was rescued from a junk yard She is a chill girl and approx     months old She is ready to find her forever home This dog will be local in OR WA at the location dates below July     Saturday  am  pm Petsmart   NE  th Ave Hillsboro OR   July     Sunday  am  pm Petsmart   Garden Way NE Unit   Woodinville WA   Yes we adopt to Canada Residents you would need to drive down to pickup the pup Yes we adopt to Canada Residents you would need to drive down to pickup the pup Adoption fee at the event will be   which includes spay neutered microchip shots up to date and rabies certificate Please note due to space on the transport vehicle not all dogs will attend the event if you are super interested in meeting a certain dog please email us                                                                                                                                                                                                                                                                                                                                                                                                                                                                                                                                                                                                                                                                                                                                                                                                                                                                                                                                                                                                                                                                              \n",
       "2   Meet Annabelle Our best guess is she a shih tzu Two to three years old As her foster mom I call her Annie for short Annie had quite the story She was dumped in a park please see before pic in the profile She was completely matted However she doesn t appear to hold grudges because she is super sweet She gets a long great with other respectful dogs She walks good on a leash She has not been cat tested but I don t see issues with cats and can test if needed Annie LOVES belly rubs She does this cute thing when you rub her belly where she holds your hands It s adorable Her new family must agree to belly rubs Annie is potty trained Annie will do good around respectful kids She will be a bit shy at first but if you talk to her nicely she will gain your trust and wag her tail nonstop If you are interested in hearing more on Annie please send an application to My Way Home and her foster mom will give you a call I am up to date on all of my vaccinations spayed and microchipped My adoption fee is   If you would like to meet me please email for an application or visit our website                                                                                                                                                                                                                                                                                                                                                                                                                                                                                                                                                                                                                                                                                                                                             \n",
       "3   Monty Pee Wee is a small and wiry little black white terrier He just arrived from an overcrowded California shelter He is working on adjusting to his new surroundings watching all of us and trying to understand what his future holds He has the cutest little wiry face and bright eyes Monty is opening up to us a little more everyday and we are seeing the friendly and fun little terrier he is Monty PW loves his walks and can t wait till you get the leash He enjoys exploring his new surroundings and meeting the other small pups Monty PW is a fun loving little guy who enjoys our cuddling on our lap as much as playing with his new buddies Please come and meet Monty Pee Wee soon His DOB is       and he weighs just     lbs Dog adoption fee is   This includes the spay or neuter surgery age appropriate current vaccines distemper and rabies microchip and preventative flea treatment Please stop by to see our adoptable dogs between  pm  pm Tuesday Friday and  pm  pm on Saturdays You are also welcome to contact us via email at emanimalhosp These are rescue dogs and we do not have any further information regarding behavior training or past experiences For the safety of the dogs we need to verify residency for all adopters Renters please bring a copy of the lease showing that you are allowed to own a dog Homeowners please bring a copy of a mortgage statement proving you own your own home We also require a copy of a utility bill with your name and address for all adopters We encourage you to meet the pet you are applying for before submitting the application Your application will not be approved until after you meet the pet If you would like to print and fill out the application to bring with you to our shelter visit our website at PLEASE NOTE EMAILED APPLICATIONS WILL NOT BE ACCEPTED   \n",
       "4   Calling all Basset Hound lovers Meet Kona This sweet lovable girl is looking for a new home Her elderly owners have health issues that are making it difficult for them to care for her Kona has been loved and well cared for Kona is   years old spayed and up to date on vaccinations She is very friendly good with kids and good with other dogs She may be low and slow but likes to chase cats so would do best in a home without them Kona is leash trained travels well and is house broken Kona will be a loyal companion If you are interested in giving Kona a loving home the adoption process starts with a completed application The form can be found on our website                                                                                                                                                                                                                                                                                                                                                                                                                                                                                                                                                                                                                                                                                                                                                                                                                                                                                                                                                                                                                                                                                                                                                                                     "
      ]
     },
     "execution_count": 497,
     "metadata": {},
     "output_type": "execute_result"
    }
   ],
   "source": [
    "validation_cross[['desc_full_clean','Unnamed: 1']].head(5)"
   ]
  },
  {
   "cell_type": "code",
   "execution_count": 498,
   "metadata": {
    "ExecuteTime": {
     "end_time": "2019-10-01T01:50:39.372220Z",
     "start_time": "2019-10-01T01:50:39.297351Z"
    }
   },
   "outputs": [
    {
     "data": {
      "text/html": [
       "<div>\n",
       "<style scoped>\n",
       "    .dataframe tbody tr th:only-of-type {\n",
       "        vertical-align: middle;\n",
       "    }\n",
       "\n",
       "    .dataframe tbody tr th {\n",
       "        vertical-align: top;\n",
       "    }\n",
       "\n",
       "    .dataframe thead th {\n",
       "        text-align: right;\n",
       "    }\n",
       "</style>\n",
       "<table border=\"1\" class=\"dataframe\">\n",
       "  <thead>\n",
       "    <tr style=\"text-align: right;\">\n",
       "      <th></th>\n",
       "      <th>topic_1_val</th>\n",
       "      <th>topic_3_val</th>\n",
       "      <th>topic_4_val</th>\n",
       "      <th>topic_5_val</th>\n",
       "      <th>topic_7_val</th>\n",
       "      <th>topic_8_val</th>\n",
       "      <th>topic_9_val</th>\n",
       "      <th>topic_11_val</th>\n",
       "      <th>topic_12_val</th>\n",
       "      <th>topic_13_val</th>\n",
       "      <th>topic_14_val</th>\n",
       "      <th>topic_17_val</th>\n",
       "    </tr>\n",
       "  </thead>\n",
       "  <tbody>\n",
       "    <tr>\n",
       "      <th>count</th>\n",
       "      <td>198.000000</td>\n",
       "      <td>198.000000</td>\n",
       "      <td>198.000000</td>\n",
       "      <td>198.00000</td>\n",
       "      <td>198.000000</td>\n",
       "      <td>198.000000</td>\n",
       "      <td>198.000000</td>\n",
       "      <td>198.000000</td>\n",
       "      <td>198.000000</td>\n",
       "      <td>198.000000</td>\n",
       "      <td>198.000000</td>\n",
       "      <td>198.000000</td>\n",
       "    </tr>\n",
       "    <tr>\n",
       "      <th>mean</th>\n",
       "      <td>0.267677</td>\n",
       "      <td>0.237374</td>\n",
       "      <td>0.363636</td>\n",
       "      <td>0.29798</td>\n",
       "      <td>0.181818</td>\n",
       "      <td>0.186869</td>\n",
       "      <td>0.212121</td>\n",
       "      <td>0.126263</td>\n",
       "      <td>0.196970</td>\n",
       "      <td>0.262626</td>\n",
       "      <td>0.166667</td>\n",
       "      <td>0.363636</td>\n",
       "    </tr>\n",
       "    <tr>\n",
       "      <th>std</th>\n",
       "      <td>0.443870</td>\n",
       "      <td>0.426552</td>\n",
       "      <td>0.482265</td>\n",
       "      <td>0.45853</td>\n",
       "      <td>0.386672</td>\n",
       "      <td>0.390794</td>\n",
       "      <td>0.409847</td>\n",
       "      <td>0.332987</td>\n",
       "      <td>0.398717</td>\n",
       "      <td>0.441177</td>\n",
       "      <td>0.373623</td>\n",
       "      <td>0.482265</td>\n",
       "    </tr>\n",
       "    <tr>\n",
       "      <th>min</th>\n",
       "      <td>0.000000</td>\n",
       "      <td>0.000000</td>\n",
       "      <td>0.000000</td>\n",
       "      <td>0.00000</td>\n",
       "      <td>0.000000</td>\n",
       "      <td>0.000000</td>\n",
       "      <td>0.000000</td>\n",
       "      <td>0.000000</td>\n",
       "      <td>0.000000</td>\n",
       "      <td>0.000000</td>\n",
       "      <td>0.000000</td>\n",
       "      <td>0.000000</td>\n",
       "    </tr>\n",
       "    <tr>\n",
       "      <th>25%</th>\n",
       "      <td>0.000000</td>\n",
       "      <td>0.000000</td>\n",
       "      <td>0.000000</td>\n",
       "      <td>0.00000</td>\n",
       "      <td>0.000000</td>\n",
       "      <td>0.000000</td>\n",
       "      <td>0.000000</td>\n",
       "      <td>0.000000</td>\n",
       "      <td>0.000000</td>\n",
       "      <td>0.000000</td>\n",
       "      <td>0.000000</td>\n",
       "      <td>0.000000</td>\n",
       "    </tr>\n",
       "    <tr>\n",
       "      <th>50%</th>\n",
       "      <td>0.000000</td>\n",
       "      <td>0.000000</td>\n",
       "      <td>0.000000</td>\n",
       "      <td>0.00000</td>\n",
       "      <td>0.000000</td>\n",
       "      <td>0.000000</td>\n",
       "      <td>0.000000</td>\n",
       "      <td>0.000000</td>\n",
       "      <td>0.000000</td>\n",
       "      <td>0.000000</td>\n",
       "      <td>0.000000</td>\n",
       "      <td>0.000000</td>\n",
       "    </tr>\n",
       "    <tr>\n",
       "      <th>75%</th>\n",
       "      <td>1.000000</td>\n",
       "      <td>0.000000</td>\n",
       "      <td>1.000000</td>\n",
       "      <td>1.00000</td>\n",
       "      <td>0.000000</td>\n",
       "      <td>0.000000</td>\n",
       "      <td>0.000000</td>\n",
       "      <td>0.000000</td>\n",
       "      <td>0.000000</td>\n",
       "      <td>1.000000</td>\n",
       "      <td>0.000000</td>\n",
       "      <td>1.000000</td>\n",
       "    </tr>\n",
       "    <tr>\n",
       "      <th>max</th>\n",
       "      <td>1.000000</td>\n",
       "      <td>1.000000</td>\n",
       "      <td>1.000000</td>\n",
       "      <td>1.00000</td>\n",
       "      <td>1.000000</td>\n",
       "      <td>1.000000</td>\n",
       "      <td>1.000000</td>\n",
       "      <td>1.000000</td>\n",
       "      <td>1.000000</td>\n",
       "      <td>1.000000</td>\n",
       "      <td>1.000000</td>\n",
       "      <td>1.000000</td>\n",
       "    </tr>\n",
       "  </tbody>\n",
       "</table>\n",
       "</div>"
      ],
      "text/plain": [
       "       topic_1_val  topic_3_val  topic_4_val  topic_5_val  topic_7_val  \\\n",
       "count  198.000000   198.000000   198.000000   198.00000    198.000000    \n",
       "mean   0.267677     0.237374     0.363636     0.29798      0.181818      \n",
       "std    0.443870     0.426552     0.482265     0.45853      0.386672      \n",
       "min    0.000000     0.000000     0.000000     0.00000      0.000000      \n",
       "25%    0.000000     0.000000     0.000000     0.00000      0.000000      \n",
       "50%    0.000000     0.000000     0.000000     0.00000      0.000000      \n",
       "75%    1.000000     0.000000     1.000000     1.00000      0.000000      \n",
       "max    1.000000     1.000000     1.000000     1.00000      1.000000      \n",
       "\n",
       "       topic_8_val  topic_9_val  topic_11_val  topic_12_val  topic_13_val  \\\n",
       "count  198.000000   198.000000   198.000000    198.000000    198.000000     \n",
       "mean   0.186869     0.212121     0.126263      0.196970      0.262626       \n",
       "std    0.390794     0.409847     0.332987      0.398717      0.441177       \n",
       "min    0.000000     0.000000     0.000000      0.000000      0.000000       \n",
       "25%    0.000000     0.000000     0.000000      0.000000      0.000000       \n",
       "50%    0.000000     0.000000     0.000000      0.000000      0.000000       \n",
       "75%    0.000000     0.000000     0.000000      0.000000      1.000000       \n",
       "max    1.000000     1.000000     1.000000      1.000000      1.000000       \n",
       "\n",
       "       topic_14_val  topic_17_val  \n",
       "count  198.000000    198.000000    \n",
       "mean   0.166667      0.363636      \n",
       "std    0.373623      0.482265      \n",
       "min    0.000000      0.000000      \n",
       "25%    0.000000      0.000000      \n",
       "50%    0.000000      0.000000      \n",
       "75%    0.000000      1.000000      \n",
       "max    1.000000      1.000000      "
      ]
     },
     "execution_count": 498,
     "metadata": {},
     "output_type": "execute_result"
    }
   ],
   "source": [
    "validation_cross[\n",
    "    [\n",
    "        \"topic_1_val\",\n",
    "        \"topic_3_val\",\n",
    "        \"topic_4_val\",\n",
    "        \"topic_5_val\",\n",
    "        \"topic_7_val\",\n",
    "        \"topic_8_val\",\n",
    "        \"topic_9_val\",\n",
    "        \"topic_11_val\",\n",
    "        \"topic_12_val\",\n",
    "        \"topic_13_val\",\n",
    "        \"topic_14_val\",\n",
    "        \"topic_17_val\",\n",
    "    ]\n",
    "].describe()"
   ]
  },
  {
   "cell_type": "code",
   "execution_count": 499,
   "metadata": {
    "ExecuteTime": {
     "end_time": "2019-10-01T01:50:47.439913Z",
     "start_time": "2019-10-01T01:50:47.370672Z"
    }
   },
   "outputs": [
    {
     "data": {
      "text/html": [
       "<div>\n",
       "<style scoped>\n",
       "    .dataframe tbody tr th:only-of-type {\n",
       "        vertical-align: middle;\n",
       "    }\n",
       "\n",
       "    .dataframe tbody tr th {\n",
       "        vertical-align: top;\n",
       "    }\n",
       "\n",
       "    .dataframe thead th {\n",
       "        text-align: right;\n",
       "    }\n",
       "</style>\n",
       "<table border=\"1\" class=\"dataframe\">\n",
       "  <thead>\n",
       "    <tr style=\"text-align: right;\">\n",
       "      <th></th>\n",
       "      <th>tp_hc_1</th>\n",
       "      <th>tp_hc_3</th>\n",
       "      <th>tp_hc_4</th>\n",
       "      <th>tp_hc_5</th>\n",
       "      <th>tp_hc_7</th>\n",
       "      <th>tp_hc_8</th>\n",
       "      <th>tp_hc_9</th>\n",
       "      <th>tp_hc_11</th>\n",
       "      <th>tp_hc_12</th>\n",
       "      <th>tp_hc_13</th>\n",
       "      <th>tp_hc_14</th>\n",
       "      <th>tp_hc_17</th>\n",
       "    </tr>\n",
       "  </thead>\n",
       "  <tbody>\n",
       "    <tr>\n",
       "      <th>count</th>\n",
       "      <td>198.000000</td>\n",
       "      <td>198.000000</td>\n",
       "      <td>198.000000</td>\n",
       "      <td>198.000000</td>\n",
       "      <td>198.000000</td>\n",
       "      <td>198.000000</td>\n",
       "      <td>198.000000</td>\n",
       "      <td>198.000000</td>\n",
       "      <td>198.000000</td>\n",
       "      <td>198.000000</td>\n",
       "      <td>198.000000</td>\n",
       "      <td>198.000000</td>\n",
       "    </tr>\n",
       "    <tr>\n",
       "      <th>mean</th>\n",
       "      <td>0.343434</td>\n",
       "      <td>0.181818</td>\n",
       "      <td>0.318182</td>\n",
       "      <td>0.227273</td>\n",
       "      <td>0.520202</td>\n",
       "      <td>0.136364</td>\n",
       "      <td>0.121212</td>\n",
       "      <td>0.085859</td>\n",
       "      <td>0.191919</td>\n",
       "      <td>0.171717</td>\n",
       "      <td>0.090909</td>\n",
       "      <td>0.232323</td>\n",
       "    </tr>\n",
       "    <tr>\n",
       "      <th>std</th>\n",
       "      <td>0.476059</td>\n",
       "      <td>0.386672</td>\n",
       "      <td>0.466951</td>\n",
       "      <td>0.420132</td>\n",
       "      <td>0.500858</td>\n",
       "      <td>0.344044</td>\n",
       "      <td>0.327201</td>\n",
       "      <td>0.280865</td>\n",
       "      <td>0.394808</td>\n",
       "      <td>0.378090</td>\n",
       "      <td>0.288209</td>\n",
       "      <td>0.423385</td>\n",
       "    </tr>\n",
       "    <tr>\n",
       "      <th>min</th>\n",
       "      <td>0.000000</td>\n",
       "      <td>0.000000</td>\n",
       "      <td>0.000000</td>\n",
       "      <td>0.000000</td>\n",
       "      <td>0.000000</td>\n",
       "      <td>0.000000</td>\n",
       "      <td>0.000000</td>\n",
       "      <td>0.000000</td>\n",
       "      <td>0.000000</td>\n",
       "      <td>0.000000</td>\n",
       "      <td>0.000000</td>\n",
       "      <td>0.000000</td>\n",
       "    </tr>\n",
       "    <tr>\n",
       "      <th>25%</th>\n",
       "      <td>0.000000</td>\n",
       "      <td>0.000000</td>\n",
       "      <td>0.000000</td>\n",
       "      <td>0.000000</td>\n",
       "      <td>0.000000</td>\n",
       "      <td>0.000000</td>\n",
       "      <td>0.000000</td>\n",
       "      <td>0.000000</td>\n",
       "      <td>0.000000</td>\n",
       "      <td>0.000000</td>\n",
       "      <td>0.000000</td>\n",
       "      <td>0.000000</td>\n",
       "    </tr>\n",
       "    <tr>\n",
       "      <th>50%</th>\n",
       "      <td>0.000000</td>\n",
       "      <td>0.000000</td>\n",
       "      <td>0.000000</td>\n",
       "      <td>0.000000</td>\n",
       "      <td>1.000000</td>\n",
       "      <td>0.000000</td>\n",
       "      <td>0.000000</td>\n",
       "      <td>0.000000</td>\n",
       "      <td>0.000000</td>\n",
       "      <td>0.000000</td>\n",
       "      <td>0.000000</td>\n",
       "      <td>0.000000</td>\n",
       "    </tr>\n",
       "    <tr>\n",
       "      <th>75%</th>\n",
       "      <td>1.000000</td>\n",
       "      <td>0.000000</td>\n",
       "      <td>1.000000</td>\n",
       "      <td>0.000000</td>\n",
       "      <td>1.000000</td>\n",
       "      <td>0.000000</td>\n",
       "      <td>0.000000</td>\n",
       "      <td>0.000000</td>\n",
       "      <td>0.000000</td>\n",
       "      <td>0.000000</td>\n",
       "      <td>0.000000</td>\n",
       "      <td>0.000000</td>\n",
       "    </tr>\n",
       "    <tr>\n",
       "      <th>max</th>\n",
       "      <td>1.000000</td>\n",
       "      <td>1.000000</td>\n",
       "      <td>1.000000</td>\n",
       "      <td>1.000000</td>\n",
       "      <td>1.000000</td>\n",
       "      <td>1.000000</td>\n",
       "      <td>1.000000</td>\n",
       "      <td>1.000000</td>\n",
       "      <td>1.000000</td>\n",
       "      <td>1.000000</td>\n",
       "      <td>1.000000</td>\n",
       "      <td>1.000000</td>\n",
       "    </tr>\n",
       "  </tbody>\n",
       "</table>\n",
       "</div>"
      ],
      "text/plain": [
       "          tp_hc_1     tp_hc_3     tp_hc_4     tp_hc_5     tp_hc_7     tp_hc_8  \\\n",
       "count  198.000000  198.000000  198.000000  198.000000  198.000000  198.000000   \n",
       "mean   0.343434    0.181818    0.318182    0.227273    0.520202    0.136364     \n",
       "std    0.476059    0.386672    0.466951    0.420132    0.500858    0.344044     \n",
       "min    0.000000    0.000000    0.000000    0.000000    0.000000    0.000000     \n",
       "25%    0.000000    0.000000    0.000000    0.000000    0.000000    0.000000     \n",
       "50%    0.000000    0.000000    0.000000    0.000000    1.000000    0.000000     \n",
       "75%    1.000000    0.000000    1.000000    0.000000    1.000000    0.000000     \n",
       "max    1.000000    1.000000    1.000000    1.000000    1.000000    1.000000     \n",
       "\n",
       "          tp_hc_9    tp_hc_11    tp_hc_12    tp_hc_13    tp_hc_14    tp_hc_17  \n",
       "count  198.000000  198.000000  198.000000  198.000000  198.000000  198.000000  \n",
       "mean   0.121212    0.085859    0.191919    0.171717    0.090909    0.232323    \n",
       "std    0.327201    0.280865    0.394808    0.378090    0.288209    0.423385    \n",
       "min    0.000000    0.000000    0.000000    0.000000    0.000000    0.000000    \n",
       "25%    0.000000    0.000000    0.000000    0.000000    0.000000    0.000000    \n",
       "50%    0.000000    0.000000    0.000000    0.000000    0.000000    0.000000    \n",
       "75%    0.000000    0.000000    0.000000    0.000000    0.000000    0.000000    \n",
       "max    1.000000    1.000000    1.000000    1.000000    1.000000    1.000000    "
      ]
     },
     "execution_count": 499,
     "metadata": {},
     "output_type": "execute_result"
    }
   ],
   "source": [
    "validation_cross[\n",
    "    [\n",
    "        \"tp_hc_1\",\n",
    "        \"tp_hc_3\",\n",
    "        \"tp_hc_4\",\n",
    "        \"tp_hc_5\",\n",
    "        \"tp_hc_7\",\n",
    "        \"tp_hc_8\",\n",
    "        \"tp_hc_9\",\n",
    "        \"tp_hc_11\",\n",
    "        \"tp_hc_12\",\n",
    "        \"tp_hc_13\",\n",
    "        \"tp_hc_14\",\n",
    "        \"tp_hc_17\",\n",
    "    ]\n",
    "].describe()"
   ]
  },
  {
   "cell_type": "code",
   "execution_count": 500,
   "metadata": {
    "ExecuteTime": {
     "end_time": "2019-10-01T01:50:52.652220Z",
     "start_time": "2019-10-01T01:50:52.637815Z"
    }
   },
   "outputs": [
    {
     "data": {
      "text/plain": [
       "array([[[120,  25],\n",
       "        [ 10,  43]],\n",
       "\n",
       "       [[148,   3],\n",
       "        [ 14,  33]],\n",
       "\n",
       "       [[120,   6],\n",
       "        [ 15,  57]],\n",
       "\n",
       "       [[135,   4],\n",
       "        [ 18,  41]],\n",
       "\n",
       "       [[ 76,  86],\n",
       "        [ 19,  17]],\n",
       "\n",
       "       [[160,   1],\n",
       "        [ 11,  26]],\n",
       "\n",
       "       [[155,   1],\n",
       "        [ 19,  23]],\n",
       "\n",
       "       [[173,   0],\n",
       "        [  8,  17]],\n",
       "\n",
       "       [[148,  11],\n",
       "        [ 12,  27]],\n",
       "\n",
       "       [[146,   0],\n",
       "        [ 18,  34]],\n",
       "\n",
       "       [[165,   0],\n",
       "        [ 15,  18]],\n",
       "\n",
       "       [[124,   2],\n",
       "        [ 28,  44]]])"
      ]
     },
     "execution_count": 500,
     "metadata": {},
     "output_type": "execute_result"
    }
   ],
   "source": [
    "sklearn.metrics.multilabel_confusion_matrix(\n",
    "    validation_cross[\n",
    "        [\n",
    "            \"topic_1_val\",\n",
    "            \"topic_3_val\",\n",
    "            \"topic_4_val\",\n",
    "            \"topic_5_val\",\n",
    "            \"topic_7_val\",\n",
    "            \"topic_8_val\",\n",
    "            \"topic_9_val\",\n",
    "            \"topic_11_val\",\n",
    "            \"topic_12_val\",\n",
    "            \"topic_13_val\",\n",
    "            \"topic_14_val\",\n",
    "            \"topic_17_val\",\n",
    "        ]\n",
    "    ],\n",
    "    validation_cross[\n",
    "        [\n",
    "            \"tp_hc_1\",\n",
    "            \"tp_hc_3\",\n",
    "            \"tp_hc_4\",\n",
    "            \"tp_hc_5\",\n",
    "            \"tp_hc_7\",\n",
    "            \"tp_hc_8\",\n",
    "            \"tp_hc_9\",\n",
    "            \"tp_hc_11\",\n",
    "            \"tp_hc_12\",\n",
    "            \"tp_hc_13\",\n",
    "            \"tp_hc_14\",\n",
    "            \"tp_hc_17\",\n",
    "        ]\n",
    "    ],\n",
    ")"
   ]
  },
  {
   "cell_type": "code",
   "execution_count": 501,
   "metadata": {
    "ExecuteTime": {
     "end_time": "2019-10-01T01:50:58.551819Z",
     "start_time": "2019-10-01T01:50:58.537497Z"
    }
   },
   "outputs": [],
   "source": [
    "confusion_arrays = sklearn.metrics.multilabel_confusion_matrix(\n",
    "    validation_cross[\n",
    "        [\n",
    "            \"topic_1_val\",\n",
    "            \"topic_3_val\",\n",
    "            \"topic_4_val\",\n",
    "            \"topic_5_val\",\n",
    "            \"topic_7_val\",\n",
    "            \"topic_8_val\",\n",
    "            \"topic_9_val\",\n",
    "            \"topic_11_val\",\n",
    "            \"topic_12_val\",\n",
    "            \"topic_13_val\",\n",
    "            \"topic_14_val\",\n",
    "            \"topic_17_val\",\n",
    "        ]\n",
    "    ],\n",
    "    validation_cross[\n",
    "        [\n",
    "            \"tp_hc_1\",\n",
    "            \"tp_hc_3\",\n",
    "            \"tp_hc_4\",\n",
    "            \"tp_hc_5\",\n",
    "            \"tp_hc_7\",\n",
    "            \"tp_hc_8\",\n",
    "            \"tp_hc_9\",\n",
    "            \"tp_hc_11\",\n",
    "            \"tp_hc_12\",\n",
    "            \"tp_hc_13\",\n",
    "            \"tp_hc_14\",\n",
    "            \"tp_hc_17\",\n",
    "        ]\n",
    "    ],\n",
    ")"
   ]
  },
  {
   "cell_type": "code",
   "execution_count": 502,
   "metadata": {
    "ExecuteTime": {
     "end_time": "2019-10-01T01:50:59.769198Z",
     "start_time": "2019-10-01T01:50:59.763087Z"
    }
   },
   "outputs": [
    {
     "data": {
      "text/plain": [
       "12"
      ]
     },
     "execution_count": 502,
     "metadata": {},
     "output_type": "execute_result"
    }
   ],
   "source": [
    "len(confusion_arrays)"
   ]
  },
  {
   "cell_type": "code",
   "execution_count": 508,
   "metadata": {
    "ExecuteTime": {
     "end_time": "2019-10-01T01:55:31.575907Z",
     "start_time": "2019-10-01T01:55:31.450722Z"
    },
    "scrolled": false
   },
   "outputs": [
    {
     "data": {
      "image/png": "[encoded data removed]",
      "text/plain": [
       "<Figure size 288x288 with 1 Axes>"
      ]
     },
     "metadata": {
      "needs_background": "light"
     },
     "output_type": "display_data"
    }
   ],
   "source": [
    "# tp_hc_1 active and smart \n",
    "f, ax = plt.subplots(figsize=(4, 4))\n",
    "sns.heatmap(\n",
    "    confusion_arrays[0],\n",
    "    annot_kws={\"size\": 20},\n",
    "    annot=True,\n",
    "    cmap=\"GnBu\",\n",
    "    cbar=False,\n",
    "    fmt=\" \",\n",
    "    ax=ax,\n",
    ")\n",
    "ax.set_ylim(2, 0)\n",
    "\n",
    "plt.savefig('Demo_Figures/LDA_validation_tpc1.png')"
   ]
  },
  {
   "cell_type": "code",
   "execution_count": 509,
   "metadata": {
    "ExecuteTime": {
     "end_time": "2019-10-01T01:57:15.488113Z",
     "start_time": "2019-10-01T01:57:15.287682Z"
    },
    "scrolled": false
   },
   "outputs": [
    {
     "data": {
      "image/png": "[encoded data removed]",
      "text/plain": [
       "<Figure size 288x288 with 1 Axes>"
      ]
     },
     "metadata": {
      "needs_background": "light"
     },
     "output_type": "display_data"
    }
   ],
   "source": [
    "# \"tp_hc_3\",\n",
    "f, ax = plt.subplots(figsize=(4, 4))\n",
    "sns.heatmap(\n",
    "    confusion_arrays[1],\n",
    "    annot=True,\n",
    "    cmap=\"GnBu\",\n",
    "    annot_kws={\"size\": 20},\n",
    "    cbar=False,\n",
    "    fmt=\" \",\n",
    "    ax=ax,\n",
    ")\n",
    "ax.set_ylim(2, 0)\n",
    "\n",
    "plt.savefig(\"Demo_Figures/LDA_validation_tpc3.png\")"
   ]
  },
  {
   "cell_type": "code",
   "execution_count": 510,
   "metadata": {
    "ExecuteTime": {
     "end_time": "2019-10-01T01:57:15.488113Z",
     "start_time": "2019-10-01T01:57:15.287682Z"
    },
    "scrolled": false
   },
   "outputs": [
    {
     "data": {
      "image/png": "[encoded data removed]",
      "text/plain": [
       "<Figure size 288x288 with 1 Axes>"
      ]
     },
     "metadata": {
      "needs_background": "light"
     },
     "output_type": "display_data"
    }
   ],
   "source": [
    "#           \"tp_hc_4\"\n",
    "f, ax = plt.subplots(figsize=(4, 4))\n",
    "sns.heatmap(\n",
    "    confusion_arrays[2],\n",
    "    annot=True,\n",
    "    cmap=\"GnBu\",\n",
    "    annot_kws={\"size\": 20},\n",
    "    cbar=False,\n",
    "    fmt=\" \",\n",
    "    ax=ax,\n",
    ")\n",
    "ax.set_ylim(2, 0)\n",
    "\n",
    "plt.savefig(\"Demo_Figures/LDA_validation_tpc4.png\")"
   ]
  },
  {
   "cell_type": "code",
   "execution_count": 511,
   "metadata": {
    "ExecuteTime": {
     "end_time": "2019-10-01T01:57:15.488113Z",
     "start_time": "2019-10-01T01:57:15.287682Z"
    },
    "scrolled": false
   },
   "outputs": [
    {
     "data": {
      "image/png": "[encoded data removed]",
      "text/plain": [
       "<Figure size 288x288 with 1 Axes>"
      ]
     },
     "metadata": {
      "needs_background": "light"
     },
     "output_type": "display_data"
    }
   ],
   "source": [
    "#            \"tp_hc_5\",\n",
    "f, ax = plt.subplots(figsize=(4, 4))\n",
    "sns.heatmap(\n",
    "    confusion_arrays[3],\n",
    "    annot=True,\n",
    "    cmap=\"GnBu\",\n",
    "    annot_kws={\"size\": 20},\n",
    "    cbar=False,\n",
    "    fmt=\" \",\n",
    "    ax=ax,\n",
    ")\n",
    "ax.set_ylim(2, 0)\n",
    "\n",
    "plt.savefig(\"Demo_Figures/LDA_validation_tpc5.png\")"
   ]
  },
  {
   "cell_type": "code",
   "execution_count": 512,
   "metadata": {
    "ExecuteTime": {
     "end_time": "2019-10-01T01:57:15.488113Z",
     "start_time": "2019-10-01T01:57:15.287682Z"
    },
    "scrolled": false
   },
   "outputs": [
    {
     "data": {
      "image/png": "[encoded data removed]",
      "text/plain": [
       "<Figure size 288x288 with 1 Axes>"
      ]
     },
     "metadata": {
      "needs_background": "light"
     },
     "output_type": "display_data"
    }
   ],
   "source": [
    "#            \"tp_hc_7\",\n",
    "f, ax = plt.subplots(figsize=(4, 4))\n",
    "sns.heatmap(\n",
    "    confusion_arrays[4],\n",
    "    annot=True,\n",
    "    cmap=\"GnBu\",\n",
    "    annot_kws={\"size\": 20},\n",
    "    cbar=False,\n",
    "    fmt=\" \",\n",
    "    ax=ax,\n",
    ")\n",
    "ax.set_ylim(2, 0)\n",
    "plt.savefig(\"Demo_Figures/LDA_validation_tpc7.png\")"
   ]
  },
  {
   "cell_type": "code",
   "execution_count": 513,
   "metadata": {
    "ExecuteTime": {
     "end_time": "2019-10-01T01:57:15.488113Z",
     "start_time": "2019-10-01T01:57:15.287682Z"
    },
    "scrolled": false
   },
   "outputs": [
    {
     "data": {
      "image/png": "[encoded data removed]",
      "text/plain": [
       "<Figure size 288x288 with 1 Axes>"
      ]
     },
     "metadata": {
      "needs_background": "light"
     },
     "output_type": "display_data"
    }
   ],
   "source": [
    "#            \"tp_hc_8\",\n",
    "f, ax = plt.subplots(figsize=(4, 4))\n",
    "sns.heatmap(\n",
    "    confusion_arrays[5],\n",
    "    annot=True,\n",
    "    cmap=\"GnBu\",\n",
    "    annot_kws={\"size\": 20},\n",
    "    cbar=False,\n",
    "    fmt=\" \",\n",
    "    ax=ax,\n",
    ")\n",
    "ax.set_ylim(2, 0)\n",
    "plt.savefig(\"Demo_Figures/LDA_validation_tpc8.png\")"
   ]
  },
  {
   "cell_type": "code",
   "execution_count": 514,
   "metadata": {
    "ExecuteTime": {
     "end_time": "2019-10-01T01:57:15.488113Z",
     "start_time": "2019-10-01T01:57:15.287682Z"
    },
    "scrolled": false
   },
   "outputs": [
    {
     "data": {
      "image/png": "[encoded data removed]",
      "text/plain": [
       "<Figure size 288x288 with 1 Axes>"
      ]
     },
     "metadata": {
      "needs_background": "light"
     },
     "output_type": "display_data"
    }
   ],
   "source": [
    "#          \"tp_hc_9\",\n",
    "f, ax = plt.subplots(figsize=(4, 4))\n",
    "sns.heatmap(\n",
    "    confusion_arrays[6],\n",
    "    annot=True,\n",
    "    cmap=\"GnBu\",\n",
    "    annot_kws={\"size\": 20},\n",
    "    cbar=False,\n",
    "    fmt=\" \",\n",
    "    ax=ax,\n",
    ")\n",
    "ax.set_ylim(2, 0)\n",
    "plt.savefig(\"Demo_Figures/LDA_validation_tpc9.png\")"
   ]
  },
  {
   "cell_type": "code",
   "execution_count": 515,
   "metadata": {
    "ExecuteTime": {
     "end_time": "2019-10-01T01:57:15.488113Z",
     "start_time": "2019-10-01T01:57:15.287682Z"
    },
    "scrolled": false
   },
   "outputs": [
    {
     "data": {
      "image/png": "[encoded data removed]",
      "text/plain": [
       "<Figure size 288x288 with 1 Axes>"
      ]
     },
     "metadata": {
      "needs_background": "light"
     },
     "output_type": "display_data"
    }
   ],
   "source": [
    "#            \"tp_hc_11\",\n",
    "f, ax = plt.subplots(figsize=(4, 4))\n",
    "sns.heatmap(\n",
    "    confusion_arrays[7],\n",
    "    annot=True,\n",
    "    cmap=\"GnBu\",\n",
    "    annot_kws={\"size\": 20},\n",
    "    cbar=False,\n",
    "    fmt=\" \",\n",
    "    ax=ax,\n",
    ")\n",
    "ax.set_ylim(2, 0)\n",
    "plt.savefig(\"Demo_Figures/LDA_validation_tpc11.png\")"
   ]
  },
  {
   "cell_type": "code",
   "execution_count": 516,
   "metadata": {
    "ExecuteTime": {
     "end_time": "2019-10-01T01:57:15.488113Z",
     "start_time": "2019-10-01T01:57:15.287682Z"
    },
    "scrolled": false
   },
   "outputs": [
    {
     "data": {
      "image/png": "[encoded data removed]",
      "text/plain": [
       "<Figure size 288x288 with 1 Axes>"
      ]
     },
     "metadata": {
      "needs_background": "light"
     },
     "output_type": "display_data"
    }
   ],
   "source": [
    "#            \"tp_hc_12\",\n",
    "f, ax = plt.subplots(figsize=(4, 4))\n",
    "sns.heatmap(\n",
    "    confusion_arrays[8],\n",
    "    annot=True,\n",
    "    cmap=\"GnBu\",\n",
    "    annot_kws={\"size\": 20},\n",
    "    cbar=False,\n",
    "    fmt=\" \",\n",
    "    ax=ax,\n",
    ")\n",
    "ax.set_ylim(2, 0)\n",
    "plt.savefig(\"Demo_Figures/LDA_validation_tpc12.png\")"
   ]
  },
  {
   "cell_type": "code",
   "execution_count": 517,
   "metadata": {
    "ExecuteTime": {
     "end_time": "2019-10-01T01:57:15.488113Z",
     "start_time": "2019-10-01T01:57:15.287682Z"
    },
    "scrolled": false
   },
   "outputs": [
    {
     "data": {
      "image/png": "[encoded data removed]",
      "text/plain": [
       "<Figure size 288x288 with 1 Axes>"
      ]
     },
     "metadata": {
      "needs_background": "light"
     },
     "output_type": "display_data"
    }
   ],
   "source": [
    "#            \"tp_hc_13\",\n",
    "f, ax = plt.subplots(figsize=(4, 4))\n",
    "sns.heatmap(\n",
    "    confusion_arrays[9],\n",
    "    annot=True,\n",
    "    cmap=\"GnBu\",\n",
    "    annot_kws={\"size\": 20},\n",
    "    cbar=False,\n",
    "    fmt=\" \",\n",
    "    ax=ax,\n",
    ")\n",
    "ax.set_ylim(2, 0)\n",
    "plt.savefig(\"Demo_Figures/LDA_validation_tpc13.png\")"
   ]
  },
  {
   "cell_type": "code",
   "execution_count": 518,
   "metadata": {
    "ExecuteTime": {
     "end_time": "2019-10-01T01:57:15.488113Z",
     "start_time": "2019-10-01T01:57:15.287682Z"
    },
    "scrolled": false
   },
   "outputs": [
    {
     "data": {
      "image/png": "[encoded data removed]",
      "text/plain": [
       "<Figure size 288x288 with 1 Axes>"
      ]
     },
     "metadata": {
      "needs_background": "light"
     },
     "output_type": "display_data"
    }
   ],
   "source": [
    "#            \"tp_hc_14\",\n",
    "f, ax = plt.subplots(figsize=(4, 4))\n",
    "sns.heatmap(\n",
    "    confusion_arrays[10],\n",
    "    annot=True,\n",
    "    cmap=\"GnBu\",\n",
    "    annot_kws={\"size\": 20},\n",
    "    cbar=False,\n",
    "    fmt=\" \",\n",
    "    ax=ax,\n",
    ")\n",
    "ax.set_ylim(2, 0)\n",
    "plt.savefig(\"Demo_Figures/LDA_validation_tpc14.png\")"
   ]
  },
  {
   "cell_type": "code",
   "execution_count": 519,
   "metadata": {
    "ExecuteTime": {
     "end_time": "2019-10-01T01:57:15.488113Z",
     "start_time": "2019-10-01T01:57:15.287682Z"
    },
    "scrolled": false
   },
   "outputs": [
    {
     "data": {
      "image/png": "[encoded data removed]",
      "text/plain": [
       "<Figure size 288x288 with 1 Axes>"
      ]
     },
     "metadata": {
      "needs_background": "light"
     },
     "output_type": "display_data"
    }
   ],
   "source": [
    "#            \"tp_hc_17\",\n",
    "f, ax = plt.subplots(figsize=(4, 4))\n",
    "sns.heatmap(\n",
    "    confusion_arrays[11],\n",
    "    annot=True,\n",
    "    cmap=\"GnBu\",\n",
    "    annot_kws={\"size\": 20},\n",
    "    cbar=False,\n",
    "    fmt=\" \",\n",
    "    ax=ax,\n",
    ")\n",
    "ax.set_ylim(2, 0)\n",
    "plt.savefig(\"Demo_Figures/LDA_validation_tpc17.png\")"
   ]
  }
 ],
 "metadata": {
  "kernelspec": {
   "display_name": "Python 3",
   "language": "python",
   "name": "python3"
  },
  "language_info": {
   "codemirror_mode": {
    "name": "ipython",
    "version": 3
   },
   "file_extension": ".py",
   "mimetype": "text/x-python",
   "name": "python",
   "nbconvert_exporter": "python",
   "pygments_lexer": "ipython3",
   "version": "3.7.3"
  }
 },
 "nbformat": 4,
 "nbformat_minor": 2
}
